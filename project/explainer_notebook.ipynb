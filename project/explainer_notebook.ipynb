{
 "cells": [
  {
   "cell_type": "code",
   "execution_count": 1,
   "metadata": {},
   "outputs": [],
   "source": [
    "# clean up outputs from warnings\n",
    "import warnings\n",
    "warnings.filterwarnings(\"ignore\")\n",
    "\n",
    "# required imports \n",
    "import numpy as np\n",
    "import pandas as pd\n",
    "import networkx as nx\n",
    "import scraper\n",
    "import matplotlib.pyplot as plt\n",
    "import powerlaw\n",
    "import scipy.stats as sps\n",
    "from itertools import chain"
   ]
  },
  {
   "cell_type": "markdown",
   "metadata": {},
   "source": [
    "We begin by fetching the first 3 levels of the `Wikipedia vital articles` category using our own `scraper`. The resulting initial graph is also saved for later use. We used the `page_class` node attribute to separate the classes of `user` and `article`. Nodes $a$ and $b$ from the `article` class were connected by edge $a \\rightarrow b$ if the content of the Wikipedia article corresponding to $a$ contained a link to article $b$. Similarly, directed edges $u \\rightarrow a$ were added between article $a$ and all user nodes $u$ found by parsing the corresponding talk page."
   ]
  },
  {
   "cell_type": "code",
   "execution_count": 8,
   "metadata": {},
   "outputs": [],
   "source": [
    "category_titles = [\n",
    "    \"Category:Wikipedia_level-1_vital_articles\",\n",
    "    \"Category:Wikipedia_level-2_vital_articles\",\n",
    "    \"Category:Wikipedia_level-3_vital_articles\",\n",
    "]\n",
    "page_graph, infos  = await scraper.scrape_wiki(category_titles)\n",
    "nx.write_graphml(page_graph, \"wikigraph.graphml\")"
   ]
  },
  {
   "cell_type": "markdown",
   "metadata": {},
   "source": [
    "Next we remove bot users. Our list of bot user names was compiled by filtering nodes of type `user` containing the substring `bot`. Since Wikipedia doesn't have an official bot name convention we verified the resulting user list manually. We then compute basic network properties on the remaining graph."
   ]
  },
  {
   "cell_type": "code",
   "execution_count": 2,
   "metadata": {},
   "outputs": [
    {
     "name": "stdout",
     "output_type": "stream",
     "text": [
      "Number of nodes: 80580\n",
      "Number of edges: 176368\n",
      "Average clustering coefficient: 0.04063680702604195\n",
      "Number of weakly connected components: 1\n",
      "Top 5 nodes with largest in-degree:\n"
     ]
    },
    {
     "data": {
      "text/html": [
       "<div>\n",
       "<style scoped>\n",
       "    .dataframe tbody tr th:only-of-type {\n",
       "        vertical-align: middle;\n",
       "    }\n",
       "\n",
       "    .dataframe tbody tr th {\n",
       "        vertical-align: top;\n",
       "    }\n",
       "\n",
       "    .dataframe thead th {\n",
       "        text-align: right;\n",
       "    }\n",
       "</style>\n",
       "<table border=\"1\" class=\"dataframe\">\n",
       "  <thead>\n",
       "    <tr style=\"text-align: right;\">\n",
       "      <th></th>\n",
       "      <th>Total Degree</th>\n",
       "      <th>In Degree</th>\n",
       "      <th>Out Degree</th>\n",
       "    </tr>\n",
       "    <tr>\n",
       "      <th>Node</th>\n",
       "      <th></th>\n",
       "      <th></th>\n",
       "      <th></th>\n",
       "    </tr>\n",
       "  </thead>\n",
       "  <tbody>\n",
       "    <tr>\n",
       "      <th>United States</th>\n",
       "      <td>2458</td>\n",
       "      <td>2276</td>\n",
       "      <td>182</td>\n",
       "    </tr>\n",
       "    <tr>\n",
       "      <th>Jesus</th>\n",
       "      <td>1942</td>\n",
       "      <td>1903</td>\n",
       "      <td>39</td>\n",
       "    </tr>\n",
       "    <tr>\n",
       "      <th>India</th>\n",
       "      <td>1835</td>\n",
       "      <td>1652</td>\n",
       "      <td>183</td>\n",
       "    </tr>\n",
       "    <tr>\n",
       "      <th>Climate change</th>\n",
       "      <td>1800</td>\n",
       "      <td>1777</td>\n",
       "      <td>23</td>\n",
       "    </tr>\n",
       "    <tr>\n",
       "      <th>Israel</th>\n",
       "      <td>1696</td>\n",
       "      <td>1636</td>\n",
       "      <td>60</td>\n",
       "    </tr>\n",
       "  </tbody>\n",
       "</table>\n",
       "</div>"
      ],
      "text/plain": [
       "                Total Degree  In Degree  Out Degree\n",
       "Node                                               \n",
       "United States           2458       2276         182\n",
       "Jesus                   1942       1903          39\n",
       "India                   1835       1652         183\n",
       "Climate change          1800       1777          23\n",
       "Israel                  1696       1636          60"
      ]
     },
     "execution_count": 2,
     "metadata": {},
     "output_type": "execute_result"
    }
   ],
   "source": [
    "# read saved initial graph\n",
    "graph = nx.read_graphml(\"wikigraph.graphml\")\n",
    "\n",
    "# remove bot users from graph\n",
    "bot_names = [\"User:Community Tech bot\", \"User:PrimeBOT\", \"User:InternetArchiveBot\", \"User:AnomieBOT\", \"User:RMCD bot\", \"User:Cyberbot II\", \"User:CommonsNotificationBot\",\n",
    "\"User:LinkBot\", \"User:FairuseBot\", \"User:BetacommandBot\", \"User:Legobot\", \"User:DumZiBoT\"]\n",
    "graph.remove_nodes_from(bot_names)\n",
    "\n",
    "# Print network properties\n",
    "print(f\"Number of nodes: {graph.number_of_nodes()}\")\n",
    "print(f\"Number of edges: {graph.number_of_edges()}\")\n",
    "print(f\"Average clustering coefficient: {nx.average_clustering(graph)}\")\n",
    "print(f\"Number of weakly connected components: {len(list(nx.weakly_connected_components(graph)))}\")\n",
    "degrees_dict = {\"Node\": dict(graph.degree).keys(), \"Total Degree\": dict(graph.degree).values(), \"In Degree\": dict(graph.in_degree).values(), \"Out Degree\": dict(graph.out_degree).values()}\n",
    "degrees_view = pd.DataFrame(degrees_dict).set_index(\"Node\")\n",
    "print(\"Top 5 nodes with largest in-degree:\")\n",
    "degrees_view.sort_values([\"Total Degree\"], ascending=False).head(5)"
   ]
  },
  {
   "cell_type": "markdown",
   "metadata": {},
   "source": [
    "Degree distirbution explanations. The resulting network is scale free."
   ]
  },
  {
   "cell_type": "code",
   "execution_count": 12,
   "metadata": {},
   "outputs": [],
   "source": [
    "# Plotting degree distributions"
   ]
  },
  {
   "cell_type": "code",
   "execution_count": 3,
   "metadata": {},
   "outputs": [
    {
     "name": "stdout",
     "output_type": "stream",
     "text": [
      "Number of article pages: 1000\n",
      "Connections between article pages: 15713\n",
      "Connections between user pages: 0\n",
      "Connections between users and articles: 159057\n"
     ]
    }
   ],
   "source": [
    "graph_u = graph.to_undirected()\n",
    "\n",
    "# filter for user names and article titles in the graph\n",
    "nodes_by_class = dict(graph.nodes(data=\"page_class\"))\n",
    "user_names = [node for node in nodes_by_class if nodes_by_class[node] == \"user\"]\n",
    "article_titles = [node for node in nodes_by_class if nodes_by_class[node] == \"article\"]\n",
    "\n",
    "users_graph = graph_u.subgraph(user_names)\n",
    "articles_graph = graph_u.subgraph(article_titles)\n",
    "print(f\"Number of article pages: {articles_graph.number_of_nodes()}\")\n",
    "print(f\"Connections between article pages: {articles_graph.number_of_edges()}\")\n",
    "print(f\"Connections between user pages: {users_graph.number_of_edges()}\")\n",
    "\n",
    "# returns true if the edge with endpoints u and v is between an article and a user node\n",
    "def isDifferentClass(graph, u, v):\n",
    "    ua = graph.nodes[u][\"page_class\"] == \"user\" and graph.nodes[v][\"page_class\"] == \"article\"\n",
    "    au = graph.nodes[u][\"page_class\"] == \"article\" and graph.nodes[v][\"page_class\"] == \"user\"\n",
    "    return ua or au\n",
    "\n",
    "print(f\"Connections between users and articles: {len([(u,v) for (u, v) in graph_u.edges() if isDifferentClass(graph_u, u, v)])}\")"
   ]
  },
  {
   "cell_type": "markdown",
   "metadata": {},
   "source": [
    "## Weighted graph of articles\n",
    "\n",
    "We create a graph where the nodes are the articles two nodes are connected by an edge of weight $w$ if exactly $w$ users contributed to both."
   ]
  },
  {
   "cell_type": "code",
   "execution_count": 15,
   "metadata": {},
   "outputs": [],
   "source": [
    "def add_weighted_edges(graph, source, node_type, frontier_type, frontier_key):\n",
    "    for node in list(graph.nodes):\n",
    "        related = {}\n",
    "        frontier = set(n for n in source.neighbors(node) if source.nodes[n][\"page_class\"] == frontier_type)\n",
    "        graph.nodes[node][frontier_key] = len(frontier)\n",
    "        for f in frontier:\n",
    "            neighbor_nodes = list( n for n in source.neighbors(f) if source.nodes[n][\"page_class\"] == node_type)\n",
    "            for n in neighbor_nodes:\n",
    "                if n != node:\n",
    "                    if n in related:\n",
    "                        related[n] += 1\n",
    "                    else:\n",
    "                        related[n] = 1\n",
    "        graph.add_weighted_edges_from([(node, r, related[r]) for r in related])"
   ]
  },
  {
   "cell_type": "code",
   "execution_count": 20,
   "metadata": {},
   "outputs": [],
   "source": [
    "common_editors = nx.Graph()\n",
    "common_editors.add_nodes_from(article_titles)\n",
    "add_weighted_edges(common_editors, graph_u, \"article\", \"user\", \"editors_no\")\n"
   ]
  },
  {
   "cell_type": "markdown",
   "metadata": {},
   "source": [
    "Basic analysis on the resulting graph. Slight change in top 5 nodes by degree is probably due to users that only contributed to one article being filtered out."
   ]
  },
  {
   "cell_type": "code",
   "execution_count": 5,
   "metadata": {},
   "outputs": [
    {
     "name": "stdout",
     "output_type": "stream",
     "text": [
      "Number of nodes: 1000\n",
      "Number of edges: 242107\n",
      "Number of connected components: 3\n",
      "Average clustering coefficient: 0.708347877885475\n",
      "Maximum editors: 2221\n",
      "Average editors: 159.057\n",
      "Median editors: 86.0\n",
      "\n",
      "Top 5 nodes by overall number of editors:\n"
     ]
    },
    {
     "data": {
      "text/html": [
       "<div>\n",
       "<style scoped>\n",
       "    .dataframe tbody tr th:only-of-type {\n",
       "        vertical-align: middle;\n",
       "    }\n",
       "\n",
       "    .dataframe tbody tr th {\n",
       "        vertical-align: top;\n",
       "    }\n",
       "\n",
       "    .dataframe thead th {\n",
       "        text-align: right;\n",
       "    }\n",
       "</style>\n",
       "<table border=\"1\" class=\"dataframe\">\n",
       "  <thead>\n",
       "    <tr style=\"text-align: right;\">\n",
       "      <th></th>\n",
       "      <th>Editors</th>\n",
       "    </tr>\n",
       "    <tr>\n",
       "      <th>Node</th>\n",
       "      <th></th>\n",
       "    </tr>\n",
       "  </thead>\n",
       "  <tbody>\n",
       "    <tr>\n",
       "      <th>United States</th>\n",
       "      <td>2221</td>\n",
       "    </tr>\n",
       "    <tr>\n",
       "      <th>Jesus</th>\n",
       "      <td>1879</td>\n",
       "    </tr>\n",
       "    <tr>\n",
       "      <th>Climate change</th>\n",
       "      <td>1768</td>\n",
       "    </tr>\n",
       "    <tr>\n",
       "      <th>Israel</th>\n",
       "      <td>1612</td>\n",
       "    </tr>\n",
       "    <tr>\n",
       "      <th>India</th>\n",
       "      <td>1601</td>\n",
       "    </tr>\n",
       "  </tbody>\n",
       "</table>\n",
       "</div>"
      ],
      "text/plain": [
       "                Editors\n",
       "Node                   \n",
       "United States      2221\n",
       "Jesus              1879\n",
       "Climate change     1768\n",
       "Israel             1612\n",
       "India              1601"
      ]
     },
     "execution_count": 5,
     "metadata": {},
     "output_type": "execute_result"
    }
   ],
   "source": [
    "common_editors = nx.read_graphml(\"weighted_article_connections.graphml\")\n",
    "\n",
    "print(f\"Number of nodes: {common_editors.number_of_nodes()}\")\n",
    "print(f\"Number of edges: {common_editors.number_of_edges()}\")\n",
    "print(f\"Number of connected components: {nx.number_connected_components(common_editors)}\")\n",
    "print(f\"Average clustering coefficient: {nx.average_clustering(common_editors)}\")\n",
    "edge_weight_dict = nx.get_edge_attributes(common_editors, \"weight\")\n",
    "editors_dict = common_editors.nodes(data=\"editors_no\")\n",
    "editors_view = pd.DataFrame(editors_dict, columns=[\"Node\", \"Editors\"]).set_index(\"Node\")\n",
    "print(f\"Maximum editors: {editors_view.Editors.max()}\")\n",
    "print(f\"Average editors: {editors_view.Editors.mean()}\")\n",
    "print(f\"Median editors: {editors_view.Editors.median()}\")\n",
    "\n",
    "print(\"\\nTop 5 nodes by overall number of editors:\")\n",
    "editors_view.sort_values([\"Editors\"], ascending=False).head(5)\n"
   ]
  },
  {
   "cell_type": "code",
   "execution_count": 8,
   "metadata": {},
   "outputs": [
    {
     "name": "stdout",
     "output_type": "stream",
     "text": [
      "Maximum edge weight: 221\n",
      "Average edge weight: 3.3285695993920044\n",
      "Median edge weight: 2.0\n",
      "\n",
      "Top 10 node pairs by overall number of shared editors:\n"
     ]
    },
    {
     "data": {
      "text/html": [
       "<div>\n",
       "<style scoped>\n",
       "    .dataframe tbody tr th:only-of-type {\n",
       "        vertical-align: middle;\n",
       "    }\n",
       "\n",
       "    .dataframe tbody tr th {\n",
       "        vertical-align: top;\n",
       "    }\n",
       "\n",
       "    .dataframe thead th {\n",
       "        text-align: right;\n",
       "    }\n",
       "</style>\n",
       "<table border=\"1\" class=\"dataframe\">\n",
       "  <thead>\n",
       "    <tr style=\"text-align: right;\">\n",
       "      <th></th>\n",
       "      <th>Weight</th>\n",
       "      <th>Editors A</th>\n",
       "      <th>Editors B</th>\n",
       "    </tr>\n",
       "    <tr>\n",
       "      <th>Edge</th>\n",
       "      <th></th>\n",
       "      <th></th>\n",
       "      <th></th>\n",
       "    </tr>\n",
       "  </thead>\n",
       "  <tbody>\n",
       "    <tr>\n",
       "      <th>Christianity, Jesus</th>\n",
       "      <td>221</td>\n",
       "      <td>985</td>\n",
       "      <td>1879</td>\n",
       "    </tr>\n",
       "    <tr>\n",
       "      <th>Israel, Jerusalem</th>\n",
       "      <td>206</td>\n",
       "      <td>1612</td>\n",
       "      <td>637</td>\n",
       "    </tr>\n",
       "    <tr>\n",
       "      <th>Islam, Muhammad</th>\n",
       "      <td>203</td>\n",
       "      <td>1127</td>\n",
       "      <td>1396</td>\n",
       "    </tr>\n",
       "    <tr>\n",
       "      <th>Jesus, United States</th>\n",
       "      <td>178</td>\n",
       "      <td>1879</td>\n",
       "      <td>2221</td>\n",
       "    </tr>\n",
       "    <tr>\n",
       "      <th>Jesus, Muhammad</th>\n",
       "      <td>176</td>\n",
       "      <td>1879</td>\n",
       "      <td>1396</td>\n",
       "    </tr>\n",
       "    <tr>\n",
       "      <th>China, Taiwan</th>\n",
       "      <td>174</td>\n",
       "      <td>842</td>\n",
       "      <td>937</td>\n",
       "    </tr>\n",
       "    <tr>\n",
       "      <th>Adolf Hitler, Jesus</th>\n",
       "      <td>168</td>\n",
       "      <td>1535</td>\n",
       "      <td>1879</td>\n",
       "    </tr>\n",
       "    <tr>\n",
       "      <th>United Kingdom, United States</th>\n",
       "      <td>163</td>\n",
       "      <td>1188</td>\n",
       "      <td>2221</td>\n",
       "    </tr>\n",
       "    <tr>\n",
       "      <th>Israel, United States</th>\n",
       "      <td>147</td>\n",
       "      <td>1612</td>\n",
       "      <td>2221</td>\n",
       "    </tr>\n",
       "    <tr>\n",
       "      <th>India, Pakistan</th>\n",
       "      <td>144</td>\n",
       "      <td>1601</td>\n",
       "      <td>749</td>\n",
       "    </tr>\n",
       "  </tbody>\n",
       "</table>\n",
       "</div>"
      ],
      "text/plain": [
       "                               Weight  Editors A  Editors B\n",
       "Edge                                                       \n",
       "Christianity, Jesus               221        985       1879\n",
       "Israel, Jerusalem                 206       1612        637\n",
       "Islam, Muhammad                   203       1127       1396\n",
       "Jesus, United States              178       1879       2221\n",
       "Jesus, Muhammad                   176       1879       1396\n",
       "China, Taiwan                     174        842        937\n",
       "Adolf Hitler, Jesus               168       1535       1879\n",
       "United Kingdom, United States     163       1188       2221\n",
       "Israel, United States             147       1612       2221\n",
       "India, Pakistan                   144       1601        749"
      ]
     },
     "execution_count": 8,
     "metadata": {},
     "output_type": "execute_result"
    }
   ],
   "source": [
    "degree_a = [editors_dict[edge[0]] for edge in edge_weight_dict.keys()]\n",
    "degree_b = [editors_dict[edge[1]] for edge in edge_weight_dict.keys()]\n",
    "edges = [f\"{u}, {v}\" for (u, v) in edge_weight_dict.keys()]\n",
    "shared_user_df = pd.DataFrame({\"Edge\": edges, \"Weight\": edge_weight_dict.values(), \"Editors A\": degree_a,\n",
    "                              \"Editors B\": degree_b}).set_index(\"Edge\")\n",
    "print(f\"Maximum edge weight: {shared_user_df.Weight.max()}\")\n",
    "print(f\"Average edge weight: {shared_user_df.Weight.mean()}\")\n",
    "print(f\"Median edge weight: {shared_user_df.Weight.median()}\")\n",
    "print(\"\\nTop 10 node pairs by overall number of shared editors:\")\n",
    "most_raw_connected = shared_user_df.sort_values([\"Weight\"], ascending=False).head(10)\n",
    "most_raw_connected"
   ]
  },
  {
   "cell_type": "markdown",
   "metadata": {},
   "source": [
    "Now we normalize the weights by the number of editors for each individual article. In this way the highest relative weight is assigned to the article where the biggest percentage of the editor group contributed to both."
   ]
  },
  {
   "cell_type": "code",
   "execution_count": 23,
   "metadata": {},
   "outputs": [],
   "source": [
    "for (u, v, data) in common_editors.edges(data=True):\n",
    "    raw_weight = data[\"weight\"]\n",
    "    common_editors[u][v][\"relative_weight\"] = raw_weight * 2 / (editors_dict[u] + editors_dict[v])\n",
    "\n",
    "# save resulting graph for future analysis\n",
    "nx.write_graphml(common_editors, \"weighted_article_connections.graphml\")"
   ]
  },
  {
   "cell_type": "code",
   "execution_count": 6,
   "metadata": {},
   "outputs": [
    {
     "name": "stdout",
     "output_type": "stream",
     "text": [
      "Max edge weight: 0.2962962962962963\n",
      "Average edge weight: 0.015857352552814043\n",
      "Median edge weight: 0.012658227848101266\n",
      "\n",
      "Top 10 node pairs by ratio of shared editors:\n"
     ]
    },
    {
     "data": {
      "text/html": [
       "<div>\n",
       "<style scoped>\n",
       "    .dataframe tbody tr th:only-of-type {\n",
       "        vertical-align: middle;\n",
       "    }\n",
       "\n",
       "    .dataframe tbody tr th {\n",
       "        vertical-align: top;\n",
       "    }\n",
       "\n",
       "    .dataframe thead th {\n",
       "        text-align: right;\n",
       "    }\n",
       "</style>\n",
       "<table border=\"1\" class=\"dataframe\">\n",
       "  <thead>\n",
       "    <tr style=\"text-align: right;\">\n",
       "      <th></th>\n",
       "      <th>Weight</th>\n",
       "      <th>Editors A</th>\n",
       "      <th>Editors B</th>\n",
       "    </tr>\n",
       "    <tr>\n",
       "      <th>Edge</th>\n",
       "      <th></th>\n",
       "      <th></th>\n",
       "      <th></th>\n",
       "    </tr>\n",
       "  </thead>\n",
       "  <tbody>\n",
       "    <tr>\n",
       "      <th>Mahayana, Theravada</th>\n",
       "      <td>0.296296</td>\n",
       "      <td>46</td>\n",
       "      <td>62</td>\n",
       "    </tr>\n",
       "    <tr>\n",
       "      <th>Early modern period, Post-classical history</th>\n",
       "      <td>0.291667</td>\n",
       "      <td>20</td>\n",
       "      <td>28</td>\n",
       "    </tr>\n",
       "    <tr>\n",
       "      <th>Inorganic chemistry, Organic chemistry</th>\n",
       "      <td>0.238095</td>\n",
       "      <td>12</td>\n",
       "      <td>30</td>\n",
       "    </tr>\n",
       "    <tr>\n",
       "      <th>Natural number, Real number</th>\n",
       "      <td>0.235294</td>\n",
       "      <td>96</td>\n",
       "      <td>91</td>\n",
       "    </tr>\n",
       "    <tr>\n",
       "      <th>Complex number, Function (mathematics)</th>\n",
       "      <td>0.226950</td>\n",
       "      <td>148</td>\n",
       "      <td>134</td>\n",
       "    </tr>\n",
       "    <tr>\n",
       "      <th>Number, Natural number</th>\n",
       "      <td>0.222222</td>\n",
       "      <td>75</td>\n",
       "      <td>96</td>\n",
       "    </tr>\n",
       "    <tr>\n",
       "      <th>Avicenna, Al-Khwarizmi</th>\n",
       "      <td>0.213333</td>\n",
       "      <td>175</td>\n",
       "      <td>200</td>\n",
       "    </tr>\n",
       "    <tr>\n",
       "      <th>Jupiter, Neptune</th>\n",
       "      <td>0.212560</td>\n",
       "      <td>247</td>\n",
       "      <td>167</td>\n",
       "    </tr>\n",
       "    <tr>\n",
       "      <th>Jupiter, Venus</th>\n",
       "      <td>0.212121</td>\n",
       "      <td>247</td>\n",
       "      <td>281</td>\n",
       "    </tr>\n",
       "    <tr>\n",
       "      <th>Man, Woman</th>\n",
       "      <td>0.211829</td>\n",
       "      <td>236</td>\n",
       "      <td>491</td>\n",
       "    </tr>\n",
       "  </tbody>\n",
       "</table>\n",
       "</div>"
      ],
      "text/plain": [
       "                                               Weight  Editors A  Editors B\n",
       "Edge                                                                       \n",
       "Mahayana, Theravada                          0.296296         46         62\n",
       "Early modern period, Post-classical history  0.291667         20         28\n",
       "Inorganic chemistry, Organic chemistry       0.238095         12         30\n",
       "Natural number, Real number                  0.235294         96         91\n",
       "Complex number, Function (mathematics)       0.226950        148        134\n",
       "Number, Natural number                       0.222222         75         96\n",
       "Avicenna, Al-Khwarizmi                       0.213333        175        200\n",
       "Jupiter, Neptune                             0.212560        247        167\n",
       "Jupiter, Venus                               0.212121        247        281\n",
       "Man, Woman                                   0.211829        236        491"
      ]
     },
     "execution_count": 6,
     "metadata": {},
     "output_type": "execute_result"
    }
   ],
   "source": [
    "\n",
    "relative_edge_weight_dict = nx.get_edge_attributes(common_editors, \"relative_weight\")\n",
    "degree_a = [editors_dict[edge[0]] for edge in relative_edge_weight_dict.keys()]\n",
    "degree_b = [editors_dict[edge[1]] for edge in relative_edge_weight_dict.keys()]\n",
    "edges = [f\"{u}, {v}\" for (u, v) in relative_edge_weight_dict.keys()]\n",
    "rel_weight_df = pd.DataFrame({\"Edge\": edges, \"Weight\": relative_edge_weight_dict.values(), \"Editors A\": degree_a,\n",
    "                              \"Editors B\": degree_b}).set_index(\"Edge\")\n",
    "# print(f\"Average clustering coefficient (relative weights): {nx.average_clustering(common_editors, weight='relative_weight')}\")\n",
    "print(f\"Max edge weight: {rel_weight_df.Weight.max()}\")\n",
    "print(f\"Average edge weight: {rel_weight_df.Weight.mean()}\")\n",
    "print(f\"Median edge weight: {rel_weight_df.Weight.median()}\")\n",
    "\n",
    "print(\"\\nTop 10 node pairs by ratio of shared editors:\")\n",
    "rel_weight_df.sort_values([\"Weight\"], ascending=False).head(10)"
   ]
  },
  {
   "cell_type": "markdown",
   "metadata": {},
   "source": [
    "As we can see, articles from semantically related topics that are less popular tend to have a higher shared editor percentage. This means that less popular pages have a niche of contributing users who choose to specialize according to their specific area of interest / expertise. Now let's see the shared user percentages for the highest ranking edges by overall number of editors."
   ]
  },
  {
   "cell_type": "code",
   "execution_count": 9,
   "metadata": {},
   "outputs": [
    {
     "name": "stdout",
     "output_type": "stream",
     "text": [
      "Number of edges with higher weights: 20\n",
      "Below edges are in the top 0.56%\n",
      "\n",
      "Relative shared editors for the top 10 edges by shared editor number:\n"
     ]
    },
    {
     "data": {
      "text/html": [
       "<div>\n",
       "<style scoped>\n",
       "    .dataframe tbody tr th:only-of-type {\n",
       "        vertical-align: middle;\n",
       "    }\n",
       "\n",
       "    .dataframe tbody tr th {\n",
       "        vertical-align: top;\n",
       "    }\n",
       "\n",
       "    .dataframe thead th {\n",
       "        text-align: right;\n",
       "    }\n",
       "</style>\n",
       "<table border=\"1\" class=\"dataframe\">\n",
       "  <thead>\n",
       "    <tr style=\"text-align: right;\">\n",
       "      <th></th>\n",
       "      <th>Weight</th>\n",
       "      <th>Editors A</th>\n",
       "      <th>Editors B</th>\n",
       "    </tr>\n",
       "    <tr>\n",
       "      <th>Edge</th>\n",
       "      <th></th>\n",
       "      <th></th>\n",
       "      <th></th>\n",
       "    </tr>\n",
       "  </thead>\n",
       "  <tbody>\n",
       "    <tr>\n",
       "      <th>Christianity, Jesus</th>\n",
       "      <td>0.154330</td>\n",
       "      <td>985</td>\n",
       "      <td>1879</td>\n",
       "    </tr>\n",
       "    <tr>\n",
       "      <th>Israel, Jerusalem</th>\n",
       "      <td>0.183193</td>\n",
       "      <td>1612</td>\n",
       "      <td>637</td>\n",
       "    </tr>\n",
       "    <tr>\n",
       "      <th>Islam, Muhammad</th>\n",
       "      <td>0.160920</td>\n",
       "      <td>1127</td>\n",
       "      <td>1396</td>\n",
       "    </tr>\n",
       "    <tr>\n",
       "      <th>Jesus, United States</th>\n",
       "      <td>0.086829</td>\n",
       "      <td>1879</td>\n",
       "      <td>2221</td>\n",
       "    </tr>\n",
       "    <tr>\n",
       "      <th>Jesus, Muhammad</th>\n",
       "      <td>0.107481</td>\n",
       "      <td>1879</td>\n",
       "      <td>1396</td>\n",
       "    </tr>\n",
       "    <tr>\n",
       "      <th>China, Taiwan</th>\n",
       "      <td>0.195616</td>\n",
       "      <td>842</td>\n",
       "      <td>937</td>\n",
       "    </tr>\n",
       "    <tr>\n",
       "      <th>Adolf Hitler, Jesus</th>\n",
       "      <td>0.098418</td>\n",
       "      <td>1535</td>\n",
       "      <td>1879</td>\n",
       "    </tr>\n",
       "    <tr>\n",
       "      <th>United Kingdom, United States</th>\n",
       "      <td>0.095629</td>\n",
       "      <td>1188</td>\n",
       "      <td>2221</td>\n",
       "    </tr>\n",
       "    <tr>\n",
       "      <th>Israel, United States</th>\n",
       "      <td>0.076702</td>\n",
       "      <td>1612</td>\n",
       "      <td>2221</td>\n",
       "    </tr>\n",
       "    <tr>\n",
       "      <th>India, Pakistan</th>\n",
       "      <td>0.122553</td>\n",
       "      <td>1601</td>\n",
       "      <td>749</td>\n",
       "    </tr>\n",
       "  </tbody>\n",
       "</table>\n",
       "</div>"
      ],
      "text/plain": [
       "                                 Weight  Editors A  Editors B\n",
       "Edge                                                         \n",
       "Christianity, Jesus            0.154330        985       1879\n",
       "Israel, Jerusalem              0.183193       1612        637\n",
       "Islam, Muhammad                0.160920       1127       1396\n",
       "Jesus, United States           0.086829       1879       2221\n",
       "Jesus, Muhammad                0.107481       1879       1396\n",
       "China, Taiwan                  0.195616        842        937\n",
       "Adolf Hitler, Jesus            0.098418       1535       1879\n",
       "United Kingdom, United States  0.095629       1188       2221\n",
       "Israel, United States          0.076702       1612       2221\n",
       "India, Pakistan                0.122553       1601        749"
      ]
     },
     "execution_count": 9,
     "metadata": {},
     "output_type": "execute_result"
    }
   ],
   "source": [
    "top_by_count = rel_weight_df.loc[most_raw_connected.index]\n",
    "no_higher = len(rel_weight_df.loc[rel_weight_df['Weight'] > top_by_count['Weight'].max()])\n",
    "all_above_min = len(rel_weight_df.loc[rel_weight_df['Weight'] > top_by_count['Weight'].min()])\n",
    "print(f\"Number of edges with higher weights: {no_higher}\")\n",
    "print(f\"Below edges are in the top {all_above_min / len(rel_weight_df) * 100:.2}%\")\n",
    "print(\"\\nRelative shared editors for the top 10 edges by shared editor number:\")\n",
    "top_by_count"
   ]
  },
  {
   "cell_type": "markdown",
   "metadata": {},
   "source": [
    "This shows that the more popular topics are still ranked very high overall. While there are a few surprising connections (e.g. Adolf Hitler and Jesus), most of the node pairs we see here are semantically related. The high editor count indicates that these topics are more universal, popular and some gain edits from being more controversial. Now let's see the 10 lowest rankied topics."
   ]
  },
  {
   "cell_type": "code",
   "execution_count": 30,
   "metadata": {},
   "outputs": [
    {
     "name": "stdout",
     "output_type": "stream",
     "text": [
      "Bottom 10 node pairs by number of shared editors:\n"
     ]
    },
    {
     "data": {
      "text/html": [
       "<div>\n",
       "<style scoped>\n",
       "    .dataframe tbody tr th:only-of-type {\n",
       "        vertical-align: middle;\n",
       "    }\n",
       "\n",
       "    .dataframe tbody tr th {\n",
       "        vertical-align: top;\n",
       "    }\n",
       "\n",
       "    .dataframe thead th {\n",
       "        text-align: right;\n",
       "    }\n",
       "</style>\n",
       "<table border=\"1\" class=\"dataframe\">\n",
       "  <thead>\n",
       "    <tr style=\"text-align: right;\">\n",
       "      <th></th>\n",
       "      <th>Weight</th>\n",
       "      <th>Editors A</th>\n",
       "      <th>Editors B</th>\n",
       "    </tr>\n",
       "    <tr>\n",
       "      <th>Edge</th>\n",
       "      <th></th>\n",
       "      <th></th>\n",
       "      <th></th>\n",
       "    </tr>\n",
       "  </thead>\n",
       "  <tbody>\n",
       "    <tr>\n",
       "      <th>Yangtze, Zheng He</th>\n",
       "      <td>1</td>\n",
       "      <td>44</td>\n",
       "      <td>68</td>\n",
       "    </tr>\n",
       "    <tr>\n",
       "      <th>Aristotle, Orbit</th>\n",
       "      <td>1</td>\n",
       "      <td>229</td>\n",
       "      <td>56</td>\n",
       "    </tr>\n",
       "    <tr>\n",
       "      <th>Neolithic Revolution, Emmy Noether</th>\n",
       "      <td>1</td>\n",
       "      <td>58</td>\n",
       "      <td>77</td>\n",
       "    </tr>\n",
       "    <tr>\n",
       "      <th>Aristotle, Emmy Noether</th>\n",
       "      <td>1</td>\n",
       "      <td>229</td>\n",
       "      <td>77</td>\n",
       "    </tr>\n",
       "    <tr>\n",
       "      <th>Neolithic Revolution, Nutrition</th>\n",
       "      <td>1</td>\n",
       "      <td>58</td>\n",
       "      <td>101</td>\n",
       "    </tr>\n",
       "    <tr>\n",
       "      <th>Neolithic Revolution, Photon</th>\n",
       "      <td>1</td>\n",
       "      <td>58</td>\n",
       "      <td>173</td>\n",
       "    </tr>\n",
       "    <tr>\n",
       "      <th>Egypt, Triangle</th>\n",
       "      <td>1</td>\n",
       "      <td>342</td>\n",
       "      <td>74</td>\n",
       "    </tr>\n",
       "    <tr>\n",
       "      <th>Aristotle, Martial arts</th>\n",
       "      <td>1</td>\n",
       "      <td>229</td>\n",
       "      <td>94</td>\n",
       "    </tr>\n",
       "    <tr>\n",
       "      <th>Aristotle, Jewellery</th>\n",
       "      <td>1</td>\n",
       "      <td>229</td>\n",
       "      <td>44</td>\n",
       "    </tr>\n",
       "    <tr>\n",
       "      <th>Egypt, Electric light</th>\n",
       "      <td>1</td>\n",
       "      <td>342</td>\n",
       "      <td>20</td>\n",
       "    </tr>\n",
       "  </tbody>\n",
       "</table>\n",
       "</div>"
      ],
      "text/plain": [
       "                                    Weight  Editors A  Editors B\n",
       "Edge                                                            \n",
       "Yangtze, Zheng He                        1         44         68\n",
       "Aristotle, Orbit                         1        229         56\n",
       "Neolithic Revolution, Emmy Noether       1         58         77\n",
       "Aristotle, Emmy Noether                  1        229         77\n",
       "Neolithic Revolution, Nutrition          1         58        101\n",
       "Neolithic Revolution, Photon             1         58        173\n",
       "Egypt, Triangle                          1        342         74\n",
       "Aristotle, Martial arts                  1        229         94\n",
       "Aristotle, Jewellery                     1        229         44\n",
       "Egypt, Electric light                    1        342         20"
      ]
     },
     "execution_count": 30,
     "metadata": {},
     "output_type": "execute_result"
    }
   ],
   "source": [
    "print(\"Bottom 10 node pairs by number of shared editors:\")\n",
    "shared_user_df.sort_values([\"Weight\"], ascending=True).head(10)"
   ]
  },
  {
   "cell_type": "markdown",
   "metadata": {},
   "source": [
    "# Weighted graph of users"
   ]
  },
  {
   "cell_type": "code",
   "execution_count": 10,
   "metadata": {},
   "outputs": [],
   "source": [
    "lim = 0.2\n",
    "rel_connected_edges = rel_weight_df[rel_weight_df.Weight >= lim].index\n",
    "rel_connected_articles = set(chain.from_iterable([edge.split(\", \") for edge in rel_connected_edges]))\n",
    "removable_articles = set(articles_graph.nodes) - rel_connected_articles"
   ]
  },
  {
   "cell_type": "code",
   "execution_count": 11,
   "metadata": {},
   "outputs": [],
   "source": [
    "small_articles_graph = graph_u.copy()\n",
    "small_articles_graph.remove_nodes_from(removable_articles)\n",
    "\n",
    "# remove users not connected to our focus articles\n",
    "removable_users = set()\n",
    "for user in user_names:\n",
    "    for article in rel_connected_articles:\n",
    "        if small_articles_graph.has_edge(user, article):\n",
    "            break\n",
    "    else:\n",
    "        removable_users.add(user)\n",
    "small_articles_graph.remove_nodes_from(removable_users)"
   ]
  },
  {
   "cell_type": "code",
   "execution_count": 23,
   "metadata": {},
   "outputs": [],
   "source": [
    "common_articles = nx.Graph()\n",
    "common_articles.add_nodes_from(set(user_names) - removable_users)\n",
    "add_weighted_edges(common_articles, small_articles_graph, \"user\", \"article\", \"articles_no\")\n",
    "\n",
    "edited_articles_dict = common_articles.nodes(data=\"articles_no\")\n",
    "for (u, v, data) in common_articles.edges(data=True):\n",
    "    raw_weight = data[\"weight\"]\n",
    "    common_articles[u][v][\"relative_weight\"] = raw_weight * 2 / (edited_articles_dict[u] + edited_articles_dict[v])\n",
    "\n",
    "nx.write_graphml(common_articles, \"weighted_user_connections.graphml\")"
   ]
  },
  {
   "cell_type": "code",
   "execution_count": 24,
   "metadata": {},
   "outputs": [
    {
     "name": "stdout",
     "output_type": "stream",
     "text": [
      "Max edge weight: 7\n",
      "Average edge weight: 1.034163589219769\n",
      "Median edge weight: 1.0\n"
     ]
    }
   ],
   "source": [
    "common_articles = nx.read_graphml(\"weighted_user_connections.graphml\")\n",
    "edited_articles_dict = common_articles.nodes(data=\"articles_no\")\n",
    "edge_weight_dict = nx.get_edge_attributes(common_articles, \"weight\")\n",
    "articles_a = [edited_articles_dict[edge[0]] for edge in edge_weight_dict.keys()]\n",
    "articles_b = [edited_articles_dict[edge[1]] for edge in edge_weight_dict.keys()]\n",
    "edges = [f\"{u}, {v}\" for (u, v) in edge_weight_dict.keys()]\n",
    "edge_weight_df = pd.DataFrame({\"Edge\": edges, \"Weight\": edge_weight_dict.values(), \"Articles A\": articles_a,\n",
    "                               \"Articles B\": articles_b}).set_index(\"Edge\")\n",
    "print(f\"Max edge weight: {edge_weight_df.Weight.max()}\")\n",
    "print(f\"Average edge weight: {edge_weight_df.Weight.mean()}\")\n",
    "print(f\"Median edge weight: {edge_weight_df.Weight.median()}\")"
   ]
  },
  {
   "cell_type": "code",
   "execution_count": 26,
   "metadata": {},
   "outputs": [
    {
     "name": "stdout",
     "output_type": "stream",
     "text": [
      "Number of nodes: 2439\n",
      "Number of edges: 318175\n"
     ]
    }
   ],
   "source": [
    "print(f\"Number of nodes: {common_articles.number_of_nodes()}\")\n",
    "print(f\"Number of edges: {common_articles.number_of_edges()}\")"
   ]
  },
  {
   "cell_type": "code",
   "execution_count": 27,
   "metadata": {},
   "outputs": [
    {
     "name": "stdout",
     "output_type": "stream",
     "text": [
      "Average clustering coefficient: 0.9240174907436006\n"
     ]
    }
   ],
   "source": [
    "print(f\"Average clustering coefficient: {nx.average_clustering(common_articles)}\")"
   ]
  },
  {
   "cell_type": "code",
   "execution_count": 28,
   "metadata": {},
   "outputs": [
    {
     "data": {
      "text/html": [
       "<div>\n",
       "<style scoped>\n",
       "    .dataframe tbody tr th:only-of-type {\n",
       "        vertical-align: middle;\n",
       "    }\n",
       "\n",
       "    .dataframe tbody tr th {\n",
       "        vertical-align: top;\n",
       "    }\n",
       "\n",
       "    .dataframe thead th {\n",
       "        text-align: right;\n",
       "    }\n",
       "</style>\n",
       "<table border=\"1\" class=\"dataframe\">\n",
       "  <thead>\n",
       "    <tr style=\"text-align: right;\">\n",
       "      <th></th>\n",
       "      <th>Weight</th>\n",
       "      <th>Articles A</th>\n",
       "      <th>Articles B</th>\n",
       "    </tr>\n",
       "    <tr>\n",
       "      <th>Edge</th>\n",
       "      <th></th>\n",
       "      <th></th>\n",
       "      <th></th>\n",
       "    </tr>\n",
       "  </thead>\n",
       "  <tbody>\n",
       "    <tr>\n",
       "      <th>User:D.Lazard, User:Dmcq</th>\n",
       "      <td>7</td>\n",
       "      <td>8</td>\n",
       "      <td>7</td>\n",
       "    </tr>\n",
       "    <tr>\n",
       "      <th>User:Sławomir Biały, User:Dmcq</th>\n",
       "      <td>7</td>\n",
       "      <td>7</td>\n",
       "      <td>7</td>\n",
       "    </tr>\n",
       "    <tr>\n",
       "      <th>User:D.Lazard, User:CBM</th>\n",
       "      <td>7</td>\n",
       "      <td>8</td>\n",
       "      <td>7</td>\n",
       "    </tr>\n",
       "    <tr>\n",
       "      <th>User:D.Lazard, User:Sławomir Biały</th>\n",
       "      <td>7</td>\n",
       "      <td>8</td>\n",
       "      <td>7</td>\n",
       "    </tr>\n",
       "    <tr>\n",
       "      <th>User:D.Lazard, User:Wcherowi</th>\n",
       "      <td>7</td>\n",
       "      <td>8</td>\n",
       "      <td>7</td>\n",
       "    </tr>\n",
       "    <tr>\n",
       "      <th>User:D.Lazard, User:Salix alba</th>\n",
       "      <td>6</td>\n",
       "      <td>8</td>\n",
       "      <td>6</td>\n",
       "    </tr>\n",
       "    <tr>\n",
       "      <th>User:Sławomir Biały, User:Paul August</th>\n",
       "      <td>6</td>\n",
       "      <td>7</td>\n",
       "      <td>6</td>\n",
       "    </tr>\n",
       "    <tr>\n",
       "      <th>User:Oleg Alexandrov, User:CBM</th>\n",
       "      <td>6</td>\n",
       "      <td>6</td>\n",
       "      <td>7</td>\n",
       "    </tr>\n",
       "    <tr>\n",
       "      <th>User:Wcherowi, User:Dmcq</th>\n",
       "      <td>6</td>\n",
       "      <td>7</td>\n",
       "      <td>7</td>\n",
       "    </tr>\n",
       "    <tr>\n",
       "      <th>User:Wcherowi, User:CBM</th>\n",
       "      <td>6</td>\n",
       "      <td>7</td>\n",
       "      <td>7</td>\n",
       "    </tr>\n",
       "  </tbody>\n",
       "</table>\n",
       "</div>"
      ],
      "text/plain": [
       "                                       Weight  Articles A  Articles B\n",
       "Edge                                                                 \n",
       "User:D.Lazard, User:Dmcq                    7           8           7\n",
       "User:Sławomir Biały, User:Dmcq              7           7           7\n",
       "User:D.Lazard, User:CBM                     7           8           7\n",
       "User:D.Lazard, User:Sławomir Biały          7           8           7\n",
       "User:D.Lazard, User:Wcherowi                7           8           7\n",
       "User:D.Lazard, User:Salix alba              6           8           6\n",
       "User:Sławomir Biały, User:Paul August       6           7           6\n",
       "User:Oleg Alexandrov, User:CBM              6           6           7\n",
       "User:Wcherowi, User:Dmcq                    6           7           7\n",
       "User:Wcherowi, User:CBM                     6           7           7"
      ]
     },
     "execution_count": 28,
     "metadata": {},
     "output_type": "execute_result"
    }
   ],
   "source": [
    "edge_weight_df.sort_values([\"Weight\"], ascending=False).head(10)"
   ]
  },
  {
   "cell_type": "code",
   "execution_count": 29,
   "metadata": {},
   "outputs": [
    {
     "name": "stdout",
     "output_type": "stream",
     "text": [
      "Weights are common user numbers:\n",
      "number of communities found:  7\n",
      "modularity of louvain partitions:  0.6080072050973521\n",
      "---------------------------------\n",
      "Weights are relative user numbers:\n",
      "number of communities found:  10\n",
      "modularity of louvain partitions:  0.6123337949977752\n"
     ]
    }
   ],
   "source": [
    "common_articles.remove_nodes_from([node for node in common_articles.nodes if common_articles.degree(node) < 1])\n",
    "louvain_partition_raw = nx.community.louvain_communities(common_articles)\n",
    "print(\"Weights are common user numbers:\")\n",
    "print( \"number of communities found: \", len(louvain_partition_raw))\n",
    "print(\"modularity of louvain partitions: \", nx.community.modularity(common_articles, louvain_partition_raw))\n",
    "\n",
    "print(\"---------------------------------\")\n",
    "\n",
    "\n",
    "louvain_partition_rel = nx.community.louvain_communities(common_articles, weight=\"relative_weight\")\n",
    "print(\"Weights are relative user numbers:\")\n",
    "print( \"number of communities found: \", len(louvain_partition_rel))\n",
    "print(\"modularity of louvain partitions: \", nx.community.modularity(common_articles, louvain_partition_rel))"
   ]
  },
  {
   "cell_type": "code",
   "execution_count": 30,
   "metadata": {},
   "outputs": [
    {
     "data": {
      "image/png": "[encoded data removed]",
      "text/plain": [
       "<Figure size 1400x600 with 2 Axes>"
      ]
     },
     "metadata": {},
     "output_type": "display_data"
    }
   ],
   "source": [
    "titles = [\"Community size distribution for raw weights\", \"Community size distribution for relative weights\"]\n",
    "partitions = [louvain_partition_raw, louvain_partition_rel]\n",
    "fig, ax = plt.subplots(1, 2, figsize=(14, 6), layout=\"constrained\")\n",
    "for idx, (titles, partition) in enumerate(zip(titles, partitions)):\n",
    "    sorted_size_communities = sorted([len(comm) for comm in partition])\n",
    "    ax[idx].bar([x for x in range(1,len(partition)+1)], sorted_size_communities, color=\"cornflowerblue\")\n",
    "    ax[idx].set_title(label=titles)\n",
    "    ax[idx].set_xlabel(xlabel=\"Index of communities\")\n",
    "    ax[idx].set_ylabel(ylabel=\"Number of nodes\")\n",
    "    ax[idx].set_xticks([x for x in range (1,len(partition)+1)])\n",
    "    min_c = sorted_size_communities[0]\n",
    "    max_c = sorted_size_communities[-1]\n",
    "    ax[idx].set_ylim((0, max_c + 40))\n",
    "\n",
    "    rects = ax[idx].patches\n",
    "    labels = [size for size in sorted_size_communities]\n",
    "\n",
    "    for rect, label in zip(rects, labels):\n",
    "        height = rect.get_height()\n",
    "        ax[idx].text(rect.get_x() + rect.get_width() / 2, height + 5, label, ha=\"center\", va=\"bottom\")\n",
    "    \n",
    "plt.show()\n"
   ]
  }
 ],
 "metadata": {
  "kernelspec": {
   "display_name": "social",
   "language": "python",
   "name": "python3"
  },
  "language_info": {
   "codemirror_mode": {
    "name": "ipython",
    "version": 3
   },
   "file_extension": ".py",
   "mimetype": "text/x-python",
   "name": "python",
   "nbconvert_exporter": "python",
   "pygments_lexer": "ipython3",
   "version": "3.10.13"
  }
 },
 "nbformat": 4,
 "nbformat_minor": 2
}
