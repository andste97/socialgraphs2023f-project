{
 "cells": [
  {
   "cell_type": "code",
   "execution_count": 1,
   "metadata": {},
   "outputs": [],
   "source": [
    "# clean up outputs from warnings\n",
    "import warnings\n",
    "warnings.filterwarnings(\"ignore\")\n",
    "\n",
    "# required imports \n",
    "import numpy as np\n",
    "import pandas as pd\n",
    "import networkx as nx\n",
    "import scraper\n",
    "import matplotlib.pyplot as plt\n",
    "import powerlaw\n",
    "import scipy.stats as sps\n",
    "from itertools import chain"
   ]
  },
  {
   "cell_type": "markdown",
   "metadata": {},
   "source": [
    "## Disclaimer\n",
    "\n",
    "Many of the processing steps in this notebook are memory-intensive. Running the entire notebook in one go may not be possible, depending on the amount of ram your computer has"
   ]
  },
  {
   "cell_type": "markdown",
   "metadata": {},
   "source": [
    "## Data cleaning, creating the network\n",
    "We begin by fetching the first 3 levels of the `Wikipedia vital articles` category using our own `scraper`. The resulting initial graph is also saved for later use. We used the `page_class` node attribute to separate the classes of `user` and `article`. Nodes $a$ and $b$ from the `article` class were connected by edge $a \\rightarrow b$ if the content of the Wikipedia article corresponding to $a$ contained a link to article $b$. Similarly, directed edges $u \\rightarrow a$ were added between article $a$ and all user nodes $u$ found by parsing the corresponding talk page."
   ]
  },
  {
   "cell_type": "code",
   "execution_count": 3,
   "metadata": {},
   "outputs": [],
   "source": [
    "category_titles = [\n",
    "    \"Category:Wikipedia_level-1_vital_articles\",\n",
    "    \"Category:Wikipedia_level-2_vital_articles\",\n",
    "    \"Category:Wikipedia_level-3_vital_articles\",\n",
    "]"
   ]
  },
  {
   "cell_type": "code",
   "execution_count": null,
   "metadata": {},
   "outputs": [],
   "source": [
    "# download data\n",
    "page_graph, infos  = await scraper.scrape_wiki(category_titles)\n",
    "# write created graph to disk so it does not need to be re-fetched and re-computed so often\n",
    "nx.write_graphml(page_graph, \"wikigraph.graphml\")"
   ]
  },
  {
   "cell_type": "markdown",
   "metadata": {},
   "source": [
    "Next we remove bot users. Our list of bot user names was compiled by filtering nodes of type `user` containing the substring `bot`. Since Wikipedia doesn't have an official bot name convention we verified the resulting user list manually. We then compute basic network properties on the remaining graph."
   ]
  },
  {
   "cell_type": "code",
   "execution_count": 12,
   "metadata": {},
   "outputs": [
    {
     "name": "stdout",
     "output_type": "stream",
     "text": [
      "Number of nodes: 80595\n",
      "Number of edges: 176401\n",
      "Average clustering coefficient: 0.04075850427470914\n",
      "Number of weakly connected components: 1\n",
      "Top 5 nodes with largest in-degree:\n"
     ]
    },
    {
     "data": {
      "text/html": [
       "<div>\n",
       "<style scoped>\n",
       "    .dataframe tbody tr th:only-of-type {\n",
       "        vertical-align: middle;\n",
       "    }\n",
       "\n",
       "    .dataframe tbody tr th {\n",
       "        vertical-align: top;\n",
       "    }\n",
       "\n",
       "    .dataframe thead th {\n",
       "        text-align: right;\n",
       "    }\n",
       "</style>\n",
       "<table border=\"1\" class=\"dataframe\">\n",
       "  <thead>\n",
       "    <tr style=\"text-align: right;\">\n",
       "      <th></th>\n",
       "      <th>Total Degree</th>\n",
       "      <th>In Degree</th>\n",
       "      <th>Out Degree</th>\n",
       "    </tr>\n",
       "    <tr>\n",
       "      <th>Node</th>\n",
       "      <th></th>\n",
       "      <th></th>\n",
       "      <th></th>\n",
       "    </tr>\n",
       "  </thead>\n",
       "  <tbody>\n",
       "    <tr>\n",
       "      <th>United States</th>\n",
       "      <td>2461</td>\n",
       "      <td>2280</td>\n",
       "      <td>181</td>\n",
       "    </tr>\n",
       "    <tr>\n",
       "      <th>Jesus</th>\n",
       "      <td>1942</td>\n",
       "      <td>1903</td>\n",
       "      <td>39</td>\n",
       "    </tr>\n",
       "    <tr>\n",
       "      <th>India</th>\n",
       "      <td>1837</td>\n",
       "      <td>1654</td>\n",
       "      <td>183</td>\n",
       "    </tr>\n",
       "    <tr>\n",
       "      <th>Climate change</th>\n",
       "      <td>1800</td>\n",
       "      <td>1777</td>\n",
       "      <td>23</td>\n",
       "    </tr>\n",
       "    <tr>\n",
       "      <th>Israel</th>\n",
       "      <td>1697</td>\n",
       "      <td>1637</td>\n",
       "      <td>60</td>\n",
       "    </tr>\n",
       "  </tbody>\n",
       "</table>\n",
       "</div>"
      ],
      "text/plain": [
       "                Total Degree  In Degree  Out Degree\n",
       "Node                                               \n",
       "United States           2461       2280         181\n",
       "Jesus                   1942       1903          39\n",
       "India                   1837       1654         183\n",
       "Climate change          1800       1777          23\n",
       "Israel                  1697       1637          60"
      ]
     },
     "execution_count": 12,
     "metadata": {},
     "output_type": "execute_result"
    }
   ],
   "source": [
    "# read saved initial graph\n",
    "graph = nx.read_graphml(\"wikigraph.graphml\")\n",
    "\n",
    "# remove bot users from graph\n",
    "bot_names = [\"User:Community Tech bot\", \"User:PrimeBOT\", \"User:InternetArchiveBot\", \"User:AnomieBOT\", \"User:RMCD bot\", \"User:Cyberbot II\", \"User:CommonsNotificationBot\",\n",
    "\"User:LinkBot\", \"User:FairuseBot\", \"User:BetacommandBot\", \"User:Legobot\", \"User:DumZiBoT\"]\n",
    "graph.remove_nodes_from(bot_names)\n",
    "\n",
    "# Print network properties\n",
    "print(f\"Number of nodes: {graph.number_of_nodes()}\")\n",
    "print(f\"Number of edges: {graph.number_of_edges()}\")\n",
    "print(f\"Average clustering coefficient: {nx.average_clustering(graph)}\")\n",
    "print(f\"Number of weakly connected components: {len(list(nx.weakly_connected_components(graph)))}\")\n",
    "degrees_dict = {\"Node\": dict(graph.degree).keys(), \"Total Degree\": dict(graph.degree).values(), \"In Degree\": dict(graph.in_degree).values(), \"Out Degree\": dict(graph.out_degree).values()}\n",
    "degrees_view = pd.DataFrame(degrees_dict).set_index(\"Node\")\n",
    "print(\"Top 5 nodes with largest in-degree:\")\n",
    "degrees_view.sort_values([\"Total Degree\"], ascending=False).head(5)"
   ]
  },
  {
   "cell_type": "code",
   "execution_count": 13,
   "metadata": {},
   "outputs": [
    {
     "name": "stdout",
     "output_type": "stream",
     "text": [
      "Number of article pages: 1000\n",
      "Connections between article pages: 17315\n",
      "Connections between user pages: 0\n",
      "Connections between users and articles: 159086\n"
     ]
    }
   ],
   "source": [
    "graph_u = graph.to_undirected()\n",
    "\n",
    "# filter for user names and article titles in the graph\n",
    "nodes_by_class = dict(graph.nodes(data=\"page_class\"))\n",
    "user_names = [node for node in nodes_by_class if nodes_by_class[node] == \"user\"]\n",
    "article_titles = [node for node in nodes_by_class if nodes_by_class[node] == \"article\"]\n",
    "\n",
    "users_graph = graph.subgraph(user_names)\n",
    "articles_graph = graph.subgraph(article_titles)\n",
    "print(f\"Number of article pages: {articles_graph.number_of_nodes()}\")\n",
    "print(f\"Connections between article pages: {articles_graph.number_of_edges()}\")\n",
    "print(f\"Connections between user pages: {users_graph.number_of_edges()}\")\n",
    "\n",
    "# returns true if the edge with endpoints u and v is between an article and a user node\n",
    "def isDifferentClass(graph, u, v):\n",
    "    ua = graph.nodes[u][\"page_class\"] == \"user\" and graph.nodes[v][\"page_class\"] == \"article\"\n",
    "    au = graph.nodes[u][\"page_class\"] == \"article\" and graph.nodes[v][\"page_class\"] == \"user\"\n",
    "    return ua or au\n",
    "\n",
    "print(f\"Connections between users and articles: {len([(u,v) for (u, v) in graph_u.edges() if isDifferentClass(graph_u, u, v)])}\")"
   ]
  },
  {
   "cell_type": "markdown",
   "metadata": {},
   "source": [
    "Below we plot the total degree distribuiton on a log-log scale. As we can see, our network is scale-free. Since the number of edges between articles is much smaller than the number of edges between users and articles. This means that the differences in degrees are for the most part caused by the edges corresponding to user edits. Therefore we conclude that a a minority of the articles are edited by a majority of the users."
   ]
  },
  {
   "cell_type": "code",
   "execution_count": 16,
   "metadata": {},
   "outputs": [
    {
     "name": "stdout",
     "output_type": "stream",
     "text": [
      "Exponents:ess: 97%\n",
      "Alpha: 1.5138043908061927 sigma: 0.07928173872662739\n"
     ]
    },
    {
     "data": {
      "image/png": "[encoded data removed]",
      "text/plain": [
       "<Figure size 640x480 with 1 Axes>"
      ]
     },
     "metadata": {},
     "output_type": "display_data"
    }
   ],
   "source": [
    "# Plotting degree distributions\n",
    "\n",
    "\n",
    "def largest_weakly_connected_c(graph):\n",
    "     # extract largest weakly connected component\n",
    "    connected_subgraphs = [graph.subgraph(c).copy() for c in nx.weakly_connected_components(graph)]\n",
    "    max_conn_subgraph_index = np.argmax([len(graph) for graph in connected_subgraphs])\n",
    "    return connected_subgraphs[max_conn_subgraph_index]\n",
    "\n",
    "def fpl(x, a):\n",
    "    return x ** (-a)\n",
    "\n",
    "def render_degree_distributions_single(biggest_comp, colors, isDirected = True):\n",
    "    count_nodes = biggest_comp.number_of_nodes()\n",
    "    count_edges = biggest_comp.number_of_edges()\n",
    "\n",
    "    # Random Graph\n",
    "    avg_degree = np.fromiter(dict(biggest_comp.degree).values(), dtype=int).mean()\n",
    "    er_graph = nx.erdos_renyi_graph(count_nodes, avg_degree/(count_nodes - 1))\n",
    "    er_degrees = np.fromiter(dict(er_graph.degree).values(), dtype=int)\n",
    "    hist_er = np.histogram(er_degrees, bins=np.sort(np.unique(er_degrees)))\n",
    "\n",
    "    max_degree = max(dict(biggest_comp.degree).values())\n",
    "    range_x = range(1, max_degree + 1)\n",
    "\n",
    "    degrees = np.fromiter(dict(biggest_comp.degree).values(), dtype=int)\n",
    "    hist = np.histogram(degrees, bins=np.sort(np.unique(degrees)))\n",
    "\n",
    "    max_multiplicity = max(hist[0])\n",
    "\n",
    "    # Exponent\n",
    "    fit_exp = powerlaw.Fit(hist[0], verbose=False)\n",
    "    exp = fit_exp.alpha\n",
    "\n",
    "    print(\"Exponents:\")\n",
    "    print(\"Alpha: \" + str(exp) + \" sigma: \" + str(fit_exp.sigma))\n",
    "    rows = 1\n",
    "    data_dicts = [hist]\n",
    "    dists = [fpl(range_x, exp)]\n",
    "    titles = [\"Multiplicity of Degrees\"]\n",
    "    # Plots\n",
    "    fig, axs = plt.subplots(rows, 1)\n",
    "\n",
    "    for y, (hist, dist, title, color) in enumerate(zip(data_dicts, dists, titles, colors)):\n",
    "        counts, bins = hist\n",
    "        \n",
    "        axs.scatter(bins[:-1], counts, s=5, label=\"Data\", alpha=0.7)\n",
    "        axs.plot(range_x, dist * count_nodes, \"k-\", lw=1, label=\"Power Law fit\", color='red')\n",
    "        axs.set_yscale(\"log\")\n",
    "        axs.set_xscale(\"log\")\n",
    "        axs.set_title(f\"{title} [log-log]\")\n",
    "\n",
    "        #for x in range(2):\n",
    "        axs.set_xlim(1, max_degree)\n",
    "        axs.set_ylim(1, max_multiplicity)\n",
    "        axs.legend()\n",
    "\n",
    "    axs.set(xlabel=\"Degree\", ylabel=\"Multiplicity\")\n",
    "\n",
    "    fig.tight_layout()\n",
    "    return fig, axs\n",
    "\n",
    "colors = [\"cornflowerblue\", \"red\", \"green\"]\n",
    "render_degree_distributions_single(largest_weakly_connected_c(graph).to_undirected(), colors)\n",
    "plt.show()"
   ]
  },
  {
   "cell_type": "markdown",
   "metadata": {},
   "source": [
    "## Analysis of the articles subgraph"
   ]
  },
  {
   "cell_type": "markdown",
   "metadata": {},
   "source": [
    "First we analyse the subgraph constructed by only taking the article nodes from our initial graph and the edges between them. We investigate number of nodes, edges, average clustering coefficient and top 5 nodes by in and out degree."
   ]
  },
  {
   "cell_type": "code",
   "execution_count": 137,
   "metadata": {},
   "outputs": [
    {
     "name": "stdout",
     "output_type": "stream",
     "text": [
      "Properties of the articles subgraph:\n",
      "Number of nodes: 1000\n",
      "Number of edges: 17311\n",
      "Average clustering coefficient: 0.14285079028156009\n",
      "Top 5 articles by in-degree:\n",
      "                   In Degree  Out Degree  Total Degree\n",
      "Node                                                  \n",
      "Human history            130           5           135\n",
      "Human                    103          15           118\n",
      "Europe                   101         128           229\n",
      "History of Europe         87           4            91\n",
      "Asia                      85          71           156\n",
      "Top 5 articles by out-degree:\n",
      "               In Degree  Out Degree  Total Degree\n",
      "Node                                              \n",
      "World War II          27         210           237\n",
      "Latin                 19         209           228\n",
      "India                 51         183           234\n",
      "United States         55         182           237\n",
      "Aristotle             35         171           206\n"
     ]
    }
   ],
   "source": [
    "article_references = pd.DataFrame(articles_graph.in_degree, columns=[\"Node\", \"In Degree\"]).set_index(\"Node\")\n",
    "article_references[\"Out Degree\"] = pd.Series(dict(articles_graph.out_degree).values(), index=dict(articles_graph.out_degree).keys())\n",
    "article_references[\"Total Degree\"] = pd.Series(dict(articles_graph.degree).values(), index=dict(articles_graph.degree).keys())\n",
    "print(\"Properties of the articles subgraph:\")\n",
    "print(f\"Number of nodes: {articles_graph.number_of_nodes()}\")\n",
    "print(f\"Number of edges: {articles_graph.number_of_edges()}\")\n",
    "print(f\"Average clustering coefficient: {nx.average_clustering(articles_graph)}\")\n",
    "print(\"Top 5 articles by in-degree:\")\n",
    "print(article_references.sort_values(\"In Degree\", ascending=False).head(5))\n",
    "print(\"Top 5 articles by out-degree:\")\n",
    "print(article_references.sort_values(\"Out Degree\", ascending=False).head(5))"
   ]
  },
  {
   "cell_type": "code",
   "execution_count": 140,
   "metadata": {},
   "outputs": [
    {
     "data": {
      "image/png": "[encoded data removed]",
      "text/plain": [
       "<Figure size 600x400 with 1 Axes>"
      ]
     },
     "metadata": {},
     "output_type": "display_data"
    }
   ],
   "source": [
    "fig, ax = plt.subplots(figsize=(6, 4))\n",
    "degree_counts = article_references[\"Total Degree\"].value_counts()\n",
    "ax.scatter(degree_counts.index, degree_counts.values, s=5, label='Data', color=\"red\")\n",
    "ax.set_yscale('log')\n",
    "ax.set_xscale('log')\n",
    "ax.set_title('Multiplicity of degrees in the articles subgraph [log-log]')\n",
    "plt.show()"
   ]
  },
  {
   "cell_type": "markdown",
   "metadata": {},
   "source": [
    "As we can see the articles subgraph is not scale-free. Next we perform community detection using the `louvain_community_detection` function which implements the [Louvain algorithm](https://sites.google.com/site/findcommunities/)."
   ]
  },
  {
   "cell_type": "code",
   "execution_count": 107,
   "metadata": {},
   "outputs": [],
   "source": [
    "def louvain_community_detection(graph):\n",
    "    graph_no_isolated = graph.copy()\n",
    "    graph_no_isolated.remove_nodes_from([node for node in graph.nodes if graph.degree(node) < 1])\n",
    "    louvain_partition_raw = nx.community.louvain_communities(graph_no_isolated)\n",
    "    print(\"Number of communities found: \", len(louvain_partition_raw))\n",
    "    print(\"Modularity of louvain partitions: \", nx.community.modularity(graph_no_isolated, louvain_partition_raw))\n",
    "    return louvain_partition_raw"
   ]
  },
  {
   "cell_type": "code",
   "execution_count": 153,
   "metadata": {},
   "outputs": [
    {
     "name": "stdout",
     "output_type": "stream",
     "text": [
      "Number of communities found:  21\n",
      "Modularity of louvain partitions:  0.2943964685825948\n"
     ]
    }
   ],
   "source": [
    "louvain_partition = louvain_community_detection(articles_graph)"
   ]
  },
  {
   "cell_type": "code",
   "execution_count": 154,
   "metadata": {},
   "outputs": [],
   "source": [
    "def plot_community_sizes(partition, ax, title):\n",
    "    sorted_size_communities = sorted([len(comm) for comm in partition])\n",
    "    ax.bar([x for x in range(1,len(partition)+1)], sorted_size_communities, color=\"cornflowerblue\")\n",
    "    ax.set_title(label=title)\n",
    "    ax.set_xlabel(xlabel=\"Index of communities\")\n",
    "    ax.set_ylabel(ylabel=\"Number of nodes\")\n",
    "    ax.set_xticks([x for x in range (1,len(partition)+1)])\n",
    "    max_c = sorted_size_communities[-1]\n",
    "    ax.set_ylim((0, max_c + 40))\n",
    "\n",
    "    rects = ax.patches\n",
    "    labels = [size for size in sorted_size_communities]\n",
    "\n",
    "    for rect, label in zip(rects, labels):\n",
    "        height = rect.get_height()\n",
    "        ax.text(rect.get_x() + rect.get_width() / 2, height + 5, label, ha=\"center\", va=\"bottom\")"
   ]
  },
  {
   "cell_type": "code",
   "execution_count": 155,
   "metadata": {},
   "outputs": [
    {
     "data": {
      "image/png": "[encoded data removed]",
      "text/plain": [
       "<Figure size 800x400 with 1 Axes>"
      ]
     },
     "metadata": {},
     "output_type": "display_data"
    }
   ],
   "source": [
    "fig, ax = plt.subplots(figsize=(8, 4))\n",
    "plot_community_sizes(louvain_partition, ax, \"Community size distribution for articles subgraph\")  \n",
    "plt.show()"
   ]
  },
  {
   "cell_type": "markdown",
   "metadata": {},
   "source": [
    "Throughout multiple runs, the algorithm detected from 15 to 20 communities with a modularity under 0.3 each time. The above figure shows the size distribution of the communities found during our last run of the algorithm. The low modularity and the excessively small or large communities could be a result of the wikipedia article subset, as the vital articles category aims to provide an overview with a diverse set of important topics."
   ]
  },
  {
   "cell_type": "markdown",
   "metadata": {},
   "source": [
    "## Shared user groups between article pairs\n",
    "\n",
    "We create a graph where the nodes are the articles and two nodes are connected by an edge of weight $w$ if exactly $w$ users contributed to both. Groups of shared articles are constructed using function `add_weighted_edges` by evaluating each article nodes' neighbourhoud in the source graph. The weighted edges corresponding to the shared editor groups is then added."
   ]
  },
  {
   "cell_type": "code",
   "execution_count": 6,
   "metadata": {},
   "outputs": [],
   "source": [
    "def add_weighted_edges(graph, source, node_type, frontier_type, frontier_key):\n",
    "    for node in list(graph.nodes):\n",
    "        related = {}\n",
    "        # get neighbouring nodes of the opposite type\n",
    "        frontier = set(n for n in source.neighbors(node) if source.nodes[n][\"page_class\"] == frontier_type)\n",
    "        graph.nodes[node][frontier_key] = len(frontier)\n",
    "        for f in frontier:\n",
    "            neighbor_nodes = list( n for n in source.neighbors(f) if source.nodes[n][\"page_class\"] == node_type)\n",
    "            for n in neighbor_nodes:\n",
    "                if n != node:\n",
    "                    if n in related:\n",
    "                        related[n] += 1\n",
    "                    else:\n",
    "                        related[n] = 1\n",
    "        graph.add_weighted_edges_from([(node, r, related[r]) for r in related])"
   ]
  },
  {
   "cell_type": "code",
   "execution_count": 7,
   "metadata": {},
   "outputs": [],
   "source": [
    "common_editors = nx.Graph()\n",
    "common_editors.add_nodes_from(article_titles)\n",
    "add_weighted_edges(common_editors, graph_u, \"article\", \"user\", \"editors_no\")"
   ]
  },
  {
   "cell_type": "markdown",
   "metadata": {},
   "source": [
    "We then perform analysis on the  resulting undirected weighted graph. As we can see, there has been a slight reordering in the top 5 articles by editor number. This is probably due to users that only contributed to one article being filtered out during construction of the graph"
   ]
  },
  {
   "cell_type": "code",
   "execution_count": 8,
   "metadata": {},
   "outputs": [
    {
     "name": "stdout",
     "output_type": "stream",
     "text": [
      "Number of nodes: 1000\n",
      "Number of edges: 242107\n",
      "Number of connected components: 3\n",
      "Average clustering coefficient: 0.708347877885475\n",
      "Maximum editors: 2221\n",
      "Average editors: 159.057\n",
      "Median editors: 86.0\n",
      "\n",
      "Top 5 nodes by overall number of editors:\n"
     ]
    },
    {
     "data": {
      "text/html": [
       "<div>\n",
       "<style scoped>\n",
       "    .dataframe tbody tr th:only-of-type {\n",
       "        vertical-align: middle;\n",
       "    }\n",
       "\n",
       "    .dataframe tbody tr th {\n",
       "        vertical-align: top;\n",
       "    }\n",
       "\n",
       "    .dataframe thead th {\n",
       "        text-align: right;\n",
       "    }\n",
       "</style>\n",
       "<table border=\"1\" class=\"dataframe\">\n",
       "  <thead>\n",
       "    <tr style=\"text-align: right;\">\n",
       "      <th></th>\n",
       "      <th>Editors</th>\n",
       "    </tr>\n",
       "    <tr>\n",
       "      <th>Node</th>\n",
       "      <th></th>\n",
       "    </tr>\n",
       "  </thead>\n",
       "  <tbody>\n",
       "    <tr>\n",
       "      <th>United States</th>\n",
       "      <td>2221</td>\n",
       "    </tr>\n",
       "    <tr>\n",
       "      <th>Jesus</th>\n",
       "      <td>1879</td>\n",
       "    </tr>\n",
       "    <tr>\n",
       "      <th>Climate change</th>\n",
       "      <td>1768</td>\n",
       "    </tr>\n",
       "    <tr>\n",
       "      <th>Israel</th>\n",
       "      <td>1612</td>\n",
       "    </tr>\n",
       "    <tr>\n",
       "      <th>India</th>\n",
       "      <td>1601</td>\n",
       "    </tr>\n",
       "  </tbody>\n",
       "</table>\n",
       "</div>"
      ],
      "text/plain": [
       "                Editors\n",
       "Node                   \n",
       "United States      2221\n",
       "Jesus              1879\n",
       "Climate change     1768\n",
       "Israel             1612\n",
       "India              1601"
      ]
     },
     "execution_count": 8,
     "metadata": {},
     "output_type": "execute_result"
    }
   ],
   "source": [
    "print(f\"Number of nodes: {common_editors.number_of_nodes()}\")\n",
    "print(f\"Number of edges: {common_editors.number_of_edges()}\")\n",
    "print(f\"Number of connected components: {nx.number_connected_components(common_editors)}\")\n",
    "print(f\"Average clustering coefficient: {nx.average_clustering(common_editors)}\")\n",
    "edge_weight_dict = nx.get_edge_attributes(common_editors, \"weight\")\n",
    "editors_dict = common_editors.nodes(data=\"editors_no\")\n",
    "editors_view = pd.DataFrame(editors_dict, columns=[\"Node\", \"Editors\"]).set_index(\"Node\")\n",
    "print(f\"Maximum editors: {editors_view.Editors.max()}\")\n",
    "print(f\"Average editors: {editors_view.Editors.mean()}\")\n",
    "print(f\"Median editors: {editors_view.Editors.median()}\")\n",
    "\n",
    "print(\"\\nTop 5 nodes by overall number of editors:\")\n",
    "editors_view.sort_values([\"Editors\"], ascending=False).head(5)\n"
   ]
  },
  {
   "cell_type": "code",
   "execution_count": 18,
   "metadata": {},
   "outputs": [
    {
     "name": "stdout",
     "output_type": "stream",
     "text": [
      "Maximum edge weight: 221\n",
      "Average edge weight: 3.3285695993920044\n",
      "Median edge weight: 2.0\n",
      "\n",
      "Top 10 node pairs by overall number of shared editors:\n"
     ]
    },
    {
     "data": {
      "text/html": [
       "<div>\n",
       "<style scoped>\n",
       "    .dataframe tbody tr th:only-of-type {\n",
       "        vertical-align: middle;\n",
       "    }\n",
       "\n",
       "    .dataframe tbody tr th {\n",
       "        vertical-align: top;\n",
       "    }\n",
       "\n",
       "    .dataframe thead th {\n",
       "        text-align: right;\n",
       "    }\n",
       "</style>\n",
       "<table border=\"1\" class=\"dataframe\">\n",
       "  <thead>\n",
       "    <tr style=\"text-align: right;\">\n",
       "      <th></th>\n",
       "      <th>Weight</th>\n",
       "      <th>Editors A</th>\n",
       "      <th>Editors B</th>\n",
       "    </tr>\n",
       "    <tr>\n",
       "      <th>Edge</th>\n",
       "      <th></th>\n",
       "      <th></th>\n",
       "      <th></th>\n",
       "    </tr>\n",
       "  </thead>\n",
       "  <tbody>\n",
       "    <tr>\n",
       "      <th>Christianity, Jesus</th>\n",
       "      <td>221</td>\n",
       "      <td>985</td>\n",
       "      <td>1879</td>\n",
       "    </tr>\n",
       "    <tr>\n",
       "      <th>Israel, Jerusalem</th>\n",
       "      <td>206</td>\n",
       "      <td>1612</td>\n",
       "      <td>637</td>\n",
       "    </tr>\n",
       "    <tr>\n",
       "      <th>Islam, Muhammad</th>\n",
       "      <td>203</td>\n",
       "      <td>1127</td>\n",
       "      <td>1396</td>\n",
       "    </tr>\n",
       "    <tr>\n",
       "      <th>Jesus, United States</th>\n",
       "      <td>178</td>\n",
       "      <td>1879</td>\n",
       "      <td>2221</td>\n",
       "    </tr>\n",
       "    <tr>\n",
       "      <th>Jesus, Muhammad</th>\n",
       "      <td>176</td>\n",
       "      <td>1879</td>\n",
       "      <td>1396</td>\n",
       "    </tr>\n",
       "    <tr>\n",
       "      <th>China, Taiwan</th>\n",
       "      <td>174</td>\n",
       "      <td>842</td>\n",
       "      <td>937</td>\n",
       "    </tr>\n",
       "    <tr>\n",
       "      <th>Adolf Hitler, Jesus</th>\n",
       "      <td>168</td>\n",
       "      <td>1535</td>\n",
       "      <td>1879</td>\n",
       "    </tr>\n",
       "    <tr>\n",
       "      <th>United Kingdom, United States</th>\n",
       "      <td>163</td>\n",
       "      <td>1188</td>\n",
       "      <td>2221</td>\n",
       "    </tr>\n",
       "    <tr>\n",
       "      <th>Israel, United States</th>\n",
       "      <td>147</td>\n",
       "      <td>1612</td>\n",
       "      <td>2221</td>\n",
       "    </tr>\n",
       "    <tr>\n",
       "      <th>India, Pakistan</th>\n",
       "      <td>144</td>\n",
       "      <td>1601</td>\n",
       "      <td>749</td>\n",
       "    </tr>\n",
       "  </tbody>\n",
       "</table>\n",
       "</div>"
      ],
      "text/plain": [
       "                               Weight  Editors A  Editors B\n",
       "Edge                                                       \n",
       "Christianity, Jesus               221        985       1879\n",
       "Israel, Jerusalem                 206       1612        637\n",
       "Islam, Muhammad                   203       1127       1396\n",
       "Jesus, United States              178       1879       2221\n",
       "Jesus, Muhammad                   176       1879       1396\n",
       "China, Taiwan                     174        842        937\n",
       "Adolf Hitler, Jesus               168       1535       1879\n",
       "United Kingdom, United States     163       1188       2221\n",
       "Israel, United States             147       1612       2221\n",
       "India, Pakistan                   144       1601        749"
      ]
     },
     "execution_count": 18,
     "metadata": {},
     "output_type": "execute_result"
    }
   ],
   "source": [
    "degree_a = [editors_dict[edge[0]] for edge in edge_weight_dict.keys()]\n",
    "degree_b = [editors_dict[edge[1]] for edge in edge_weight_dict.keys()]\n",
    "edges = [f\"{u}, {v}\" for (u, v) in edge_weight_dict.keys()]\n",
    "shared_user_df = pd.DataFrame({\"Edge\": edges, \"Weight\": edge_weight_dict.values(), \"Editors A\": degree_a,\n",
    "                              \"Editors B\": degree_b}).set_index(\"Edge\")\n",
    "print(f\"Maximum edge weight: {shared_user_df.Weight.max()}\")\n",
    "print(f\"Average edge weight: {shared_user_df.Weight.mean()}\")\n",
    "print(f\"Median edge weight: {shared_user_df.Weight.median()}\")\n",
    "print(\"\\nTop 10 node pairs by overall number of shared editors:\")\n",
    "most_raw_connected = shared_user_df.sort_values([\"Weight\"], ascending=False).head(10)\n",
    "most_raw_connected"
   ]
  },
  {
   "cell_type": "markdown",
   "metadata": {},
   "source": [
    "Above we see metrics of the weights assigned to edges as the top 10 article pairs by shared editor count. Now we normalize the weights by the number of editors for each individual article. While there are a few surprising connections (e.g. Adolf Hitler and Jesus), most of the node pairs we see here are semantically related. We also note that these topics also have a high editor count individually which contributes to them being part of the top 10.\n",
    "\n",
    "Now we will investigate what percentage of their editors different articles share with others. We will construct a directed graph this time, and compute a relative for edge $a \\rightarrow b$ in the following way:\n",
    "$$w_{rel} = \\frac{w}{editors(a)} \\cdot 100$$\n",
    "where $w$ is the number of shared editors between $a$ and $b$ and $editors(a)$ is the corresponding number of editors for article $a$. We can compute the relative weights for all edges directly using `shared_user_df`. The 100 multiplier was added to give a percentage view of the results."
   ]
  },
  {
   "cell_type": "code",
   "execution_count": 30,
   "metadata": {},
   "outputs": [
    {
     "name": "stdout",
     "output_type": "stream",
     "text": [
      "Max edge weight: 100.0\n",
      "Average edge weight: 2.2928565414885926\n",
      "Median edge weight: 1.5965939329430547\n",
      "\n",
      "Top 10 node pairs by ratio of shared editors:\n"
     ]
    },
    {
     "data": {
      "text/html": [
       "<div>\n",
       "<style scoped>\n",
       "    .dataframe tbody tr th:only-of-type {\n",
       "        vertical-align: middle;\n",
       "    }\n",
       "\n",
       "    .dataframe tbody tr th {\n",
       "        vertical-align: top;\n",
       "    }\n",
       "\n",
       "    .dataframe thead th {\n",
       "        text-align: right;\n",
       "    }\n",
       "</style>\n",
       "<table border=\"1\" class=\"dataframe\">\n",
       "  <thead>\n",
       "    <tr style=\"text-align: right;\">\n",
       "      <th></th>\n",
       "      <th>Weight</th>\n",
       "      <th>Editors A</th>\n",
       "      <th>Editors B</th>\n",
       "      <th>Relative Weight (%)</th>\n",
       "    </tr>\n",
       "    <tr>\n",
       "      <th>Edge</th>\n",
       "      <th></th>\n",
       "      <th></th>\n",
       "      <th></th>\n",
       "      <th></th>\n",
       "    </tr>\n",
       "  </thead>\n",
       "  <tbody>\n",
       "    <tr>\n",
       "      <th>History of India, India</th>\n",
       "      <td>83</td>\n",
       "      <td>205</td>\n",
       "      <td>1601</td>\n",
       "      <td>40.487805</td>\n",
       "    </tr>\n",
       "    <tr>\n",
       "      <th>Delhi, India</th>\n",
       "      <td>72</td>\n",
       "      <td>181</td>\n",
       "      <td>1601</td>\n",
       "      <td>39.779006</td>\n",
       "    </tr>\n",
       "    <tr>\n",
       "      <th>Post-classical history, United States</th>\n",
       "      <td>11</td>\n",
       "      <td>28</td>\n",
       "      <td>2221</td>\n",
       "      <td>39.285714</td>\n",
       "    </tr>\n",
       "    <tr>\n",
       "      <th>Nth root, Pi</th>\n",
       "      <td>12</td>\n",
       "      <td>31</td>\n",
       "      <td>587</td>\n",
       "      <td>38.709677</td>\n",
       "    </tr>\n",
       "    <tr>\n",
       "      <th>Visual arts, Art</th>\n",
       "      <td>12</td>\n",
       "      <td>32</td>\n",
       "      <td>165</td>\n",
       "      <td>37.500000</td>\n",
       "    </tr>\n",
       "    <tr>\n",
       "      <th>Post-classical history, Middle Ages</th>\n",
       "      <td>10</td>\n",
       "      <td>28</td>\n",
       "      <td>206</td>\n",
       "      <td>35.714286</td>\n",
       "    </tr>\n",
       "    <tr>\n",
       "      <th>Deity, God</th>\n",
       "      <td>18</td>\n",
       "      <td>51</td>\n",
       "      <td>642</td>\n",
       "      <td>35.294118</td>\n",
       "    </tr>\n",
       "    <tr>\n",
       "      <th>Climate, Climate change</th>\n",
       "      <td>14</td>\n",
       "      <td>40</td>\n",
       "      <td>1768</td>\n",
       "      <td>35.000000</td>\n",
       "    </tr>\n",
       "    <tr>\n",
       "      <th>Bhagavad Gita, Hinduism</th>\n",
       "      <td>44</td>\n",
       "      <td>126</td>\n",
       "      <td>554</td>\n",
       "      <td>34.920635</td>\n",
       "    </tr>\n",
       "    <tr>\n",
       "      <th>Mahayana, Theravada</th>\n",
       "      <td>16</td>\n",
       "      <td>46</td>\n",
       "      <td>62</td>\n",
       "      <td>34.782609</td>\n",
       "    </tr>\n",
       "  </tbody>\n",
       "</table>\n",
       "</div>"
      ],
      "text/plain": [
       "                                       Weight  Editors A  Editors B  \\\n",
       "Edge                                                                  \n",
       "History of India, India                    83        205       1601   \n",
       "Delhi, India                               72        181       1601   \n",
       "Post-classical history, United States      11         28       2221   \n",
       "Nth root, Pi                               12         31        587   \n",
       "Visual arts, Art                           12         32        165   \n",
       "Post-classical history, Middle Ages        10         28        206   \n",
       "Deity, God                                 18         51        642   \n",
       "Climate, Climate change                    14         40       1768   \n",
       "Bhagavad Gita, Hinduism                    44        126        554   \n",
       "Mahayana, Theravada                        16         46         62   \n",
       "\n",
       "                                       Relative Weight (%)  \n",
       "Edge                                                        \n",
       "History of India, India                          40.487805  \n",
       "Delhi, India                                     39.779006  \n",
       "Post-classical history, United States            39.285714  \n",
       "Nth root, Pi                                     38.709677  \n",
       "Visual arts, Art                                 37.500000  \n",
       "Post-classical history, Middle Ages              35.714286  \n",
       "Deity, God                                       35.294118  \n",
       "Climate, Climate change                          35.000000  \n",
       "Bhagavad Gita, Hinduism                          34.920635  \n",
       "Mahayana, Theravada                              34.782609  "
      ]
     },
     "execution_count": 30,
     "metadata": {},
     "output_type": "execute_result"
    }
   ],
   "source": [
    "shared_user_df[\"Relative Weight (%)\"] = shared_user_df.Weight / shared_user_df[\"Editors A\"] * 100\n",
    "desc_rel_weight = shared_user_df.sort_values([\"Relative Weight (%)\"], ascending=False)\n",
    "print(f\"Max edge weight: {shared_user_df['Relative Weight (%)'].max()}\")\n",
    "print(f\"Average edge weight: {shared_user_df['Relative Weight (%)'].mean()}\")\n",
    "print(f\"Median edge weight: {shared_user_df['Relative Weight (%)'].median()}\")\n",
    "print(\"\\nTop 10 node pairs by ratio of shared editors:\")\n",
    "desc_rel_weight[(desc_rel_weight[\"Editors A\"] > 20) & (desc_rel_weight[\"Editors B\"] > 20)].head(10)"
   ]
  },
  {
   "cell_type": "markdown",
   "metadata": {},
   "source": [
    "As we can see, the article pairs ranked higher by relative weight have a stronger semantic connection. The maximal relative weight for an edge is 1.0. This is because some articles have only one editor in our subset and as soon as they edit another article, the edge with weight 1.0 is created. To avoid overrepresenting these types of connections we chose to only evaluate connections of the articles with at least 20 editors. \n",
    "\n",
    "As we can see above, the relative weight metric uncovers strong connections between more niche topics as well (e.g between Mahayana and Theravada buddhism). Now let's see the shared user percentages for the highest ranking edges by overall number of editors."
   ]
  },
  {
   "cell_type": "code",
   "execution_count": 27,
   "metadata": {},
   "outputs": [
    {
     "name": "stdout",
     "output_type": "stream",
     "text": [
      "Number of edges with higher weights: 312\n",
      "Below edges are in the top 2.1%\n",
      "\n",
      "Relative shared editors for the top 10 edges by shared editor number:\n"
     ]
    },
    {
     "data": {
      "text/html": [
       "<div>\n",
       "<style scoped>\n",
       "    .dataframe tbody tr th:only-of-type {\n",
       "        vertical-align: middle;\n",
       "    }\n",
       "\n",
       "    .dataframe tbody tr th {\n",
       "        vertical-align: top;\n",
       "    }\n",
       "\n",
       "    .dataframe thead th {\n",
       "        text-align: right;\n",
       "    }\n",
       "</style>\n",
       "<table border=\"1\" class=\"dataframe\">\n",
       "  <thead>\n",
       "    <tr style=\"text-align: right;\">\n",
       "      <th></th>\n",
       "      <th>Weight</th>\n",
       "      <th>Editors A</th>\n",
       "      <th>Editors B</th>\n",
       "      <th>Relative Weight (%)</th>\n",
       "    </tr>\n",
       "    <tr>\n",
       "      <th>Edge</th>\n",
       "      <th></th>\n",
       "      <th></th>\n",
       "      <th></th>\n",
       "      <th></th>\n",
       "    </tr>\n",
       "  </thead>\n",
       "  <tbody>\n",
       "    <tr>\n",
       "      <th>Christianity, Jesus</th>\n",
       "      <td>221</td>\n",
       "      <td>985</td>\n",
       "      <td>1879</td>\n",
       "      <td>22.436548</td>\n",
       "    </tr>\n",
       "    <tr>\n",
       "      <th>Israel, Jerusalem</th>\n",
       "      <td>206</td>\n",
       "      <td>1612</td>\n",
       "      <td>637</td>\n",
       "      <td>12.779156</td>\n",
       "    </tr>\n",
       "    <tr>\n",
       "      <th>Islam, Muhammad</th>\n",
       "      <td>203</td>\n",
       "      <td>1127</td>\n",
       "      <td>1396</td>\n",
       "      <td>18.012422</td>\n",
       "    </tr>\n",
       "    <tr>\n",
       "      <th>Jesus, United States</th>\n",
       "      <td>178</td>\n",
       "      <td>1879</td>\n",
       "      <td>2221</td>\n",
       "      <td>9.473124</td>\n",
       "    </tr>\n",
       "    <tr>\n",
       "      <th>Jesus, Muhammad</th>\n",
       "      <td>176</td>\n",
       "      <td>1879</td>\n",
       "      <td>1396</td>\n",
       "      <td>9.366684</td>\n",
       "    </tr>\n",
       "    <tr>\n",
       "      <th>China, Taiwan</th>\n",
       "      <td>174</td>\n",
       "      <td>842</td>\n",
       "      <td>937</td>\n",
       "      <td>20.665083</td>\n",
       "    </tr>\n",
       "    <tr>\n",
       "      <th>Adolf Hitler, Jesus</th>\n",
       "      <td>168</td>\n",
       "      <td>1535</td>\n",
       "      <td>1879</td>\n",
       "      <td>10.944625</td>\n",
       "    </tr>\n",
       "    <tr>\n",
       "      <th>United Kingdom, United States</th>\n",
       "      <td>163</td>\n",
       "      <td>1188</td>\n",
       "      <td>2221</td>\n",
       "      <td>13.720539</td>\n",
       "    </tr>\n",
       "    <tr>\n",
       "      <th>Israel, United States</th>\n",
       "      <td>147</td>\n",
       "      <td>1612</td>\n",
       "      <td>2221</td>\n",
       "      <td>9.119107</td>\n",
       "    </tr>\n",
       "    <tr>\n",
       "      <th>India, Pakistan</th>\n",
       "      <td>144</td>\n",
       "      <td>1601</td>\n",
       "      <td>749</td>\n",
       "      <td>8.994379</td>\n",
       "    </tr>\n",
       "  </tbody>\n",
       "</table>\n",
       "</div>"
      ],
      "text/plain": [
       "                               Weight  Editors A  Editors B  \\\n",
       "Edge                                                          \n",
       "Christianity, Jesus               221        985       1879   \n",
       "Israel, Jerusalem                 206       1612        637   \n",
       "Islam, Muhammad                   203       1127       1396   \n",
       "Jesus, United States              178       1879       2221   \n",
       "Jesus, Muhammad                   176       1879       1396   \n",
       "China, Taiwan                     174        842        937   \n",
       "Adolf Hitler, Jesus               168       1535       1879   \n",
       "United Kingdom, United States     163       1188       2221   \n",
       "Israel, United States             147       1612       2221   \n",
       "India, Pakistan                   144       1601        749   \n",
       "\n",
       "                               Relative Weight (%)  \n",
       "Edge                                                \n",
       "Christianity, Jesus                      22.436548  \n",
       "Israel, Jerusalem                        12.779156  \n",
       "Islam, Muhammad                          18.012422  \n",
       "Jesus, United States                      9.473124  \n",
       "Jesus, Muhammad                           9.366684  \n",
       "China, Taiwan                            20.665083  \n",
       "Adolf Hitler, Jesus                      10.944625  \n",
       "United Kingdom, United States            13.720539  \n",
       "Israel, United States                     9.119107  \n",
       "India, Pakistan                           8.994379  "
      ]
     },
     "execution_count": 27,
     "metadata": {},
     "output_type": "execute_result"
    }
   ],
   "source": [
    "top_by_count = shared_user_df.loc[most_raw_connected.index]\n",
    "no_higher = len(shared_user_df.loc[shared_user_df['Relative Weight (%)'] > top_by_count['Relative Weight (%)'].max()])\n",
    "all_above_min = len(shared_user_df.loc[shared_user_df['Relative Weight (%)'] >= top_by_count['Relative Weight (%)'].min()])\n",
    "print(f\"Number of edges with higher weights: {no_higher}\")\n",
    "print(f\"Below edges are in the top {all_above_min / len(shared_user_df) * 100:.2}%\")\n",
    "print(\"\\nRelative shared editors for the top 10 edges by shared editor number:\")\n",
    "top_by_count"
   ]
  },
  {
   "cell_type": "markdown",
   "metadata": {},
   "source": [
    "This shows that the most edited articles are still ranked very high overall. Now let's see the 5 lowest rankied topics."
   ]
  },
  {
   "cell_type": "code",
   "execution_count": 43,
   "metadata": {},
   "outputs": [
    {
     "name": "stdout",
     "output_type": "stream",
     "text": [
      "Bottom 10 node pairs by percentage of shared editors:\n"
     ]
    },
    {
     "data": {
      "text/html": [
       "<div>\n",
       "<style scoped>\n",
       "    .dataframe tbody tr th:only-of-type {\n",
       "        vertical-align: middle;\n",
       "    }\n",
       "\n",
       "    .dataframe tbody tr th {\n",
       "        vertical-align: top;\n",
       "    }\n",
       "\n",
       "    .dataframe thead th {\n",
       "        text-align: right;\n",
       "    }\n",
       "</style>\n",
       "<table border=\"1\" class=\"dataframe\">\n",
       "  <thead>\n",
       "    <tr style=\"text-align: right;\">\n",
       "      <th></th>\n",
       "      <th>Weight</th>\n",
       "      <th>Editors A</th>\n",
       "      <th>Editors B</th>\n",
       "      <th>Relative Weight (%)</th>\n",
       "    </tr>\n",
       "    <tr>\n",
       "      <th>Edge</th>\n",
       "      <th></th>\n",
       "      <th></th>\n",
       "      <th></th>\n",
       "      <th></th>\n",
       "    </tr>\n",
       "  </thead>\n",
       "  <tbody>\n",
       "    <tr>\n",
       "      <th>United States, Weapon</th>\n",
       "      <td>1</td>\n",
       "      <td>2221</td>\n",
       "      <td>26</td>\n",
       "      <td>0.045025</td>\n",
       "    </tr>\n",
       "    <tr>\n",
       "      <th>United States, Wave</th>\n",
       "      <td>1</td>\n",
       "      <td>2221</td>\n",
       "      <td>46</td>\n",
       "      <td>0.045025</td>\n",
       "    </tr>\n",
       "    <tr>\n",
       "      <th>Jesus, Word</th>\n",
       "      <td>1</td>\n",
       "      <td>1879</td>\n",
       "      <td>24</td>\n",
       "      <td>0.053220</td>\n",
       "    </tr>\n",
       "    <tr>\n",
       "      <th>Jesus, Suffrage</th>\n",
       "      <td>1</td>\n",
       "      <td>1879</td>\n",
       "      <td>21</td>\n",
       "      <td>0.053220</td>\n",
       "    </tr>\n",
       "    <tr>\n",
       "      <th>Jesus, Navigation</th>\n",
       "      <td>1</td>\n",
       "      <td>1879</td>\n",
       "      <td>20</td>\n",
       "      <td>0.053220</td>\n",
       "    </tr>\n",
       "    <tr>\n",
       "      <th>Jesus, Lipid</th>\n",
       "      <td>1</td>\n",
       "      <td>1879</td>\n",
       "      <td>31</td>\n",
       "      <td>0.053220</td>\n",
       "    </tr>\n",
       "    <tr>\n",
       "      <th>Jesus, Motion</th>\n",
       "      <td>1</td>\n",
       "      <td>1879</td>\n",
       "      <td>28</td>\n",
       "      <td>0.053220</td>\n",
       "    </tr>\n",
       "    <tr>\n",
       "      <th>Jesus, Rocky Mountains</th>\n",
       "      <td>1</td>\n",
       "      <td>1879</td>\n",
       "      <td>43</td>\n",
       "      <td>0.053220</td>\n",
       "    </tr>\n",
       "    <tr>\n",
       "      <th>Jesus, Realism (arts)</th>\n",
       "      <td>1</td>\n",
       "      <td>1879</td>\n",
       "      <td>9</td>\n",
       "      <td>0.053220</td>\n",
       "    </tr>\n",
       "    <tr>\n",
       "      <th>Jesus, Organic chemistry</th>\n",
       "      <td>1</td>\n",
       "      <td>1879</td>\n",
       "      <td>30</td>\n",
       "      <td>0.053220</td>\n",
       "    </tr>\n",
       "  </tbody>\n",
       "</table>\n",
       "</div>"
      ],
      "text/plain": [
       "                          Weight  Editors A  Editors B  Relative Weight (%)\n",
       "Edge                                                                       \n",
       "United States, Weapon          1       2221         26             0.045025\n",
       "United States, Wave            1       2221         46             0.045025\n",
       "Jesus, Word                    1       1879         24             0.053220\n",
       "Jesus, Suffrage                1       1879         21             0.053220\n",
       "Jesus, Navigation              1       1879         20             0.053220\n",
       "Jesus, Lipid                   1       1879         31             0.053220\n",
       "Jesus, Motion                  1       1879         28             0.053220\n",
       "Jesus, Rocky Mountains         1       1879         43             0.053220\n",
       "Jesus, Realism (arts)          1       1879          9             0.053220\n",
       "Jesus, Organic chemistry       1       1879         30             0.053220"
      ]
     },
     "execution_count": 43,
     "metadata": {},
     "output_type": "execute_result"
    }
   ],
   "source": [
    "print(\"Bottom 10 node pairs by percentage of shared editors:\")\n",
    "asc_rel_weight = shared_user_df.sort_values([\"Relative Weight (%)\"], ascending=True)\n",
    "asc_rel_weight.head(10)"
   ]
  },
  {
   "cell_type": "code",
   "execution_count": 51,
   "metadata": {},
   "outputs": [
    {
     "name": "stdout",
     "output_type": "stream",
     "text": [
      "United States article contains link to Weapon:  True\n",
      "Weapon article contains link to United States:  True\n"
     ]
    }
   ],
   "source": [
    "print(\"United States article contains link to Weapon: \", \"United States\" in list(articles_graph.neighbors(\"Weapon\")))\n",
    "print(\"Weapon article contains link to United States: \", \"Weapon\" in list(articles_graph.neighbors(\"United States\")))"
   ]
  },
  {
   "cell_type": "markdown",
   "metadata": {},
   "source": [
    "The low weight of the edge between the United States and Weapon articles is surprising especially because both of these articles link to each other in their page content. \n",
    "\n",
    "Most of the other results make sense as the article titles are not semantically related to each other. ,  Most of the above results make sense as the article pairs do not have much in common sematically.\n",
    "\n",
    "Overall by focusing on user collaboration, we see a different article network structure emerging to the one constructed through page content links. Let us investigate this through community detection using the [Louvain algorithm](https://sites.google.com/site/findcommunities/)."
   ]
  },
  {
   "cell_type": "code",
   "execution_count": 110,
   "metadata": {},
   "outputs": [
    {
     "name": "stdout",
     "output_type": "stream",
     "text": [
      "Number of nodes: 1000\n",
      "Number of edges: 242107\n",
      "Average clustering coefficient: 0.708347877885475\n"
     ]
    }
   ],
   "source": [
    "common_editors_rel = nx.Graph()\n",
    "common_editors_rel.add_nodes_from(article_titles)\n",
    "\n",
    "s = shared_user_df[\"Relative Weight (%)\"]\n",
    "edge_endpoints = np.array([edge_str.split(\", \") for edge_str in s.index])\n",
    "rel_weighted_edges = list(zip(edge_endpoints[:,0], edge_endpoints[:,1], s))\n",
    "common_editors_rel.add_weighted_edges_from(rel_weighted_edges)\n",
    "\n",
    "print(f\"Number of nodes: {common_editors_rel.number_of_nodes()}\")\n",
    "print(f\"Number of edges: {common_editors_rel.number_of_edges()}\")\n",
    "print(f\"Average clustering coefficient: {nx.average_clustering(common_editors_rel)}\")"
   ]
  },
  {
   "cell_type": "code",
   "execution_count": 191,
   "metadata": {},
   "outputs": [
    {
     "name": "stdout",
     "output_type": "stream",
     "text": [
      "Weights are raw shared editor numbers:\n",
      "Number of communities found:  6\n",
      "Modularity of louvain partitions:  0.14304896102858722\n",
      "---------------------------------\n",
      "Weights are relative shared editor numbers:\n",
      "Number of communities found:  5\n",
      "Modularity of louvain partitions:  0.14547546653848578\n"
     ]
    }
   ],
   "source": [
    "print(\"Weights are raw shared editor numbers:\")\n",
    "louvain_partition_raw = louvain_community_detection(common_editors)\n",
    "\n",
    "print(\"---------------------------------\")\n",
    "\n",
    "print(\"Weights are relative shared editor numbers:\")\n",
    "louvain_partition_rel = louvain_community_detection(common_editors_rel)"
   ]
  },
  {
   "cell_type": "code",
   "execution_count": 189,
   "metadata": {},
   "outputs": [
    {
     "data": {
      "image/png": "[encoded data removed]",
      "text/plain": [
       "<Figure size 1400x600 with 2 Axes>"
      ]
     },
     "metadata": {},
     "output_type": "display_data"
    }
   ],
   "source": [
    "titles = [\"Community size distribution for shared editors graph (raw weights)\", \"Community size distribution for shared editors graph (relative weights)\"]\n",
    "partitions = [louvain_partition_raw, louvain_partition_rel]\n",
    "fig, ax = plt.subplots(1, 2, figsize=(14, 6), layout=\"constrained\")\n",
    "for idx, (title, partition) in enumerate(zip(titles, partitions)):\n",
    "    plot_community_sizes(partition, ax[idx], title)\n",
    "plt.show()\n"
   ]
  },
  {
   "cell_type": "markdown",
   "metadata": {},
   "source": [
    "These results suggest that user preferences usually do not align to the groupings based on article topics. While we see users with specific expertise mainly contributing to a small niche of articles; the more popular ond/or controversial topics have a major appeal to all users. \n",
    "This difference in connectedness is also reflected by the difference in the average clustering coefficient of the graphs. Two arbirarily chosen nodes are much more likely to have an edge between them in the shared editors graph than the article subgraph.\n",
    "\n",
    "The Louvain algorithm identified fewer communities in the shared editors graph than for the articles subgraph. This further emphasises the differences in strucure between the two, even though neither partition had a high modularity. \n",
    "\n",
    "These differences may contribute to diverse discussions on article talk pages, particularly for popular topics where there are likely more conflicts."
   ]
  },
  {
   "cell_type": "markdown",
   "metadata": {},
   "source": [
    "## Comment sentiment analysis\n",
    "\n",
    "Because comment extraction takes a long time and consumes a lot of ram, we first load a pickle containing previously extracted comments from the scraped talk pages. For extraction we used the package python-mwchatter. Instruction for how to use the package can be found in the library's repository <https://github.com/mediawiki-utilities/python-mwchatter>.\n",
    "\n",
    "Installation instructions: \n",
    "\n",
    "1. clone ```git clone https://github.com/mediawiki-utilities/python-mwchatter.git``` or download the repo as a zip file through github\n",
    "2. Best to create & activate a new venv in the folder\n",
    "5. Copy the folder `<python-mwchatter-root-folder>/wikichatter` into the folder `<venv-root-folder>/lib/<python-dist-folder>/site-packages`\n",
    "3. install dependencies mwchatter dependencies"
   ]
  },
  {
   "cell_type": "code",
   "execution_count": 4,
   "metadata": {},
   "outputs": [],
   "source": [
    "import pickle\n",
    "\n",
    "with open(\"./parsing_worker_results.pkl\", \"rb\") as file:\n",
    "    worker_results = pickle.load(file)"
   ]
  },
  {
   "cell_type": "markdown",
   "metadata": {},
   "source": [
    "Because extraction took so long, we used python a multiprocessing pool to speed up computation. For this, we had to chunk our list of comments into sublists so they could be worked on efficiently in a python multiprocessing pool <https://docs.python.org/3/library/multiprocessing.html>.\n",
    "\n",
    "Because our extracted comments are in the datastructure provided by wikichatter (datastructure documentation see <https://github.com/mediawiki-utilities/python-mwchatter>), we need to parse it into a datastructure more useful for us to work with."
   ]
  },
  {
   "cell_type": "code",
   "execution_count": 5,
   "metadata": {},
   "outputs": [],
   "source": [
    "def append_or_create_list_in_dict(dict, key, value):\n",
    "    if(key not in dict):\n",
    "        dict[key] = []\n",
    "    \n",
    "    dict[key].append(value)\n",
    "\n",
    "def append_comment_to_talkpage(page_dict, filepath, comment):\n",
    "    '''Append a comment to a list of comments on that talk page. Will collect all comments for a specific talk\n",
    "    page, including comments archived talk pages'''\n",
    "    filepath_parts = filepath.split('/')\n",
    "\n",
    "    if(len(filepath_parts) > 2):\n",
    "        append_or_create_list_in_dict(page_dict, filepath_parts[1], comment)\n",
    "\n",
    "    else:\n",
    "        filename_parts = filepath_parts[1].split('.')\n",
    "        append_or_create_list_in_dict(page_dict,filename_parts[0], comment)\n",
    "\n",
    "def parse_comment(comment):\n",
    "    \"\"\"\n",
    "    Parse a single comment and return a tuple in this format: (author, comment words)\n",
    "    \"\"\"\n",
    "    author = comment.get(\"author\")\n",
    "    result = ''\n",
    "    # result = []\n",
    "    for text in comment[\"text_blocks\"]:\n",
    "        # result += tokenize_custom(text)\n",
    "        result += ' ' +text\n",
    "    \n",
    "    return (author, result)\n",
    "\n",
    "def parse_comment_subcomment(comment):\n",
    "        \"\"\"Parse a single comment, and then recursively parse all answers to that comment.\n",
    "        Yields a generator with tuples in this format: (author, comment words)\"\"\"\n",
    "        yield parse_comment(comment)\n",
    "        if comment.get(\"comments\"):\n",
    "            for subcomment in comment.get(\"comments\"):\n",
    "                yield from parse_comment_subcomment(subcomment)\n",
    "\n",
    "author_dict = {}\n",
    "list_for_df = []\n",
    "page_dict = {}\n",
    "\n",
    "# iterate over the results by the workers of multiprocessing pool\n",
    "# and transform the output \n",
    "#   into a dictionary with the users as keys and their comments as text for per-author sentiment analysis\n",
    "#   and a dictionary with the talk page name as key and all comments on that talk page as values\n",
    "for worker_result in worker_results:\n",
    "    for filepath, page in worker_result:\n",
    "        for subsection in page[\"sections\"]:\n",
    "            if subsection.get(\"heading\"):\n",
    "                for comments in subsection.get(\"comments\"):\n",
    "                    if comments.get(\"author\"):\n",
    "                        for author, comment in parse_comment_subcomment(comments):\n",
    "                            append_or_create_list_in_dict(author_dict, author, comment)\n",
    "                            append_comment_to_talkpage(page_dict, filepath, comment)\n",
    "                            list_for_df.append([author, comment, filepath])"
   ]
  },
  {
   "cell_type": "markdown",
   "metadata": {},
   "source": [
    "Now, we can finally start on the sentiment analysis.\n",
    "\n",
    "For this, we need to define our tokenizer, the and the sentiment calculation method."
   ]
  },
  {
   "cell_type": "code",
   "execution_count": 6,
   "metadata": {},
   "outputs": [],
   "source": [
    "import re\n",
    "import string\n",
    "import nltk\n",
    "from nltk import FreqDist\n",
    "from nltk.tokenize import word_tokenize\n",
    "wnl = nltk.WordNetLemmatizer()\n",
    "\n",
    "def flatten(l):\n",
    "    return [item for sublist in l for item in sublist]\n",
    "\n",
    "# this regex removes unwanted characters\n",
    "re_tok = re.compile(f'([{string.punctuation}“”¨«»®´·º½¾¿¡§£₤‘’])')\n",
    "# tokenize a string. This tokenizer is made to extract all wikitext markups, links, etc.\n",
    "def tokenize_custom(s):\n",
    "    if(not s.startswith('=')):\n",
    "        wikilink_regex = r'\\[\\[.*?\\]\\]|\\(\\)|\\{\\{.*?\\{\\}|<.*?>|[0-9]{1,2} [A-Z][a-z]+ [0-9]{4}|\\(UTC\\)'\n",
    "        s = re.sub(wikilink_regex, ' ', s)\n",
    "\n",
    "        s = word_tokenize(s)\n",
    "        s = ' '.join([wnl.lemmatize(word.lower()) for word in s if word.isalnum()])\n",
    "        return re_tok.sub(r' \\1 ', s).split() # having this line at the end vastly improves classifier results. Not sure why. \n",
    "                                            # Just by having this line with the above tokenizer improve score\n",
    "                                            # from 0.9 to 0.97.\n",
    "    return []\n",
    "\n",
    "labMT = pd.read_csv(\"./labMT.txt\", sep=\"\\t\")\n",
    "# to facilitate happiness_average value lookup\n",
    "labMT.set_index(\"word\", inplace=True)\n",
    "\n",
    "# Define sentiment analysis method\n",
    "def sentiment(tokens):\n",
    "    if(len(tokens) == 0):\n",
    "        return\n",
    "    freq = FreqDist(tokens)\n",
    "\n",
    "    # filter for the vocabulary we can evaluate with LabMT\n",
    "    vocab = list(filter(lambda word: word in labMT.index, np.unique(tokens)))\n",
    "\n",
    "    # array of each token's average happiness weighted by the token's frequency\n",
    "    weighted_happiness = np.fromiter((freq[word] * labMT.loc[word].happiness_average for word in vocab), dtype=float)\n",
    "    # each token's frequency\n",
    "    word_frequencies = np.fromiter((freq[word] for word in vocab), dtype=float)\n",
    "    return np.sum(weighted_happiness) / np.sum(word_frequencies)\n",
    "\n",
    "\n",
    "def extract_sentiments(key, text):\n",
    "    # text consists of several comments, all belonging to key, it is type list of list\n",
    "    # thus each comment needs to be tokenized and then\n",
    "    # the resulting list of lists flattened\n",
    "    text = [tokenize_custom(s) for s in text]\n",
    "    text = flatten(text)\n",
    "    # compute sentiment for individual rapper wiki page\n",
    "    if len(text) > 100:\n",
    "        sentiment_value = sentiment(text)\n",
    "        if(sentiment_value):\n",
    "            return (key, sentiment_value)"
   ]
  },
  {
   "cell_type": "markdown",
   "metadata": {},
   "source": [
    "For the sake of brevity, we have removed the code with which we calculated an individual author's sentiment. We have not included results about that in the report, as they were of little interest.\n",
    "\n",
    "### Per-talkpage sentiment analysis\n",
    "\n",
    "The next step is to calculate the sentiment for each talk page, so it can later be compared to the sentiments of the article pages. To speed up computation, we parallelize comment snetiment analysis again. Comments on talk page archives will be added to the correct talk page."
   ]
  },
  {
   "cell_type": "code",
   "execution_count": 7,
   "metadata": {},
   "outputs": [
    {
     "data": {
      "text/html": [
       "<div>\n",
       "<style scoped>\n",
       "    .dataframe tbody tr th:only-of-type {\n",
       "        vertical-align: middle;\n",
       "    }\n",
       "\n",
       "    .dataframe tbody tr th {\n",
       "        vertical-align: top;\n",
       "    }\n",
       "\n",
       "    .dataframe thead th {\n",
       "        text-align: right;\n",
       "    }\n",
       "</style>\n",
       "<table border=\"1\" class=\"dataframe\">\n",
       "  <thead>\n",
       "    <tr style=\"text-align: right;\">\n",
       "      <th></th>\n",
       "      <th>pagename</th>\n",
       "      <th>talkpage_sentiment</th>\n",
       "    </tr>\n",
       "  </thead>\n",
       "  <tbody>\n",
       "    <tr>\n",
       "      <th>0</th>\n",
       "      <td>Plato</td>\n",
       "      <td>5.378497</td>\n",
       "    </tr>\n",
       "    <tr>\n",
       "      <th>1</th>\n",
       "      <td>Brazil</td>\n",
       "      <td>5.379409</td>\n",
       "    </tr>\n",
       "    <tr>\n",
       "      <th>2</th>\n",
       "      <td>Jerusalem</td>\n",
       "      <td>5.328870</td>\n",
       "    </tr>\n",
       "    <tr>\n",
       "      <th>3</th>\n",
       "      <td>Socrates</td>\n",
       "      <td>5.370714</td>\n",
       "    </tr>\n",
       "    <tr>\n",
       "      <th>4</th>\n",
       "      <td>American Revolution</td>\n",
       "      <td>5.335119</td>\n",
       "    </tr>\n",
       "  </tbody>\n",
       "</table>\n",
       "</div>"
      ],
      "text/plain": [
       "              pagename  talkpage_sentiment\n",
       "0                Plato            5.378497\n",
       "1               Brazil            5.379409\n",
       "2            Jerusalem            5.328870\n",
       "3             Socrates            5.370714\n",
       "4  American Revolution            5.335119"
      ]
     },
     "execution_count": 7,
     "metadata": {},
     "output_type": "execute_result"
    }
   ],
   "source": [
    "from multiprocessing import Pool\n",
    "\n",
    "def extract_talkpage_sentiments(pagename, text):\n",
    "    pagename = pagename.replace('Talk:', '')\n",
    "    text = [tokenize_custom(s) for s in text]\n",
    "    text = flatten(text)\n",
    "    # compute sentiment for individual rapper wiki page\n",
    "    if len(text) > 100:\n",
    "        sentiment_value = sentiment(text)\n",
    "        if(sentiment_value):\n",
    "            return (pagename, sentiment_value)\n",
    "\n",
    "\n",
    "with Pool(12) as pool:\n",
    "    worker_results = pool.starmap(extract_talkpage_sentiments, page_dict.items(), 40)\n",
    "    worker_results = [worker_result for worker_result in worker_results if worker_result is not None]\n",
    "\n",
    "sentiments_talk_pages = {page: sentiment for page, sentiment in worker_results}\n",
    "\n",
    "sentiments_pages_df = pd.DataFrame({\"pagename\": sentiments_talk_pages.keys(), \"talkpage_sentiment\": sentiments_talk_pages.values()})\n",
    "# use the author's name as index\n",
    "# sentiments_pages_df.set_index(\"pagename\", inplace=True)\n",
    "sentiments_pages_df.head()"
   ]
  },
  {
   "cell_type": "code",
   "execution_count": 8,
   "metadata": {},
   "outputs": [
    {
     "name": "stdout",
     "output_type": "stream",
     "text": [
      "Top 10 happiest talk pages:\n"
     ]
    },
    {
     "data": {
      "text/html": [
       "<div>\n",
       "<style scoped>\n",
       "    .dataframe tbody tr th:only-of-type {\n",
       "        vertical-align: middle;\n",
       "    }\n",
       "\n",
       "    .dataframe tbody tr th {\n",
       "        vertical-align: top;\n",
       "    }\n",
       "\n",
       "    .dataframe thead th {\n",
       "        text-align: right;\n",
       "    }\n",
       "</style>\n",
       "<table border=\"1\" class=\"dataframe\">\n",
       "  <thead>\n",
       "    <tr style=\"text-align: right;\">\n",
       "      <th></th>\n",
       "      <th>pagename</th>\n",
       "      <th>talkpage_sentiment</th>\n",
       "    </tr>\n",
       "  </thead>\n",
       "  <tbody>\n",
       "    <tr>\n",
       "      <th>25</th>\n",
       "      <td>Memory</td>\n",
       "      <td>5.577665</td>\n",
       "    </tr>\n",
       "    <tr>\n",
       "      <th>240</th>\n",
       "      <td>Friendship</td>\n",
       "      <td>5.544420</td>\n",
       "    </tr>\n",
       "    <tr>\n",
       "      <th>292</th>\n",
       "      <td>Dance</td>\n",
       "      <td>5.541977</td>\n",
       "    </tr>\n",
       "    <tr>\n",
       "      <th>126</th>\n",
       "      <td>Drink</td>\n",
       "      <td>5.537447</td>\n",
       "    </tr>\n",
       "    <tr>\n",
       "      <th>222</th>\n",
       "      <td>Play (activity)</td>\n",
       "      <td>5.534066</td>\n",
       "    </tr>\n",
       "    <tr>\n",
       "      <th>675</th>\n",
       "      <td>Festival</td>\n",
       "      <td>5.533009</td>\n",
       "    </tr>\n",
       "    <tr>\n",
       "      <th>425</th>\n",
       "      <td>Happiness</td>\n",
       "      <td>5.519176</td>\n",
       "    </tr>\n",
       "    <tr>\n",
       "      <th>528</th>\n",
       "      <td>Entertainment</td>\n",
       "      <td>5.518798</td>\n",
       "    </tr>\n",
       "    <tr>\n",
       "      <th>221</th>\n",
       "      <td>Heredity</td>\n",
       "      <td>5.516819</td>\n",
       "    </tr>\n",
       "    <tr>\n",
       "      <th>696</th>\n",
       "      <td>Garden</td>\n",
       "      <td>5.516650</td>\n",
       "    </tr>\n",
       "  </tbody>\n",
       "</table>\n",
       "</div>"
      ],
      "text/plain": [
       "            pagename  talkpage_sentiment\n",
       "25            Memory            5.577665\n",
       "240       Friendship            5.544420\n",
       "292            Dance            5.541977\n",
       "126            Drink            5.537447\n",
       "222  Play (activity)            5.534066\n",
       "675         Festival            5.533009\n",
       "425        Happiness            5.519176\n",
       "528    Entertainment            5.518798\n",
       "221         Heredity            5.516819\n",
       "696           Garden            5.516650"
      ]
     },
     "execution_count": 8,
     "metadata": {},
     "output_type": "execute_result"
    }
   ],
   "source": [
    "print(\"Top 10 happiest talk pages:\")\n",
    "best_sentiments = sentiments_pages_df.sort_values(\"talkpage_sentiment\", ascending=False).head(10)\n",
    "best_sentiments"
   ]
  },
  {
   "cell_type": "code",
   "execution_count": 9,
   "metadata": {},
   "outputs": [
    {
     "name": "stdout",
     "output_type": "stream",
     "text": [
      "Top 10 saddest talk pages:\n"
     ]
    },
    {
     "data": {
      "text/html": [
       "<div>\n",
       "<style scoped>\n",
       "    .dataframe tbody tr th:only-of-type {\n",
       "        vertical-align: middle;\n",
       "    }\n",
       "\n",
       "    .dataframe tbody tr th {\n",
       "        vertical-align: top;\n",
       "    }\n",
       "\n",
       "    .dataframe thead th {\n",
       "        text-align: right;\n",
       "    }\n",
       "</style>\n",
       "<table border=\"1\" class=\"dataframe\">\n",
       "  <thead>\n",
       "    <tr style=\"text-align: right;\">\n",
       "      <th></th>\n",
       "      <th>pagename</th>\n",
       "      <th>talkpage_sentiment</th>\n",
       "    </tr>\n",
       "  </thead>\n",
       "  <tbody>\n",
       "    <tr>\n",
       "      <th>617</th>\n",
       "      <td>Fear</td>\n",
       "      <td>5.188344</td>\n",
       "    </tr>\n",
       "    <tr>\n",
       "      <th>660</th>\n",
       "      <td>Terrorism</td>\n",
       "      <td>5.211078</td>\n",
       "    </tr>\n",
       "    <tr>\n",
       "      <th>249</th>\n",
       "      <td>War</td>\n",
       "      <td>5.215088</td>\n",
       "    </tr>\n",
       "    <tr>\n",
       "      <th>556</th>\n",
       "      <td>Violence</td>\n",
       "      <td>5.219212</td>\n",
       "    </tr>\n",
       "    <tr>\n",
       "      <th>622</th>\n",
       "      <td>Nuclear weapon</td>\n",
       "      <td>5.227378</td>\n",
       "    </tr>\n",
       "    <tr>\n",
       "      <th>100</th>\n",
       "      <td>Disease</td>\n",
       "      <td>5.228096</td>\n",
       "    </tr>\n",
       "    <tr>\n",
       "      <th>380</th>\n",
       "      <td>Weapon</td>\n",
       "      <td>5.230729</td>\n",
       "    </tr>\n",
       "    <tr>\n",
       "      <th>457</th>\n",
       "      <td>Tax</td>\n",
       "      <td>5.254547</td>\n",
       "    </tr>\n",
       "    <tr>\n",
       "      <th>788</th>\n",
       "      <td>Anger</td>\n",
       "      <td>5.259530</td>\n",
       "    </tr>\n",
       "    <tr>\n",
       "      <th>11</th>\n",
       "      <td>Slavery</td>\n",
       "      <td>5.260364</td>\n",
       "    </tr>\n",
       "  </tbody>\n",
       "</table>\n",
       "</div>"
      ],
      "text/plain": [
       "           pagename  talkpage_sentiment\n",
       "617            Fear            5.188344\n",
       "660       Terrorism            5.211078\n",
       "249             War            5.215088\n",
       "556        Violence            5.219212\n",
       "622  Nuclear weapon            5.227378\n",
       "100         Disease            5.228096\n",
       "380          Weapon            5.230729\n",
       "457             Tax            5.254547\n",
       "788           Anger            5.259530\n",
       "11          Slavery            5.260364"
      ]
     },
     "execution_count": 9,
     "metadata": {},
     "output_type": "execute_result"
    }
   ],
   "source": [
    "print(\"Top 10 saddest talk pages:\")\n",
    "worst_sentiments = sentiments_pages_df.sort_values(\"talkpage_sentiment\", ascending=True).head(10)\n",
    "worst_sentiments"
   ]
  },
  {
   "cell_type": "markdown",
   "metadata": {},
   "source": [
    "As we can see, the happiest and sadest talk pages seem to correlate a lot with the topics discussed in them. Time to analyze and quantify if this is really the case.\n",
    "\n",
    "Towards this goal, we will extract the sentiments of the article pages, and then correlate those with the corresponding talk page.\n",
    "\n",
    "### Article page sentiment analysis\n",
    "\n",
    "Here, we extract the sentiments for all comments on a given article page."
   ]
  },
  {
   "cell_type": "code",
   "execution_count": 10,
   "metadata": {},
   "outputs": [],
   "source": [
    "import pathlib\n",
    "\n",
    "# load previously scraped article pages\n",
    "wikipage_folder = pathlib.Path(\"./article_pages_plaintext/\")\n",
    "filepaths = list(wikipage_folder.rglob(\"*.txt\"))\n",
    "\n",
    "# calculate sentiments for article pages\n",
    "def extract_articlepage_sentiments(filepath):\n",
    "    pagename = filepath.stem\n",
    "    with open(filepath, 'r') as file:\n",
    "        text = file.read()\n",
    "        return (pagename, sentiment(tokenize_custom(text)))\n",
    "    \n",
    "with Pool(12) as pool:\n",
    "    worker_results = pool.map(extract_articlepage_sentiments, filepaths, 5)\n",
    "    worker_results = [worker_result for worker_result in worker_results if worker_result is not None]\n",
    "\n",
    "# add results into dictionary for easy import into existing dataframe\n",
    "sentiments_article_pages =  {pagename: sentiment for pagename, sentiment in worker_results}"
   ]
  },
  {
   "cell_type": "markdown",
   "metadata": {},
   "source": [
    "### Calculate correlation value of related article and talk page sentiments"
   ]
  },
  {
   "cell_type": "code",
   "execution_count": 11,
   "metadata": {},
   "outputs": [
    {
     "data": {
      "text/html": [
       "<div>\n",
       "<style scoped>\n",
       "    .dataframe tbody tr th:only-of-type {\n",
       "        vertical-align: middle;\n",
       "    }\n",
       "\n",
       "    .dataframe tbody tr th {\n",
       "        vertical-align: top;\n",
       "    }\n",
       "\n",
       "    .dataframe thead th {\n",
       "        text-align: right;\n",
       "    }\n",
       "</style>\n",
       "<table border=\"1\" class=\"dataframe\">\n",
       "  <thead>\n",
       "    <tr style=\"text-align: right;\">\n",
       "      <th></th>\n",
       "      <th>talkpage_sentiment</th>\n",
       "      <th>articlepage_sentiment</th>\n",
       "    </tr>\n",
       "  </thead>\n",
       "  <tbody>\n",
       "    <tr>\n",
       "      <th>talkpage_sentiment</th>\n",
       "      <td>1.000000</td>\n",
       "      <td>0.830109</td>\n",
       "    </tr>\n",
       "    <tr>\n",
       "      <th>articlepage_sentiment</th>\n",
       "      <td>0.830109</td>\n",
       "      <td>1.000000</td>\n",
       "    </tr>\n",
       "  </tbody>\n",
       "</table>\n",
       "</div>"
      ],
      "text/plain": [
       "                       talkpage_sentiment  articlepage_sentiment\n",
       "talkpage_sentiment               1.000000               0.830109\n",
       "articlepage_sentiment            0.830109               1.000000"
      ]
     },
     "execution_count": 11,
     "metadata": {},
     "output_type": "execute_result"
    }
   ],
   "source": [
    "# insert the article page dictionary into the dataframe created above\n",
    "sentiments_pages_df[\"articlepage_sentiment\"] = sentiments_pages_df[\"pagename\"].map(sentiments_article_pages)\n",
    "# check that we didn't get any null values becuase a page didn't have a match\n",
    "sentiments_pages_df.isnull().values.any()\n",
    "\n",
    "# compute correlation of talk pages and article pages using pearson method \n",
    "# see wikipedia which pandas documentetation refers to\n",
    "sentiments_pages_df.corr(numeric_only=True)"
   ]
  },
  {
   "cell_type": "code",
   "execution_count": 12,
   "metadata": {},
   "outputs": [
    {
     "data": {
      "text/plain": [
       "<matplotlib.legend.Legend at 0x7f409bc94ac0>"
      ]
     },
     "execution_count": 12,
     "metadata": {},
     "output_type": "execute_result"
    },
    {
     "data": {
      "image/png": "[encoded data removed]",
      "text/plain": [
       "<Figure size 640x480 with 1 Axes>"
      ]
     },
     "metadata": {},
     "output_type": "display_data"
    }
   ],
   "source": [
    "from sklearn.linear_model import LinearRegression\n",
    "\n",
    "# create graph showing correlation value\n",
    "\n",
    "fig, ax = plt.subplots()\n",
    "\n",
    "sentiments_pages_df.plot.scatter (\n",
    "    \"articlepage_sentiment\", \"talkpage_sentiment\", \n",
    "    title = \"Scatterplot showing correlation of sentiments of talk pages and article pages\", \n",
    "    xlabel = \"Sentiment of article pages\",\n",
    "    ylabel = \"Sentiment of talk pages\",\n",
    "    label='sentiment data',\n",
    "    alpha=0.7,\n",
    "    ax=ax\n",
    ")\n",
    "\n",
    "sentiments_pages_df = sentiments_pages_df.dropna()\n",
    "\n",
    "X = sentiments_pages_df[\"articlepage_sentiment\"].values.reshape(-1,1)\n",
    "Y = sentiments_pages_df[\"talkpage_sentiment\"].values.reshape(-1,1)\n",
    "\n",
    "linear_regressor = LinearRegression()\n",
    "linear_regressor.fit(X, Y)\n",
    "Y_pred = linear_regressor.predict(X)\n",
    "\n",
    "ax.plot(X, Y_pred, color='red', alpha=0.6, label='regression')\n",
    "ax.legend()"
   ]
  },
  {
   "cell_type": "markdown",
   "metadata": {},
   "source": [
    "#### Interpretation of correlation results\n",
    "\n",
    "The results give a correlation coefficient of 0.83. \n",
    "This means, the sentiments of article and talk pages are strongly positively correlated (anything over 0.5 on a scale from -1 to 1 is considered strongly correlated). \n",
    "Thus, if the sentiment of a article page is higher, the probability for the talk page to have a higher sentiment is high."
   ]
  },
  {
   "cell_type": "markdown",
   "metadata": {},
   "source": [
    "## Toxic comment extraction & analysis\n",
    "\n",
    "First, we need to load the TF-IDF vectorizer that was trained in another notebook. For the interested reader, this notebook can be downloaded using this link: <https://www.dropbox.com/scl/fi/q3vqa413sol3y0qh471cp/nb-svm-strong-linear-baseline.ipynb?rlkey=wm2noaexu7fartrucajn18e7q&dl=0>\n",
    "\n",
    "The vectorizer will transform comments into TF-IDF-weighted sparse bag-of-words matrix. Sparse bag-of-word matrices are an efficient datastructe for inference with our model, TF-IDF is used to extract relevant features from the parsed comments."
   ]
  },
  {
   "cell_type": "code",
   "execution_count": 13,
   "metadata": {},
   "outputs": [],
   "source": [
    "df_comments = pd.DataFrame(list_for_df, columns = ['Author', 'Comment', 'Filename']) \n",
    "\n",
    "# load previously trained TF-IDF vectorizer\n",
    "with open('./sentiment-models/vectorizer.pkl', 'rb') as file:\n",
    "    vec = pickle.load(file)\n",
    "\n",
    "# transform comments into TF-IDF-weighted sparse matrix\n",
    "comments_sparse = vec.transform(df_comments['Comment'])"
   ]
  },
  {
   "cell_type": "markdown",
   "metadata": {},
   "source": [
    "Next, we can run inference on the input data using the previously calculated and stored models, to obtain the toxic comments:"
   ]
  },
  {
   "cell_type": "code",
   "execution_count": 14,
   "metadata": {},
   "outputs": [
    {
     "name": "stdout",
     "output_type": "stream",
     "text": [
      "predict toxic\n",
      "predict severe_toxic\n",
      "predict obscene\n",
      "predict threat\n",
      "predict insult\n",
      "predict identity_hate\n",
      "number of toxic comments:  198\n"
     ]
    }
   ],
   "source": [
    "label_cols = ['toxic', 'severe_toxic', 'obscene', 'threat', 'insult', 'identity_hate']\n",
    "\n",
    "preds = np.zeros((len(df_comments), len(label_cols)))\n",
    "\n",
    "for i, j in enumerate(label_cols):\n",
    "    print('predict', j)\n",
    "    with open(f'./sentiment-models/{j}.pkl', 'rb') as file:\n",
    "        m,r = pickle.load(file)\n",
    "    preds[:,i] = m.predict_proba(comments_sparse.multiply(r))[:,1]\n",
    "    df_comments[j] = preds[:,i]\n",
    "\n",
    "# this created a matrix where each new column for label_cols contains the probability that a comment is in\n",
    "# the category with the same title as the column name \n",
    "\n",
    "# get all authors that wrote toxic comments\n",
    "# we chose a cutoff probability for defining a comment as toxic at 0.9\n",
    "authors = []\n",
    "for row in df_comments[df_comments[\"toxic\"] > 0.9].iterrows():\n",
    "    if row[1][\"Author\"]:\n",
    "        authors.append(row[1][\"Author\"])\n",
    "\n",
    "\n",
    "# how many toxic comments did we find?\n",
    "print(\"number of toxic comments: \", len(df_comments[df_comments[\"toxic\"] > 0.9]))"
   ]
  },
  {
   "cell_type": "code",
   "execution_count": 15,
   "metadata": {},
   "outputs": [
    {
     "name": "stdout",
     "output_type": "stream",
     "text": [
      "number of people that have written more than one toxic comment:  19\n"
     ]
    }
   ],
   "source": [
    "# Calculate how many authors wrote more than one toxic comment:\n",
    "\n",
    "seen = set()\n",
    "multiple_offenders = [x for x in authors if x in seen or seen.add(x)]    \n",
    "print(\"number of people that have written more than one toxic comment: \", len(set(multiple_offenders)))"
   ]
  },
  {
   "cell_type": "code",
   "execution_count": 17,
   "metadata": {},
   "outputs": [
    {
     "name": "stdout",
     "output_type": "stream",
     "text": [
      "top 10 pages with most toxic comments:  Filename\n",
      "Talk:Anarchism          11\n",
      "Talk:Adolf Hitler        9\n",
      "Talk:Socialism           7\n",
      "Talk:United States       7\n",
      "Talk:Evolution           6\n",
      "Talk:Michael Jackson     5\n",
      "Talk:Abortion            4\n",
      "Talk:Turkey              4\n",
      "Talk:Israel              3\n",
      "Talk:Jesus               3\n",
      "dtype: int64\n"
     ]
    }
   ],
   "source": [
    "# first we need to consolidate pages and archives, so we work with all comments for a specific topic\n",
    "df_comments_consolidated = df_comments.copy(deep=True)\n",
    "\n",
    "df_comments_consolidated[\"Filename\"] = df_comments_consolidated[\"Filename\"].map(\n",
    "    lambda x: x.split(\"/\")[1].replace(\".txt\", \"\")\n",
    ")\n",
    "\n",
    "# Calculate number of toxic comments per consolidated talk page\n",
    "count_toxic_per_page = df_comments_consolidated[df_comments_consolidated['toxic'] > 0.9] \\\n",
    "    .groupby('Filename').size() \\\n",
    "    .sort_values(ascending=False)\n",
    "\n",
    "# Output top 10 pages with most toxic comments\n",
    "print(\"top 10 pages with most toxic comments: \", count_toxic_per_page[:10])"
   ]
  },
  {
   "cell_type": "markdown",
   "metadata": {},
   "source": [
    "All in all, we saw a lot less toxic comments than we expected. We think, this can be attributed to the work of Wikipedia moderators, or potentially our algorithm did not find all toxic comments. Given the performance seen by evaluation the model on the test dataset (running inference on test data provided by Kaggl, then uploading our prediction and receiving the score), we think the former is more likely. However, to see if this is really the case, one would have to analyze the page history as well. This was infeasible given the time constraints of this exercise."
   ]
  }
 ],
 "metadata": {
  "kernelspec": {
   "display_name": "social",
   "language": "python",
   "name": "python3"
  },
  "language_info": {
   "codemirror_mode": {
    "name": "ipython",
    "version": 3
   },
   "file_extension": ".py",
   "mimetype": "text/x-python",
   "name": "python",
   "nbconvert_exporter": "python",
   "pygments_lexer": "ipython3",
   "version": "3.10.13"
  }
 },
 "nbformat": 4,
 "nbformat_minor": 2
}
