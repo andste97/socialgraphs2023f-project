{
 "cells": [
  {
   "cell_type": "code",
   "execution_count": 1,
   "metadata": {},
   "outputs": [],
   "source": [
    "# clean up outputs from warnings\n",
    "import warnings\n",
    "warnings.filterwarnings(\"ignore\")\n",
    "\n",
    "# required imports \n",
    "import numpy as np\n",
    "import pandas as pd\n",
    "import networkx as nx\n",
    "import scraper\n",
    "import matplotlib.pyplot as plt\n",
    "import powerlaw\n",
    "import scipy.stats as sps\n",
    "from itertools import chain"
   ]
  },
  {
   "cell_type": "markdown",
   "metadata": {},
   "source": [
    "## Disclaimer\n",
    "\n",
    "Many of the processing steps in this notebook are memory-intensive. Running the entire notebook in one go may not be possible, depending on the amount of ram your computer has, and will take several minutes."
   ]
  },
  {
   "cell_type": "markdown",
   "metadata": {},
   "source": [
    "## Codebase\n",
    "\n",
    "Since our codebase is too large for a single notebook, we decided to upload it elsewhere. Details of our implementation, especially the rather complex scraper and classifier, and all the files required for execution of this notebook can be found on GitHub: https://github.com/andste97/socialgraphs2023f-project"
   ]
  },
  {
   "cell_type": "markdown",
   "metadata": {},
   "source": [
    "## Data cleaning, creating the network\n",
    "We begin by fetching the first 3 levels of the `Wikipedia vital articles` category using our own `scraper`. The resulting initial graph is also saved for later use. We used the `page_class` node attribute to separate the classes of `user` and `article`. Nodes $a$ and $b$ from the `article` class were connected by edge $a \\rightarrow b$ if the content of the Wikipedia article corresponding to $a$ contained a link to article $b$. Similarly, directed edges $u \\rightarrow a$ were added between article $a$ and all user nodes $u$ found by parsing the corresponding talk page."
   ]
  },
  {
   "cell_type": "code",
   "execution_count": 2,
   "metadata": {},
   "outputs": [],
   "source": [
    "category_titles = [\n",
    "    \"Category:Wikipedia_level-1_vital_articles\",\n",
    "    \"Category:Wikipedia_level-2_vital_articles\",\n",
    "    \"Category:Wikipedia_level-3_vital_articles\",\n",
    "]"
   ]
  },
  {
   "cell_type": "code",
   "execution_count": 3,
   "metadata": {},
   "outputs": [
    {
     "name": "stderr",
     "output_type": "stream",
     "text": [
      "Fetching 3 categories: 100%|██████████| 3/3 [00:00<00:00,  5.15it/s]\n",
      "Fetching 1000 page archive titles: 100%|██████████| 1000/1000 [00:04<00:00, 235.15it/s]\n",
      "Fetching 7366 talk pages: 100%|██████████| 148/148 [00:14<00:00, 10.50it/s]\n",
      "Parsing talk page batches: 100%|██████████| 148/148 [00:22<00:00,  6.57it/s]\n",
      "Writing talk page batches to disk: 100%|██████████| 148/148 [00:01<00:00, 129.82it/s]\n",
      "Fetching 1000 article pages: 100%|██████████| 20/20 [00:10<00:00,  2.00it/s]\n",
      "Parsing article page batches: 100%|██████████| 20/20 [00:04<00:00,  4.62it/s]\n",
      "Fetching 1000 revisions: 100%|██████████| 1000/1000 [01:53<00:00,  8.27s/it]"
     ]
    },
    {
     "name": "stdout",
     "output_type": "stream",
     "text": [
      "Creating graph\n"
     ]
    },
    {
     "name": "stderr",
     "output_type": "stream",
     "text": [
      "Linking users: 100%|██████████| 7366/7366 [00:00<00:00, 10245.96it/s]\n",
      "Linking articles: 100%|██████████| 1000/1000 [00:00<00:00, 2293.53it/s]\n"
     ]
    },
    {
     "name": "stdout",
     "output_type": "stream",
     "text": [
      "Total edges: 228198\n"
     ]
    },
    {
     "name": "stderr",
     "output_type": "stream",
     "text": [
      "Fetching 1000 revisions: 100%|██████████| 1000/1000 [02:05<00:00,  7.95it/s]\n"
     ]
    }
   ],
   "source": [
    "# download data\n",
    "page_graph, infos  = await scraper.scrape_wiki(category_titles)\n",
    "# write created graph to disk so it does not need to be re-fetched and re-computed so often\n",
    "nx.write_graphml(page_graph, \"wikigraph.graphml\")"
   ]
  },
  {
   "cell_type": "markdown",
   "metadata": {},
   "source": [
    "Next we remove bot users. Our list of bot user names was compiled by filtering nodes of type `user` containing the substring `bot`. Since Wikipedia doesn't have an official bot name convention we verified the resulting user list manually. We then compute basic network properties on the remaining graph."
   ]
  },
  {
   "cell_type": "code",
   "execution_count": 2,
   "metadata": {},
   "outputs": [
    {
     "name": "stdout",
     "output_type": "stream",
     "text": [
      "Number of nodes: 80580\n",
      "Number of edges: 176368\n",
      "Average clustering coefficient: 0.04063680702604195\n",
      "Number of weakly connected components: 1\n",
      "Top 5 nodes with largest in-degree:\n"
     ]
    },
    {
     "data": {
      "text/html": [
       "<div>\n",
       "<style scoped>\n",
       "    .dataframe tbody tr th:only-of-type {\n",
       "        vertical-align: middle;\n",
       "    }\n",
       "\n",
       "    .dataframe tbody tr th {\n",
       "        vertical-align: top;\n",
       "    }\n",
       "\n",
       "    .dataframe thead th {\n",
       "        text-align: right;\n",
       "    }\n",
       "</style>\n",
       "<table border=\"1\" class=\"dataframe\">\n",
       "  <thead>\n",
       "    <tr style=\"text-align: right;\">\n",
       "      <th></th>\n",
       "      <th>Total Degree</th>\n",
       "      <th>In Degree</th>\n",
       "      <th>Out Degree</th>\n",
       "    </tr>\n",
       "    <tr>\n",
       "      <th>Node</th>\n",
       "      <th></th>\n",
       "      <th></th>\n",
       "      <th></th>\n",
       "    </tr>\n",
       "  </thead>\n",
       "  <tbody>\n",
       "    <tr>\n",
       "      <th>United States</th>\n",
       "      <td>2458</td>\n",
       "      <td>2276</td>\n",
       "      <td>182</td>\n",
       "    </tr>\n",
       "    <tr>\n",
       "      <th>Jesus</th>\n",
       "      <td>1942</td>\n",
       "      <td>1903</td>\n",
       "      <td>39</td>\n",
       "    </tr>\n",
       "    <tr>\n",
       "      <th>India</th>\n",
       "      <td>1835</td>\n",
       "      <td>1652</td>\n",
       "      <td>183</td>\n",
       "    </tr>\n",
       "    <tr>\n",
       "      <th>Climate change</th>\n",
       "      <td>1800</td>\n",
       "      <td>1777</td>\n",
       "      <td>23</td>\n",
       "    </tr>\n",
       "    <tr>\n",
       "      <th>Israel</th>\n",
       "      <td>1696</td>\n",
       "      <td>1636</td>\n",
       "      <td>60</td>\n",
       "    </tr>\n",
       "  </tbody>\n",
       "</table>\n",
       "</div>"
      ],
      "text/plain": [
       "                Total Degree  In Degree  Out Degree\n",
       "Node                                               \n",
       "United States           2458       2276         182\n",
       "Jesus                   1942       1903          39\n",
       "India                   1835       1652         183\n",
       "Climate change          1800       1777          23\n",
       "Israel                  1696       1636          60"
      ]
     },
     "execution_count": 2,
     "metadata": {},
     "output_type": "execute_result"
    }
   ],
   "source": [
    "# read saved initial graph\n",
    "graph = nx.read_graphml(\"wikigraph.graphml\")\n",
    "\n",
    "# remove bot users from graph\n",
    "bot_names = [\"User:Community Tech bot\", \"User:PrimeBOT\", \"User:InternetArchiveBot\", \"User:AnomieBOT\", \"User:RMCD bot\", \"User:Cyberbot II\", \"User:CommonsNotificationBot\",\n",
    "\"User:LinkBot\", \"User:FairuseBot\", \"User:BetacommandBot\", \"User:Legobot\", \"User:DumZiBoT\"]\n",
    "graph.remove_nodes_from(bot_names)\n",
    "\n",
    "# Print network properties\n",
    "print(f\"Number of nodes: {graph.number_of_nodes()}\")\n",
    "print(f\"Number of edges: {graph.number_of_edges()}\")\n",
    "print(f\"Average clustering coefficient: {nx.average_clustering(graph)}\")\n",
    "print(f\"Number of weakly connected components: {len(list(nx.weakly_connected_components(graph)))}\")\n",
    "degrees_dict = {\"Node\": dict(graph.degree).keys(), \"Total Degree\": dict(graph.degree).values(), \"In Degree\": dict(graph.in_degree).values(), \"Out Degree\": dict(graph.out_degree).values()}\n",
    "degrees_view = pd.DataFrame(degrees_dict).set_index(\"Node\")\n",
    "print(\"Top 5 nodes with largest in-degree:\")\n",
    "degrees_view.sort_values([\"Total Degree\"], ascending=False).head(5)"
   ]
  },
  {
   "cell_type": "code",
   "execution_count": 4,
   "metadata": {},
   "outputs": [
    {
     "name": "stdout",
     "output_type": "stream",
     "text": [
      "Number of article pages: 1000\n",
      "Connections between article pages: 17311\n",
      "Connections between user pages: 0\n",
      "Connections between users and articles: 159057\n"
     ]
    }
   ],
   "source": [
    "graph_u = graph.to_undirected()\n",
    "\n",
    "# filter for user names and article titles in the graph\n",
    "nodes_by_class = dict(graph.nodes(data=\"page_class\"))\n",
    "user_names = [node for node in nodes_by_class if nodes_by_class[node] == \"user\"]\n",
    "article_titles = [node for node in nodes_by_class if nodes_by_class[node] == \"article\"]\n",
    "\n",
    "users_graph = graph.subgraph(user_names)\n",
    "articles_graph = graph.subgraph(article_titles)\n",
    "print(f\"Number of article pages: {articles_graph.number_of_nodes()}\")\n",
    "print(f\"Connections between article pages: {articles_graph.number_of_edges()}\")\n",
    "print(f\"Connections between user pages: {users_graph.number_of_edges()}\")\n",
    "\n",
    "# returns true if the edge with endpoints u and v is between an article and a user node\n",
    "def isDifferentClass(graph, u, v):\n",
    "    ua = graph.nodes[u][\"page_class\"] == \"user\" and graph.nodes[v][\"page_class\"] == \"article\"\n",
    "    au = graph.nodes[u][\"page_class\"] == \"article\" and graph.nodes[v][\"page_class\"] == \"user\"\n",
    "    return ua or au\n",
    "\n",
    "print(f\"Connections between users and articles: {len([(u,v) for (u, v) in graph_u.edges() if isDifferentClass(graph_u, u, v)])}\")"
   ]
  },
  {
   "cell_type": "markdown",
   "metadata": {},
   "source": [
    "Below we plot the total degree distribuiton on a log-log scale. As we can see, our network is not scale-free but an inherent imbalance can be clearly seen. Additionally, the clustering of high-degree nodes skews the power-law fit. The number of edges between articles is much smaller than the number of edges between users and articles. This means that the differences in degrees are for the most part caused by the edges corresponding to user edits. Therefore we conclude that a a minority of the articles are edited by a majority of the users."
   ]
  },
  {
   "cell_type": "code",
   "execution_count": 16,
   "metadata": {},
   "outputs": [
    {
     "name": "stdout",
     "output_type": "stream",
     "text": [
      "Exponents:ess: 97%\n",
      "Alpha: 1.5138043908061927 sigma: 0.07928173872662739\n"
     ]
    },
    {
     "data": {
      "image/png": "[encoded data removed]",
      "text/plain": [
       "<Figure size 640x480 with 1 Axes>"
      ]
     },
     "metadata": {},
     "output_type": "display_data"
    }
   ],
   "source": [
    "# Plotting degree distributions\n",
    "\n",
    "\n",
    "def largest_weakly_connected_c(graph):\n",
    "     # extract largest weakly connected component\n",
    "    connected_subgraphs = [graph.subgraph(c).copy() for c in nx.weakly_connected_components(graph)]\n",
    "    max_conn_subgraph_index = np.argmax([len(graph) for graph in connected_subgraphs])\n",
    "    return connected_subgraphs[max_conn_subgraph_index]\n",
    "\n",
    "def fpl(x, a):\n",
    "    return x ** (-a)\n",
    "\n",
    "def render_degree_distributions_single(biggest_comp, colors, isDirected = True):\n",
    "    count_nodes = biggest_comp.number_of_nodes()\n",
    "    count_edges = biggest_comp.number_of_edges()\n",
    "\n",
    "    # Random Graph\n",
    "    avg_degree = np.fromiter(dict(biggest_comp.degree).values(), dtype=int).mean()\n",
    "    er_graph = nx.erdos_renyi_graph(count_nodes, avg_degree/(count_nodes - 1))\n",
    "    er_degrees = np.fromiter(dict(er_graph.degree).values(), dtype=int)\n",
    "    hist_er = np.histogram(er_degrees, bins=np.sort(np.unique(er_degrees)))\n",
    "\n",
    "    max_degree = max(dict(biggest_comp.degree).values())\n",
    "    range_x = range(1, max_degree + 1)\n",
    "\n",
    "    degrees = np.fromiter(dict(biggest_comp.degree).values(), dtype=int)\n",
    "    hist = np.histogram(degrees, bins=np.sort(np.unique(degrees)))\n",
    "\n",
    "    max_multiplicity = max(hist[0])\n",
    "\n",
    "    # Exponent\n",
    "    fit_exp = powerlaw.Fit(hist[0], verbose=False)\n",
    "    exp = fit_exp.alpha\n",
    "\n",
    "    print(\"Exponents:\")\n",
    "    print(\"Alpha: \" + str(exp) + \" sigma: \" + str(fit_exp.sigma))\n",
    "    rows = 1\n",
    "    data_dicts = [hist]\n",
    "    dists = [fpl(range_x, exp)]\n",
    "    titles = [\"Multiplicity of Degrees\"]\n",
    "    # Plots\n",
    "    fig, axs = plt.subplots(rows, 1)\n",
    "\n",
    "    for y, (hist, dist, title, color) in enumerate(zip(data_dicts, dists, titles, colors)):\n",
    "        counts, bins = hist\n",
    "        \n",
    "        axs.scatter(bins[:-1], counts, s=5, label=\"Data\", alpha=0.7)\n",
    "        axs.plot(range_x, dist * count_nodes, \"k-\", lw=1, label=\"Power Law fit\", color='red')\n",
    "        axs.set_yscale(\"log\")\n",
    "        axs.set_xscale(\"log\")\n",
    "        axs.set_title(f\"{title} [log-log]\")\n",
    "\n",
    "        #for x in range(2):\n",
    "        axs.set_xlim(1, max_degree)\n",
    "        axs.set_ylim(1, max_multiplicity)\n",
    "        axs.legend()\n",
    "\n",
    "    axs.set(xlabel=\"Degree\", ylabel=\"Multiplicity\")\n",
    "\n",
    "    fig.tight_layout()\n",
    "    return fig, axs\n",
    "\n",
    "colors = [\"cornflowerblue\", \"red\", \"green\"]\n",
    "render_degree_distributions_single(largest_weakly_connected_c(graph).to_undirected(), colors)\n",
    "plt.show()"
   ]
  },
  {
   "cell_type": "markdown",
   "metadata": {},
   "source": [
    "## Analysis of the articles subgraph"
   ]
  },
  {
   "cell_type": "markdown",
   "metadata": {},
   "source": [
    "First we analyse the subgraph constructed by only taking the article nodes from our initial graph and the edges between them. We investigate number of nodes, edges, average clustering coefficient and top 5 nodes by in and out degree."
   ]
  },
  {
   "cell_type": "code",
   "execution_count": 5,
   "metadata": {},
   "outputs": [
    {
     "name": "stdout",
     "output_type": "stream",
     "text": [
      "Properties of the articles subgraph:\n",
      "Number of nodes: 1000\n",
      "Number of edges: 17311\n",
      "Average clustering coefficient: 0.14285079028156\n",
      "Top 5 articles by in-degree:\n",
      "                   In Degree  Out Degree  Total Degree\n",
      "Node                                                  \n",
      "Human history            130           5           135\n",
      "Human                    103          15           118\n",
      "Europe                   101         128           229\n",
      "History of Europe         87           4            91\n",
      "Asia                      85          71           156\n",
      "Top 5 articles by out-degree:\n",
      "               In Degree  Out Degree  Total Degree\n",
      "Node                                              \n",
      "World War II          27         210           237\n",
      "Latin                 19         209           228\n",
      "India                 51         183           234\n",
      "United States         55         182           237\n",
      "Aristotle             35         171           206\n"
     ]
    }
   ],
   "source": [
    "article_references = pd.DataFrame(articles_graph.in_degree, columns=[\"Node\", \"In Degree\"]).set_index(\"Node\")\n",
    "article_references[\"Out Degree\"] = pd.Series(dict(articles_graph.out_degree).values(), index=dict(articles_graph.out_degree).keys())\n",
    "article_references[\"Total Degree\"] = pd.Series(dict(articles_graph.degree).values(), index=dict(articles_graph.degree).keys())\n",
    "print(\"Properties of the articles subgraph:\")\n",
    "print(f\"Number of nodes: {articles_graph.number_of_nodes()}\")\n",
    "print(f\"Number of edges: {articles_graph.number_of_edges()}\")\n",
    "print(f\"Average clustering coefficient: {nx.average_clustering(articles_graph)}\")\n",
    "print(\"Top 5 articles by in-degree:\")\n",
    "print(article_references.sort_values(\"In Degree\", ascending=False).head(5))\n",
    "print(\"Top 5 articles by out-degree:\")\n",
    "print(article_references.sort_values(\"Out Degree\", ascending=False).head(5))"
   ]
  },
  {
   "cell_type": "code",
   "execution_count": 6,
   "metadata": {},
   "outputs": [
    {
     "data": {
      "image/png": "[encoded data removed]",
      "text/plain": [
       "<Figure size 600x400 with 1 Axes>"
      ]
     },
     "metadata": {},
     "output_type": "display_data"
    }
   ],
   "source": [
    "fig, ax = plt.subplots(figsize=(6, 4))\n",
    "degree_counts = article_references[\"Total Degree\"].value_counts()\n",
    "ax.scatter(degree_counts.index, degree_counts.values, s=5, label='Data', color=\"red\")\n",
    "ax.set_yscale('log')\n",
    "ax.set_xscale('log')\n",
    "ax.set(xlabel=\"Degree\", ylabel=\"Multiplicity\")\n",
    "ax.set_title('Multiplicity of degrees in the articles subgraph [log-log]')\n",
    "plt.show()"
   ]
  },
  {
   "cell_type": "markdown",
   "metadata": {},
   "source": [
    "As we can see the articles subgraph is not scale-free. Next we perform community detection using the `louvain_community_detection` function which implements the [Louvain algorithm](https://sites.google.com/site/findcommunities/)."
   ]
  },
  {
   "cell_type": "code",
   "execution_count": 107,
   "metadata": {},
   "outputs": [],
   "source": [
    "def louvain_community_detection(graph):\n",
    "    graph_no_isolated = graph.copy()\n",
    "    graph_no_isolated.remove_nodes_from([node for node in graph.nodes if graph.degree(node) < 1])\n",
    "    louvain_partition_raw = nx.community.louvain_communities(graph_no_isolated)\n",
    "    print(\"Number of communities found: \", len(louvain_partition_raw))\n",
    "    print(\"Modularity of louvain partitions: \", nx.community.modularity(graph_no_isolated, louvain_partition_raw))\n",
    "    return louvain_partition_raw"
   ]
  },
  {
   "cell_type": "code",
   "execution_count": 153,
   "metadata": {},
   "outputs": [
    {
     "name": "stdout",
     "output_type": "stream",
     "text": [
      "Number of communities found:  21\n",
      "Modularity of louvain partitions:  0.2943964685825948\n"
     ]
    }
   ],
   "source": [
    "louvain_partition = louvain_community_detection(articles_graph)"
   ]
  },
  {
   "cell_type": "code",
   "execution_count": 154,
   "metadata": {},
   "outputs": [],
   "source": [
    "def plot_community_sizes(partition, ax, title):\n",
    "    sorted_size_communities = sorted([len(comm) for comm in partition])\n",
    "    ax.bar([x for x in range(1,len(partition)+1)], sorted_size_communities, color=\"cornflowerblue\")\n",
    "    ax.set_title(label=title)\n",
    "    ax.set_xlabel(xlabel=\"Index of communities\")\n",
    "    ax.set_ylabel(ylabel=\"Number of nodes\")\n",
    "    ax.set_xticks([x for x in range (1,len(partition)+1)])\n",
    "    max_c = sorted_size_communities[-1]\n",
    "    ax.set_ylim((0, max_c + 40))\n",
    "\n",
    "    rects = ax.patches\n",
    "    labels = [size for size in sorted_size_communities]\n",
    "\n",
    "    for rect, label in zip(rects, labels):\n",
    "        height = rect.get_height()\n",
    "        ax.text(rect.get_x() + rect.get_width() / 2, height + 5, label, ha=\"center\", va=\"bottom\")"
   ]
  },
  {
   "cell_type": "code",
   "execution_count": 155,
   "metadata": {},
   "outputs": [
    {
     "data": {
      "image/png": "[encoded data removed]",
      "text/plain": [
       "<Figure size 800x400 with 1 Axes>"
      ]
     },
     "metadata": {},
     "output_type": "display_data"
    }
   ],
   "source": [
    "fig, ax = plt.subplots(figsize=(8, 4))\n",
    "plot_community_sizes(louvain_partition, ax, \"Community size distribution for articles subgraph\")  \n",
    "plt.show()"
   ]
  },
  {
   "cell_type": "markdown",
   "metadata": {},
   "source": [
    "Throughout multiple runs, the algorithm detected from 15 to 20 communities with a modularity between 0.28 and 0.31 each time. The above figure shows the size distribution of the communities found during our last run of the algorithm. The low modularity and the excessively small or large communities could be a result of the wikipedia article subset, as the vital articles category aims to provide an overview with a diverse set of important topics."
   ]
  },
  {
   "cell_type": "markdown",
   "metadata": {},
   "source": [
    "## Shared user groups between article pairs\n",
    "\n",
    "We create a graph where the nodes are the articles and two nodes are connected by an edge of weight $w$ if exactly $w$ users contributed to both. Groups of shared articles are constructed using function `add_weighted_edges` by evaluating each article nodes' neighbourhoud in the source graph. The weighted edges corresponding to the shared editor groups is then added."
   ]
  },
  {
   "cell_type": "code",
   "execution_count": 6,
   "metadata": {},
   "outputs": [],
   "source": [
    "def add_weighted_edges(graph, source, node_type, frontier_type, frontier_key):\n",
    "    for node in list(graph.nodes):\n",
    "        related = {}\n",
    "        # get neighbouring nodes of the opposite type\n",
    "        frontier = set(n for n in source.neighbors(node) if source.nodes[n][\"page_class\"] == frontier_type)\n",
    "        graph.nodes[node][frontier_key] = len(frontier)\n",
    "        for f in frontier:\n",
    "            neighbor_nodes = list( n for n in source.neighbors(f) if source.nodes[n][\"page_class\"] == node_type)\n",
    "            for n in neighbor_nodes:\n",
    "                if n != node:\n",
    "                    if n in related:\n",
    "                        related[n] += 1\n",
    "                    else:\n",
    "                        related[n] = 1\n",
    "        graph.add_weighted_edges_from([(node, r, related[r]) for r in related])"
   ]
  },
  {
   "cell_type": "code",
   "execution_count": 7,
   "metadata": {},
   "outputs": [],
   "source": [
    "common_editors = nx.Graph()\n",
    "common_editors.add_nodes_from(article_titles)\n",
    "add_weighted_edges(common_editors, graph_u, \"article\", \"user\", \"editors_no\")"
   ]
  },
  {
   "cell_type": "markdown",
   "metadata": {},
   "source": [
    "We then perform analysis on the  resulting undirected weighted graph. As we can see, there has been a slight reordering in the top 5 articles by editor number. This is probably due to users that only contributed to one article being filtered out during construction of the graph and due to the lack of inter-article connections based on content links."
   ]
  },
  {
   "cell_type": "code",
   "execution_count": 8,
   "metadata": {},
   "outputs": [
    {
     "name": "stdout",
     "output_type": "stream",
     "text": [
      "Number of nodes: 1000\n",
      "Number of edges: 242107\n",
      "Number of connected components: 3\n",
      "Average clustering coefficient: 0.708347877885475\n",
      "Maximum editors: 2221\n",
      "Average editors: 159.057\n",
      "Median editors: 86.0\n",
      "\n",
      "Top 5 nodes by overall number of editors:\n"
     ]
    },
    {
     "data": {
      "text/html": [
       "<div>\n",
       "<style scoped>\n",
       "    .dataframe tbody tr th:only-of-type {\n",
       "        vertical-align: middle;\n",
       "    }\n",
       "\n",
       "    .dataframe tbody tr th {\n",
       "        vertical-align: top;\n",
       "    }\n",
       "\n",
       "    .dataframe thead th {\n",
       "        text-align: right;\n",
       "    }\n",
       "</style>\n",
       "<table border=\"1\" class=\"dataframe\">\n",
       "  <thead>\n",
       "    <tr style=\"text-align: right;\">\n",
       "      <th></th>\n",
       "      <th>Editors</th>\n",
       "    </tr>\n",
       "    <tr>\n",
       "      <th>Node</th>\n",
       "      <th></th>\n",
       "    </tr>\n",
       "  </thead>\n",
       "  <tbody>\n",
       "    <tr>\n",
       "      <th>United States</th>\n",
       "      <td>2221</td>\n",
       "    </tr>\n",
       "    <tr>\n",
       "      <th>Jesus</th>\n",
       "      <td>1879</td>\n",
       "    </tr>\n",
       "    <tr>\n",
       "      <th>Climate change</th>\n",
       "      <td>1768</td>\n",
       "    </tr>\n",
       "    <tr>\n",
       "      <th>Israel</th>\n",
       "      <td>1612</td>\n",
       "    </tr>\n",
       "    <tr>\n",
       "      <th>India</th>\n",
       "      <td>1601</td>\n",
       "    </tr>\n",
       "  </tbody>\n",
       "</table>\n",
       "</div>"
      ],
      "text/plain": [
       "                Editors\n",
       "Node                   \n",
       "United States      2221\n",
       "Jesus              1879\n",
       "Climate change     1768\n",
       "Israel             1612\n",
       "India              1601"
      ]
     },
     "execution_count": 8,
     "metadata": {},
     "output_type": "execute_result"
    }
   ],
   "source": [
    "print(f\"Number of nodes: {common_editors.number_of_nodes()}\")\n",
    "print(f\"Number of edges: {common_editors.number_of_edges()}\")\n",
    "print(f\"Number of connected components: {nx.number_connected_components(common_editors)}\")\n",
    "print(f\"Average clustering coefficient: {nx.average_clustering(common_editors)}\")\n",
    "edge_weight_dict = nx.get_edge_attributes(common_editors, \"weight\")\n",
    "editors_dict = common_editors.nodes(data=\"editors_no\")\n",
    "editors_view = pd.DataFrame(editors_dict, columns=[\"Node\", \"Editors\"]).set_index(\"Node\")\n",
    "print(f\"Maximum editors: {editors_view.Editors.max()}\")\n",
    "print(f\"Average editors: {editors_view.Editors.mean()}\")\n",
    "print(f\"Median editors: {editors_view.Editors.median()}\")\n",
    "\n",
    "print(\"\\nTop 5 nodes by overall number of editors:\")\n",
    "editors_view.sort_values([\"Editors\"], ascending=False).head(5)\n"
   ]
  },
  {
   "cell_type": "code",
   "execution_count": 18,
   "metadata": {},
   "outputs": [
    {
     "name": "stdout",
     "output_type": "stream",
     "text": [
      "Maximum edge weight: 221\n",
      "Average edge weight: 3.3285695993920044\n",
      "Median edge weight: 2.0\n",
      "\n",
      "Top 10 node pairs by overall number of shared editors:\n"
     ]
    },
    {
     "data": {
      "text/html": [
       "<div>\n",
       "<style scoped>\n",
       "    .dataframe tbody tr th:only-of-type {\n",
       "        vertical-align: middle;\n",
       "    }\n",
       "\n",
       "    .dataframe tbody tr th {\n",
       "        vertical-align: top;\n",
       "    }\n",
       "\n",
       "    .dataframe thead th {\n",
       "        text-align: right;\n",
       "    }\n",
       "</style>\n",
       "<table border=\"1\" class=\"dataframe\">\n",
       "  <thead>\n",
       "    <tr style=\"text-align: right;\">\n",
       "      <th></th>\n",
       "      <th>Weight</th>\n",
       "      <th>Editors A</th>\n",
       "      <th>Editors B</th>\n",
       "    </tr>\n",
       "    <tr>\n",
       "      <th>Edge</th>\n",
       "      <th></th>\n",
       "      <th></th>\n",
       "      <th></th>\n",
       "    </tr>\n",
       "  </thead>\n",
       "  <tbody>\n",
       "    <tr>\n",
       "      <th>Christianity, Jesus</th>\n",
       "      <td>221</td>\n",
       "      <td>985</td>\n",
       "      <td>1879</td>\n",
       "    </tr>\n",
       "    <tr>\n",
       "      <th>Israel, Jerusalem</th>\n",
       "      <td>206</td>\n",
       "      <td>1612</td>\n",
       "      <td>637</td>\n",
       "    </tr>\n",
       "    <tr>\n",
       "      <th>Islam, Muhammad</th>\n",
       "      <td>203</td>\n",
       "      <td>1127</td>\n",
       "      <td>1396</td>\n",
       "    </tr>\n",
       "    <tr>\n",
       "      <th>Jesus, United States</th>\n",
       "      <td>178</td>\n",
       "      <td>1879</td>\n",
       "      <td>2221</td>\n",
       "    </tr>\n",
       "    <tr>\n",
       "      <th>Jesus, Muhammad</th>\n",
       "      <td>176</td>\n",
       "      <td>1879</td>\n",
       "      <td>1396</td>\n",
       "    </tr>\n",
       "    <tr>\n",
       "      <th>China, Taiwan</th>\n",
       "      <td>174</td>\n",
       "      <td>842</td>\n",
       "      <td>937</td>\n",
       "    </tr>\n",
       "    <tr>\n",
       "      <th>Adolf Hitler, Jesus</th>\n",
       "      <td>168</td>\n",
       "      <td>1535</td>\n",
       "      <td>1879</td>\n",
       "    </tr>\n",
       "    <tr>\n",
       "      <th>United Kingdom, United States</th>\n",
       "      <td>163</td>\n",
       "      <td>1188</td>\n",
       "      <td>2221</td>\n",
       "    </tr>\n",
       "    <tr>\n",
       "      <th>Israel, United States</th>\n",
       "      <td>147</td>\n",
       "      <td>1612</td>\n",
       "      <td>2221</td>\n",
       "    </tr>\n",
       "    <tr>\n",
       "      <th>India, Pakistan</th>\n",
       "      <td>144</td>\n",
       "      <td>1601</td>\n",
       "      <td>749</td>\n",
       "    </tr>\n",
       "  </tbody>\n",
       "</table>\n",
       "</div>"
      ],
      "text/plain": [
       "                               Weight  Editors A  Editors B\n",
       "Edge                                                       \n",
       "Christianity, Jesus               221        985       1879\n",
       "Israel, Jerusalem                 206       1612        637\n",
       "Islam, Muhammad                   203       1127       1396\n",
       "Jesus, United States              178       1879       2221\n",
       "Jesus, Muhammad                   176       1879       1396\n",
       "China, Taiwan                     174        842        937\n",
       "Adolf Hitler, Jesus               168       1535       1879\n",
       "United Kingdom, United States     163       1188       2221\n",
       "Israel, United States             147       1612       2221\n",
       "India, Pakistan                   144       1601        749"
      ]
     },
     "execution_count": 18,
     "metadata": {},
     "output_type": "execute_result"
    }
   ],
   "source": [
    "degree_a = [editors_dict[edge[0]] for edge in edge_weight_dict.keys()]\n",
    "degree_b = [editors_dict[edge[1]] for edge in edge_weight_dict.keys()]\n",
    "edges = [f\"{u}, {v}\" for (u, v) in edge_weight_dict.keys()]\n",
    "shared_user_df = pd.DataFrame({\"Edge\": edges, \"Weight\": edge_weight_dict.values(), \"Editors A\": degree_a,\n",
    "                              \"Editors B\": degree_b}).set_index(\"Edge\")\n",
    "print(f\"Maximum edge weight: {shared_user_df.Weight.max()}\")\n",
    "print(f\"Average edge weight: {shared_user_df.Weight.mean()}\")\n",
    "print(f\"Median edge weight: {shared_user_df.Weight.median()}\")\n",
    "print(\"\\nTop 10 node pairs by overall number of shared editors:\")\n",
    "most_raw_connected = shared_user_df.sort_values([\"Weight\"], ascending=False).head(10)\n",
    "most_raw_connected"
   ]
  },
  {
   "cell_type": "markdown",
   "metadata": {},
   "source": [
    "Above we see metrics of the weights assigned to edges as the top 10 article pairs by shared editor count. While there are a few surprising connections (e.g. Adolf Hitler and Jesus), most of the node pairs we see here are semantically related. We also note that these topics also have a high editor count individually which contributes to them being part of the top 10.\n",
    "\n",
    "Now we will investigate what percentage of their editors different articles share with others. We will construct a directed graph this time, and compute a relative for edge $a \\rightarrow b$ in the following way:\n",
    "$$w_{rel} = \\frac{w}{editors(a)} \\cdot 100$$\n",
    "where $w$ is the number of shared editors between $a$ and $b$ and $editors(a)$ is the corresponding number of editors for article $a$. We can compute the relative weights for all edges directly using `shared_user_df`. The 100 multiplier was added to give a percentage view of the results."
   ]
  },
  {
   "cell_type": "code",
   "execution_count": 30,
   "metadata": {},
   "outputs": [
    {
     "name": "stdout",
     "output_type": "stream",
     "text": [
      "Max edge weight: 100.0\n",
      "Average edge weight: 2.2928565414885926\n",
      "Median edge weight: 1.5965939329430547\n",
      "\n",
      "Top 10 node pairs by ratio of shared editors:\n"
     ]
    },
    {
     "data": {
      "text/html": [
       "<div>\n",
       "<style scoped>\n",
       "    .dataframe tbody tr th:only-of-type {\n",
       "        vertical-align: middle;\n",
       "    }\n",
       "\n",
       "    .dataframe tbody tr th {\n",
       "        vertical-align: top;\n",
       "    }\n",
       "\n",
       "    .dataframe thead th {\n",
       "        text-align: right;\n",
       "    }\n",
       "</style>\n",
       "<table border=\"1\" class=\"dataframe\">\n",
       "  <thead>\n",
       "    <tr style=\"text-align: right;\">\n",
       "      <th></th>\n",
       "      <th>Weight</th>\n",
       "      <th>Editors A</th>\n",
       "      <th>Editors B</th>\n",
       "      <th>Relative Weight (%)</th>\n",
       "    </tr>\n",
       "    <tr>\n",
       "      <th>Edge</th>\n",
       "      <th></th>\n",
       "      <th></th>\n",
       "      <th></th>\n",
       "      <th></th>\n",
       "    </tr>\n",
       "  </thead>\n",
       "  <tbody>\n",
       "    <tr>\n",
       "      <th>History of India, India</th>\n",
       "      <td>83</td>\n",
       "      <td>205</td>\n",
       "      <td>1601</td>\n",
       "      <td>40.487805</td>\n",
       "    </tr>\n",
       "    <tr>\n",
       "      <th>Delhi, India</th>\n",
       "      <td>72</td>\n",
       "      <td>181</td>\n",
       "      <td>1601</td>\n",
       "      <td>39.779006</td>\n",
       "    </tr>\n",
       "    <tr>\n",
       "      <th>Post-classical history, United States</th>\n",
       "      <td>11</td>\n",
       "      <td>28</td>\n",
       "      <td>2221</td>\n",
       "      <td>39.285714</td>\n",
       "    </tr>\n",
       "    <tr>\n",
       "      <th>Nth root, Pi</th>\n",
       "      <td>12</td>\n",
       "      <td>31</td>\n",
       "      <td>587</td>\n",
       "      <td>38.709677</td>\n",
       "    </tr>\n",
       "    <tr>\n",
       "      <th>Visual arts, Art</th>\n",
       "      <td>12</td>\n",
       "      <td>32</td>\n",
       "      <td>165</td>\n",
       "      <td>37.500000</td>\n",
       "    </tr>\n",
       "    <tr>\n",
       "      <th>Post-classical history, Middle Ages</th>\n",
       "      <td>10</td>\n",
       "      <td>28</td>\n",
       "      <td>206</td>\n",
       "      <td>35.714286</td>\n",
       "    </tr>\n",
       "    <tr>\n",
       "      <th>Deity, God</th>\n",
       "      <td>18</td>\n",
       "      <td>51</td>\n",
       "      <td>642</td>\n",
       "      <td>35.294118</td>\n",
       "    </tr>\n",
       "    <tr>\n",
       "      <th>Climate, Climate change</th>\n",
       "      <td>14</td>\n",
       "      <td>40</td>\n",
       "      <td>1768</td>\n",
       "      <td>35.000000</td>\n",
       "    </tr>\n",
       "    <tr>\n",
       "      <th>Bhagavad Gita, Hinduism</th>\n",
       "      <td>44</td>\n",
       "      <td>126</td>\n",
       "      <td>554</td>\n",
       "      <td>34.920635</td>\n",
       "    </tr>\n",
       "    <tr>\n",
       "      <th>Mahayana, Theravada</th>\n",
       "      <td>16</td>\n",
       "      <td>46</td>\n",
       "      <td>62</td>\n",
       "      <td>34.782609</td>\n",
       "    </tr>\n",
       "  </tbody>\n",
       "</table>\n",
       "</div>"
      ],
      "text/plain": [
       "                                       Weight  Editors A  Editors B  \\\n",
       "Edge                                                                  \n",
       "History of India, India                    83        205       1601   \n",
       "Delhi, India                               72        181       1601   \n",
       "Post-classical history, United States      11         28       2221   \n",
       "Nth root, Pi                               12         31        587   \n",
       "Visual arts, Art                           12         32        165   \n",
       "Post-classical history, Middle Ages        10         28        206   \n",
       "Deity, God                                 18         51        642   \n",
       "Climate, Climate change                    14         40       1768   \n",
       "Bhagavad Gita, Hinduism                    44        126        554   \n",
       "Mahayana, Theravada                        16         46         62   \n",
       "\n",
       "                                       Relative Weight (%)  \n",
       "Edge                                                        \n",
       "History of India, India                          40.487805  \n",
       "Delhi, India                                     39.779006  \n",
       "Post-classical history, United States            39.285714  \n",
       "Nth root, Pi                                     38.709677  \n",
       "Visual arts, Art                                 37.500000  \n",
       "Post-classical history, Middle Ages              35.714286  \n",
       "Deity, God                                       35.294118  \n",
       "Climate, Climate change                          35.000000  \n",
       "Bhagavad Gita, Hinduism                          34.920635  \n",
       "Mahayana, Theravada                              34.782609  "
      ]
     },
     "execution_count": 30,
     "metadata": {},
     "output_type": "execute_result"
    }
   ],
   "source": [
    "shared_user_df[\"Relative Weight (%)\"] = shared_user_df.Weight / shared_user_df[\"Editors A\"] * 100\n",
    "desc_rel_weight = shared_user_df.sort_values([\"Relative Weight (%)\"], ascending=False)\n",
    "print(f\"Max edge weight: {shared_user_df['Relative Weight (%)'].max()}\")\n",
    "print(f\"Average edge weight: {shared_user_df['Relative Weight (%)'].mean()}\")\n",
    "print(f\"Median edge weight: {shared_user_df['Relative Weight (%)'].median()}\")\n",
    "print(\"\\nTop 10 node pairs by ratio of shared editors:\")\n",
    "desc_rel_weight[(desc_rel_weight[\"Editors A\"] > 20) & (desc_rel_weight[\"Editors B\"] > 20)].head(10)"
   ]
  },
  {
   "cell_type": "markdown",
   "metadata": {},
   "source": [
    "As we can see, the article pairs ranked higher by relative weight have a stronger semantic connection. The maximal relative weight for an edge is 1.0. This is because some articles have only one editor in our subset and as soon as they edit another article, the edge with weight 1.0 is created. To avoid overrepresenting these types of connections we chose to only evaluate connections of the articles with at least 20 editors. \n",
    "\n",
    "As we can see above, the relative weight metric uncovers strong connections between more niche topics as well (e.g between Mahayana and Theravada Buddhism). Now let's see the shared user percentages for the highest ranking edges by overall number of editors."
   ]
  },
  {
   "cell_type": "code",
   "execution_count": 27,
   "metadata": {},
   "outputs": [
    {
     "name": "stdout",
     "output_type": "stream",
     "text": [
      "Number of edges with higher weights: 312\n",
      "Below edges are in the top 2.1%\n",
      "\n",
      "Relative shared editors for the top 10 edges by shared editor number:\n"
     ]
    },
    {
     "data": {
      "text/html": [
       "<div>\n",
       "<style scoped>\n",
       "    .dataframe tbody tr th:only-of-type {\n",
       "        vertical-align: middle;\n",
       "    }\n",
       "\n",
       "    .dataframe tbody tr th {\n",
       "        vertical-align: top;\n",
       "    }\n",
       "\n",
       "    .dataframe thead th {\n",
       "        text-align: right;\n",
       "    }\n",
       "</style>\n",
       "<table border=\"1\" class=\"dataframe\">\n",
       "  <thead>\n",
       "    <tr style=\"text-align: right;\">\n",
       "      <th></th>\n",
       "      <th>Weight</th>\n",
       "      <th>Editors A</th>\n",
       "      <th>Editors B</th>\n",
       "      <th>Relative Weight (%)</th>\n",
       "    </tr>\n",
       "    <tr>\n",
       "      <th>Edge</th>\n",
       "      <th></th>\n",
       "      <th></th>\n",
       "      <th></th>\n",
       "      <th></th>\n",
       "    </tr>\n",
       "  </thead>\n",
       "  <tbody>\n",
       "    <tr>\n",
       "      <th>Christianity, Jesus</th>\n",
       "      <td>221</td>\n",
       "      <td>985</td>\n",
       "      <td>1879</td>\n",
       "      <td>22.436548</td>\n",
       "    </tr>\n",
       "    <tr>\n",
       "      <th>Israel, Jerusalem</th>\n",
       "      <td>206</td>\n",
       "      <td>1612</td>\n",
       "      <td>637</td>\n",
       "      <td>12.779156</td>\n",
       "    </tr>\n",
       "    <tr>\n",
       "      <th>Islam, Muhammad</th>\n",
       "      <td>203</td>\n",
       "      <td>1127</td>\n",
       "      <td>1396</td>\n",
       "      <td>18.012422</td>\n",
       "    </tr>\n",
       "    <tr>\n",
       "      <th>Jesus, United States</th>\n",
       "      <td>178</td>\n",
       "      <td>1879</td>\n",
       "      <td>2221</td>\n",
       "      <td>9.473124</td>\n",
       "    </tr>\n",
       "    <tr>\n",
       "      <th>Jesus, Muhammad</th>\n",
       "      <td>176</td>\n",
       "      <td>1879</td>\n",
       "      <td>1396</td>\n",
       "      <td>9.366684</td>\n",
       "    </tr>\n",
       "    <tr>\n",
       "      <th>China, Taiwan</th>\n",
       "      <td>174</td>\n",
       "      <td>842</td>\n",
       "      <td>937</td>\n",
       "      <td>20.665083</td>\n",
       "    </tr>\n",
       "    <tr>\n",
       "      <th>Adolf Hitler, Jesus</th>\n",
       "      <td>168</td>\n",
       "      <td>1535</td>\n",
       "      <td>1879</td>\n",
       "      <td>10.944625</td>\n",
       "    </tr>\n",
       "    <tr>\n",
       "      <th>United Kingdom, United States</th>\n",
       "      <td>163</td>\n",
       "      <td>1188</td>\n",
       "      <td>2221</td>\n",
       "      <td>13.720539</td>\n",
       "    </tr>\n",
       "    <tr>\n",
       "      <th>Israel, United States</th>\n",
       "      <td>147</td>\n",
       "      <td>1612</td>\n",
       "      <td>2221</td>\n",
       "      <td>9.119107</td>\n",
       "    </tr>\n",
       "    <tr>\n",
       "      <th>India, Pakistan</th>\n",
       "      <td>144</td>\n",
       "      <td>1601</td>\n",
       "      <td>749</td>\n",
       "      <td>8.994379</td>\n",
       "    </tr>\n",
       "  </tbody>\n",
       "</table>\n",
       "</div>"
      ],
      "text/plain": [
       "                               Weight  Editors A  Editors B  \\\n",
       "Edge                                                          \n",
       "Christianity, Jesus               221        985       1879   \n",
       "Israel, Jerusalem                 206       1612        637   \n",
       "Islam, Muhammad                   203       1127       1396   \n",
       "Jesus, United States              178       1879       2221   \n",
       "Jesus, Muhammad                   176       1879       1396   \n",
       "China, Taiwan                     174        842        937   \n",
       "Adolf Hitler, Jesus               168       1535       1879   \n",
       "United Kingdom, United States     163       1188       2221   \n",
       "Israel, United States             147       1612       2221   \n",
       "India, Pakistan                   144       1601        749   \n",
       "\n",
       "                               Relative Weight (%)  \n",
       "Edge                                                \n",
       "Christianity, Jesus                      22.436548  \n",
       "Israel, Jerusalem                        12.779156  \n",
       "Islam, Muhammad                          18.012422  \n",
       "Jesus, United States                      9.473124  \n",
       "Jesus, Muhammad                           9.366684  \n",
       "China, Taiwan                            20.665083  \n",
       "Adolf Hitler, Jesus                      10.944625  \n",
       "United Kingdom, United States            13.720539  \n",
       "Israel, United States                     9.119107  \n",
       "India, Pakistan                           8.994379  "
      ]
     },
     "execution_count": 27,
     "metadata": {},
     "output_type": "execute_result"
    }
   ],
   "source": [
    "top_by_count = shared_user_df.loc[most_raw_connected.index]\n",
    "no_higher = len(shared_user_df.loc[shared_user_df['Relative Weight (%)'] > top_by_count['Relative Weight (%)'].max()])\n",
    "all_above_min = len(shared_user_df.loc[shared_user_df['Relative Weight (%)'] >= top_by_count['Relative Weight (%)'].min()])\n",
    "print(f\"Number of edges with higher weights: {no_higher}\")\n",
    "print(f\"Below edges are in the top {all_above_min / len(shared_user_df) * 100:.2}%\")\n",
    "print(\"\\nRelative shared editors for the top 10 edges by shared editor number:\")\n",
    "top_by_count"
   ]
  },
  {
   "cell_type": "markdown",
   "metadata": {},
   "source": [
    "This shows that the most edited articles are still ranked very high overall. Now let's see the 10 lowest rankied topics."
   ]
  },
  {
   "cell_type": "code",
   "execution_count": 43,
   "metadata": {},
   "outputs": [
    {
     "name": "stdout",
     "output_type": "stream",
     "text": [
      "Bottom 10 node pairs by percentage of shared editors:\n"
     ]
    },
    {
     "data": {
      "text/html": [
       "<div>\n",
       "<style scoped>\n",
       "    .dataframe tbody tr th:only-of-type {\n",
       "        vertical-align: middle;\n",
       "    }\n",
       "\n",
       "    .dataframe tbody tr th {\n",
       "        vertical-align: top;\n",
       "    }\n",
       "\n",
       "    .dataframe thead th {\n",
       "        text-align: right;\n",
       "    }\n",
       "</style>\n",
       "<table border=\"1\" class=\"dataframe\">\n",
       "  <thead>\n",
       "    <tr style=\"text-align: right;\">\n",
       "      <th></th>\n",
       "      <th>Weight</th>\n",
       "      <th>Editors A</th>\n",
       "      <th>Editors B</th>\n",
       "      <th>Relative Weight (%)</th>\n",
       "    </tr>\n",
       "    <tr>\n",
       "      <th>Edge</th>\n",
       "      <th></th>\n",
       "      <th></th>\n",
       "      <th></th>\n",
       "      <th></th>\n",
       "    </tr>\n",
       "  </thead>\n",
       "  <tbody>\n",
       "    <tr>\n",
       "      <th>United States, Weapon</th>\n",
       "      <td>1</td>\n",
       "      <td>2221</td>\n",
       "      <td>26</td>\n",
       "      <td>0.045025</td>\n",
       "    </tr>\n",
       "    <tr>\n",
       "      <th>United States, Wave</th>\n",
       "      <td>1</td>\n",
       "      <td>2221</td>\n",
       "      <td>46</td>\n",
       "      <td>0.045025</td>\n",
       "    </tr>\n",
       "    <tr>\n",
       "      <th>Jesus, Word</th>\n",
       "      <td>1</td>\n",
       "      <td>1879</td>\n",
       "      <td>24</td>\n",
       "      <td>0.053220</td>\n",
       "    </tr>\n",
       "    <tr>\n",
       "      <th>Jesus, Suffrage</th>\n",
       "      <td>1</td>\n",
       "      <td>1879</td>\n",
       "      <td>21</td>\n",
       "      <td>0.053220</td>\n",
       "    </tr>\n",
       "    <tr>\n",
       "      <th>Jesus, Navigation</th>\n",
       "      <td>1</td>\n",
       "      <td>1879</td>\n",
       "      <td>20</td>\n",
       "      <td>0.053220</td>\n",
       "    </tr>\n",
       "    <tr>\n",
       "      <th>Jesus, Lipid</th>\n",
       "      <td>1</td>\n",
       "      <td>1879</td>\n",
       "      <td>31</td>\n",
       "      <td>0.053220</td>\n",
       "    </tr>\n",
       "    <tr>\n",
       "      <th>Jesus, Motion</th>\n",
       "      <td>1</td>\n",
       "      <td>1879</td>\n",
       "      <td>28</td>\n",
       "      <td>0.053220</td>\n",
       "    </tr>\n",
       "    <tr>\n",
       "      <th>Jesus, Rocky Mountains</th>\n",
       "      <td>1</td>\n",
       "      <td>1879</td>\n",
       "      <td>43</td>\n",
       "      <td>0.053220</td>\n",
       "    </tr>\n",
       "    <tr>\n",
       "      <th>Jesus, Realism (arts)</th>\n",
       "      <td>1</td>\n",
       "      <td>1879</td>\n",
       "      <td>9</td>\n",
       "      <td>0.053220</td>\n",
       "    </tr>\n",
       "    <tr>\n",
       "      <th>Jesus, Organic chemistry</th>\n",
       "      <td>1</td>\n",
       "      <td>1879</td>\n",
       "      <td>30</td>\n",
       "      <td>0.053220</td>\n",
       "    </tr>\n",
       "  </tbody>\n",
       "</table>\n",
       "</div>"
      ],
      "text/plain": [
       "                          Weight  Editors A  Editors B  Relative Weight (%)\n",
       "Edge                                                                       \n",
       "United States, Weapon          1       2221         26             0.045025\n",
       "United States, Wave            1       2221         46             0.045025\n",
       "Jesus, Word                    1       1879         24             0.053220\n",
       "Jesus, Suffrage                1       1879         21             0.053220\n",
       "Jesus, Navigation              1       1879         20             0.053220\n",
       "Jesus, Lipid                   1       1879         31             0.053220\n",
       "Jesus, Motion                  1       1879         28             0.053220\n",
       "Jesus, Rocky Mountains         1       1879         43             0.053220\n",
       "Jesus, Realism (arts)          1       1879          9             0.053220\n",
       "Jesus, Organic chemistry       1       1879         30             0.053220"
      ]
     },
     "execution_count": 43,
     "metadata": {},
     "output_type": "execute_result"
    }
   ],
   "source": [
    "print(\"Bottom 10 node pairs by percentage of shared editors:\")\n",
    "asc_rel_weight = shared_user_df.sort_values([\"Relative Weight (%)\"], ascending=True)\n",
    "asc_rel_weight.head(10)"
   ]
  },
  {
   "cell_type": "code",
   "execution_count": 51,
   "metadata": {},
   "outputs": [
    {
     "name": "stdout",
     "output_type": "stream",
     "text": [
      "United States article contains link to Weapon:  True\n",
      "Weapon article contains link to United States:  True\n"
     ]
    }
   ],
   "source": [
    "print(\"United States article contains link to Weapon: \", \"United States\" in list(articles_graph.neighbors(\"Weapon\")))\n",
    "print(\"Weapon article contains link to United States: \", \"Weapon\" in list(articles_graph.neighbors(\"United States\")))"
   ]
  },
  {
   "cell_type": "markdown",
   "metadata": {},
   "source": [
    "The low weight of the edge between the United States and Weapon articles is surprising especially because both of these articles link to each other in their page content. \n",
    "\n",
    "Most of the other results make sense as the article titles are not semantically related to each other.\n",
    "\n",
    "Overall by focusing on user collaboration, we see a different article network structure emerging to the one constructed through page content links. Let us investigate this through community detection using the [Louvain algorithm](https://sites.google.com/site/findcommunities/)."
   ]
  },
  {
   "cell_type": "code",
   "execution_count": 110,
   "metadata": {},
   "outputs": [
    {
     "name": "stdout",
     "output_type": "stream",
     "text": [
      "Number of nodes: 1000\n",
      "Number of edges: 242107\n",
      "Average clustering coefficient: 0.708347877885475\n"
     ]
    }
   ],
   "source": [
    "common_editors_rel = nx.Graph()\n",
    "common_editors_rel.add_nodes_from(article_titles)\n",
    "\n",
    "s = shared_user_df[\"Relative Weight (%)\"]\n",
    "edge_endpoints = np.array([edge_str.split(\", \") for edge_str in s.index])\n",
    "rel_weighted_edges = list(zip(edge_endpoints[:,0], edge_endpoints[:,1], s))\n",
    "common_editors_rel.add_weighted_edges_from(rel_weighted_edges)\n",
    "\n",
    "print(f\"Number of nodes: {common_editors_rel.number_of_nodes()}\")\n",
    "print(f\"Number of edges: {common_editors_rel.number_of_edges()}\")\n",
    "print(f\"Average clustering coefficient: {nx.average_clustering(common_editors_rel)}\")"
   ]
  },
  {
   "cell_type": "code",
   "execution_count": 191,
   "metadata": {},
   "outputs": [
    {
     "name": "stdout",
     "output_type": "stream",
     "text": [
      "Weights are raw shared editor numbers:\n",
      "Number of communities found:  6\n",
      "Modularity of louvain partitions:  0.14304896102858722\n",
      "---------------------------------\n",
      "Weights are relative shared editor numbers:\n",
      "Number of communities found:  5\n",
      "Modularity of louvain partitions:  0.14547546653848578\n"
     ]
    }
   ],
   "source": [
    "print(\"Weights are raw shared editor numbers:\")\n",
    "louvain_partition_raw = louvain_community_detection(common_editors)\n",
    "\n",
    "print(\"---------------------------------\")\n",
    "\n",
    "print(\"Weights are relative shared editor numbers:\")\n",
    "louvain_partition_rel = louvain_community_detection(common_editors_rel)"
   ]
  },
  {
   "cell_type": "code",
   "execution_count": 189,
   "metadata": {},
   "outputs": [
    {
     "data": {
      "image/png": "[encoded data removed]",
      "text/plain": [
       "<Figure size 1400x600 with 2 Axes>"
      ]
     },
     "metadata": {},
     "output_type": "display_data"
    }
   ],
   "source": [
    "titles = [\"Community size distribution for shared editors graph (raw weights)\", \"Community size distribution for shared editors graph (relative weights)\"]\n",
    "partitions = [louvain_partition_raw, louvain_partition_rel]\n",
    "fig, ax = plt.subplots(1, 2, figsize=(14, 6), layout=\"constrained\")\n",
    "for idx, (title, partition) in enumerate(zip(titles, partitions)):\n",
    "    plot_community_sizes(partition, ax[idx], title)\n",
    "plt.show()\n"
   ]
  },
  {
   "cell_type": "markdown",
   "metadata": {},
   "source": [
    "These results suggest that user preferences usually do not align to the groupings based on article topics. While we see users with specific expertise mainly contributing to a small niche of articles; the more popular ond/or controversial topics have a major appeal to all users. \n",
    "This difference in connectedness is also reflected by the difference in the average clustering coefficient of the graphs. Two arbirarily chosen nodes are much more likely to have an edge between them in the shared editors graph than the article subgraph.\n",
    "\n",
    "The Louvain algorithm identified fewer communities in the shared editors graph than for the articles subgraph. This further emphasises the differences in strucure between the two, even though neither partition had a high modularity. \n",
    "\n",
    "These differences may contribute to diverse discussions on article talk pages, particularly for popular topics where there are likely more conflicts."
   ]
  },
  {
   "cell_type": "markdown",
   "metadata": {},
   "source": [
    "## Comment sentiment analysis\n",
    "\n",
    "Because comment extraction takes a long time and consumes a lot of ram, we first load a pickle containing previously extracted comments from the scraped talk pages. For extraction we used the package python-mwchatter. Instruction for how to use the package can be found in the library's repository <https://github.com/mediawiki-utilities/python-mwchatter>.\n",
    "\n",
    "Installation instructions: \n",
    "\n",
    "1. clone ```git clone https://github.com/mediawiki-utilities/python-mwchatter.git``` or download the repo as a zip file through github\n",
    "2. Best to create & activate a new venv in the folder\n",
    "5. Copy the folder `<python-mwchatter-root-folder>/wikichatter` into the folder `<venv-root-folder>/lib/<python-dist-folder>/site-packages`\n",
    "3. install dependencies mwchatter dependencies"
   ]
  },
  {
   "cell_type": "code",
   "execution_count": 4,
   "metadata": {},
   "outputs": [],
   "source": [
    "import pickle\n",
    "\n",
    "with open(\"./parsing_worker_results.pkl\", \"rb\") as file:\n",
    "    worker_results = pickle.load(file)"
   ]
  },
  {
   "cell_type": "markdown",
   "metadata": {},
   "source": [
    "Because extraction took so long, we used python a multiprocessing pool to speed up computation. For this, we had to chunk our list of comments into sublists so they could be worked on efficiently in a python multiprocessing pool <https://docs.python.org/3/library/multiprocessing.html>.\n",
    "\n",
    "Because our extracted comments are in the datastructure provided by wikichatter (datastructure documentation see <https://github.com/mediawiki-utilities/python-mwchatter>), we need to parse it into a datastructure more useful for us to work with."
   ]
  },
  {
   "cell_type": "code",
   "execution_count": 5,
   "metadata": {},
   "outputs": [],
   "source": [
    "def append_or_create_list_in_dict(dict, key, value):\n",
    "    if(key not in dict):\n",
    "        dict[key] = []\n",
    "    \n",
    "    dict[key].append(value)\n",
    "\n",
    "def append_comment_to_talkpage(page_dict, filepath, comment):\n",
    "    '''Append a comment to a list of comments on that talk page. Will collect all comments for a specific talk\n",
    "    page, including comments archived talk pages'''\n",
    "    filepath_parts = filepath.split('/')\n",
    "\n",
    "    if(len(filepath_parts) > 2):\n",
    "        append_or_create_list_in_dict(page_dict, filepath_parts[1], comment)\n",
    "\n",
    "    else:\n",
    "        filename_parts = filepath_parts[1].split('.')\n",
    "        append_or_create_list_in_dict(page_dict,filename_parts[0], comment)\n",
    "\n",
    "def parse_comment(comment):\n",
    "    \"\"\"\n",
    "    Parse a single comment and return a tuple in this format: (author, comment words)\n",
    "    \"\"\"\n",
    "    author = comment.get(\"author\")\n",
    "    result = ''\n",
    "    # result = []\n",
    "    for text in comment[\"text_blocks\"]:\n",
    "        # result += tokenize_custom(text)\n",
    "        result += ' ' +text\n",
    "    \n",
    "    return (author, result)\n",
    "\n",
    "def parse_comment_subcomment(comment):\n",
    "        \"\"\"Parse a single comment, and then recursively parse all answers to that comment.\n",
    "        Yields a generator with tuples in this format: (author, comment words)\"\"\"\n",
    "        yield parse_comment(comment)\n",
    "        if comment.get(\"comments\"):\n",
    "            for subcomment in comment.get(\"comments\"):\n",
    "                yield from parse_comment_subcomment(subcomment)\n",
    "\n",
    "author_dict = {}\n",
    "list_for_df = []\n",
    "page_dict = {}\n",
    "\n",
    "# iterate over the results by the workers of multiprocessing pool\n",
    "# and transform the output \n",
    "#   into a dictionary with the users as keys and their comments as text for per-author sentiment analysis\n",
    "#   and a dictionary with the talk page name as key and all comments on that talk page as values\n",
    "#   and a list of all comments together with the author and which file they were extracted from\n",
    "for worker_result in worker_results:\n",
    "    for filepath, page in worker_result:\n",
    "        for subsection in page[\"sections\"]:\n",
    "            if subsection.get(\"heading\"):\n",
    "                for comments in subsection.get(\"comments\"):\n",
    "                    if comments.get(\"author\"):\n",
    "                        for author, comment in parse_comment_subcomment(comments):\n",
    "                            append_or_create_list_in_dict(author_dict, author, comment)\n",
    "                            append_comment_to_talkpage(page_dict, filepath, comment)\n",
    "                            list_for_df.append([author, comment, filepath])"
   ]
  },
  {
   "cell_type": "code",
   "execution_count": 6,
   "metadata": {},
   "outputs": [
    {
     "name": "stdout",
     "output_type": "stream",
     "text": [
      "number of analyzed comments:  710848\n"
     ]
    }
   ],
   "source": [
    "print(\"number of analyzed comments: \", len(list_for_df))"
   ]
  },
  {
   "cell_type": "markdown",
   "metadata": {},
   "source": [
    "Now, we can finally start on the sentiment analysis.\n",
    "\n",
    "For this, we need to define our tokenizer, the and the sentiment calculation method."
   ]
  },
  {
   "cell_type": "code",
   "execution_count": 7,
   "metadata": {},
   "outputs": [],
   "source": [
    "import re\n",
    "import string\n",
    "import nltk\n",
    "from nltk import FreqDist\n",
    "from nltk.tokenize import word_tokenize\n",
    "wnl = nltk.WordNetLemmatizer()\n",
    "\n",
    "def flatten(l):\n",
    "    return [item for sublist in l for item in sublist]\n",
    "\n",
    "# this regex removes unwanted characters\n",
    "re_tok = re.compile(f'([{string.punctuation}“”¨«»®´·º½¾¿¡§£₤‘’])')\n",
    "# tokenize a string. This tokenizer is made to extract all wikitext markups, links, etc.\n",
    "def tokenize_custom(s):\n",
    "    if(not s.startswith('=')):\n",
    "        wikilink_regex = r'\\[\\[.*?\\]\\]|\\(\\)|\\{\\{.*?\\{\\}|<.*?>|[0-9]{1,2} [A-Z][a-z]+ [0-9]{4}|\\(UTC\\)'\n",
    "        s = re.sub(wikilink_regex, ' ', s)\n",
    "\n",
    "        s = word_tokenize(s)\n",
    "        s = ' '.join([wnl.lemmatize(word.lower()) for word in s if word.isalnum()])\n",
    "        return re_tok.sub(r' \\1 ', s).split() # having this line at the end vastly improves classifier results. Not sure why. \n",
    "                                            # Just by having this line with the above tokenizer improve score\n",
    "                                            # from 0.9 to 0.97.\n",
    "    return []\n",
    "\n",
    "labMT = pd.read_csv(\"./labMT.txt\", sep=\"\\t\")\n",
    "# to facilitate happiness_average value lookup\n",
    "labMT.set_index(\"word\", inplace=True)\n",
    "\n",
    "# Define sentiment analysis method\n",
    "def sentiment(tokens):\n",
    "    if(len(tokens) == 0):\n",
    "        return\n",
    "    freq = FreqDist(tokens)\n",
    "\n",
    "    # filter for the vocabulary we can evaluate with LabMT\n",
    "    vocab = list(filter(lambda word: word in labMT.index, np.unique(tokens)))\n",
    "\n",
    "    # array of each token's average happiness weighted by the token's frequency\n",
    "    weighted_happiness = np.fromiter((freq[word] * labMT.loc[word].happiness_average for word in vocab), dtype=float)\n",
    "    # each token's frequency\n",
    "    word_frequencies = np.fromiter((freq[word] for word in vocab), dtype=float)\n",
    "    return np.sum(weighted_happiness) / np.sum(word_frequencies)\n",
    "\n",
    "\n",
    "def extract_sentiments(key, text):\n",
    "    # text consists of several comments, all belonging to key, it is type list of list\n",
    "    # thus each comment needs to be tokenized and then\n",
    "    # the resulting list of lists flattened\n",
    "    text = [tokenize_custom(s) for s in text]\n",
    "    text = flatten(text)\n",
    "    # compute sentiment for individual rapper wiki page\n",
    "    if len(text) > 100:\n",
    "        sentiment_value = sentiment(text)\n",
    "        if(sentiment_value):\n",
    "            return (key, sentiment_value)"
   ]
  },
  {
   "cell_type": "markdown",
   "metadata": {},
   "source": [
    "For the sake of brevity, we have removed the code with which we calculated an individual author's sentiment. We have not included results about that in the report, as they were of little interest.\n",
    "\n",
    "### Per-talkpage sentiment analysis\n",
    "\n",
    "The next step is to calculate the sentiment for each talk page, so it can later be compared to the sentiments of the article pages. To speed up computation, we parallelize comment snetiment analysis again. Comments on talk page archives will be added to the correct talk page."
   ]
  },
  {
   "cell_type": "code",
   "execution_count": 9,
   "metadata": {},
   "outputs": [
    {
     "data": {
      "text/html": [
       "<div>\n",
       "<style scoped>\n",
       "    .dataframe tbody tr th:only-of-type {\n",
       "        vertical-align: middle;\n",
       "    }\n",
       "\n",
       "    .dataframe tbody tr th {\n",
       "        vertical-align: top;\n",
       "    }\n",
       "\n",
       "    .dataframe thead th {\n",
       "        text-align: right;\n",
       "    }\n",
       "</style>\n",
       "<table border=\"1\" class=\"dataframe\">\n",
       "  <thead>\n",
       "    <tr style=\"text-align: right;\">\n",
       "      <th></th>\n",
       "      <th>pagename</th>\n",
       "      <th>talkpage_sentiment</th>\n",
       "    </tr>\n",
       "  </thead>\n",
       "  <tbody>\n",
       "    <tr>\n",
       "      <th>0</th>\n",
       "      <td>Plato</td>\n",
       "      <td>5.378497</td>\n",
       "    </tr>\n",
       "    <tr>\n",
       "      <th>1</th>\n",
       "      <td>Brazil</td>\n",
       "      <td>5.379409</td>\n",
       "    </tr>\n",
       "    <tr>\n",
       "      <th>2</th>\n",
       "      <td>Jerusalem</td>\n",
       "      <td>5.328870</td>\n",
       "    </tr>\n",
       "    <tr>\n",
       "      <th>3</th>\n",
       "      <td>Socrates</td>\n",
       "      <td>5.370714</td>\n",
       "    </tr>\n",
       "    <tr>\n",
       "      <th>4</th>\n",
       "      <td>American Revolution</td>\n",
       "      <td>5.335119</td>\n",
       "    </tr>\n",
       "  </tbody>\n",
       "</table>\n",
       "</div>"
      ],
      "text/plain": [
       "              pagename  talkpage_sentiment\n",
       "0                Plato            5.378497\n",
       "1               Brazil            5.379409\n",
       "2            Jerusalem            5.328870\n",
       "3             Socrates            5.370714\n",
       "4  American Revolution            5.335119"
      ]
     },
     "execution_count": 7,
     "metadata": {},
     "output_type": "execute_result"
    }
   ],
   "source": [
    "from multiprocessing import Pool\n",
    "\n",
    "def extract_talkpage_sentiments(pagename, text):\n",
    "    pagename = pagename.replace('Talk:', '')\n",
    "    text = [tokenize_custom(s) for s in text]\n",
    "    text = flatten(text)\n",
    "    # compute sentiment for individual rapper wiki page\n",
    "    if len(text) > 100:\n",
    "        sentiment_value = sentiment(text)\n",
    "        if(sentiment_value):\n",
    "            return (pagename, sentiment_value)\n",
    "\n",
    "\n",
    "with Pool(12) as pool:\n",
    "    worker_results = pool.starmap(extract_talkpage_sentiments, page_dict.items(), 40)\n",
    "    worker_results = [worker_result for worker_result in worker_results if worker_result is not None]\n",
    "\n",
    "sentiments_talk_pages = {page: sentiment for page, sentiment in worker_results}\n",
    "\n",
    "sentiments_pages_df = pd.DataFrame({\"pagename\": sentiments_talk_pages.keys(), \"talkpage_sentiment\": sentiments_talk_pages.values()})\n",
    "# use the author's name as index\n",
    "# sentiments_pages_df.set_index(\"pagename\", inplace=True)\n",
    "sentiments_pages_df.head()"
   ]
  },
  {
   "cell_type": "code",
   "execution_count": 10,
   "metadata": {},
   "outputs": [
    {
     "name": "stdout",
     "output_type": "stream",
     "text": [
      "Top 10 happiest talk pages:\n"
     ]
    },
    {
     "data": {
      "text/html": [
       "<div>\n",
       "<style scoped>\n",
       "    .dataframe tbody tr th:only-of-type {\n",
       "        vertical-align: middle;\n",
       "    }\n",
       "\n",
       "    .dataframe tbody tr th {\n",
       "        vertical-align: top;\n",
       "    }\n",
       "\n",
       "    .dataframe thead th {\n",
       "        text-align: right;\n",
       "    }\n",
       "</style>\n",
       "<table border=\"1\" class=\"dataframe\">\n",
       "  <thead>\n",
       "    <tr style=\"text-align: right;\">\n",
       "      <th></th>\n",
       "      <th>pagename</th>\n",
       "      <th>talkpage_sentiment</th>\n",
       "    </tr>\n",
       "  </thead>\n",
       "  <tbody>\n",
       "    <tr>\n",
       "      <th>25</th>\n",
       "      <td>Memory</td>\n",
       "      <td>5.577665</td>\n",
       "    </tr>\n",
       "    <tr>\n",
       "      <th>240</th>\n",
       "      <td>Friendship</td>\n",
       "      <td>5.544420</td>\n",
       "    </tr>\n",
       "    <tr>\n",
       "      <th>292</th>\n",
       "      <td>Dance</td>\n",
       "      <td>5.541977</td>\n",
       "    </tr>\n",
       "    <tr>\n",
       "      <th>126</th>\n",
       "      <td>Drink</td>\n",
       "      <td>5.537447</td>\n",
       "    </tr>\n",
       "    <tr>\n",
       "      <th>222</th>\n",
       "      <td>Play (activity)</td>\n",
       "      <td>5.534066</td>\n",
       "    </tr>\n",
       "    <tr>\n",
       "      <th>675</th>\n",
       "      <td>Festival</td>\n",
       "      <td>5.533009</td>\n",
       "    </tr>\n",
       "    <tr>\n",
       "      <th>425</th>\n",
       "      <td>Happiness</td>\n",
       "      <td>5.519176</td>\n",
       "    </tr>\n",
       "    <tr>\n",
       "      <th>528</th>\n",
       "      <td>Entertainment</td>\n",
       "      <td>5.518798</td>\n",
       "    </tr>\n",
       "    <tr>\n",
       "      <th>221</th>\n",
       "      <td>Heredity</td>\n",
       "      <td>5.516819</td>\n",
       "    </tr>\n",
       "    <tr>\n",
       "      <th>696</th>\n",
       "      <td>Garden</td>\n",
       "      <td>5.516650</td>\n",
       "    </tr>\n",
       "  </tbody>\n",
       "</table>\n",
       "</div>"
      ],
      "text/plain": [
       "            pagename  talkpage_sentiment\n",
       "25            Memory            5.577665\n",
       "240       Friendship            5.544420\n",
       "292            Dance            5.541977\n",
       "126            Drink            5.537447\n",
       "222  Play (activity)            5.534066\n",
       "675         Festival            5.533009\n",
       "425        Happiness            5.519176\n",
       "528    Entertainment            5.518798\n",
       "221         Heredity            5.516819\n",
       "696           Garden            5.516650"
      ]
     },
     "execution_count": 8,
     "metadata": {},
     "output_type": "execute_result"
    }
   ],
   "source": [
    "print(\"Top 10 happiest talk pages:\")\n",
    "best_sentiments = sentiments_pages_df.sort_values(\"talkpage_sentiment\", ascending=False).head(10)\n",
    "best_sentiments"
   ]
  },
  {
   "cell_type": "code",
   "execution_count": 9,
   "metadata": {},
   "outputs": [
    {
     "name": "stdout",
     "output_type": "stream",
     "text": [
      "Top 10 saddest talk pages:\n"
     ]
    },
    {
     "data": {
      "text/html": [
       "<div>\n",
       "<style scoped>\n",
       "    .dataframe tbody tr th:only-of-type {\n",
       "        vertical-align: middle;\n",
       "    }\n",
       "\n",
       "    .dataframe tbody tr th {\n",
       "        vertical-align: top;\n",
       "    }\n",
       "\n",
       "    .dataframe thead th {\n",
       "        text-align: right;\n",
       "    }\n",
       "</style>\n",
       "<table border=\"1\" class=\"dataframe\">\n",
       "  <thead>\n",
       "    <tr style=\"text-align: right;\">\n",
       "      <th></th>\n",
       "      <th>pagename</th>\n",
       "      <th>talkpage_sentiment</th>\n",
       "    </tr>\n",
       "  </thead>\n",
       "  <tbody>\n",
       "    <tr>\n",
       "      <th>617</th>\n",
       "      <td>Fear</td>\n",
       "      <td>5.188344</td>\n",
       "    </tr>\n",
       "    <tr>\n",
       "      <th>660</th>\n",
       "      <td>Terrorism</td>\n",
       "      <td>5.211078</td>\n",
       "    </tr>\n",
       "    <tr>\n",
       "      <th>249</th>\n",
       "      <td>War</td>\n",
       "      <td>5.215088</td>\n",
       "    </tr>\n",
       "    <tr>\n",
       "      <th>556</th>\n",
       "      <td>Violence</td>\n",
       "      <td>5.219212</td>\n",
       "    </tr>\n",
       "    <tr>\n",
       "      <th>622</th>\n",
       "      <td>Nuclear weapon</td>\n",
       "      <td>5.227378</td>\n",
       "    </tr>\n",
       "    <tr>\n",
       "      <th>100</th>\n",
       "      <td>Disease</td>\n",
       "      <td>5.228096</td>\n",
       "    </tr>\n",
       "    <tr>\n",
       "      <th>380</th>\n",
       "      <td>Weapon</td>\n",
       "      <td>5.230729</td>\n",
       "    </tr>\n",
       "    <tr>\n",
       "      <th>457</th>\n",
       "      <td>Tax</td>\n",
       "      <td>5.254547</td>\n",
       "    </tr>\n",
       "    <tr>\n",
       "      <th>788</th>\n",
       "      <td>Anger</td>\n",
       "      <td>5.259530</td>\n",
       "    </tr>\n",
       "    <tr>\n",
       "      <th>11</th>\n",
       "      <td>Slavery</td>\n",
       "      <td>5.260364</td>\n",
       "    </tr>\n",
       "  </tbody>\n",
       "</table>\n",
       "</div>"
      ],
      "text/plain": [
       "           pagename  talkpage_sentiment\n",
       "617            Fear            5.188344\n",
       "660       Terrorism            5.211078\n",
       "249             War            5.215088\n",
       "556        Violence            5.219212\n",
       "622  Nuclear weapon            5.227378\n",
       "100         Disease            5.228096\n",
       "380          Weapon            5.230729\n",
       "457             Tax            5.254547\n",
       "788           Anger            5.259530\n",
       "11          Slavery            5.260364"
      ]
     },
     "execution_count": 9,
     "metadata": {},
     "output_type": "execute_result"
    }
   ],
   "source": [
    "print(\"Top 10 saddest talk pages:\")\n",
    "worst_sentiments = sentiments_pages_df.sort_values(\"talkpage_sentiment\", ascending=True).head(10)\n",
    "worst_sentiments"
   ]
  },
  {
   "cell_type": "markdown",
   "metadata": {},
   "source": [
    "As we can see, the happiest and sadest talk pages seem to correlate a lot with the topics discussed in them. Time to analyze and quantify if this is really the case.\n",
    "\n",
    "Towards this goal, we will extract the sentiments of the article pages, and then correlate those with the corresponding talk page.\n",
    "\n",
    "### Article page sentiment analysis\n",
    "\n",
    "Here, we extract the sentiments for all comments on a given article page."
   ]
  },
  {
   "cell_type": "code",
   "execution_count": 11,
   "metadata": {},
   "outputs": [],
   "source": [
    "import pathlib\n",
    "\n",
    "# load previously scraped article pages\n",
    "wikipage_folder = pathlib.Path(\"./article_pages_plaintext/\")\n",
    "filepaths = list(wikipage_folder.rglob(\"*.txt\"))\n",
    "\n",
    "# calculate sentiments for article pages\n",
    "def extract_articlepage_sentiments(filepath):\n",
    "    pagename = filepath.stem\n",
    "    with open(filepath, 'r') as file:\n",
    "        text = file.read()\n",
    "        return (pagename, sentiment(tokenize_custom(text)))\n",
    "    \n",
    "with Pool(12) as pool:\n",
    "    worker_results = pool.map(extract_articlepage_sentiments, filepaths, 5)\n",
    "    worker_results = [worker_result for worker_result in worker_results if worker_result is not None]\n",
    "\n",
    "# add results into dictionary for easy import into existing dataframe\n",
    "sentiments_article_pages =  {pagename: sentiment for pagename, sentiment in worker_results}"
   ]
  },
  {
   "cell_type": "markdown",
   "metadata": {},
   "source": [
    "### Calculate correlation value of related article and talk page sentiments"
   ]
  },
  {
   "cell_type": "code",
   "execution_count": 11,
   "metadata": {},
   "outputs": [
    {
     "data": {
      "text/html": [
       "<div>\n",
       "<style scoped>\n",
       "    .dataframe tbody tr th:only-of-type {\n",
       "        vertical-align: middle;\n",
       "    }\n",
       "\n",
       "    .dataframe tbody tr th {\n",
       "        vertical-align: top;\n",
       "    }\n",
       "\n",
       "    .dataframe thead th {\n",
       "        text-align: right;\n",
       "    }\n",
       "</style>\n",
       "<table border=\"1\" class=\"dataframe\">\n",
       "  <thead>\n",
       "    <tr style=\"text-align: right;\">\n",
       "      <th></th>\n",
       "      <th>talkpage_sentiment</th>\n",
       "      <th>articlepage_sentiment</th>\n",
       "    </tr>\n",
       "  </thead>\n",
       "  <tbody>\n",
       "    <tr>\n",
       "      <th>talkpage_sentiment</th>\n",
       "      <td>1.000000</td>\n",
       "      <td>0.830109</td>\n",
       "    </tr>\n",
       "    <tr>\n",
       "      <th>articlepage_sentiment</th>\n",
       "      <td>0.830109</td>\n",
       "      <td>1.000000</td>\n",
       "    </tr>\n",
       "  </tbody>\n",
       "</table>\n",
       "</div>"
      ],
      "text/plain": [
       "                       talkpage_sentiment  articlepage_sentiment\n",
       "talkpage_sentiment               1.000000               0.830109\n",
       "articlepage_sentiment            0.830109               1.000000"
      ]
     },
     "execution_count": 11,
     "metadata": {},
     "output_type": "execute_result"
    }
   ],
   "source": [
    "# insert the article page dictionary into the dataframe created above\n",
    "sentiments_pages_df[\"articlepage_sentiment\"] = sentiments_pages_df[\"pagename\"].map(sentiments_article_pages)\n",
    "# check that we didn't get any null values becuase a page didn't have a match\n",
    "sentiments_pages_df.isnull().values.any()\n",
    "\n",
    "# compute correlation of talk pages and article pages using pearson method \n",
    "# see wikipedia which pandas documentetation refers to\n",
    "sentiments_pages_df.corr(numeric_only=True)"
   ]
  },
  {
   "cell_type": "code",
   "execution_count": 12,
   "metadata": {},
   "outputs": [
    {
     "data": {
      "text/plain": [
       "<matplotlib.legend.Legend at 0x7f409bc94ac0>"
      ]
     },
     "execution_count": 12,
     "metadata": {},
     "output_type": "execute_result"
    },
    {
     "data": {
      "image/png": "[encoded data removed]",
      "text/plain": [
       "<Figure size 640x480 with 1 Axes>"
      ]
     },
     "metadata": {},
     "output_type": "display_data"
    }
   ],
   "source": [
    "from sklearn.linear_model import LinearRegression\n",
    "\n",
    "# create graph showing correlation value\n",
    "\n",
    "fig, ax = plt.subplots()\n",
    "\n",
    "sentiments_pages_df.plot.scatter (\n",
    "    \"articlepage_sentiment\", \"talkpage_sentiment\", \n",
    "    title = \"Scatterplot showing correlation of sentiments of talk pages and article pages\", \n",
    "    xlabel = \"Sentiment of article pages\",\n",
    "    ylabel = \"Sentiment of talk pages\",\n",
    "    label='sentiment data',\n",
    "    alpha=0.7,\n",
    "    ax=ax\n",
    ")\n",
    "\n",
    "sentiments_pages_df = sentiments_pages_df.dropna()\n",
    "\n",
    "X = sentiments_pages_df[\"articlepage_sentiment\"].values.reshape(-1,1)\n",
    "Y = sentiments_pages_df[\"talkpage_sentiment\"].values.reshape(-1,1)\n",
    "\n",
    "linear_regressor = LinearRegression()\n",
    "linear_regressor.fit(X, Y)\n",
    "Y_pred = linear_regressor.predict(X)\n",
    "\n",
    "ax.plot(X, Y_pred, color='red', alpha=0.6, label='regression')\n",
    "ax.legend()"
   ]
  },
  {
   "cell_type": "markdown",
   "metadata": {},
   "source": [
    "#### Interpretation of correlation results\n",
    "\n",
    "The results give a correlation coefficient of 0.83. \n",
    "This means, the sentiments of article and talk pages are strongly positively correlated (anything over 0.5 on a scale from -1 to 1 is considered strongly correlated). \n",
    "Thus, if the sentiment of a article page is higher, the probability for the talk page to have a higher sentiment is high."
   ]
  },
  {
   "cell_type": "markdown",
   "metadata": {},
   "source": [
    "## Toxic comment extraction & analysis\n",
    "\n",
    "First, we need to load the TF-IDF vectorizer that was trained in another notebook. For the interested reader, this notebook can found in our github repo. Link: <https://github.com/andste97/socialgraphs2023f-project/blob/main/project/nb-svm-strong-linear-baseline.ipynb>\n",
    "The vectorizer will transform comments into TF-IDF-weighted sparse bag-of-words matrix. Sparse bag-of-word matrices are an efficient datastructe for inference with our model, TF-IDF is used to extract relevant features from the parsed comments."
   ]
  },
  {
   "cell_type": "code",
   "execution_count": 12,
   "metadata": {},
   "outputs": [],
   "source": [
    "df_comments = pd.DataFrame(list_for_df, columns = ['Author', 'Comment', 'Filename']) \n",
    "\n",
    "# load previously trained TF-IDF vectorizer\n",
    "with open('./sentiment-models/vectorizer.pkl', 'rb') as file:\n",
    "    vec = pickle.load(file)\n",
    "\n",
    "# transform comments into TF-IDF-weighted sparse matrix\n",
    "comments_sparse = vec.transform(df_comments['Comment'])"
   ]
  },
  {
   "cell_type": "markdown",
   "metadata": {},
   "source": [
    "Next, we can run inference on the input data using the previously calculated and stored models, to obtain the toxic comments:"
   ]
  },
  {
   "cell_type": "code",
   "execution_count": 15,
   "metadata": {},
   "outputs": [
    {
     "name": "stdout",
     "output_type": "stream",
     "text": [
      "predict toxic\n",
      "predict severe_toxic\n",
      "predict obscene\n",
      "predict threat\n",
      "predict insult\n",
      "predict identity_hate\n",
      "number of toxic comments:  198\n"
     ]
    }
   ],
   "source": [
    "label_cols = ['toxic', 'severe_toxic', 'obscene', 'threat', 'insult', 'identity_hate']\n",
    "\n",
    "preds = np.zeros((len(df_comments), len(label_cols)))\n",
    "\n",
    "for i, j in enumerate(label_cols):\n",
    "    print('predict', j)\n",
    "    with open(f'./sentiment-models/{j}.pkl', 'rb') as file:\n",
    "        m,r = pickle.load(file)\n",
    "    preds[:,i] = m.predict_proba(comments_sparse.multiply(r))[:,1]\n",
    "    df_comments[j] = preds[:,i]\n",
    "\n",
    "# this created a matrix where each new column for label_cols contains the probability that a comment is in\n",
    "# the category with the same title as the column name \n",
    "\n",
    "# get all authors that wrote toxic comments\n",
    "# we chose a cutoff probability for defining a comment as toxic at 0.9\n",
    "authors = []\n",
    "for row in df_comments[df_comments[\"toxic\"] > 0.9].iterrows():\n",
    "    if row[1][\"Author\"]:\n",
    "        authors.append(row[1][\"Author\"])\n",
    "\n",
    "\n",
    "# how many toxic comments did we find?\n",
    "print(\"number of toxic comments: \", len(df_comments[df_comments[\"toxic\"] > 0.9]))"
   ]
  },
  {
   "cell_type": "code",
   "execution_count": 15,
   "metadata": {},
   "outputs": [
    {
     "name": "stdout",
     "output_type": "stream",
     "text": [
      "number of people that have written more than one toxic comment:  19\n"
     ]
    }
   ],
   "source": [
    "# Calculate how many authors wrote more than one toxic comment:\n",
    "\n",
    "seen = set()\n",
    "multiple_offenders = [x for x in authors if x in seen or seen.add(x)]    \n",
    "print(\"number of people that have written more than one toxic comment: \", len(set(multiple_offenders)))"
   ]
  },
  {
   "cell_type": "code",
   "execution_count": 55,
   "metadata": {},
   "outputs": [
    {
     "name": "stdout",
     "output_type": "stream",
     "text": [
      "top 10 pages with most toxic comments:  Filename\n",
      "Talk:Anarchism          11\n",
      "Talk:Adolf Hitler        9\n",
      "Talk:Socialism           7\n",
      "Talk:United States       7\n",
      "Talk:Evolution           6\n",
      "Talk:Michael Jackson     5\n",
      "Talk:Abortion            4\n",
      "Talk:Turkey              4\n",
      "Talk:Israel              3\n",
      "Talk:Jesus               3\n",
      "dtype: int64\n"
     ]
    }
   ],
   "source": [
    "# first we need to consolidate pages and archives, so we work with all comments for a specific topic\n",
    "df_comments_consolidated = df_comments.copy(deep=True)\n",
    "\n",
    "df_comments_consolidated[\"Filename\"] = df_comments_consolidated[\"Filename\"].map(\n",
    "    lambda x: x.split(\"/\")[1].replace(\".txt\", \"\")\n",
    ")\n",
    "\n",
    "# Calculate number of toxic comments per consolidated talk page\n",
    "count_toxic_per_page = df_comments_consolidated[df_comments_consolidated['toxic'] > 0.9] \\\n",
    "    .groupby('Filename').size() \\\n",
    "    .sort_values(ascending=False)\n",
    "\n",
    "# Output top 10 pages with most toxic comments\n",
    "print(\"top 10 pages with most toxic comments: \", count_toxic_per_page[:10])"
   ]
  },
  {
   "cell_type": "markdown",
   "metadata": {},
   "source": [
    "All in all, we saw a lot less toxic comments than we expected. We think, this can be attributed to the work of Wikipedia moderators, or potentially our algorithm did not find all toxic comments. Given the performance seen by evaluation the model on the test dataset (running inference on test data provided by Kaggl, then uploading our prediction and receiving the score), we think the former is more likely. However, to see if this is really the case, one would have to analyze the page history as well. This was infeasible given the time constraints of this exercise."
   ]
  },
  {
   "cell_type": "markdown",
   "metadata": {},
   "source": [
    "## Edit wars\n",
    "\n",
    "inspired by R. Sumi, T. Yasseri, A. Rung, A. Kornai and J. Kertesz, \"Edit Wars in Wikipedia,\" 2011 IEEE Third International Conference on Privacy, Security, Risk and Trust and 2011 IEEE Third International Conference on Social Computing, Boston, MA, 2011, pp. 724-727, doi: 10.1109/PASSAT/SocialCom.2011.47."
   ]
  },
  {
   "cell_type": "code",
   "execution_count": 57,
   "metadata": {},
   "outputs": [
    {
     "name": "stdout",
     "output_type": "stream",
     "text": [
      "{'Solar System': 13.403965303593557, 'Folk music': 11.865926748057714, 'Shen Kuo': 9.994255624700815, 'New York City': 9.157529109926978, 'Post-classical history': 8.528284244974287, 'Anarchism': 7.568471732764183, 'Poland': 7.414562458249833, 'Maya civilization': 6.507437588927694, 'Ecology': 5.518384093419599, 'United States': 4.314671301502914, 'Crusades': 4.307573869051983, 'The Beatles': 4.211602320464093, 'Sex': 4.050194083790657, 'India': 4.031541633509368, 'Abortion': 4.02913194188362, 'Jakarta': 3.9541873963515752, 'Liberalism': 3.5850806026762196, 'Jesus': 3.5094375176659023, 'Solar energy': 3.3741816693944355, 'Alcoholic beverage': 2.8843702192758798, 'Israel': 2.8698465855093453, 'Archaea': 2.8231753197893155, 'Algae': 2.77626073552081, 'Economics': 2.730169157497126, 'Biology': 2.670490236241977, 'Taiwan': 2.5634081060412948, 'British Empire': 2.4948901585257905, 'Chinese folk religion': 2.4839769926047657, 'United Kingdom': 2.392648753112573, 'Brazil': 2.386105399848501, 'Nature': 2.340570870944133, 'Oceania': 2.290785736825497, 'Artificial intelligence': 2.2456672443674175, 'Entertainment': 2.2070579762333455, 'Socialism': 2.162391513982642, 'Adolf Hitler': 2.092250922509225, 'Evolution': 2.0877101183857674, 'Periodic table': 1.996845823870805, 'Olympic Games': 1.9939847917376008, 'Arabic script': 1.990238611713666, 'American Revolution': 1.9748599875544492, 'Psychology': 1.8702702702702703, 'Ancient history': 1.844108108108108, 'Australia': 1.8116039804351494, 'Animation': 1.7840950863864722, 'Germany': 1.7617669386980452, 'North America': 1.7595697122101146, 'Atheism': 1.7490478781284005, 'Asthma': 1.7260591200108977, 'Planet': 1.7120481927710844, 'Jerusalem': 1.69042672207128, 'Abiogenesis': 1.6868870832165872, 'Bible': 1.6537374524900108, 'Birth control': 1.6467110125646711, 'Istanbul': 1.6045140152894066, 'Alps': 1.5493609519612164, 'Moon': 1.5444215800304195, 'Byzantine Empire': 1.5255513307984792, 'Bangladesh': 1.5237343556207013, 'Adolescence': 1.5050267043669494, 'Reformation': 1.4976438356164383, 'Glass': 1.4710327455919396, 'Communism': 1.4666286830538824, 'Napoleon': 1.4659951651893635, 'Malaysia': 1.4651991939234228, 'Contemporary history': 1.4632885211995863, 'Philosophy': 1.4405072734054458, 'Marriage': 1.4381281746460608, 'Botany': 1.4193469187331205, 'Board game': 1.4179060950714495, 'Charles Darwin': 1.3882389162561577, 'Quran': 1.3753836036825953, 'Function (mathematics)': 1.372825186412593, 'Sexual orientation': 1.346619021440352, 'Indus Valley Civilisation': 1.3422459893048129, 'Physics': 1.3300161999537143, 'Science': 1.3286379643303419, 'Cyrus the Great': 1.3239953309988328, 'Land': 1.3180451127819548, 'Animal': 1.3025739320920044, 'Cancer': 1.2950226244343892, 'Buddhism': 1.2903070148983653, 'Earth': 1.2840545429247252, 'Johann Sebastian Bach': 1.2833126636351109, 'Judaism': 1.2744440303143247, 'Hong Kong': 1.2491351782863225, 'Marie Curie': 1.2421996879875195, 'Human history': 1.238101750547046, 'Tornado': 1.2347879532882606, 'Lung': 1.1722198182604933, 'Human': 1.1634226680640813, 'Islamic Golden Age': 1.1575804276632633, 'International System of Units': 1.1491342698464555, 'Universe': 1.1451135241855874, 'Ludwig van Beethoven': 1.1141304347826086, 'Tropical cyclone': 1.1140011603171533, 'The Buddha': 1.1136363636363635, 'English language': 1.1034353435343534, 'Time': 1.095675944333996, 'God': 1.092767551718521, 'Augustus': 1.0575859743762643, 'Aztecs': 1.0507692307692307, 'Energy': 1.0473644003055769, 'Mental disorder': 1.037329646454671, 'Bird': 1.033361018826135, 'Arabic numerals': 1.0257958287596047, 'Atom': 1.0234599884858953, 'Woman': 1.023111491547186, 'Argentina': 1.0213021702838063, 'Matter': 1.0182012847965738, 'Electric motor': 1.0059161595672752, 'Adi Shankara': 1.0037757769387163, 'Karl Marx': 0.9867182756527019, 'Abraham': 0.98512077294686, 'Genghis Khan': 0.9798289848717386, 'Tokyo': 0.9788218111002921, 'Vedas': 0.9524082568807339, 'Reason': 0.9518935516888434, 'Henry Ford': 0.9507291519184482, 'Bacteria': 0.9463975694444444, 'Carl Linnaeus': 0.9415706806282722, 'Telescope': 0.9265121537591859, 'Sikhism': 0.9165938864628821, 'London': 0.9098527531840348, 'History of science': 0.9056168248268787, 'Sun': 0.8978365384615384, 'History of art': 0.8828264758497316, 'Leonardo da Vinci': 0.8701932655907552, 'Amphibian': 0.8693785310734463, 'Ethnicity': 0.8517847904811174, 'Outer space': 0.8425253991291727, 'Religion': 0.8252645800495384, 'Man': 0.8221739130434783, 'Diabetes': 0.8184785055142921, 'Textile': 0.8180212014134276, 'Europe': 0.81670590145304, 'Aluminium': 0.8164133738601824, 'Computer': 0.8061195310265942, 'Friedrich Nietzsche': 0.7998294243070363, 'Mammal': 0.7855498721227622, 'Continent': 0.7801746276322548, 'Marco Polo': 0.7774561552869061, 'Addiction': 0.7678537054860443, 'Mars': 0.7633410672853829, 'Rock music': 0.7613587747069394, 'Vietnam': 0.7528419508617529, 'Mughal Empire': 0.7478297395687482, 'Bhagavad Gita': 0.7464649321266968, 'Eukaryote': 0.7446043165467626, 'Wind power': 0.7414612676056338, 'Big Bang': 0.7404261057173679, 'Archimedes': 0.7403637938501516, 'Ganges': 0.7403402537485583, 'Netherlands': 0.7363677587575105, 'Consciousness': 0.7360235393022279, 'Climate': 0.7336760925449871, 'Stone Age': 0.728364849833148, 'Ibn Khaldun': 0.7232042121098157, 'Africa': 0.718274744452755, 'Carbon dioxide': 0.7155232155232155, 'Privacy': 0.7140434192672999, 'Pottery': 0.7113924050632912, 'Julius Caesar': 0.7096136567834681, 'Arabic': 0.7092339979013641, 'Immune system': 0.7069380203515264, 'Suleiman the Magnificent': 0.7059789750328516, 'Lens': 0.7029213483146067, 'Politics': 0.7006300906715844, 'Beijing': 0.7002919561059096, 'Engineering': 0.6988368437598239, 'Sea': 0.6970944863875543, 'Aircraft': 0.6946279804653835, 'Musical instrument': 0.6927062574730969, 'Homer': 0.6918286755771568, 'Ancient Egypt': 0.6908513497007451, 'Bridge': 0.6905933429811867, 'World War I': 0.6902344567720327, 'Mathematics': 0.6879768481978427, 'Shinto': 0.6819648619576909, 'Ashoka': 0.6818950930626058, 'Simón Bolívar': 0.6797965305856267, 'Racism': 0.6765321143565507, 'Law': 0.6747179827471799, 'Asteroid': 0.6722915963550455, 'Alexander the Great': 0.6710620954207625, 'Cheese': 0.6663720166687713, 'Paul the Apostle': 0.6659097102370788, 'Language': 0.661517797179315, 'Association football': 0.6580759211016003, 'Culture': 0.6487328624844204, 'Sunni Islam': 0.6423786962914556, 'Age of Discovery': 0.6408505657432696, 'Piano': 0.6398315896912478, 'Black hole': 0.6347836805127574, 'Plant': 0.6331096196868009, 'Sahara': 0.6313259824710207, 'United Arab Emirates': 0.6293778164281761, 'Antarctica': 0.6290901630936506, 'Alcoholism': 0.6262975778546713, 'Triangle': 0.6255479023168441, 'Technology': 0.6232619730743765, 'Avicenna': 0.6201126307320998, 'History': 0.6186275975482135, 'Star': 0.6086271420129998, 'Anthropology': 0.6085188770571152, 'Prayer': 0.6084404695360537, 'Algeria': 0.6062066149448755, 'Singing': 0.6042793900639449, 'Nuclear weapon': 0.6029627652475644, 'Achaemenid Empire': 0.5952340713199257, 'Bicycle': 0.5885661806910802, 'Death': 0.5834375300567471, 'Black Death': 0.5832040164308535, 'Volcano': 0.5830237996973449, 'Exercise': 0.582014072119613, 'Great Depression': 0.5778268551236749, 'Genetic engineering': 0.5775262732417138, 'South America': 0.5775167459469954, 'Abstract art': 0.5739292364990689, 'Human sexuality': 0.5727408142999006, 'Electricity': 0.5715215975689169, 'Finance': 0.5714285714285714, 'Euclid': 0.570635721493441, 'Fiction': 0.5701239399869537, 'Business': 0.5666235446313066, 'Bengali language': 0.5631195062651955, 'Concrete': 0.5614035087719298, 'Ritual': 0.5611111111111111, 'Chinese characters': 0.561091340450771, 'Mineral': 0.5606898076497899, 'Fishing': 0.5587761674718197, 'Complex number': 0.558456561922366, 'Weather': 0.5578571428571428, 'Pablo Picasso': 0.5578480819196088, 'Andean civilizations': 0.5551894563426688, 'Emmy Noether': 0.554900515843773, 'Sumer': 0.553737658674189, 'Deity': 0.5524899057873486, 'Chemistry': 0.5517857142857143, 'Number': 0.549471868937271, 'Temperature': 0.5456709956709956, 'Poverty': 0.5455831817262987, 'Aristotle': 0.5446315789473685, 'Sport': 0.5436314363143632, 'Ancient Rome': 0.5415330807344797, 'Age of Enlightenment': 0.5393663240436579, 'Coffee': 0.5379458743689481, 'Human body': 0.5369672368802552, 'Memory': 0.5368797496647295, 'Ramesses II': 0.5365312014212748, 'Tool': 0.5363462458153994, 'Car': 0.5347079037800687, 'Atlantic Ocean': 0.5338139375214556, 'James Clerk Maxwell': 0.5334921107472462, 'Word': 0.5317965023847376, 'Integer': 0.5295584045584045, 'Michelangelo': 0.5275350538508433, 'Carbon': 0.5267209148889378, 'Wood': 0.526116578349735, 'Astronomy': 0.5247603833865815, 'Asia': 0.5225063017644941, 'Desert': 0.5178756860999851, 'Chemical bond': 0.517018989609459, 'Political party': 0.5134088200238379, 'Drawing': 0.511921458625526, 'Geometry': 0.5103141859727071, 'Ancient Greece': 0.5056753688989785, 'Japanese language': 0.5048123195380173, 'Logic': 0.5034168564920274, 'Amazon River': 0.5031726744970973, 'Arthropod': 0.5023094688221709, 'Blood': 0.5017289073305671, 'Tanzania': 0.5012468827930174, 'Greek language': 0.5011983223487118, 'Saturn': 0.5, 'Photography': 0.4999396645348136, 'Architecture': 0.4983974358974359, 'Zheng He': 0.49666900420757365, 'Forest': 0.4944976076555024, 'History of technology': 0.494475138121547, 'Electronics': 0.4944629014396456, 'Disease': 0.49292364990689014, 'Clock': 0.49238002594033725, 'Louis Armstrong': 0.4912, 'Phosphorus': 0.4906313058518305, 'Country': 0.49035409035409033, 'Louis Pasteur': 0.4903354178510517, 'Brain': 0.48954344624447715, 'Isaac Newton': 0.4859965262700825, 'Food': 0.4836132732486686, 'Fire': 0.48203221809169766, 'Telephone': 0.48122710622710624, 'Adult': 0.4812193794229722, 'Communication': 0.4806914819461871, 'Digestion': 0.47974797479747977, 'Copper': 0.47957058163755806, 'Power (social and political)': 0.4793028322440087, 'Speech': 0.4789983844911147, 'Arctic': 0.4786238300025297, 'Skin': 0.4785913351912845, 'Rock (geology)': 0.47813021702838066, 'Geography': 0.4773750296138356, 'Hammurabi': 0.47665990142070164, 'Cotton': 0.47660340314136124, 'Pollution': 0.4754251541767894, 'Book': 0.4750330687830688, 'South Africa': 0.47426439413211224, 'Indian Ocean': 0.4734311740890688, 'Bow and arrow': 0.47297297297297297, 'Soul': 0.4670646766169154, 'Friendship': 0.46609929078014184, 'Galileo Galilei': 0.4659354838709677, 'Civilization': 0.465675057208238, 'Wheat': 0.46258503401360546, 'War': 0.4601446263818469, 'Zoology': 0.45978152929493543, 'Biotechnology': 0.45938318887321106, 'Nursing': 0.4593455627169063, 'Atmosphere of Earth': 0.45894242916441075, 'Government': 0.45814194695510446, 'Thomas Edison': 0.4581207482993197, 'Fashion': 0.45782122905027933, 'Chicken': 0.4576109432161603, 'Life': 0.45728061716489876, 'Rumi': 0.4563166529942576, 'Cryptography': 0.4558018252933507, 'Lagos': 0.4527922860586581, 'School': 0.4527881040892193, 'Robotics': 0.4527666736797812, 'Fertilizer': 0.4506159014557671, 'History of music': 0.4487265415549598, 'Johannes Gutenberg': 0.44841571609632447, 'Economy': 0.4476564692674712, 'Calendar': 0.4472384373596767, 'Day': 0.4471057884231537, 'Frida Kahlo': 0.44645073919422185, 'Bone': 0.44517148014440433, 'Music': 0.4444444444444444, 'Bread': 0.44079631555489523, 'Dante Alighieri': 0.4404417089065894, 'United Nations': 0.44014361045663636, 'Angle': 0.4364833462432223, 'Hospital': 0.4364499634769905, 'Algorithm': 0.4358411494711634, 'Tourism': 0.4357672784068723, 'Vaccine': 0.43496503496503497, 'Community': 0.43478260869565216, 'Chinese language': 0.4347672362993518, 'History of Europe': 0.4342468663692373, 'Smoking': 0.4339622641509434, 'Alloy': 0.4333843797856049, 'Transport': 0.42843089030988685, 'Anatomy': 0.42787377911344854, 'Taxonomy (biology)': 0.4277692700357325, 'Crustacean': 0.4269087523277467, 'Cattle': 0.4262902765896778, 'Ferdinand Magellan': 0.4245882928420023, 'Violence': 0.42402826855123676, 'Ethics': 0.42372528616024974, 'Firearm': 0.4234104046242775, 'Food preservation': 0.42234432234432234, 'Andes': 0.4205354949643822, 'Anesthesia': 0.42035261367151255, 'News': 0.4185303514376997, 'Electromagnetic radiation': 0.4169340903480622, 'Area': 0.41672780630961115, 'Gold': 0.41586538461538464, 'Cell (biology)': 0.41580828253100693, 'Television': 0.414553752535497, 'Water': 0.41415513833992096, 'Colonialism': 0.4114732227939775, 'Malay language': 0.4110005527915976, 'Agriculture': 0.4107498341074983, 'Knowledge': 0.4103187466234468, 'French language': 0.409703023276554, 'University': 0.40945273631840795, 'Drug': 0.40859839217056976, 'Insurance': 0.40822179732313574, 'Clothing': 0.4072289156626506, 'Geology': 0.4062407132243685, 'Education': 0.40619924201407687, 'Equation': 0.4059800664451827, 'Military': 0.40588065724992795, 'Allergy': 0.40573012939001846, 'Silicon': 0.4053447114304963, 'Akbar': 0.40504612045577865, 'Archaeology': 0.4048350747797582, 'Alphabet': 0.4048046699595869, 'Liberty': 0.4026236125126135, 'Herodotus': 0.4018717313515001, 'Family': 0.4015101043748612, 'Biodiversity': 0.39982043992219063, 'Biochemistry': 0.39745031871016123, 'Home': 0.3954203691045796, 'Arithmetic': 0.3931529541689674, 'Thomas Aquinas': 0.39267734553775746, 'Amazon rainforest': 0.391830985915493, 'Early human migrations': 0.3893805309734513, 'Space station': 0.3891891891891892, 'Acid–base reaction': 0.38915857605177995, 'Chemical element': 0.3875324675324675, 'Antibiotic': 0.38621794871794873, 'Lake': 0.3842239185750636, 'Animal husbandry': 0.3838209982788296, 'Medicine': 0.3838070628768303, 'Natural rubber': 0.37690241718889883, 'Linear algebra': 0.3763702801461632, 'Proton': 0.37293622531563614, 'Tea': 0.3727172108467072, 'The arts': 0.37112010796221323, 'Statistics': 0.3710227272727273, 'Theatre': 0.3695364238410596, 'Year': 0.3692822610635924, 'Bronze Age': 0.36483620080131984, 'John Locke': 0.36104575163398694, 'Literature': 0.358698253170615, 'Popular culture': 0.35853199498117944, 'Extinction': 0.3562206572769953, 'Art': 0.3555785123966942, 'Society': 0.3522238163558106, 'Armour': 0.351311232063335, 'Manufacturing': 0.3506666666666667, 'Justice': 0.3500848896434635, 'Paleontology': 0.3490909090909091, 'Afterlife': 0.34876479136391947, 'Algebra': 0.34571062740076824, 'Arctic Ocean': 0.342152466367713, 'Bank': 0.3399514670196338, 'Museum': 0.3377668883444172, 'City': 0.33753943217665616, 'Roald Amundsen': 0.33627978478093773, 'Number theory': 0.33408071748878926, 'Writing': 0.3322673488967061, 'Hormone': 0.33141486810551557, 'Orbit': 0.33111566018423744, '0': 0.327313769751693, 'Soybean': 0.326138147566719, 'Emotion': 0.3257477243172952, 'Electric light': 0.32389580973952437, 'Democratic Republic of the Congo': 0.32342172417619, 'Anger': 0.32145886344359625, 'Trade': 0.31653320772491755, 'Integrated circuit': 0.31408973992569306, 'Aesthetics': 0.31341301460823373, 'Garden': 0.31265822784810127, 'Bronze': 0.3107539226942212, 'Combinatorics': 0.30579216354344124, 'Ageing': 0.30474934036939316, 'Performing arts': 0.303862660944206, 'Southern Ocean': 0.3017610661589719, 'International Red Cross and Red Crescent Movement': 0.3008982035928144, 'Infrastructure': 0.3003721424774056, 'Visual arts': 0.2840418977202711, 'Early modern period': 0.2831086439333862, 'Prehistory': 0.28310740354535974, 'Mind': 0.28259921500218055, 'Learning': 0.2803622890078222, 'Folklore': 0.2736172295643661, 'History of the Middle East': 0.2727832512315271, 'Secularism': 0.2720816688859299, 'History of Asia': 0.2717391304347826, 'RNA': 0.2641206675224647, 'Reproduction': 0.26100151745068284, 'History of North America': 0.25845864661654133, 'Broadcasting': 0.2560124127230411, 'Mass media': 0.25488454706927177, 'Surgery': 0.24854594804187669, 'Parenting': 0.24836316019205587, 'Brahmic scripts': 0.24794841735052756, 'Human behavior': 0.244136460554371, 'Physical chemistry': 0.2410958904109589, 'Famine': 0.23904382470119523, 'Belief': 0.23637406769936892, 'Fortification': 0.23389830508474577, 'Western imperialism in Asia': 0.2334846192637418, 'Information Age': 0.22905821107430194, 'Standard Model': 0.22643297015632402, 'Diplomacy': 0.22435573521980798, 'Lake Victoria': 0.22384937238493724, 'Latin script': 0.21890547263681592, 'Navigation': 0.218707015130674, 'Classical mechanics': 0.21477900552486187, 'Ideology': 0.21353907416625187, 'History of literature': 0.20864864864864865, 'Physical cosmology': 0.200339558573854, 'Abstract algebra': 0.1966205837173579, 'Weak interaction': 0.19244604316546762, 'Conic section': 0.16468725257323832, 'History of Oceania': 0.1382488479262673, 'Late modern period': 0.115, 'Medical imaging': 0.11204268292682927, 'Yangtze': -1, 'World War II': -1, 'Mary Wollstonecraft': -1, 'Wind': -1, 'Wheel': -1, 'Western philosophy': -1, 'Welfare': -1, 'Weapon': -1, 'Wave': -1, 'George Washington': -1, 'Volume': -1, 'Voltaire': -1, 'Virus': -1, 'Virgil': -1, 'Viking Age': -1, 'Video game': -1, 'Venus': -1, 'Vegetable': -1, 'Variable (mathematics)': -1, 'Vacuum': -1, 'Uranus': -1, 'Ukraine': -1, 'Turkey': -1, 'Alan Turing': -1, 'Tuberculosis': -1, 'Truth': -1, 'Trigonometry': -1, 'Tree': -1, 'Traditional African religions': -1, 'Trade union': -1, 'Toy': -1, 'Topology': -1, 'Leo Tolstoy': -1, 'Three-dimensional space': -1, 'Thought': -1, 'Thermodynamics': -1, 'Theravada': -1, 'Theory of relativity': -1, 'Thailand': -1, 'Nikola Tesla': -1, 'Terrorism': -1, 'Telecommunications': -1, 'Tax': -1, 'Taoism': -1, 'Tang dynasty': -1, 'Talmud': -1, 'Rabindranath Tagore': -1, 'Swimming': -1, 'Swahili language': -1, 'Supply and demand': -1, 'Supernova': -1, 'Sulfur': -1, 'Suicide': -1, 'Sugar': -1, 'Suffrage': -1, 'Subatomic particle': -1, 'Strong interaction': -1, 'Stroke': -1, 'Steel': -1, 'State of matter': -1, 'Steam engine': -1, 'State (polity)': -1, 'Sport of athletics': -1, 'Joseph Stalin': -1, 'Spirituality': -1, 'Spice': -1, 'Speed of light': -1, 'Species': -1, 'Spanish language': -1, 'Spanish Empire': -1, 'Spaceflight': -1, 'Spain': -1, 'Space': -1, 'Space exploration': -1, 'Soviet Union': -1, 'South Korea': -1, 'Sound': -1, 'Soil': -1, 'Socrates': -1, 'Sociology': -1, 'Social science': -1, 'Social equality': -1, 'Social class': -1, 'Snow': -1, 'Smallpox': -1, 'Adam Smith': -1, 'Sleep': -1, 'Slavery': -1, 'Skeleton': -1, 'Skeletal muscle': -1, 'Simple machine': -1, 'Singapore': -1, 'Silver': -1, 'Silk Road': -1, 'Short story': -1, 'Ship': -1, 'Shia Islam': -1, 'William Shakespeare': -1, 'Shamanism': -1, 'Sheep': -1, 'Sexually transmitted infection': -1, 'Sexual intercourse': -1, 'Sexism': -1, 'Set (mathematics)': -1, 'Series (mathematics)': -1, 'Sense': -1, 'Semiconductor device': -1, 'Seed': -1, 'Season': -1, 'Sculpture': -1, 'Scramble for Africa': -1, 'Scientific Revolution': -1, 'Scientific method': -1, 'Saudi Arabia': -1, 'São Paulo': -1, 'Satellite': -1, 'Sanitation': -1, 'Salt': -1, 'Russian language': -1, 'Russia': -1, 'Rome': -1, 'Romanticism': -1, 'Rodent': -1, 'Rocky Mountains': -1, 'Rocket': -1, 'Road': -1, 'River': -1, 'Rice': -1, 'Retail': -1, 'Reptile': -1, 'Renewable energy': -1, 'Renaissance': -1, 'Rembrandt': -1, 'Refrigeration': -1, 'Redox': -1, 'Realism (arts)': -1, 'Real number': -1, 'Rain': -1, 'Rail transport': -1, 'Radioactive decay': -1, 'Radio': -1, 'Radar': -1, 'Quantum mechanics': -1, 'Qin Shi Huang': -1, 'Protestantism': -1, 'Publishing': -1, 'Protein': -1, 'Property': -1, 'Probability': -1, 'Printing': -1, 'Prime number': -1, 'Primate': -1, 'Prehistoric art': -1, 'Pregnancy': -1, 'Pre-Columbian era': -1, 'Potato': -1, 'Portuguese language': -1, 'Pop music': -1, 'Polygon': -1, 'Political science': -1, 'Police': -1, 'Poetry': -1, 'Pneumonia': -1, 'Play (activity)': -1, 'Plato': -1, 'Plate tectonics': -1, 'Plastic': -1, 'Pig': -1, 'Pi': -1, 'Physiology': -1, 'Photon': -1, 'Photosynthesis': -1, 'Phoenicia': -1, 'Philosophy of science': -1, 'Philippines': -1, 'Petroleum': -1, 'Personality': -1, 'Personal name': -1, 'Peace': -1, 'Particle physics': -1, 'Paris': -1, 'Paper': -1, 'Painting': -1, 'Pakistan': -1, 'Pacific Ocean': -1, 'Oven': -1, 'Oxygen': -1, 'Ottoman Empire': -1, 'Organism': -1, 'Orchestra': -1, 'Organic chemistry': -1, 'Oral tradition': -1, 'Optics': -1, 'Opera': -1, 'Ontology': -1, 'Old age': -1, 'Obesity': -1, 'Nutrition': -1, 'Nuclear power': -1, 'Nth root': -1, 'Novel': -1, 'Nitrogen': -1, 'Nile': -1, 'Florence Nightingale': -1, 'Nigeria': -1, \"Newton's laws of motion\": -1, 'New religious movement': -1, 'Neutron': -1, 'Nervous system': -1, 'Neptune': -1, 'Neolithic Revolution': -1, 'Natural selection': -1, 'Natural satellite': -1, 'Natural number': -1, 'Natural gas': -1, 'NATO': -1, 'Nationalism': -1, 'Myth': -1, 'Myanmar': -1, 'Murasaki Shikibu': -1, 'Mansa Musa': -1, 'Mumbai': -1, 'Muhammad': -1, 'Wolfgang Amadeus Mozart': -1, 'Mountain': -1, 'Motion': -1, 'Moses': -1, 'Moscow': -1, 'Mongol Empire': -1, 'Money': -1, 'Monarchy': -1, 'Momentum': -1, 'Mollusca': -1, 'Molecular biology': -1, 'Molecule': -1, 'Modernism': -1, 'Mobile phone': -1, 'Mining': -1, 'Mississippi River': -1, 'Milk': -1, 'Milky Way': -1, 'Military history': -1, 'Middle East': -1, 'Middle Ages': -1, 'Microscope': -1, 'Mexico City': -1, 'Metaphysics': -1, 'Mexico': -1, 'Metallurgy': -1, 'Metabolism': -1, 'Metal': -1, 'Mesopotamia': -1, 'Mesoamerica': -1, 'Mercury (planet)': -1, 'Mental health': -1, 'Dmitri Mendeleev': -1, 'Mediterranean Sea': -1, 'Medication': -1, 'Meditation': -1, 'Mecca': -1, 'Mechanical engineering': -1, 'Meat': -1, 'Measurement': -1, 'Mathematical proof': -1, 'Mathematical analysis': -1, 'Mass': -1, 'Masonry': -1, 'Martial arts': -1, 'Marketing': -1, 'Map': -1, 'Mao Zedong': -1, 'Nelson Mandela': -1, 'Management': -1, 'Malaria': -1, 'Maize': -1, 'Mail': -1, 'Mahayana': -1, 'Magnetism': -1, 'Niccolò Machiavelli': -1, 'Martin Luther': -1, 'Love': -1, 'Logarithm': -1, 'Liver': -1, 'Lipid': -1, 'Linguistics': -1, 'Line (geometry)': -1, 'Limit (mathematics)': -1, 'Abraham Lincoln': -1, 'Light': -1, 'Library': -1, 'Li Bai': -1, 'Antoine Lavoisier': -1, 'Latin': -1, 'Laser': -1, 'Laozi': -1, 'Knife': -1, 'Al-Khwarizmi': -1, 'Kenya': -1, 'Immanuel Kant': -1, 'Jupiter': -1, 'Joan of Arc': -1, 'Jewellery': -1, 'Jazz': -1, 'Japan': -1, 'Jainism': -1, 'Michael Jackson': -1, 'Italy': -1, 'Island': -1, 'Islam': -1, 'Iron Age': -1, 'Iron': -1, 'Iran': -1, 'Internet': -1, 'Internal structure of Earth': -1, 'Internal combustion engine': -1, 'Intelligence': -1, 'Insect': -1, 'Injury': -1, 'Inorganic chemistry': -1, 'Influenza': -1, 'Infinity': -1, 'Infection': -1, 'Infant': -1, 'Industrial Revolution': -1, 'Indonesia': -1, 'Indo-European languages': -1, 'Indigenous peoples': -1, 'Inca Empire': -1, 'Imperialism': -1, 'Hygiene': -1, 'Hydropower': -1, 'Hydrogen': -1, 'Hunting': -1, 'Humour': -1, 'Human rights': -1, 'Human migration': -1, 'Human evolution': -1, 'Horse': -1, 'Holy Roman Empire': -1, 'Hokusai': -1, 'HIV/AIDS': -1, 'History of South America': -1, 'History of medicine': -1, 'History of mathematics': -1, 'History of India': -1, 'History of film': -1, 'History of East Asia': -1, 'History of Earth': -1, 'History of Africa': -1, 'History of architecture': -1, 'History of agriculture': -1, 'Hippocrates': -1, 'Himalayas': -1, 'Hinduism': -1, 'Hindustani language': -1, 'Heat': -1, 'Heredity': -1, 'Heart': -1, 'Health': -1, 'Happiness': -1, 'Hatshepsut': -1, 'Han dynasty': -1, 'Gupta Empire': -1, 'Gunpowder': -1, 'Greek mythology': -1, 'Green Revolution': -1, 'Greek alphabet': -1, 'Great Wall of China': -1, 'Great Pyramid of Giza': -1, 'Great Lakes': -1, 'Great Barrier Reef': -1, 'Gravity': -1, 'Grassland': -1, 'Grammar': -1, 'Good and evil': -1, 'Kurt Gödel': -1, 'Globalization': -1, 'Glacier': -1, 'German language': -1, 'Genocide': -1, 'Genetics': -1, 'Gene': -1, 'Gender': -1, 'Carl Friedrich Gauss': -1, 'Gastroenteritis': -1, 'Mahatma Gandhi': -1, 'Game': -1, 'Vasco da Gama': -1, 'Gambling': -1, 'Galaxy': -1, 'Furniture': -1, 'Fungus': -1, 'Fruit': -1, 'Sigmund Freud': -1, 'French Revolution': -1, 'Free will': -1, 'France': -1, 'Fraction': -1, 'Fossil fuel': -1, 'Force': -1, 'Flower': -1, 'Flood': -1, 'Fish': -1, 'Film': -1, 'Festival': -1, 'Feminism': -1, 'Fascism': -1, 'Fear': -1, 'Michael Faraday': -1, 'Fairy tale': -1, 'Eye': -1, 'Exponentiation': -1, 'Explosive': -1, 'European Union': -1, 'European colonization of the Americas': -1, 'Leonhard Euler': -1, 'Ethiopia': -1, 'Erosion': -1, 'Epistemology': -1, 'Epic poetry': -1, 'Environmentalism': -1, 'English literature': -1, 'Engine': -1, 'Employment': -1, 'Elizabeth I': -1, 'Electron': -1, 'Electromagnetism': -1, 'Albert Einstein': -1, 'Electric battery': -1, 'Egypt': -1, 'Ecosystem': -1, 'Eastern philosophy': -1, 'Eastern Orthodox Church': -1, 'Earthquake': -1, 'Earth science': -1, 'Ear': -1, 'E (mathematical constant)': -1, 'Drinking water': -1, 'Drink': -1, 'Dream': -1, 'Domestication': -1, 'DNA': -1, 'Dog': -1, 'Walt Disney': -1, 'Discrimination': -1, 'Disability': -1, 'Dinosaur': -1, 'Dictatorship': -1, 'Design': -1, 'René Descartes': -1, 'Dentistry': -1, 'Democracy': -1, 'Delhi': -1, 'Decolonization': -1, 'Dance': -1, 'Dam': -1, 'Cyrillic script': -1, 'Crime': -1, 'Corporation': -1, 'Nicolaus Copernicus': -1, 'Cooking': -1, 'James Cook': -1, 'Construction': -1, 'Constitution': -1, 'Conservatism': -1, 'Confucius': -1, 'Confucianism': -1, 'Computer science': -1, 'Compass': -1, 'Common cold': -1, 'Comet': -1, 'Comics': -1, 'Christopher Columbus': -1, 'Color': -1, 'Colombia': -1, 'Cold War': -1, 'Coal': -1, 'Cloud': -1, 'Climate change': -1, 'Classical music': -1, 'Civil engineering': -1, 'Circulatory system': -1, 'Circle': -1, 'Cicero': -1, 'Christianity': -1, 'China': -1, 'Child': -1, 'Chemical reaction': -1, 'Chemical compound': -1, 'Charlemagne': -1, 'Cereal': -1, 'Miguel de Cervantes': -1, 'Charlie Chaplin': -1, 'Catholic Church': -1, 'Catherine the Great': -1, 'Catalysis': -1, 'Cat': -1, 'Caribbean': -1, 'Caspian Sea': -1, 'Card game': -1, 'Cardiovascular disease': -1, 'Carbohydrate': -1, 'Capitalism': -1, 'Canal': -1, 'Canada': -1, 'Camera': -1, 'Calligraphy': -1, 'Calculus': -1, 'Cairo': -1}\n"
     ]
    }
   ],
   "source": [
    "from collections import Counter\n",
    "\n",
    "# Alternative but unreliable way of filtering reverts\n",
    "#reverts = {k: [edit for edit in v if \"comment\" in edit and \"revert\" in edit[\"comment\"].lower()] for k, v in infos[\"revision_dict\"].items()}\n",
    "\n",
    "def calc_edit_war_score_for_page_revisions(revision_list):\n",
    "    if len(revision_list) > 2:\n",
    "        usercounts = dict(Counter([revision[\"user\"] for revision in revision_list if \"user\" in revision]))\n",
    "\n",
    "        for i in range(len(revision_list) - 1):\n",
    "            if \"size\" in revision_list[i] and \"size\" in revision_list[i+1]:\n",
    "                revision_list[i][\"diff\"] = revision_list[i][\"size\"] - revision_list[i+1][\"size\"]\n",
    "        revision_list[-1][\"diff\"] = 0\n",
    "\n",
    "        m = 0\n",
    "        for i in range(len(revision_list) - 1):\n",
    "            if \"diff\" in revision_list[i] and \"diff\" in revision_list[i+1]:\n",
    "                diffdiff = revision_list[i][\"diff\"] + revision_list[i+1][\"diff\"]\n",
    "                # detect reverts\n",
    "                if diffdiff == 0 and revision_list[i][\"diff\"] != 0:\n",
    "                    if \"user\" in revision_list[i] and \"user\" in revision_list[i+1]:\n",
    "                        user_orig = revision_list[i+1][\"user\"]\n",
    "                        user_revert = revision_list[i][\"user\"]\n",
    "                        m_score = min(usercounts[user_orig], usercounts[user_revert])\n",
    "                        m += m_score\n",
    "        \n",
    "        # Normalize\n",
    "        m /= len(revision_list)\n",
    "\n",
    "        return m\n",
    "    else:\n",
    "        return -1\n",
    "\n",
    "m_scores = {page_title: calc_edit_war_score_for_page_revisions(revision_list) for page_title, revision_list in infos[\"revision_dict\"].items()}\n",
    "m_scores = dict(sorted(m_scores.items(), key=lambda item: item[1], reverse=True))\n",
    "\n",
    "print(m_scores)"
   ]
  },
  {
   "cell_type": "code",
   "execution_count": 58,
   "metadata": {},
   "outputs": [
    {
     "data": {
      "text/plain": [
       "Text(0.5, 0, 'n of toxic comments')"
      ]
     },
     "execution_count": 58,
     "metadata": {},
     "output_type": "execute_result"
    },
    {
     "data": {
      "image/png": "[encoded data removed]",
      "text/plain": [
       "<Figure size 640x480 with 1 Axes>"
      ]
     },
     "metadata": {},
     "output_type": "display_data"
    }
   ],
   "source": [
    "# Correlate\n",
    "\n",
    "X = []\n",
    "Y = []\n",
    "for key, val in m_scores.items():\n",
    "    if \"Talk:\" + key in count_toxic_per_page and val >= 0:\n",
    "        X.append(count_toxic_per_page[\"Talk:\" + key])\n",
    "        Y.append(val)\n",
    "\n",
    "fig, ax = plt.subplots()\n",
    "ax.scatter(X, Y)\n",
    "ax.set_title(\"Toxicity and Edit wars\")\n",
    "ax.set_ylabel(\"Edit war score\")\n",
    "ax.set_xlabel(\"n of toxic comments\")"
   ]
  }
 ],
 "metadata": {
  "kernelspec": {
   "display_name": "social",
   "language": "python",
   "name": "python3"
  },
  "language_info": {
   "codemirror_mode": {
    "name": "ipython",
    "version": 3
   },
   "file_extension": ".py",
   "mimetype": "text/x-python",
   "name": "python",
   "nbconvert_exporter": "python",
   "pygments_lexer": "ipython3",
   "version": "3.10.13"
  }
 },
 "nbformat": 4,
 "nbformat_minor": 2
}
