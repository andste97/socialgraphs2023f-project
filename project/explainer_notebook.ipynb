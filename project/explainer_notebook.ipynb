{
 "cells": [
  {
   "cell_type": "code",
   "execution_count": 1,
   "metadata": {},
   "outputs": [],
   "source": [
    "# clean up outputs from warnings\n",
    "import warnings\n",
    "warnings.filterwarnings(\"ignore\")\n",
    "\n",
    "# required imports \n",
    "import numpy as np\n",
    "import pandas as pd\n",
    "import networkx as nx\n",
    "import scraper\n",
    "import matplotlib.pyplot as plt\n",
    "import powerlaw\n",
    "import scipy.stats as sps\n",
    "from itertools import chain"
   ]
  },
  {
   "cell_type": "markdown",
   "metadata": {},
   "source": [
    "We begin by fetching the first 3 levels of the `Wikipedia vital articles` category using our own `scraper`. The resulting initial graph is also saved for later use. We used the `page_class` node attribute to separate the classes of `user` and `article`. Nodes $a$ and $b$ from the `article` class were connected by edge $a \\rightarrow b$ if the content of the Wikipedia article corresponding to $a$ contained a link to article $b$. Similarly, directed edges $u \\rightarrow a$ were added between article $a$ and all user nodes $u$ found by parsing the corresponding talk page."
   ]
  },
  {
   "cell_type": "code",
   "execution_count": 2,
   "metadata": {},
   "outputs": [],
   "source": [
    "category_titles = [\n",
    "    \"Category:Wikipedia_level-1_vital_articles\",\n",
    "    \"Category:Wikipedia_level-2_vital_articles\",\n",
    "    \"Category:Wikipedia_level-3_vital_articles\",\n",
    "]\n",
    "page_graph, infos  = await scraper.scrape_wiki(category_titles)\n",
    "nx.write_graphml(page_graph, \"wikigraph.graphml\")"
   ]
  },
  {
   "cell_type": "markdown",
   "metadata": {},
   "source": [
    "Next we remove bot users. Our list of bot user names was compiled by filtering nodes of type `user` containing the substring `bot`. Since Wikipedia doesn't have an official bot name convention we verified the resulting user list manually. We then compute basic network properties on the remaining graph."
   ]
  },
  {
   "cell_type": "code",
   "execution_count": 3,
   "metadata": {},
   "outputs": [
    {
     "name": "stdout",
     "output_type": "stream",
     "text": [
      "Number of nodes: 80580\n",
      "Number of edges: 176368\n",
      "Average clustering coefficient: 0.04063680702604195\n",
      "Number of weakly connected components: 1\n",
      "Top 5 nodes with largest in-degree:\n"
     ]
    },
    {
     "data": {
      "text/html": [
       "<div>\n",
       "<style scoped>\n",
       "    .dataframe tbody tr th:only-of-type {\n",
       "        vertical-align: middle;\n",
       "    }\n",
       "\n",
       "    .dataframe tbody tr th {\n",
       "        vertical-align: top;\n",
       "    }\n",
       "\n",
       "    .dataframe thead th {\n",
       "        text-align: right;\n",
       "    }\n",
       "</style>\n",
       "<table border=\"1\" class=\"dataframe\">\n",
       "  <thead>\n",
       "    <tr style=\"text-align: right;\">\n",
       "      <th></th>\n",
       "      <th>Total Degree</th>\n",
       "      <th>In Degree</th>\n",
       "      <th>Out Degree</th>\n",
       "    </tr>\n",
       "    <tr>\n",
       "      <th>Node</th>\n",
       "      <th></th>\n",
       "      <th></th>\n",
       "      <th></th>\n",
       "    </tr>\n",
       "  </thead>\n",
       "  <tbody>\n",
       "    <tr>\n",
       "      <th>United States</th>\n",
       "      <td>2458</td>\n",
       "      <td>2276</td>\n",
       "      <td>182</td>\n",
       "    </tr>\n",
       "    <tr>\n",
       "      <th>Jesus</th>\n",
       "      <td>1942</td>\n",
       "      <td>1903</td>\n",
       "      <td>39</td>\n",
       "    </tr>\n",
       "    <tr>\n",
       "      <th>India</th>\n",
       "      <td>1835</td>\n",
       "      <td>1652</td>\n",
       "      <td>183</td>\n",
       "    </tr>\n",
       "    <tr>\n",
       "      <th>Climate change</th>\n",
       "      <td>1800</td>\n",
       "      <td>1777</td>\n",
       "      <td>23</td>\n",
       "    </tr>\n",
       "    <tr>\n",
       "      <th>Israel</th>\n",
       "      <td>1696</td>\n",
       "      <td>1636</td>\n",
       "      <td>60</td>\n",
       "    </tr>\n",
       "  </tbody>\n",
       "</table>\n",
       "</div>"
      ],
      "text/plain": [
       "                Total Degree  In Degree  Out Degree\n",
       "Node                                               \n",
       "United States           2458       2276         182\n",
       "Jesus                   1942       1903          39\n",
       "India                   1835       1652         183\n",
       "Climate change          1800       1777          23\n",
       "Israel                  1696       1636          60"
      ]
     },
     "execution_count": 3,
     "metadata": {},
     "output_type": "execute_result"
    }
   ],
   "source": [
    "# read saved initial graph\n",
    "graph = nx.read_graphml(\"wikigraph.graphml\")\n",
    "\n",
    "# remove bot users from graph\n",
    "bot_names = [\"User:Community Tech bot\", \"User:PrimeBOT\", \"User:InternetArchiveBot\", \"User:AnomieBOT\", \"User:RMCD bot\", \"User:Cyberbot II\", \"User:CommonsNotificationBot\",\n",
    "\"User:LinkBot\", \"User:FairuseBot\", \"User:BetacommandBot\", \"User:Legobot\", \"User:DumZiBoT\"]\n",
    "graph.remove_nodes_from(bot_names)\n",
    "\n",
    "# Print network properties\n",
    "print(f\"Number of nodes: {graph.number_of_nodes()}\")\n",
    "print(f\"Number of edges: {graph.number_of_edges()}\")\n",
    "print(f\"Average clustering coefficient: {nx.average_clustering(graph)}\")\n",
    "print(f\"Number of weakly connected components: {len(list(nx.weakly_connected_components(graph)))}\")\n",
    "degrees_dict = {\"Node\": dict(graph.degree).keys(), \"Total Degree\": dict(graph.degree).values(), \"In Degree\": dict(graph.in_degree).values(), \"Out Degree\": dict(graph.out_degree).values()}\n",
    "degrees_view = pd.DataFrame(degrees_dict).set_index(\"Node\")\n",
    "print(\"Top 5 nodes with largest in-degree:\")\n",
    "degrees_view.sort_values([\"Total Degree\"], ascending=False).head(5)"
   ]
  },
  {
   "cell_type": "code",
   "execution_count": 55,
   "metadata": {},
   "outputs": [
    {
     "name": "stdout",
     "output_type": "stream",
     "text": [
      "Number of article pages: 1000\n",
      "Connections between article pages: 17311\n",
      "Connections between user pages: 0\n",
      "Connections between users and articles: 159057\n"
     ]
    }
   ],
   "source": [
    "graph_u = graph.to_undirected()\n",
    "\n",
    "# filter for user names and article titles in the graph\n",
    "nodes_by_class = dict(graph.nodes(data=\"page_class\"))\n",
    "user_names = [node for node in nodes_by_class if nodes_by_class[node] == \"user\"]\n",
    "article_titles = [node for node in nodes_by_class if nodes_by_class[node] == \"article\"]\n",
    "\n",
    "users_graph = graph.subgraph(user_names)\n",
    "articles_graph = graph.subgraph(article_titles)\n",
    "print(f\"Number of article pages: {articles_graph.number_of_nodes()}\")\n",
    "print(f\"Connections between article pages: {articles_graph.number_of_edges()}\")\n",
    "print(f\"Connections between user pages: {users_graph.number_of_edges()}\")\n",
    "\n",
    "# returns true if the edge with endpoints u and v is between an article and a user node\n",
    "def isDifferentClass(graph, u, v):\n",
    "    ua = graph.nodes[u][\"page_class\"] == \"user\" and graph.nodes[v][\"page_class\"] == \"article\"\n",
    "    au = graph.nodes[u][\"page_class\"] == \"article\" and graph.nodes[v][\"page_class\"] == \"user\"\n",
    "    return ua or au\n",
    "\n",
    "print(f\"Connections between users and articles: {len([(u,v) for (u, v) in graph_u.edges() if isDifferentClass(graph_u, u, v)])}\")"
   ]
  },
  {
   "cell_type": "markdown",
   "metadata": {},
   "source": [
    "Below we plot the total degree distribuiton on a log-log scale. As we can see, our network is scale-free. Since the number of edges between articles is much smaller than the number of edges between users and articles. This means that the differences in degrees are for the most part caused by the edges corresponding to user edits. Therefore we conclude that a a minority of the articles are edited by a majority of the users."
   ]
  },
  {
   "cell_type": "code",
   "execution_count": 4,
   "metadata": {},
   "outputs": [],
   "source": [
    "# Plotting degree distributions"
   ]
  },
  {
   "cell_type": "markdown",
   "metadata": {},
   "source": [
    "## Analysis of the articles subgraph"
   ]
  },
  {
   "cell_type": "markdown",
   "metadata": {},
   "source": [
    "First we analyse the subgraph constructed by only taking the article nodes from our initial graph and the edges between them. We investigate number of nodes, edges, average clustering coefficient and top 5 nodes by in and out degree."
   ]
  },
  {
   "cell_type": "code",
   "execution_count": 137,
   "metadata": {},
   "outputs": [
    {
     "name": "stdout",
     "output_type": "stream",
     "text": [
      "Properties of the articles subgraph:\n",
      "Number of nodes: 1000\n",
      "Number of edges: 17311\n",
      "Average clustering coefficient: 0.14285079028156009\n",
      "Top 5 articles by in-degree:\n",
      "                   In Degree  Out Degree  Total Degree\n",
      "Node                                                  \n",
      "Human history            130           5           135\n",
      "Human                    103          15           118\n",
      "Europe                   101         128           229\n",
      "History of Europe         87           4            91\n",
      "Asia                      85          71           156\n",
      "Top 5 articles by out-degree:\n",
      "               In Degree  Out Degree  Total Degree\n",
      "Node                                              \n",
      "World War II          27         210           237\n",
      "Latin                 19         209           228\n",
      "India                 51         183           234\n",
      "United States         55         182           237\n",
      "Aristotle             35         171           206\n"
     ]
    }
   ],
   "source": [
    "article_references = pd.DataFrame(articles_graph.in_degree, columns=[\"Node\", \"In Degree\"]).set_index(\"Node\")\n",
    "article_references[\"Out Degree\"] = pd.Series(dict(articles_graph.out_degree).values(), index=dict(articles_graph.out_degree).keys())\n",
    "article_references[\"Total Degree\"] = pd.Series(dict(articles_graph.degree).values(), index=dict(articles_graph.degree).keys())\n",
    "print(\"Properties of the articles subgraph:\")\n",
    "print(f\"Number of nodes: {articles_graph.number_of_nodes()}\")\n",
    "print(f\"Number of edges: {articles_graph.number_of_edges()}\")\n",
    "print(f\"Average clustering coefficient: {nx.average_clustering(articles_graph)}\")\n",
    "print(\"Top 5 articles by in-degree:\")\n",
    "print(article_references.sort_values(\"In Degree\", ascending=False).head(5))\n",
    "print(\"Top 5 articles by out-degree:\")\n",
    "print(article_references.sort_values(\"Out Degree\", ascending=False).head(5))"
   ]
  },
  {
   "cell_type": "code",
   "execution_count": 140,
   "metadata": {},
   "outputs": [
    {
     "data": {
      "image/png": "[encoded data removed]",
      "text/plain": [
       "<Figure size 600x400 with 1 Axes>"
      ]
     },
     "metadata": {},
     "output_type": "display_data"
    }
   ],
   "source": [
    "fig, ax = plt.subplots(figsize=(6, 4))\n",
    "degree_counts = article_references[\"Total Degree\"].value_counts()\n",
    "ax.scatter(degree_counts.index, degree_counts.values, s=5, label='Data', color=\"red\")\n",
    "ax.set_yscale('log')\n",
    "ax.set_xscale('log')\n",
    "ax.set_title('Multiplicity of degrees in the articles subgraph [log-log]')\n",
    "plt.show()"
   ]
  },
  {
   "cell_type": "markdown",
   "metadata": {},
   "source": [
    "As we can see the articles subgraph is not scale-free. Next we perform community detection using the `louvain_community_detection` function which implements the [Louvain algorithm](https://sites.google.com/site/findcommunities/)."
   ]
  },
  {
   "cell_type": "code",
   "execution_count": 107,
   "metadata": {},
   "outputs": [],
   "source": [
    "def louvain_community_detection(graph):\n",
    "    graph_no_isolated = graph.copy()\n",
    "    graph_no_isolated.remove_nodes_from([node for node in graph.nodes if graph.degree(node) < 1])\n",
    "    louvain_partition_raw = nx.community.louvain_communities(graph_no_isolated)\n",
    "    print(\"Number of communities found: \", len(louvain_partition_raw))\n",
    "    print(\"Modularity of louvain partitions: \", nx.community.modularity(graph_no_isolated, louvain_partition_raw))\n",
    "    return louvain_partition_raw"
   ]
  },
  {
   "cell_type": "code",
   "execution_count": 153,
   "metadata": {},
   "outputs": [
    {
     "name": "stdout",
     "output_type": "stream",
     "text": [
      "Number of communities found:  21\n",
      "Modularity of louvain partitions:  0.2943964685825948\n"
     ]
    }
   ],
   "source": [
    "louvain_partition = louvain_community_detection(articles_graph)"
   ]
  },
  {
   "cell_type": "code",
   "execution_count": 154,
   "metadata": {},
   "outputs": [],
   "source": [
    "def plot_community_sizes(partition, ax, title):\n",
    "    sorted_size_communities = sorted([len(comm) for comm in partition])\n",
    "    ax.bar([x for x in range(1,len(partition)+1)], sorted_size_communities, color=\"cornflowerblue\")\n",
    "    ax.set_title(label=title)\n",
    "    ax.set_xlabel(xlabel=\"Index of communities\")\n",
    "    ax.set_ylabel(ylabel=\"Number of nodes\")\n",
    "    ax.set_xticks([x for x in range (1,len(partition)+1)])\n",
    "    max_c = sorted_size_communities[-1]\n",
    "    ax.set_ylim((0, max_c + 40))\n",
    "\n",
    "    rects = ax.patches\n",
    "    labels = [size for size in sorted_size_communities]\n",
    "\n",
    "    for rect, label in zip(rects, labels):\n",
    "        height = rect.get_height()\n",
    "        ax.text(rect.get_x() + rect.get_width() / 2, height + 5, label, ha=\"center\", va=\"bottom\")"
   ]
  },
  {
   "cell_type": "code",
   "execution_count": 155,
   "metadata": {},
   "outputs": [
    {
     "data": {
      "image/png": "[encoded data removed]",
      "text/plain": [
       "<Figure size 800x400 with 1 Axes>"
      ]
     },
     "metadata": {},
     "output_type": "display_data"
    }
   ],
   "source": [
    "fig, ax = plt.subplots(figsize=(8, 4))\n",
    "plot_community_sizes(louvain_partition, ax, \"Community size distribution for articles subgraph\")  \n",
    "plt.show()"
   ]
  },
  {
   "cell_type": "markdown",
   "metadata": {},
   "source": [
    "Throughout multiple runs, the algorithm detected from 15 to 20 communities with a modularity under 0.3 each time. The above figure shows the size distribution of the communities found during our last run of the algorithm. The low modularity and the excessively small or large communities could be a result of the wikipedia article subset, as the vital articles category aims to provide an overview with a diverse set of important topics."
   ]
  },
  {
   "cell_type": "markdown",
   "metadata": {},
   "source": [
    "## Shared user groups between article pairs\n",
    "\n",
    "We create a graph where the nodes are the articles and two nodes are connected by an edge of weight $w$ if exactly $w$ users contributed to both. Groups of shared articles are constructed using function `add_weighted_edges` by evaluating each article nodes' neighbourhoud in the source graph. The weighted edges corresponding to the shared editor groups is then added."
   ]
  },
  {
   "cell_type": "code",
   "execution_count": 6,
   "metadata": {},
   "outputs": [],
   "source": [
    "def add_weighted_edges(graph, source, node_type, frontier_type, frontier_key):\n",
    "    for node in list(graph.nodes):\n",
    "        related = {}\n",
    "        # get neighbouring nodes of the opposite type\n",
    "        frontier = set(n for n in source.neighbors(node) if source.nodes[n][\"page_class\"] == frontier_type)\n",
    "        graph.nodes[node][frontier_key] = len(frontier)\n",
    "        for f in frontier:\n",
    "            neighbor_nodes = list( n for n in source.neighbors(f) if source.nodes[n][\"page_class\"] == node_type)\n",
    "            for n in neighbor_nodes:\n",
    "                if n != node:\n",
    "                    if n in related:\n",
    "                        related[n] += 1\n",
    "                    else:\n",
    "                        related[n] = 1\n",
    "        graph.add_weighted_edges_from([(node, r, related[r]) for r in related])"
   ]
  },
  {
   "cell_type": "code",
   "execution_count": 7,
   "metadata": {},
   "outputs": [],
   "source": [
    "common_editors = nx.Graph()\n",
    "common_editors.add_nodes_from(article_titles)\n",
    "add_weighted_edges(common_editors, graph_u, \"article\", \"user\", \"editors_no\")"
   ]
  },
  {
   "cell_type": "markdown",
   "metadata": {},
   "source": [
    "We then perform analysis on the  resulting undirected weighted graph. As we can see, there has been a slight reordering in the top 5 articles by editor number. This is probably due to users that only contributed to one article being filtered out during construction of the graph"
   ]
  },
  {
   "cell_type": "code",
   "execution_count": 8,
   "metadata": {},
   "outputs": [
    {
     "name": "stdout",
     "output_type": "stream",
     "text": [
      "Number of nodes: 1000\n",
      "Number of edges: 242107\n",
      "Number of connected components: 3\n",
      "Average clustering coefficient: 0.708347877885475\n",
      "Maximum editors: 2221\n",
      "Average editors: 159.057\n",
      "Median editors: 86.0\n",
      "\n",
      "Top 5 nodes by overall number of editors:\n"
     ]
    },
    {
     "data": {
      "text/html": [
       "<div>\n",
       "<style scoped>\n",
       "    .dataframe tbody tr th:only-of-type {\n",
       "        vertical-align: middle;\n",
       "    }\n",
       "\n",
       "    .dataframe tbody tr th {\n",
       "        vertical-align: top;\n",
       "    }\n",
       "\n",
       "    .dataframe thead th {\n",
       "        text-align: right;\n",
       "    }\n",
       "</style>\n",
       "<table border=\"1\" class=\"dataframe\">\n",
       "  <thead>\n",
       "    <tr style=\"text-align: right;\">\n",
       "      <th></th>\n",
       "      <th>Editors</th>\n",
       "    </tr>\n",
       "    <tr>\n",
       "      <th>Node</th>\n",
       "      <th></th>\n",
       "    </tr>\n",
       "  </thead>\n",
       "  <tbody>\n",
       "    <tr>\n",
       "      <th>United States</th>\n",
       "      <td>2221</td>\n",
       "    </tr>\n",
       "    <tr>\n",
       "      <th>Jesus</th>\n",
       "      <td>1879</td>\n",
       "    </tr>\n",
       "    <tr>\n",
       "      <th>Climate change</th>\n",
       "      <td>1768</td>\n",
       "    </tr>\n",
       "    <tr>\n",
       "      <th>Israel</th>\n",
       "      <td>1612</td>\n",
       "    </tr>\n",
       "    <tr>\n",
       "      <th>India</th>\n",
       "      <td>1601</td>\n",
       "    </tr>\n",
       "  </tbody>\n",
       "</table>\n",
       "</div>"
      ],
      "text/plain": [
       "                Editors\n",
       "Node                   \n",
       "United States      2221\n",
       "Jesus              1879\n",
       "Climate change     1768\n",
       "Israel             1612\n",
       "India              1601"
      ]
     },
     "execution_count": 8,
     "metadata": {},
     "output_type": "execute_result"
    }
   ],
   "source": [
    "print(f\"Number of nodes: {common_editors.number_of_nodes()}\")\n",
    "print(f\"Number of edges: {common_editors.number_of_edges()}\")\n",
    "print(f\"Number of connected components: {nx.number_connected_components(common_editors)}\")\n",
    "print(f\"Average clustering coefficient: {nx.average_clustering(common_editors)}\")\n",
    "edge_weight_dict = nx.get_edge_attributes(common_editors, \"weight\")\n",
    "editors_dict = common_editors.nodes(data=\"editors_no\")\n",
    "editors_view = pd.DataFrame(editors_dict, columns=[\"Node\", \"Editors\"]).set_index(\"Node\")\n",
    "print(f\"Maximum editors: {editors_view.Editors.max()}\")\n",
    "print(f\"Average editors: {editors_view.Editors.mean()}\")\n",
    "print(f\"Median editors: {editors_view.Editors.median()}\")\n",
    "\n",
    "print(\"\\nTop 5 nodes by overall number of editors:\")\n",
    "editors_view.sort_values([\"Editors\"], ascending=False).head(5)\n"
   ]
  },
  {
   "cell_type": "code",
   "execution_count": 18,
   "metadata": {},
   "outputs": [
    {
     "name": "stdout",
     "output_type": "stream",
     "text": [
      "Maximum edge weight: 221\n",
      "Average edge weight: 3.3285695993920044\n",
      "Median edge weight: 2.0\n",
      "\n",
      "Top 10 node pairs by overall number of shared editors:\n"
     ]
    },
    {
     "data": {
      "text/html": [
       "<div>\n",
       "<style scoped>\n",
       "    .dataframe tbody tr th:only-of-type {\n",
       "        vertical-align: middle;\n",
       "    }\n",
       "\n",
       "    .dataframe tbody tr th {\n",
       "        vertical-align: top;\n",
       "    }\n",
       "\n",
       "    .dataframe thead th {\n",
       "        text-align: right;\n",
       "    }\n",
       "</style>\n",
       "<table border=\"1\" class=\"dataframe\">\n",
       "  <thead>\n",
       "    <tr style=\"text-align: right;\">\n",
       "      <th></th>\n",
       "      <th>Weight</th>\n",
       "      <th>Editors A</th>\n",
       "      <th>Editors B</th>\n",
       "    </tr>\n",
       "    <tr>\n",
       "      <th>Edge</th>\n",
       "      <th></th>\n",
       "      <th></th>\n",
       "      <th></th>\n",
       "    </tr>\n",
       "  </thead>\n",
       "  <tbody>\n",
       "    <tr>\n",
       "      <th>Christianity, Jesus</th>\n",
       "      <td>221</td>\n",
       "      <td>985</td>\n",
       "      <td>1879</td>\n",
       "    </tr>\n",
       "    <tr>\n",
       "      <th>Israel, Jerusalem</th>\n",
       "      <td>206</td>\n",
       "      <td>1612</td>\n",
       "      <td>637</td>\n",
       "    </tr>\n",
       "    <tr>\n",
       "      <th>Islam, Muhammad</th>\n",
       "      <td>203</td>\n",
       "      <td>1127</td>\n",
       "      <td>1396</td>\n",
       "    </tr>\n",
       "    <tr>\n",
       "      <th>Jesus, United States</th>\n",
       "      <td>178</td>\n",
       "      <td>1879</td>\n",
       "      <td>2221</td>\n",
       "    </tr>\n",
       "    <tr>\n",
       "      <th>Jesus, Muhammad</th>\n",
       "      <td>176</td>\n",
       "      <td>1879</td>\n",
       "      <td>1396</td>\n",
       "    </tr>\n",
       "    <tr>\n",
       "      <th>China, Taiwan</th>\n",
       "      <td>174</td>\n",
       "      <td>842</td>\n",
       "      <td>937</td>\n",
       "    </tr>\n",
       "    <tr>\n",
       "      <th>Adolf Hitler, Jesus</th>\n",
       "      <td>168</td>\n",
       "      <td>1535</td>\n",
       "      <td>1879</td>\n",
       "    </tr>\n",
       "    <tr>\n",
       "      <th>United Kingdom, United States</th>\n",
       "      <td>163</td>\n",
       "      <td>1188</td>\n",
       "      <td>2221</td>\n",
       "    </tr>\n",
       "    <tr>\n",
       "      <th>Israel, United States</th>\n",
       "      <td>147</td>\n",
       "      <td>1612</td>\n",
       "      <td>2221</td>\n",
       "    </tr>\n",
       "    <tr>\n",
       "      <th>India, Pakistan</th>\n",
       "      <td>144</td>\n",
       "      <td>1601</td>\n",
       "      <td>749</td>\n",
       "    </tr>\n",
       "  </tbody>\n",
       "</table>\n",
       "</div>"
      ],
      "text/plain": [
       "                               Weight  Editors A  Editors B\n",
       "Edge                                                       \n",
       "Christianity, Jesus               221        985       1879\n",
       "Israel, Jerusalem                 206       1612        637\n",
       "Islam, Muhammad                   203       1127       1396\n",
       "Jesus, United States              178       1879       2221\n",
       "Jesus, Muhammad                   176       1879       1396\n",
       "China, Taiwan                     174        842        937\n",
       "Adolf Hitler, Jesus               168       1535       1879\n",
       "United Kingdom, United States     163       1188       2221\n",
       "Israel, United States             147       1612       2221\n",
       "India, Pakistan                   144       1601        749"
      ]
     },
     "execution_count": 18,
     "metadata": {},
     "output_type": "execute_result"
    }
   ],
   "source": [
    "degree_a = [editors_dict[edge[0]] for edge in edge_weight_dict.keys()]\n",
    "degree_b = [editors_dict[edge[1]] for edge in edge_weight_dict.keys()]\n",
    "edges = [f\"{u}, {v}\" for (u, v) in edge_weight_dict.keys()]\n",
    "shared_user_df = pd.DataFrame({\"Edge\": edges, \"Weight\": edge_weight_dict.values(), \"Editors A\": degree_a,\n",
    "                              \"Editors B\": degree_b}).set_index(\"Edge\")\n",
    "print(f\"Maximum edge weight: {shared_user_df.Weight.max()}\")\n",
    "print(f\"Average edge weight: {shared_user_df.Weight.mean()}\")\n",
    "print(f\"Median edge weight: {shared_user_df.Weight.median()}\")\n",
    "print(\"\\nTop 10 node pairs by overall number of shared editors:\")\n",
    "most_raw_connected = shared_user_df.sort_values([\"Weight\"], ascending=False).head(10)\n",
    "most_raw_connected"
   ]
  },
  {
   "cell_type": "markdown",
   "metadata": {},
   "source": [
    "Above we see metrics of the weights assigned to edges as the top 10 article pairs by shared editor count. Now we normalize the weights by the number of editors for each individual article. While there are a few surprising connections (e.g. Adolf Hitler and Jesus), most of the node pairs we see here are semantically related. We also note that these topics also have a high editor count individually which contributes to them being part of the top 10.\n",
    "\n",
    "Now we will investigate what percentage of their editors different articles share with others. We will construct a directed graph this time, and compute a relative for edge $a \\rightarrow b$ in the following way:\n",
    "$$w_{rel} = \\frac{w}{editors(a)} \\cdot 100$$\n",
    "where $w$ is the number of shared editors between $a$ and $b$ and $editors(a)$ is the corresponding number of editors for article $a$. We can compute the relative weights for all edges directly using `shared_user_df`. The 100 multiplier was added to give a percentage view of the results."
   ]
  },
  {
   "cell_type": "code",
   "execution_count": 30,
   "metadata": {},
   "outputs": [
    {
     "name": "stdout",
     "output_type": "stream",
     "text": [
      "Max edge weight: 100.0\n",
      "Average edge weight: 2.2928565414885926\n",
      "Median edge weight: 1.5965939329430547\n",
      "\n",
      "Top 10 node pairs by ratio of shared editors:\n"
     ]
    },
    {
     "data": {
      "text/html": [
       "<div>\n",
       "<style scoped>\n",
       "    .dataframe tbody tr th:only-of-type {\n",
       "        vertical-align: middle;\n",
       "    }\n",
       "\n",
       "    .dataframe tbody tr th {\n",
       "        vertical-align: top;\n",
       "    }\n",
       "\n",
       "    .dataframe thead th {\n",
       "        text-align: right;\n",
       "    }\n",
       "</style>\n",
       "<table border=\"1\" class=\"dataframe\">\n",
       "  <thead>\n",
       "    <tr style=\"text-align: right;\">\n",
       "      <th></th>\n",
       "      <th>Weight</th>\n",
       "      <th>Editors A</th>\n",
       "      <th>Editors B</th>\n",
       "      <th>Relative Weight (%)</th>\n",
       "    </tr>\n",
       "    <tr>\n",
       "      <th>Edge</th>\n",
       "      <th></th>\n",
       "      <th></th>\n",
       "      <th></th>\n",
       "      <th></th>\n",
       "    </tr>\n",
       "  </thead>\n",
       "  <tbody>\n",
       "    <tr>\n",
       "      <th>History of India, India</th>\n",
       "      <td>83</td>\n",
       "      <td>205</td>\n",
       "      <td>1601</td>\n",
       "      <td>40.487805</td>\n",
       "    </tr>\n",
       "    <tr>\n",
       "      <th>Delhi, India</th>\n",
       "      <td>72</td>\n",
       "      <td>181</td>\n",
       "      <td>1601</td>\n",
       "      <td>39.779006</td>\n",
       "    </tr>\n",
       "    <tr>\n",
       "      <th>Post-classical history, United States</th>\n",
       "      <td>11</td>\n",
       "      <td>28</td>\n",
       "      <td>2221</td>\n",
       "      <td>39.285714</td>\n",
       "    </tr>\n",
       "    <tr>\n",
       "      <th>Nth root, Pi</th>\n",
       "      <td>12</td>\n",
       "      <td>31</td>\n",
       "      <td>587</td>\n",
       "      <td>38.709677</td>\n",
       "    </tr>\n",
       "    <tr>\n",
       "      <th>Visual arts, Art</th>\n",
       "      <td>12</td>\n",
       "      <td>32</td>\n",
       "      <td>165</td>\n",
       "      <td>37.500000</td>\n",
       "    </tr>\n",
       "    <tr>\n",
       "      <th>Post-classical history, Middle Ages</th>\n",
       "      <td>10</td>\n",
       "      <td>28</td>\n",
       "      <td>206</td>\n",
       "      <td>35.714286</td>\n",
       "    </tr>\n",
       "    <tr>\n",
       "      <th>Deity, God</th>\n",
       "      <td>18</td>\n",
       "      <td>51</td>\n",
       "      <td>642</td>\n",
       "      <td>35.294118</td>\n",
       "    </tr>\n",
       "    <tr>\n",
       "      <th>Climate, Climate change</th>\n",
       "      <td>14</td>\n",
       "      <td>40</td>\n",
       "      <td>1768</td>\n",
       "      <td>35.000000</td>\n",
       "    </tr>\n",
       "    <tr>\n",
       "      <th>Bhagavad Gita, Hinduism</th>\n",
       "      <td>44</td>\n",
       "      <td>126</td>\n",
       "      <td>554</td>\n",
       "      <td>34.920635</td>\n",
       "    </tr>\n",
       "    <tr>\n",
       "      <th>Mahayana, Theravada</th>\n",
       "      <td>16</td>\n",
       "      <td>46</td>\n",
       "      <td>62</td>\n",
       "      <td>34.782609</td>\n",
       "    </tr>\n",
       "  </tbody>\n",
       "</table>\n",
       "</div>"
      ],
      "text/plain": [
       "                                       Weight  Editors A  Editors B  \\\n",
       "Edge                                                                  \n",
       "History of India, India                    83        205       1601   \n",
       "Delhi, India                               72        181       1601   \n",
       "Post-classical history, United States      11         28       2221   \n",
       "Nth root, Pi                               12         31        587   \n",
       "Visual arts, Art                           12         32        165   \n",
       "Post-classical history, Middle Ages        10         28        206   \n",
       "Deity, God                                 18         51        642   \n",
       "Climate, Climate change                    14         40       1768   \n",
       "Bhagavad Gita, Hinduism                    44        126        554   \n",
       "Mahayana, Theravada                        16         46         62   \n",
       "\n",
       "                                       Relative Weight (%)  \n",
       "Edge                                                        \n",
       "History of India, India                          40.487805  \n",
       "Delhi, India                                     39.779006  \n",
       "Post-classical history, United States            39.285714  \n",
       "Nth root, Pi                                     38.709677  \n",
       "Visual arts, Art                                 37.500000  \n",
       "Post-classical history, Middle Ages              35.714286  \n",
       "Deity, God                                       35.294118  \n",
       "Climate, Climate change                          35.000000  \n",
       "Bhagavad Gita, Hinduism                          34.920635  \n",
       "Mahayana, Theravada                              34.782609  "
      ]
     },
     "execution_count": 30,
     "metadata": {},
     "output_type": "execute_result"
    }
   ],
   "source": [
    "shared_user_df[\"Relative Weight (%)\"] = shared_user_df.Weight / shared_user_df[\"Editors A\"] * 100\n",
    "desc_rel_weight = shared_user_df.sort_values([\"Relative Weight (%)\"], ascending=False)\n",
    "print(f\"Max edge weight: {shared_user_df['Relative Weight (%)'].max()}\")\n",
    "print(f\"Average edge weight: {shared_user_df['Relative Weight (%)'].mean()}\")\n",
    "print(f\"Median edge weight: {shared_user_df['Relative Weight (%)'].median()}\")\n",
    "print(\"\\nTop 10 node pairs by ratio of shared editors:\")\n",
    "desc_rel_weight[(desc_rel_weight[\"Editors A\"] > 20) & (desc_rel_weight[\"Editors B\"] > 20)].head(10)"
   ]
  },
  {
   "cell_type": "markdown",
   "metadata": {},
   "source": [
    "As we can see, the article pairs ranked higher by relative weight have a stronger semantic connection. The maximal relative weight for an edge is 1.0. This is because some articles have only one editor in our subset and as soon as they edit another article, the edge with weight 1.0 is created. To avoid overrepresenting these types of connections we chose to only evaluate connections of the articles with at least 20 editors. \n",
    "\n",
    "As we can see above, the relative weight metric uncovers strong connections between more niche topics as well (e.g between Mahayana and Theravada buddhism). Now let's see the shared user percentages for the highest ranking edges by overall number of editors."
   ]
  },
  {
   "cell_type": "code",
   "execution_count": 27,
   "metadata": {},
   "outputs": [
    {
     "name": "stdout",
     "output_type": "stream",
     "text": [
      "Number of edges with higher weights: 312\n",
      "Below edges are in the top 2.1%\n",
      "\n",
      "Relative shared editors for the top 10 edges by shared editor number:\n"
     ]
    },
    {
     "data": {
      "text/html": [
       "<div>\n",
       "<style scoped>\n",
       "    .dataframe tbody tr th:only-of-type {\n",
       "        vertical-align: middle;\n",
       "    }\n",
       "\n",
       "    .dataframe tbody tr th {\n",
       "        vertical-align: top;\n",
       "    }\n",
       "\n",
       "    .dataframe thead th {\n",
       "        text-align: right;\n",
       "    }\n",
       "</style>\n",
       "<table border=\"1\" class=\"dataframe\">\n",
       "  <thead>\n",
       "    <tr style=\"text-align: right;\">\n",
       "      <th></th>\n",
       "      <th>Weight</th>\n",
       "      <th>Editors A</th>\n",
       "      <th>Editors B</th>\n",
       "      <th>Relative Weight (%)</th>\n",
       "    </tr>\n",
       "    <tr>\n",
       "      <th>Edge</th>\n",
       "      <th></th>\n",
       "      <th></th>\n",
       "      <th></th>\n",
       "      <th></th>\n",
       "    </tr>\n",
       "  </thead>\n",
       "  <tbody>\n",
       "    <tr>\n",
       "      <th>Christianity, Jesus</th>\n",
       "      <td>221</td>\n",
       "      <td>985</td>\n",
       "      <td>1879</td>\n",
       "      <td>22.436548</td>\n",
       "    </tr>\n",
       "    <tr>\n",
       "      <th>Israel, Jerusalem</th>\n",
       "      <td>206</td>\n",
       "      <td>1612</td>\n",
       "      <td>637</td>\n",
       "      <td>12.779156</td>\n",
       "    </tr>\n",
       "    <tr>\n",
       "      <th>Islam, Muhammad</th>\n",
       "      <td>203</td>\n",
       "      <td>1127</td>\n",
       "      <td>1396</td>\n",
       "      <td>18.012422</td>\n",
       "    </tr>\n",
       "    <tr>\n",
       "      <th>Jesus, United States</th>\n",
       "      <td>178</td>\n",
       "      <td>1879</td>\n",
       "      <td>2221</td>\n",
       "      <td>9.473124</td>\n",
       "    </tr>\n",
       "    <tr>\n",
       "      <th>Jesus, Muhammad</th>\n",
       "      <td>176</td>\n",
       "      <td>1879</td>\n",
       "      <td>1396</td>\n",
       "      <td>9.366684</td>\n",
       "    </tr>\n",
       "    <tr>\n",
       "      <th>China, Taiwan</th>\n",
       "      <td>174</td>\n",
       "      <td>842</td>\n",
       "      <td>937</td>\n",
       "      <td>20.665083</td>\n",
       "    </tr>\n",
       "    <tr>\n",
       "      <th>Adolf Hitler, Jesus</th>\n",
       "      <td>168</td>\n",
       "      <td>1535</td>\n",
       "      <td>1879</td>\n",
       "      <td>10.944625</td>\n",
       "    </tr>\n",
       "    <tr>\n",
       "      <th>United Kingdom, United States</th>\n",
       "      <td>163</td>\n",
       "      <td>1188</td>\n",
       "      <td>2221</td>\n",
       "      <td>13.720539</td>\n",
       "    </tr>\n",
       "    <tr>\n",
       "      <th>Israel, United States</th>\n",
       "      <td>147</td>\n",
       "      <td>1612</td>\n",
       "      <td>2221</td>\n",
       "      <td>9.119107</td>\n",
       "    </tr>\n",
       "    <tr>\n",
       "      <th>India, Pakistan</th>\n",
       "      <td>144</td>\n",
       "      <td>1601</td>\n",
       "      <td>749</td>\n",
       "      <td>8.994379</td>\n",
       "    </tr>\n",
       "  </tbody>\n",
       "</table>\n",
       "</div>"
      ],
      "text/plain": [
       "                               Weight  Editors A  Editors B  \\\n",
       "Edge                                                          \n",
       "Christianity, Jesus               221        985       1879   \n",
       "Israel, Jerusalem                 206       1612        637   \n",
       "Islam, Muhammad                   203       1127       1396   \n",
       "Jesus, United States              178       1879       2221   \n",
       "Jesus, Muhammad                   176       1879       1396   \n",
       "China, Taiwan                     174        842        937   \n",
       "Adolf Hitler, Jesus               168       1535       1879   \n",
       "United Kingdom, United States     163       1188       2221   \n",
       "Israel, United States             147       1612       2221   \n",
       "India, Pakistan                   144       1601        749   \n",
       "\n",
       "                               Relative Weight (%)  \n",
       "Edge                                                \n",
       "Christianity, Jesus                      22.436548  \n",
       "Israel, Jerusalem                        12.779156  \n",
       "Islam, Muhammad                          18.012422  \n",
       "Jesus, United States                      9.473124  \n",
       "Jesus, Muhammad                           9.366684  \n",
       "China, Taiwan                            20.665083  \n",
       "Adolf Hitler, Jesus                      10.944625  \n",
       "United Kingdom, United States            13.720539  \n",
       "Israel, United States                     9.119107  \n",
       "India, Pakistan                           8.994379  "
      ]
     },
     "execution_count": 27,
     "metadata": {},
     "output_type": "execute_result"
    }
   ],
   "source": [
    "top_by_count = shared_user_df.loc[most_raw_connected.index]\n",
    "no_higher = len(shared_user_df.loc[shared_user_df['Relative Weight (%)'] > top_by_count['Relative Weight (%)'].max()])\n",
    "all_above_min = len(shared_user_df.loc[shared_user_df['Relative Weight (%)'] >= top_by_count['Relative Weight (%)'].min()])\n",
    "print(f\"Number of edges with higher weights: {no_higher}\")\n",
    "print(f\"Below edges are in the top {all_above_min / len(shared_user_df) * 100:.2}%\")\n",
    "print(\"\\nRelative shared editors for the top 10 edges by shared editor number:\")\n",
    "top_by_count"
   ]
  },
  {
   "cell_type": "markdown",
   "metadata": {},
   "source": [
    "This shows that the most edited articles are still ranked very high overall. Now let's see the 5 lowest rankied topics."
   ]
  },
  {
   "cell_type": "code",
   "execution_count": 43,
   "metadata": {},
   "outputs": [
    {
     "name": "stdout",
     "output_type": "stream",
     "text": [
      "Bottom 10 node pairs by percentage of shared editors:\n"
     ]
    },
    {
     "data": {
      "text/html": [
       "<div>\n",
       "<style scoped>\n",
       "    .dataframe tbody tr th:only-of-type {\n",
       "        vertical-align: middle;\n",
       "    }\n",
       "\n",
       "    .dataframe tbody tr th {\n",
       "        vertical-align: top;\n",
       "    }\n",
       "\n",
       "    .dataframe thead th {\n",
       "        text-align: right;\n",
       "    }\n",
       "</style>\n",
       "<table border=\"1\" class=\"dataframe\">\n",
       "  <thead>\n",
       "    <tr style=\"text-align: right;\">\n",
       "      <th></th>\n",
       "      <th>Weight</th>\n",
       "      <th>Editors A</th>\n",
       "      <th>Editors B</th>\n",
       "      <th>Relative Weight (%)</th>\n",
       "    </tr>\n",
       "    <tr>\n",
       "      <th>Edge</th>\n",
       "      <th></th>\n",
       "      <th></th>\n",
       "      <th></th>\n",
       "      <th></th>\n",
       "    </tr>\n",
       "  </thead>\n",
       "  <tbody>\n",
       "    <tr>\n",
       "      <th>United States, Weapon</th>\n",
       "      <td>1</td>\n",
       "      <td>2221</td>\n",
       "      <td>26</td>\n",
       "      <td>0.045025</td>\n",
       "    </tr>\n",
       "    <tr>\n",
       "      <th>United States, Wave</th>\n",
       "      <td>1</td>\n",
       "      <td>2221</td>\n",
       "      <td>46</td>\n",
       "      <td>0.045025</td>\n",
       "    </tr>\n",
       "    <tr>\n",
       "      <th>Jesus, Word</th>\n",
       "      <td>1</td>\n",
       "      <td>1879</td>\n",
       "      <td>24</td>\n",
       "      <td>0.053220</td>\n",
       "    </tr>\n",
       "    <tr>\n",
       "      <th>Jesus, Suffrage</th>\n",
       "      <td>1</td>\n",
       "      <td>1879</td>\n",
       "      <td>21</td>\n",
       "      <td>0.053220</td>\n",
       "    </tr>\n",
       "    <tr>\n",
       "      <th>Jesus, Navigation</th>\n",
       "      <td>1</td>\n",
       "      <td>1879</td>\n",
       "      <td>20</td>\n",
       "      <td>0.053220</td>\n",
       "    </tr>\n",
       "    <tr>\n",
       "      <th>Jesus, Lipid</th>\n",
       "      <td>1</td>\n",
       "      <td>1879</td>\n",
       "      <td>31</td>\n",
       "      <td>0.053220</td>\n",
       "    </tr>\n",
       "    <tr>\n",
       "      <th>Jesus, Motion</th>\n",
       "      <td>1</td>\n",
       "      <td>1879</td>\n",
       "      <td>28</td>\n",
       "      <td>0.053220</td>\n",
       "    </tr>\n",
       "    <tr>\n",
       "      <th>Jesus, Rocky Mountains</th>\n",
       "      <td>1</td>\n",
       "      <td>1879</td>\n",
       "      <td>43</td>\n",
       "      <td>0.053220</td>\n",
       "    </tr>\n",
       "    <tr>\n",
       "      <th>Jesus, Realism (arts)</th>\n",
       "      <td>1</td>\n",
       "      <td>1879</td>\n",
       "      <td>9</td>\n",
       "      <td>0.053220</td>\n",
       "    </tr>\n",
       "    <tr>\n",
       "      <th>Jesus, Organic chemistry</th>\n",
       "      <td>1</td>\n",
       "      <td>1879</td>\n",
       "      <td>30</td>\n",
       "      <td>0.053220</td>\n",
       "    </tr>\n",
       "  </tbody>\n",
       "</table>\n",
       "</div>"
      ],
      "text/plain": [
       "                          Weight  Editors A  Editors B  Relative Weight (%)\n",
       "Edge                                                                       \n",
       "United States, Weapon          1       2221         26             0.045025\n",
       "United States, Wave            1       2221         46             0.045025\n",
       "Jesus, Word                    1       1879         24             0.053220\n",
       "Jesus, Suffrage                1       1879         21             0.053220\n",
       "Jesus, Navigation              1       1879         20             0.053220\n",
       "Jesus, Lipid                   1       1879         31             0.053220\n",
       "Jesus, Motion                  1       1879         28             0.053220\n",
       "Jesus, Rocky Mountains         1       1879         43             0.053220\n",
       "Jesus, Realism (arts)          1       1879          9             0.053220\n",
       "Jesus, Organic chemistry       1       1879         30             0.053220"
      ]
     },
     "execution_count": 43,
     "metadata": {},
     "output_type": "execute_result"
    }
   ],
   "source": [
    "print(\"Bottom 10 node pairs by percentage of shared editors:\")\n",
    "asc_rel_weight = shared_user_df.sort_values([\"Relative Weight (%)\"], ascending=True)\n",
    "asc_rel_weight.head(10)"
   ]
  },
  {
   "cell_type": "code",
   "execution_count": 51,
   "metadata": {},
   "outputs": [
    {
     "name": "stdout",
     "output_type": "stream",
     "text": [
      "United States article contains link to Weapon:  True\n",
      "Weapon article contains link to United States:  True\n"
     ]
    }
   ],
   "source": [
    "print(\"United States article contains link to Weapon: \", \"United States\" in list(articles_graph.neighbors(\"Weapon\")))\n",
    "print(\"Weapon article contains link to United States: \", \"Weapon\" in list(articles_graph.neighbors(\"United States\")))"
   ]
  },
  {
   "cell_type": "markdown",
   "metadata": {},
   "source": [
    "The low weight of the edge between the United States and Weapon articles is surprising especially because both of these articles link to each other in their page content. \n",
    "\n",
    "Most of the other results make sense as the article titles are not semantically related to each other. ,  Most of the above results make sense as the article pairs do not have much in common sematically.\n",
    "\n",
    "Overall by focusing on user collaboration, we see a different article network structure emerging to the one constructed through page content links. Let us investigate this through community detection using the [Louvain algorithm](https://sites.google.com/site/findcommunities/)."
   ]
  },
  {
   "cell_type": "code",
   "execution_count": 110,
   "metadata": {},
   "outputs": [
    {
     "name": "stdout",
     "output_type": "stream",
     "text": [
      "Number of nodes: 1000\n",
      "Number of edges: 242107\n",
      "Average clustering coefficient: 0.708347877885475\n"
     ]
    }
   ],
   "source": [
    "common_editors_rel = nx.Graph()\n",
    "common_editors_rel.add_nodes_from(article_titles)\n",
    "\n",
    "s = shared_user_df[\"Relative Weight (%)\"]\n",
    "edge_endpoints = np.array([edge_str.split(\", \") for edge_str in s.index])\n",
    "rel_weighted_edges = list(zip(edge_endpoints[:,0], edge_endpoints[:,1], s))\n",
    "common_editors_rel.add_weighted_edges_from(rel_weighted_edges)\n",
    "\n",
    "print(f\"Number of nodes: {common_editors_rel.number_of_nodes()}\")\n",
    "print(f\"Number of edges: {common_editors_rel.number_of_edges()}\")\n",
    "print(f\"Average clustering coefficient: {nx.average_clustering(common_editors_rel)}\")"
   ]
  },
  {
   "cell_type": "code",
   "execution_count": 114,
   "metadata": {},
   "outputs": [
    {
     "name": "stdout",
     "output_type": "stream",
     "text": [
      "Weights are raw shared editor numbers:\n",
      "Number of communities found:  5\n",
      "Modularity of louvain partitions:  0.1420938265234611\n",
      "---------------------------------\n",
      "Weights are relative shared editor numbers:\n",
      "Number of communities found:  5\n",
      "Modularity of louvain partitions:  0.1448154138171576\n"
     ]
    }
   ],
   "source": [
    "print(\"Weights are raw shared editor numbers:\")\n",
    "louvain_partition_raw = louvain_community_detection(common_editors)\n",
    "\n",
    "print(\"---------------------------------\")\n",
    "\n",
    "print(\"Weights are relative shared editor numbers:\")\n",
    "louvain_partition_rel = louvain_community_detection(common_editors_rel)"
   ]
  },
  {
   "cell_type": "code",
   "execution_count": 115,
   "metadata": {},
   "outputs": [
    {
     "data": {
      "image/png": "[encoded data removed]",
      "text/plain": [
       "<Figure size 1400x600 with 2 Axes>"
      ]
     },
     "metadata": {},
     "output_type": "display_data"
    }
   ],
   "source": [
    "titles = [\"Community size distribution for shared editors graph (raw weights)\", \"Community size distribution for shared editors graph (relative weights)\"]\n",
    "partitions = [louvain_partition_raw, louvain_partition_rel]\n",
    "fig, ax = plt.subplots(1, 2, figsize=(14, 6), layout=\"constrained\")\n",
    "for idx, (title, partition) in enumerate(zip(titles, partitions)):\n",
    "    plot_community_sizes(partition, ax[idx], title)\n",
    "plt.show()\n"
   ]
  },
  {
   "cell_type": "markdown",
   "metadata": {},
   "source": [
    "This suggests that user preferences usually do not align to the groupings based on article topics. While we see users with specific expertise mainly contributing to a small niche of articles; the more popular ond/or controversial topics have a major appeal to all users. \n",
    "This difference in connectedness is also reflected by the difference in the average clustering coefficient of the graphs. Two arbirarily chosen nodes are much more likely to have an edge between them in the shared editors graph than the article subgraph.\n",
    "\n",
    "The Louvain algorithm identified fewer communities in the shared editors graph than for the articles subgraph. This further emphasises the differences in strucure between the two, even though neither partition had a high modularity. \n",
    "\n",
    "These differences may contribute to diverse discussions on article talk pages, particularly for popular topics where there are likely more conflicts."
   ]
  }
 ],
 "metadata": {
  "kernelspec": {
   "display_name": "social",
   "language": "python",
   "name": "python3"
  },
  "language_info": {
   "codemirror_mode": {
    "name": "ipython",
    "version": 3
   },
   "file_extension": ".py",
   "mimetype": "text/x-python",
   "name": "python",
   "nbconvert_exporter": "python",
   "pygments_lexer": "ipython3",
   "version": "3.10.13"
  }
 },
 "nbformat": 4,
 "nbformat_minor": 2
}
