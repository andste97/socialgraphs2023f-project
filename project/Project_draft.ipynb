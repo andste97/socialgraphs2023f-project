{
 "cells": [
  {
   "cell_type": "markdown",
   "metadata": {},
   "source": [
    "## Preliminary data analysis metrics\n",
    "\n",
    "> An explanation of the central idea behind your final project (What is the idea? Why is it interesting? Which datasets did you need to explore the idea? How did you download them?)\n",
    "\n",
    "Required imports"
   ]
  },
  {
   "cell_type": "code",
   "execution_count": 1,
   "metadata": {},
   "outputs": [],
   "source": [
    "# clean up outputs from warnings\n",
    "import warnings\n",
    "warnings.filterwarnings(\"ignore\")\n",
    "\n",
    "import networkx as nx\n",
    "import numpy as np\n",
    "import matplotlib.pyplot as plt\n",
    "import scraper\n",
    "import utils\n",
    "import numpy as np\n",
    "import pandas as pd\n",
    "\n",
    "from nltk import FreqDist\n",
    "import pathlib\n",
    "from multiprocessing import Pool\n",
    "import pickle\n",
    "\n",
    "plt.rcParams['figure.figsize'] = [10, 8]"
   ]
  },
  {
   "cell_type": "markdown",
   "metadata": {},
   "source": [
    "If something related to tqdm fails, run:\n",
    "> `pip install ipywidgets widgetsnbextension pandas-profiling`\n",
    "\n",
    "Changes?\n",
    "> `pip freeze > requirements.txt`"
   ]
  },
  {
   "cell_type": "markdown",
   "metadata": {},
   "source": [
    "## Downloading the data"
   ]
  },
  {
   "cell_type": "code",
   "execution_count": 61,
   "metadata": {},
   "outputs": [
    {
     "name": "stderr",
     "output_type": "stream",
     "text": [
      "Fetching 3 categories:   0%|          | 0/3 [00:00<?, ?it/s]"
     ]
    },
    {
     "name": "stderr",
     "output_type": "stream",
     "text": [
      "Fetching 3 categories: 100%|██████████| 3/3 [00:00<00:00,  3.88it/s]\n",
      "Fetching 1001 page archive titles: 100%|██████████| 1001/1001 [00:07<00:00, 142.59it/s]\n",
      "Fetching 7357 talk pages: 100%|██████████| 148/148 [00:09<00:00, 15.96it/s]\n",
      "Writing talk page batches to disk: 100%|██████████| 148/148 [00:04<00:00, 36.47it/s]\n",
      "Parsing talk page batches: 100%|██████████| 148/148 [00:31<00:00,  4.63it/s]\n",
      "Fetching 1001 wiki pages: 100%|██████████| 21/21 [00:02<00:00,  9.54it/s]\n",
      "Parsing wiki page batches: 100%|██████████| 21/21 [00:04<00:00,  4.30it/s]\n",
      "Creating graph: 100%|██████████| 7357/7357 [00:02<00:00, 3092.37it/s] "
     ]
    },
    {
     "name": "stdout",
     "output_type": "stream",
     "text": [
      "Total edges: 210596\n"
     ]
    },
    {
     "name": "stderr",
     "output_type": "stream",
     "text": [
      "\n"
     ]
    }
   ],
   "source": [
    "category_titles = [\n",
    "    \"Category:Wikipedia_level-1_vital_articles\",\n",
    "    \"Category:Wikipedia_level-2_vital_articles\",\n",
    "    \"Category:Wikipedia_level-3_vital_articles\",\n",
    "    #\"Category:Wikipedia_level-4_vital_articles\",\n",
    "    #\"Category:Wikipedia_level-5_vital_articles\"\n",
    "]\n",
    "\n",
    "page_graph, infos  = await scraper.scrape_wiki(category_titles)"
   ]
  },
  {
   "cell_type": "markdown",
   "metadata": {},
   "source": [
    "A walk-through of your preliminary data analysis, addressing:\n",
    "> - What is the total size of your data? (MB, number of pages, other variables, etc.)"
   ]
  },
  {
   "cell_type": "code",
   "execution_count": 62,
   "metadata": {},
   "outputs": [
    {
     "data": {
      "text/plain": [
       "dict_keys(['titles', 'archive_titles'])"
      ]
     },
     "execution_count": 62,
     "metadata": {},
     "output_type": "execute_result"
    }
   ],
   "source": [
    "infos.keys()"
   ]
  },
  {
   "cell_type": "code",
   "execution_count": 63,
   "metadata": {},
   "outputs": [
    {
     "name": "stdout",
     "output_type": "stream",
     "text": [
      "Number of pages in the vital articles dataset: 1001\n",
      "Number of related archived pages: 6356\n",
      "Number of users found in relation to the dataset: 79506\n",
      "No. nodes 81508\n",
      "No. links: 162089\n"
     ]
    }
   ],
   "source": [
    "talk_pages = [title for title in page_graph.nodes if title[:5] == \"Talk:\"]\n",
    "users = [title for title in page_graph.nodes if title[:5] == \"User:\"]\n",
    "print(\"Number of pages in the vital articles dataset:\", len(infos[\"titles\"]))\n",
    "print(\"Number of related archived pages:\", len(infos[\"archive_titles\"]))\n",
    "print(\"Number of users found in relation to the dataset:\", len(users))\n",
    "print(\"No. nodes\", page_graph.number_of_nodes())\n",
    "print(\"No. links:\", page_graph.number_of_edges())"
   ]
  },
  {
   "cell_type": "markdown",
   "metadata": {},
   "source": [
    "> - What is the network you will be analyzing? (number of nodes? number of links?, degree distributions, what are node attributes?, etc.)"
   ]
  },
  {
   "cell_type": "code",
   "execution_count": 64,
   "metadata": {},
   "outputs": [
    {
     "ename": "KeyboardInterrupt",
     "evalue": "",
     "output_type": "error",
     "traceback": [
      "\u001b[0;31m---------------------------------------------------------------------------\u001b[0m",
      "\u001b[0;31mKeyboardInterrupt\u001b[0m                         Traceback (most recent call last)",
      "\u001b[1;32m/home/andreas/socialgraphs2023f-project/project/Project_draft.ipynb Cell 10\u001b[0m line \u001b[0;36m2\n\u001b[1;32m     <a href='vscode-notebook-cell://wsl%2Bubuntu/home/andreas/socialgraphs2023f-project/project/Project_draft.ipynb#X12sdnNjb2RlLXJlbW90ZQ%3D%3D?line=24'>25</a>\u001b[0m node_colors \u001b[39m=\u001b[39m [color_talk \u001b[39mif\u001b[39;00m node[\u001b[39m1\u001b[39m][\u001b[39m\"\u001b[39m\u001b[39mpage_class\u001b[39m\u001b[39m\"\u001b[39m] \u001b[39m==\u001b[39m \u001b[39m\"\u001b[39m\u001b[39mtalk\u001b[39m\u001b[39m\"\u001b[39m \u001b[39melse\u001b[39;00m color_user \u001b[39mfor\u001b[39;00m node \u001b[39min\u001b[39;00m rsubgraph\u001b[39m.\u001b[39mnodes(data\u001b[39m=\u001b[39m\u001b[39mTrue\u001b[39;00m)]\n\u001b[1;32m     <a href='vscode-notebook-cell://wsl%2Bubuntu/home/andreas/socialgraphs2023f-project/project/Project_draft.ipynb#X12sdnNjb2RlLXJlbW90ZQ%3D%3D?line=25'>26</a>\u001b[0m node_sizes \u001b[39m=\u001b[39m [rsubgraph\u001b[39m.\u001b[39mdegree(node) \u001b[39mfor\u001b[39;00m node \u001b[39min\u001b[39;00m rsubgraph\u001b[39m.\u001b[39mnodes]\n\u001b[0;32m---> <a href='vscode-notebook-cell://wsl%2Bubuntu/home/andreas/socialgraphs2023f-project/project/Project_draft.ipynb#X12sdnNjb2RlLXJlbW90ZQ%3D%3D?line=27'>28</a>\u001b[0m nx\u001b[39m.\u001b[39;49mdraw(rsubgraph, with_labels\u001b[39m=\u001b[39;49m\u001b[39mTrue\u001b[39;49;00m, font_weight\u001b[39m=\u001b[39;49m\u001b[39m'\u001b[39;49m\u001b[39mlight\u001b[39;49m\u001b[39m'\u001b[39;49m, font_size\u001b[39m=\u001b[39;49m\u001b[39m5\u001b[39;49m, node_size\u001b[39m=\u001b[39;49mnode_sizes, width\u001b[39m=\u001b[39;49m\u001b[39m.1\u001b[39;49m, edge_color\u001b[39m=\u001b[39;49m\u001b[39m\"\u001b[39;49m\u001b[39m#555555\u001b[39;49m\u001b[39m\"\u001b[39;49m, arrowsize\u001b[39m=\u001b[39;49m\u001b[39m2\u001b[39;49m, node_color\u001b[39m=\u001b[39;49mnode_colors)\n",
      "File \u001b[0;32m~/socialgraphs2023f-project/.venv/lib/python3.10/site-packages/networkx/drawing/nx_pylab.py:121\u001b[0m, in \u001b[0;36mdraw\u001b[0;34m(G, pos, ax, **kwds)\u001b[0m\n\u001b[1;32m    118\u001b[0m \u001b[39mif\u001b[39;00m \u001b[39m\"\u001b[39m\u001b[39mwith_labels\u001b[39m\u001b[39m\"\u001b[39m \u001b[39mnot\u001b[39;00m \u001b[39min\u001b[39;00m kwds:\n\u001b[1;32m    119\u001b[0m     kwds[\u001b[39m\"\u001b[39m\u001b[39mwith_labels\u001b[39m\u001b[39m\"\u001b[39m] \u001b[39m=\u001b[39m \u001b[39m\"\u001b[39m\u001b[39mlabels\u001b[39m\u001b[39m\"\u001b[39m \u001b[39min\u001b[39;00m kwds\n\u001b[0;32m--> 121\u001b[0m draw_networkx(G, pos\u001b[39m=\u001b[39;49mpos, ax\u001b[39m=\u001b[39;49max, \u001b[39m*\u001b[39;49m\u001b[39m*\u001b[39;49mkwds)\n\u001b[1;32m    122\u001b[0m ax\u001b[39m.\u001b[39mset_axis_off()\n\u001b[1;32m    123\u001b[0m plt\u001b[39m.\u001b[39mdraw_if_interactive()\n",
      "File \u001b[0;32m~/socialgraphs2023f-project/.venv/lib/python3.10/site-packages/networkx/drawing/nx_pylab.py:305\u001b[0m, in \u001b[0;36mdraw_networkx\u001b[0;34m(G, pos, arrows, with_labels, **kwds)\u001b[0m\n\u001b[1;32m    302\u001b[0m     pos \u001b[39m=\u001b[39m nx\u001b[39m.\u001b[39mdrawing\u001b[39m.\u001b[39mspring_layout(G)  \u001b[39m# default to spring layout\u001b[39;00m\n\u001b[1;32m    304\u001b[0m draw_networkx_nodes(G, pos, \u001b[39m*\u001b[39m\u001b[39m*\u001b[39mnode_kwds)\n\u001b[0;32m--> 305\u001b[0m draw_networkx_edges(G, pos, arrows\u001b[39m=\u001b[39;49marrows, \u001b[39m*\u001b[39;49m\u001b[39m*\u001b[39;49medge_kwds)\n\u001b[1;32m    306\u001b[0m \u001b[39mif\u001b[39;00m with_labels:\n\u001b[1;32m    307\u001b[0m     draw_networkx_labels(G, pos, \u001b[39m*\u001b[39m\u001b[39m*\u001b[39mlabel_kwds)\n",
      "File \u001b[0;32m~/socialgraphs2023f-project/.venv/lib/python3.10/site-packages/networkx/drawing/nx_pylab.py:912\u001b[0m, in \u001b[0;36mdraw_networkx_edges\u001b[0;34m(G, pos, edgelist, width, edge_color, style, alpha, arrowstyle, arrowsize, edge_cmap, edge_vmin, edge_vmax, ax, arrows, label, node_size, nodelist, node_shape, connectionstyle, min_source_margin, min_target_margin)\u001b[0m\n\u001b[1;32m    910\u001b[0m \u001b[39melse\u001b[39;00m:\n\u001b[1;32m    911\u001b[0m     fancy_edges_indices \u001b[39m=\u001b[39m \u001b[39mrange\u001b[39m(\u001b[39mlen\u001b[39m(edgelist))\n\u001b[0;32m--> 912\u001b[0m     edge_viz_obj \u001b[39m=\u001b[39m _draw_networkx_edges_fancy_arrow_patch()\n\u001b[1;32m    914\u001b[0m \u001b[39m# update view after drawing\u001b[39;00m\n\u001b[1;32m    915\u001b[0m padx, pady \u001b[39m=\u001b[39m \u001b[39m0.05\u001b[39m \u001b[39m*\u001b[39m w, \u001b[39m0.05\u001b[39m \u001b[39m*\u001b[39m h\n",
      "File \u001b[0;32m~/socialgraphs2023f-project/.venv/lib/python3.10/site-packages/networkx/drawing/nx_pylab.py:871\u001b[0m, in \u001b[0;36mdraw_networkx_edges.<locals>._draw_networkx_edges_fancy_arrow_patch\u001b[0;34m()\u001b[0m\n\u001b[1;32m    868\u001b[0m \u001b[39melse\u001b[39;00m:\n\u001b[1;32m    869\u001b[0m     linestyle \u001b[39m=\u001b[39m style\n\u001b[0;32m--> 871\u001b[0m arrow \u001b[39m=\u001b[39m mpl\u001b[39m.\u001b[39;49mpatches\u001b[39m.\u001b[39;49mFancyArrowPatch(\n\u001b[1;32m    872\u001b[0m     (x1, y1),\n\u001b[1;32m    873\u001b[0m     (x2, y2),\n\u001b[1;32m    874\u001b[0m     arrowstyle\u001b[39m=\u001b[39;49marrowstyle,\n\u001b[1;32m    875\u001b[0m     shrinkA\u001b[39m=\u001b[39;49mshrink_source,\n\u001b[1;32m    876\u001b[0m     shrinkB\u001b[39m=\u001b[39;49mshrink_target,\n\u001b[1;32m    877\u001b[0m     mutation_scale\u001b[39m=\u001b[39;49mmutation_scale,\n\u001b[1;32m    878\u001b[0m     color\u001b[39m=\u001b[39;49marrow_color,\n\u001b[1;32m    879\u001b[0m     linewidth\u001b[39m=\u001b[39;49mline_width,\n\u001b[1;32m    880\u001b[0m     connectionstyle\u001b[39m=\u001b[39;49m_connectionstyle,\n\u001b[1;32m    881\u001b[0m     linestyle\u001b[39m=\u001b[39;49mlinestyle,\n\u001b[1;32m    882\u001b[0m     zorder\u001b[39m=\u001b[39;49m\u001b[39m1\u001b[39;49m,\n\u001b[1;32m    883\u001b[0m )  \u001b[39m# arrows go behind nodes\u001b[39;00m\n\u001b[1;32m    885\u001b[0m arrow_collection\u001b[39m.\u001b[39mappend(arrow)\n\u001b[1;32m    886\u001b[0m ax\u001b[39m.\u001b[39madd_patch(arrow)\n",
      "File \u001b[0;32m~/socialgraphs2023f-project/.venv/lib/python3.10/site-packages/matplotlib/patches.py:4169\u001b[0m, in \u001b[0;36mFancyArrowPatch.__init__\u001b[0;34m(self, posA, posB, path, arrowstyle, connectionstyle, patchA, patchB, shrinkA, shrinkB, mutation_scale, mutation_aspect, **kwargs)\u001b[0m\n\u001b[1;32m   4165\u001b[0m \u001b[39mself\u001b[39m\u001b[39m.\u001b[39mshrinkB \u001b[39m=\u001b[39m shrinkB\n\u001b[1;32m   4167\u001b[0m \u001b[39mself\u001b[39m\u001b[39m.\u001b[39m_path_original \u001b[39m=\u001b[39m path\n\u001b[0;32m-> 4169\u001b[0m \u001b[39mself\u001b[39;49m\u001b[39m.\u001b[39;49mset_arrowstyle(arrowstyle)\n\u001b[1;32m   4171\u001b[0m \u001b[39mself\u001b[39m\u001b[39m.\u001b[39m_mutation_scale \u001b[39m=\u001b[39m mutation_scale\n\u001b[1;32m   4172\u001b[0m \u001b[39mself\u001b[39m\u001b[39m.\u001b[39m_mutation_aspect \u001b[39m=\u001b[39m mutation_aspect\n",
      "File \u001b[0;32m~/socialgraphs2023f-project/.venv/lib/python3.10/site-packages/matplotlib/patches.py:4293\u001b[0m, in \u001b[0;36mFancyArrowPatch.set_arrowstyle\u001b[0;34m(self, arrowstyle, **kwargs)\u001b[0m\n\u001b[1;32m   4290\u001b[0m \u001b[39mif\u001b[39;00m arrowstyle \u001b[39mis\u001b[39;00m \u001b[39mNone\u001b[39;00m:\n\u001b[1;32m   4291\u001b[0m     \u001b[39mreturn\u001b[39;00m ArrowStyle\u001b[39m.\u001b[39mpprint_styles()\n\u001b[1;32m   4292\u001b[0m \u001b[39mself\u001b[39m\u001b[39m.\u001b[39m_arrow_transmuter \u001b[39m=\u001b[39m (\n\u001b[0;32m-> 4293\u001b[0m     ArrowStyle(arrowstyle, \u001b[39m*\u001b[39;49m\u001b[39m*\u001b[39;49mkwargs)\n\u001b[1;32m   4294\u001b[0m     \u001b[39mif\u001b[39;00m \u001b[39misinstance\u001b[39m(arrowstyle, \u001b[39mstr\u001b[39m) \u001b[39melse\u001b[39;00m arrowstyle)\n\u001b[1;32m   4295\u001b[0m \u001b[39mself\u001b[39m\u001b[39m.\u001b[39mstale \u001b[39m=\u001b[39m \u001b[39mTrue\u001b[39;00m\n",
      "File \u001b[0;32m~/socialgraphs2023f-project/.venv/lib/python3.10/site-packages/matplotlib/patches.py:2246\u001b[0m, in \u001b[0;36m_Style.__new__\u001b[0;34m(cls, stylename, **kwargs)\u001b[0m\n\u001b[1;32m   2243\u001b[0m \u001b[39mexcept\u001b[39;00m \u001b[39mValueError\u001b[39;00m \u001b[39mas\u001b[39;00m err:\n\u001b[1;32m   2244\u001b[0m     \u001b[39mraise\u001b[39;00m \u001b[39mValueError\u001b[39;00m(\n\u001b[1;32m   2245\u001b[0m         \u001b[39mf\u001b[39m\u001b[39m\"\u001b[39m\u001b[39mIncorrect style argument: \u001b[39m\u001b[39m{\u001b[39;00mstylename\u001b[39m!r}\u001b[39;00m\u001b[39m\"\u001b[39m) \u001b[39mfrom\u001b[39;00m \u001b[39merr\u001b[39;00m\n\u001b[0;32m-> 2246\u001b[0m \u001b[39mreturn\u001b[39;00m _cls(\u001b[39m*\u001b[39;49m\u001b[39m*\u001b[39;49m{\u001b[39m*\u001b[39;49m\u001b[39m*\u001b[39;49m_args, \u001b[39m*\u001b[39;49m\u001b[39m*\u001b[39;49mkwargs})\n",
      "File \u001b[0;32m~/socialgraphs2023f-project/.venv/lib/python3.10/site-packages/matplotlib/patches.py:3251\u001b[0m, in \u001b[0;36mArrowStyle._Curve.__init__\u001b[0;34m(self, head_length, head_width, widthA, widthB, lengthA, lengthB, angleA, angleB, scaleA, scaleB)\u001b[0m\n\u001b[1;32m   3248\u001b[0m \u001b[39mself\u001b[39m\u001b[39m.\u001b[39m_endarrow_head \u001b[39m=\u001b[39m \u001b[39mFalse\u001b[39;00m\n\u001b[1;32m   3249\u001b[0m \u001b[39mself\u001b[39m\u001b[39m.\u001b[39m_endarrow_bracket \u001b[39m=\u001b[39m \u001b[39mFalse\u001b[39;00m\n\u001b[0;32m-> 3251\u001b[0m \u001b[39mif\u001b[39;00m \u001b[39m\"\u001b[39m\u001b[39m-\u001b[39m\u001b[39m\"\u001b[39m \u001b[39mnot\u001b[39;00m \u001b[39min\u001b[39;00m \u001b[39mself\u001b[39m\u001b[39m.\u001b[39marrow:\n\u001b[1;32m   3252\u001b[0m     \u001b[39mraise\u001b[39;00m \u001b[39mValueError\u001b[39;00m(\u001b[39m\"\u001b[39m\u001b[39marrow must have the \u001b[39m\u001b[39m'\u001b[39m\u001b[39m-\u001b[39m\u001b[39m'\u001b[39m\u001b[39m between \u001b[39m\u001b[39m\"\u001b[39m\n\u001b[1;32m   3253\u001b[0m                      \u001b[39m\"\u001b[39m\u001b[39mthe two heads\u001b[39m\u001b[39m\"\u001b[39m)\n\u001b[1;32m   3255\u001b[0m beginarrow, endarrow \u001b[39m=\u001b[39m \u001b[39mself\u001b[39m\u001b[39m.\u001b[39marrow\u001b[39m.\u001b[39msplit(\u001b[39m\"\u001b[39m\u001b[39m-\u001b[39m\u001b[39m\"\u001b[39m, \u001b[39m1\u001b[39m)\n",
      "\u001b[0;31mKeyboardInterrupt\u001b[0m: "
     ]
    }
   ],
   "source": [
    "plt.rcParams['font.sans-serif'] = 'DejaVu Sans'\n",
    "\n",
    "graph = page_graph.copy()\n",
    "\n",
    "# Only keep users with a high degree\n",
    "for node in page_graph.nodes(data=True):\n",
    "    if \"page_class\" in node[1]:\n",
    "        if node[1][\"page_class\"] == \"user\":\n",
    "            if page_graph.out_degree(node[0]) <= 10:\n",
    "                graph.remove_node(node[0])\n",
    "    else:\n",
    "        graph.remove_node(node[0])\n",
    "\n",
    "# Remove outliers\n",
    "cc = nx.weakly_connected_components(graph)\n",
    "largest_c = max(cc, key=lambda x: len(x))\n",
    "rsubgraph = nx.subgraph(graph, largest_c)\n",
    "\n",
    "# Positions (currently unused)\n",
    "#pos = nx.nx_agraph.graphviz_layout(rsubgraph, prog=\"neato\")\n",
    "\n",
    "# Color and size according to coast and degree\n",
    "color_talk = \"#0000FF\"\n",
    "color_user = \"#FF0000\"\n",
    "node_colors = [color_talk if node[1][\"page_class\"] == \"talk\" else color_user for node in rsubgraph.nodes(data=True)]\n",
    "node_sizes = [rsubgraph.degree(node) for node in rsubgraph.nodes]\n",
    "\n",
    "nx.draw(rsubgraph, with_labels=True, font_weight='light', font_size=5, node_size=node_sizes, width=.1, edge_color=\"#555555\", arrowsize=2, node_color=node_colors)"
   ]
  },
  {
   "cell_type": "code",
   "execution_count": null,
   "metadata": {},
   "outputs": [
    {
     "data": {
      "text/html": [
       "<div>\n",
       "<style scoped>\n",
       "    .dataframe tbody tr th:only-of-type {\n",
       "        vertical-align: middle;\n",
       "    }\n",
       "\n",
       "    .dataframe tbody tr th {\n",
       "        vertical-align: top;\n",
       "    }\n",
       "\n",
       "    .dataframe thead th {\n",
       "        text-align: right;\n",
       "    }\n",
       "</style>\n",
       "<table border=\"1\" class=\"dataframe\">\n",
       "  <thead>\n",
       "    <tr style=\"text-align: right;\">\n",
       "      <th></th>\n",
       "      <th>Node</th>\n",
       "      <th>Degree</th>\n",
       "    </tr>\n",
       "  </thead>\n",
       "  <tbody>\n",
       "    <tr>\n",
       "      <th>0</th>\n",
       "      <td>Talk:Earth</td>\n",
       "      <td>27</td>\n",
       "    </tr>\n",
       "    <tr>\n",
       "      <th>1</th>\n",
       "      <td>Earth</td>\n",
       "      <td>1</td>\n",
       "    </tr>\n",
       "    <tr>\n",
       "      <th>2</th>\n",
       "      <td>Talk:Human</td>\n",
       "      <td>25</td>\n",
       "    </tr>\n",
       "    <tr>\n",
       "      <th>3</th>\n",
       "      <td>Human</td>\n",
       "      <td>1</td>\n",
       "    </tr>\n",
       "    <tr>\n",
       "      <th>4</th>\n",
       "      <td>Talk:Human history</td>\n",
       "      <td>16</td>\n",
       "    </tr>\n",
       "  </tbody>\n",
       "</table>\n",
       "</div>"
      ],
      "text/plain": [
       "                 Node  Degree\n",
       "0          Talk:Earth      27\n",
       "1               Earth       1\n",
       "2          Talk:Human      25\n",
       "3               Human       1\n",
       "4  Talk:Human history      16"
      ]
     },
     "execution_count": 8,
     "metadata": {},
     "output_type": "execute_result"
    }
   ],
   "source": [
    "# sorted(rsubgraph.degree, key=lambda item: item[1], reverse=True)[:10]\n",
    "import pandas as pd\n",
    "\n",
    "degrees = pd.DataFrame(rsubgraph.degree, columns=[\"Node\", \"Degree\"])\n",
    "degrees.head()"
   ]
  },
  {
   "cell_type": "code",
   "execution_count": null,
   "metadata": {},
   "outputs": [
    {
     "name": "stdout",
     "output_type": "stream",
     "text": [
      "5 users found with with bot in their name:\n",
      "User:Community Tech bot,\n",
      "User:PrimeBOT,\n",
      "User:InternetArchiveBot,\n",
      "User:Cyberbot II,\n",
      "User:CommonsNotificationBot\n"
     ]
    }
   ],
   "source": [
    "degrees[\"PageType\"] = [\"User\" if node[:5] == \"User:\" else \"Talk\" for node in degrees.Node ]\n",
    "users = degrees[degrees.PageType == \"User\"]\n",
    "potential_bots = users[users[\"Node\"].str.contains('bot', case=False)]\n",
    "print(f\"{len(potential_bots)} users found with with bot in their name:\")\n",
    "print(\",\\n\".join(potential_bots.Node.values))"
   ]
  },
  {
   "cell_type": "markdown",
   "metadata": {},
   "source": [
    "After evaluation we found that `User:Botteville`, `User:KP Botany` and `User:NinjaRobotPirate` are human users. Therefore we can filter out the bots by name.\n"
   ]
  },
  {
   "cell_type": "code",
   "execution_count": null,
   "metadata": {},
   "outputs": [
    {
     "data": {
      "text/html": [
       "<div>\n",
       "<style scoped>\n",
       "    .dataframe tbody tr th:only-of-type {\n",
       "        vertical-align: middle;\n",
       "    }\n",
       "\n",
       "    .dataframe tbody tr th {\n",
       "        vertical-align: top;\n",
       "    }\n",
       "\n",
       "    .dataframe thead th {\n",
       "        text-align: right;\n",
       "    }\n",
       "</style>\n",
       "<table border=\"1\" class=\"dataframe\">\n",
       "  <thead>\n",
       "    <tr style=\"text-align: right;\">\n",
       "      <th></th>\n",
       "      <th>Node</th>\n",
       "      <th>Degree</th>\n",
       "      <th>PageType</th>\n",
       "    </tr>\n",
       "  </thead>\n",
       "  <tbody>\n",
       "    <tr>\n",
       "      <th>247</th>\n",
       "      <td>User:Oneiros</td>\n",
       "      <td>38</td>\n",
       "      <td>User</td>\n",
       "    </tr>\n",
       "    <tr>\n",
       "      <th>210</th>\n",
       "      <td>User:ScottishFinnishRadish</td>\n",
       "      <td>24</td>\n",
       "      <td>User</td>\n",
       "    </tr>\n",
       "    <tr>\n",
       "      <th>229</th>\n",
       "      <td>User:Arjayay</td>\n",
       "      <td>24</td>\n",
       "      <td>User</td>\n",
       "    </tr>\n",
       "    <tr>\n",
       "      <th>245</th>\n",
       "      <td>User:Beland</td>\n",
       "      <td>23</td>\n",
       "      <td>User</td>\n",
       "    </tr>\n",
       "    <tr>\n",
       "      <th>217</th>\n",
       "      <td>User:Cannolis</td>\n",
       "      <td>22</td>\n",
       "      <td>User</td>\n",
       "    </tr>\n",
       "    <tr>\n",
       "      <th>237</th>\n",
       "      <td>User:BozMo</td>\n",
       "      <td>21</td>\n",
       "      <td>User</td>\n",
       "    </tr>\n",
       "    <tr>\n",
       "      <th>234</th>\n",
       "      <td>User:Deacon Vorbis</td>\n",
       "      <td>19</td>\n",
       "      <td>User</td>\n",
       "    </tr>\n",
       "    <tr>\n",
       "      <th>216</th>\n",
       "      <td>User:Vsmith</td>\n",
       "      <td>19</td>\n",
       "      <td>User</td>\n",
       "    </tr>\n",
       "    <tr>\n",
       "      <th>201</th>\n",
       "      <td>User:Piotrus</td>\n",
       "      <td>18</td>\n",
       "      <td>User</td>\n",
       "    </tr>\n",
       "    <tr>\n",
       "      <th>205</th>\n",
       "      <td>User:Northamerica1000</td>\n",
       "      <td>18</td>\n",
       "      <td>User</td>\n",
       "    </tr>\n",
       "  </tbody>\n",
       "</table>\n",
       "</div>"
      ],
      "text/plain": [
       "                           Node  Degree PageType\n",
       "247                User:Oneiros      38     User\n",
       "210  User:ScottishFinnishRadish      24     User\n",
       "229                User:Arjayay      24     User\n",
       "245                 User:Beland      23     User\n",
       "217               User:Cannolis      22     User\n",
       "237                  User:BozMo      21     User\n",
       "234          User:Deacon Vorbis      19     User\n",
       "216                 User:Vsmith      19     User\n",
       "201                User:Piotrus      18     User\n",
       "205       User:Northamerica1000      18     User"
      ]
     },
     "execution_count": 10,
     "metadata": {},
     "output_type": "execute_result"
    }
   ],
   "source": [
    "bot_names = [\"User:Community Tech bot\", \"User:PrimeBOT\", \"User:InternetArchiveBot\", \"User:AnomieBOT\", \"User:RMCD bot\", \"User:Cyberbot II\", \"User:CommonsNotificationBot\",\n",
    "\"User:LinkBot\", \"User:FairuseBot\", \"User:BetacommandBot\", \"User:Legobot\", \"User:DumZiBoT\"]\n",
    "\n",
    "human_users = users[~users[\"Node\"].isin(bot_names)]\n",
    "n = 10\n",
    "top_n_human_df = human_users.sort_values([\"Degree\"], ascending=False).head(n)\n",
    "top_n_human_df"
   ]
  },
  {
   "cell_type": "markdown",
   "metadata": {},
   "source": [
    "Make subgraph with users and their related pages.\n",
    "\n"
   ]
  },
  {
   "cell_type": "code",
   "execution_count": null,
   "metadata": {},
   "outputs": [],
   "source": [
    "top_n_human_names = top_n_human_df.Node.values\n",
    "top_users_graph = graph.subgraph(sum([list(graph.neighbors(node)) + [node] for node in top_n_human_names], []))\n",
    "pages = [node for node in top_users_graph.nodes if node not in top_n_human_names] \n",
    "\n",
    "node_colors = [color_talk if node[1][\"page_class\"] == \"talk\" else color_user for node in top_users_graph.nodes(data=True)]\n",
    "node_sizes = [rsubgraph.degree(node) for node in top_users_graph.nodes]"
   ]
  },
  {
   "cell_type": "code",
   "execution_count": null,
   "metadata": {},
   "outputs": [],
   "source": [
    "degrees = dict(top_users_graph.degree())\n",
    "sorted_nodes = sorted(degrees, key=degrees.get, reverse=True)\n",
    "top_nodes_count = 10\n",
    "top_nodes = [node for node in sorted(degrees, key=degrees.get, reverse=True) if node[:5] == \"Talk:\"][:top_nodes_count]\n",
    "labels = {node: node for node in top_nodes}"
   ]
  },
  {
   "cell_type": "code",
   "execution_count": null,
   "metadata": {},
   "outputs": [
    {
     "ename": "ModuleNotFoundError",
     "evalue": "No module named 'fa2'",
     "output_type": "error",
     "traceback": [
      "\u001b[0;31m---------------------------------------------------------------------------\u001b[0m",
      "\u001b[0;31mModuleNotFoundError\u001b[0m                       Traceback (most recent call last)",
      "\u001b[1;32m/home/andreas/socialgraphs2023f-project/project/Project_draft.ipynb Cell 18\u001b[0m line \u001b[0;36m1\n\u001b[0;32m----> <a href='vscode-notebook-cell://wsl%2Bubuntu/home/andreas/socialgraphs2023f-project/project/Project_draft.ipynb#X23sdnNjb2RlLXJlbW90ZQ%3D%3D?line=0'>1</a>\u001b[0m \u001b[39mfrom\u001b[39;00m \u001b[39mfa2\u001b[39;00m \u001b[39mimport\u001b[39;00m ForceAtlas2\n\u001b[1;32m      <a href='vscode-notebook-cell://wsl%2Bubuntu/home/andreas/socialgraphs2023f-project/project/Project_draft.ipynb#X23sdnNjb2RlLXJlbW90ZQ%3D%3D?line=2'>3</a>\u001b[0m forceatlas2 \u001b[39m=\u001b[39m ForceAtlas2(\n\u001b[1;32m      <a href='vscode-notebook-cell://wsl%2Bubuntu/home/andreas/socialgraphs2023f-project/project/Project_draft.ipynb#X23sdnNjb2RlLXJlbW90ZQ%3D%3D?line=3'>4</a>\u001b[0m                         \u001b[39m# Behavior alternatives\u001b[39;00m\n\u001b[1;32m      <a href='vscode-notebook-cell://wsl%2Bubuntu/home/andreas/socialgraphs2023f-project/project/Project_draft.ipynb#X23sdnNjb2RlLXJlbW90ZQ%3D%3D?line=4'>5</a>\u001b[0m                         outboundAttractionDistribution\u001b[39m=\u001b[39m\u001b[39mTrue\u001b[39;00m,  \u001b[39m# Dissuade hubs\u001b[39;00m\n\u001b[0;32m   (...)\u001b[0m\n\u001b[1;32m     <a href='vscode-notebook-cell://wsl%2Bubuntu/home/andreas/socialgraphs2023f-project/project/Project_draft.ipynb#X23sdnNjb2RlLXJlbW90ZQ%3D%3D?line=20'>21</a>\u001b[0m                         \u001b[39m# Log\u001b[39;00m\n\u001b[1;32m     <a href='vscode-notebook-cell://wsl%2Bubuntu/home/andreas/socialgraphs2023f-project/project/Project_draft.ipynb#X23sdnNjb2RlLXJlbW90ZQ%3D%3D?line=21'>22</a>\u001b[0m                         verbose\u001b[39m=\u001b[39m\u001b[39mTrue\u001b[39;00m)\n\u001b[1;32m     <a href='vscode-notebook-cell://wsl%2Bubuntu/home/andreas/socialgraphs2023f-project/project/Project_draft.ipynb#X23sdnNjb2RlLXJlbW90ZQ%3D%3D?line=22'>23</a>\u001b[0m pos\u001b[39m=\u001b[39mforceatlas2\u001b[39m.\u001b[39mforceatlas2_networkx_layout(top_users_graph, pos\u001b[39m=\u001b[39m\u001b[39mNone\u001b[39;00m, iterations\u001b[39m=\u001b[39m\u001b[39m2000\u001b[39m)\n",
      "\u001b[0;31mModuleNotFoundError\u001b[0m: No module named 'fa2'"
     ]
    }
   ],
   "source": [
    "from fa2 import ForceAtlas2\n",
    "\n",
    "forceatlas2 = ForceAtlas2(\n",
    "                        # Behavior alternatives\n",
    "                        outboundAttractionDistribution=True,  # Dissuade hubs\n",
    "                        linLogMode=False,  # NOT IMPLEMENTED\n",
    "                        adjustSizes=False,  # Prevent overlap (NOT IMPLEMENTED)\n",
    "                        edgeWeightInfluence=1.0,\n",
    "\n",
    "                        # Performance\n",
    "                        jitterTolerance=1.0,  # Tolerance\n",
    "                        barnesHutOptimize=True,\n",
    "                        barnesHutTheta=2.0,\n",
    "                        multiThreaded=False,  # NOT IMPLEMENTED\n",
    "\n",
    "                        # Tuning\n",
    "                        scalingRatio=3.0,\n",
    "                        strongGravityMode=False,\n",
    "                        gravity=0.1,\n",
    "\n",
    "                        # Log\n",
    "                        verbose=True)\n",
    "pos=forceatlas2.forceatlas2_networkx_layout(top_users_graph, pos=None, iterations=2000)\n",
    "    \n",
    "nx.draw(top_users_graph, pos=pos, node_color=node_colors, node_size=node_sizes, edge_color=\"#999999\", width=0.3, alpha=0.5)\n",
    "plt.show()"
   ]
  },
  {
   "cell_type": "code",
   "execution_count": null,
   "metadata": {},
   "outputs": [
    {
     "ename": "NameError",
     "evalue": "name 'top_users_graph' is not defined",
     "output_type": "error",
     "traceback": [
      "\u001b[0;31m---------------------------------------------------------------------------\u001b[0m",
      "\u001b[0;31mNameError\u001b[0m                                 Traceback (most recent call last)",
      "\u001b[1;32m/home/andreas/socialgraphs2023f-project/project/Project_draft.ipynb Cell 19\u001b[0m line \u001b[0;36m1\n\u001b[0;32m----> <a href='vscode-notebook-cell://wsl%2Bubuntu/home/andreas/socialgraphs2023f-project/project/Project_draft.ipynb#X24sdnNjb2RlLXJlbW90ZQ%3D%3D?line=0'>1</a>\u001b[0m pos \u001b[39m=\u001b[39m nx\u001b[39m.\u001b[39mspring_layout(top_users_graph)\n\u001b[1;32m      <a href='vscode-notebook-cell://wsl%2Bubuntu/home/andreas/socialgraphs2023f-project/project/Project_draft.ipynb#X24sdnNjb2RlLXJlbW90ZQ%3D%3D?line=1'>2</a>\u001b[0m label_pos \u001b[39m=\u001b[39m {node: (pos[node][\u001b[39m0\u001b[39m], pos[node][\u001b[39m1\u001b[39m] \u001b[39m+\u001b[39m \u001b[39m0.15\u001b[39m) \u001b[39mfor\u001b[39;00m node \u001b[39min\u001b[39;00m top_nodes}\n\u001b[1;32m      <a href='vscode-notebook-cell://wsl%2Bubuntu/home/andreas/socialgraphs2023f-project/project/Project_draft.ipynb#X24sdnNjb2RlLXJlbW90ZQ%3D%3D?line=2'>3</a>\u001b[0m nx\u001b[39m.\u001b[39mdraw(top_users_graph, pos\u001b[39m=\u001b[39mpos, node_color\u001b[39m=\u001b[39mnode_colors, node_size\u001b[39m=\u001b[39mnode_sizes, edge_color\u001b[39m=\u001b[39m\u001b[39m\"\u001b[39m\u001b[39m#999999\u001b[39m\u001b[39m\"\u001b[39m, width\u001b[39m=\u001b[39m\u001b[39m0.3\u001b[39m, alpha\u001b[39m=\u001b[39m\u001b[39m0.5\u001b[39m, with_labels\u001b[39m=\u001b[39m\u001b[39mFalse\u001b[39;00m)\n",
      "\u001b[0;31mNameError\u001b[0m: name 'top_users_graph' is not defined"
     ]
    }
   ],
   "source": [
    "pos = nx.spring_layout(top_users_graph)\n",
    "label_pos = {node: (pos[node][0], pos[node][1] + 0.15) for node in top_nodes}\n",
    "nx.draw(top_users_graph, pos=pos, node_color=node_colors, node_size=node_sizes, edge_color=\"#999999\", width=0.3, alpha=0.5, with_labels=False)\n",
    "nx.draw_networkx_labels(top_users_graph, pos, labels=labels, font_size=10, font_color='black')\n",
    "plt.show()"
   ]
  },
  {
   "cell_type": "markdown",
   "metadata": {},
   "source": [
    "## Basic Analysis"
   ]
  },
  {
   "cell_type": "code",
   "execution_count": null,
   "metadata": {},
   "outputs": [
    {
     "name": "stdout",
     "output_type": "stream",
     "text": [
      "Number of nodes: 81481\n",
      "Number of links: 162045\n",
      "\n",
      "Highest degrees for pages:\n",
      "> Overall:\n",
      "Talk:United States - 2223\n",
      "> Pages:\n",
      "Talk:United States - 2223\n",
      "Talk:Jesus - 1877\n",
      "Talk:Climate change - 1771\n",
      "Talk:India - 1607\n",
      "Talk:Israel - 1606\n",
      "Talk:Adolf Hitler - 1537\n",
      "Talk:Michael Jackson - 1437\n",
      "Talk:Muhammad - 1399\n",
      "Talk:World War II - 1274\n",
      "Talk:United Kingdom - 1192\n",
      "> Users:\n",
      "User:InternetArchiveBot - 801\n",
      "User:Cyberbot II - 391\n",
      "User:PrimeBOT - 324\n",
      "User:Community Tech bot - 259\n",
      "User:ScottishFinnishRadish - 235\n",
      "User:Arjayay - 215\n",
      "User:Cannolis - 205\n",
      "User:CommonsNotificationBot - 160\n",
      "User:Deacon Vorbis - 138\n",
      "User:Kuyabribri - 138\n",
      "Exponents:ess: 97%\n",
      "In-degrees: 3.5080948687862707 sigma: 0.25732510403505693\n",
      "Out-degrees: 1.5385136348779775 sigma: 0.11751330926638778\n"
     ]
    }
   ],
   "source": [
    "import pandas as p\n",
    "import matplotlib.pyplot as plt\n",
    "import powerlaw\n",
    "import scipy.stats as sps\n",
    "\n",
    "# Basic Statistics\n",
    "\n",
    "count_nodes = len(page_graph)\n",
    "count_edges = len(page_graph.edges())\n",
    "\n",
    "# Create degree statistic dicts\n",
    "degrees = dict(page_graph.degree())\n",
    "in_degrees = dict(page_graph.in_degree())\n",
    "out_degrees = dict(page_graph.out_degree())\n",
    "\n",
    "talk_page_in_degrees = {k: v for k, v in in_degrees.items() if page_graph.nodes[k][\"page_class\"] == \"talk\"}\n",
    "user_out_degrees = {k: v for k, v in out_degrees.items() if page_graph.nodes[k][\"page_class\"] == \"user\"}\n",
    "\n",
    "def find_top(n, stat_dict):\n",
    "    degrees_pages = []\n",
    "    degrees_users = []\n",
    "    top_overall = \"\"\n",
    "\n",
    "    for page, degree in dict(sorted(stat_dict.items(), key=lambda item: item[1], reverse=True)).items():\n",
    "        if top_overall == \"\":\n",
    "            top_overall = page + \" - \" + str(degree)\n",
    "\n",
    "        # stat dicts don't distinguish between east/west, so we'll do that here\n",
    "        if len(degrees_pages) < n and page_graph.nodes[page][\"page_class\"] == \"talk\": \n",
    "            degrees_pages.append(page + \" - \" + str(degree))\n",
    "        elif len(degrees_users) < n and page_graph.nodes[page][\"page_class\"] == \"user\":\n",
    "            degrees_users.append(page + \" - \" + str(degree))\n",
    "\n",
    "        if len(degrees_pages) >= n and len(degrees_users) >= n:\n",
    "            break  # found all top v\n",
    "    \n",
    "    return degrees_pages, degrees_users, top_overall\n",
    "\n",
    "degrees_pages, degrees_users, top_overall = find_top(10, degrees)\n",
    "\n",
    "print(\"Number of nodes: \" + str(count_nodes))\n",
    "print(\"Number of links: \" + str(count_edges))\n",
    "\n",
    "print()\n",
    "print(\"Highest degrees for pages:\")\n",
    "print(\"> Overall:\")\n",
    "print(top_overall)\n",
    "print(\"> Pages:\")\n",
    "print(\"\\n\".join(degrees_pages))\n",
    "print(\"> Users:\")\n",
    "print(\"\\n\".join(degrees_users))\n",
    "\n",
    "\n",
    "# Degree multiplicities\n",
    "in_degrees_counts = p.Series(talk_page_in_degrees.values()).value_counts()\n",
    "out_degrees_counts = p.Series(user_out_degrees.values()).value_counts()\n",
    "\n",
    "max_degree = max([max(in_degrees_counts.index), max(out_degrees_counts.index)])\n",
    "max_multiplicity = max([max(in_degrees_counts.values), max(out_degrees_counts.values)])\n",
    "range_x = range(1, max_degree + 1)\n",
    "\n",
    "in_degrees_counts_interp = in_degrees_counts.reindex(range(max_degree+1), fill_value=0).sort_index()\n",
    "out_degrees_counts_interp = out_degrees_counts.reindex(range(max_degree+1), fill_value=0).sort_index()\n",
    "\n",
    "# Exponents\n",
    "fit_in = powerlaw.Fit(in_degrees_counts.sort_index().values, verbose=False)\n",
    "fit_out = powerlaw.Fit(out_degrees_counts.sort_index().values, verbose=False)\n",
    "\n",
    "exp_in = fit_in.alpha\n",
    "exp_out = fit_out.alpha\n",
    "\n",
    "print(\"Exponents:\")\n",
    "print(\"In-degrees: \" + str(exp_in) + \" sigma: \" + str(fit_in.sigma))\n",
    "print(\"Out-degrees: \" + str(exp_out) + \" sigma: \" + str(fit_out.sigma))"
   ]
  },
  {
   "cell_type": "code",
   "execution_count": null,
   "metadata": {},
   "outputs": [
    {
     "data": {
      "image/png": "[encoded data removed]",
      "text/plain": [
       "<Figure size 1000x800 with 4 Axes>"
      ]
     },
     "metadata": {},
     "output_type": "display_data"
    }
   ],
   "source": [
    "import math\n",
    "def fpl(x, a):\n",
    "    return x ** (-a)\n",
    "\n",
    "# Plots\n",
    "fig, axs = plt.subplots(2, 2)\n",
    "\n",
    "# Sturges rule\n",
    "no_bins_sturges = int(1 + math.log(len(talk_page_in_degrees.values()), 2))\n",
    "\n",
    "axs[0, 0].scatter(in_degrees_counts.index, in_degrees_counts.values, s=5, label='Data')\n",
    "#hist, bin_edges, _ = axs[0, 0].hist(talk_page_in_degrees.values(), bins=no_bins_sturges, edgecolor='white', label='Data')\n",
    "#axs[0, 0].set_xticks(bin_edges)\n",
    "#axs[0, 0].set_xticklabels(['%.0f' % val for val in bin_edges], rotation=45)\n",
    "axs[0,0].set_title('Multiplicity of In-degrees for Talk pages')\n",
    "axs[0,0].legend()\n",
    "\n",
    "axs[0,1].scatter(in_degrees_counts.index, in_degrees_counts.values, s=5, label='Data')\n",
    "#axs[0,1].plot(range_x, fpl(range_x, exp_in) * count_nodes, 'k-', lw=1, alpha=.75, label='Power Law fit')\n",
    "axs[0,1].set_yscale('log')\n",
    "axs[0,1].set_xscale('log')\n",
    "axs[0,1].set_title('Multiplicity of In-degrees for Talk pages [log-log]')\n",
    "axs[0,1].set_xlim(1, max_degree)\n",
    "axs[0,1].set_ylim(1, max_multiplicity)\n",
    "axs[0,1].legend()\n",
    "\n",
    "axs[1, 0].scatter(out_degrees_counts.index, out_degrees_counts.values, color=\"red\", s=5, label='Data')\n",
    "# hist, bin_edges, _ = axs[1, 0].hist(talk_page_in_degrees.values(), bins=no_bins_sturges, color=\"red\", edgecolor='white', label='Data')\n",
    "# axs[1, 0].set_xticks(bin_edges)\n",
    "# axs[1, 0].set_xticklabels(['%.0f' % val for val in bin_edges], rotation=45)\n",
    "axs[1,0].set_title('Multiplicity of Out-degrees for Users')\n",
    "axs[1,0].legend()\n",
    "\n",
    "axs[1,1].scatter(out_degrees_counts.index, out_degrees_counts.values, s=5, label='Data', color=\"red\")\n",
    "#axs[1,1].plot(range_x, fpl(range_x, exp_out) * count_nodes, 'k-', lw=1, alpha=.75, label='Power Law fit')\n",
    "axs[1,1].set_yscale('log')\n",
    "axs[1,1].set_xscale('log')\n",
    "axs[1,1].set_title('Multiplicity of Out-degrees for Users [log-log]')\n",
    "axs[1,1].set_xlim(1, max_degree)\n",
    "axs[1,1].set_ylim(1, max_multiplicity)\n",
    "axs[1,1].legend()\n",
    "\n",
    "for ax in axs.flat:\n",
    "    ax.set(xlabel='Degree', ylabel='Multiplicity')\n",
    "\n",
    "fig.tight_layout()"
   ]
  },
  {
   "cell_type": "markdown",
   "metadata": {},
   "source": [
    "# Sentiment analysis per user\n",
    "\n",
    "For this, we will first need to extract all the comments from all pages, as well as the author of the comment\n",
    "Then we will assign all comment texts to a single author, and run sentiment analysis on the texts."
   ]
  },
  {
   "cell_type": "code",
   "execution_count": 2,
   "metadata": {},
   "outputs": [
    {
     "name": "stdout",
     "output_type": "stream",
     "text": [
      "failed to parse: page_contents/Talk:Crustacean.txt\n",
      "failed to parse: page_contents/Talk:Sport of athletics.txt\n",
      "failed to parse: page_contents/Talk:The Buddha.txt\n",
      "failed to parse: page_contents/Talk:Weak interaction.txt\n",
      "failed to parse: page_contents/Talk:News.txt\n",
      "failed to parse: page_contents/Talk:Economy.txt\n",
      "failed to parse: page_contents/Talk:Scientific Revolution.txt\n",
      "failed to parse: page_contents/Talk:City.txt\n",
      "failed to parse: page_contents/Talk:Natural rubber.txt\n"
     ]
    }
   ],
   "source": [
    "author_dict = {}\n",
    "\n",
    "wikipage_folder = pathlib.Path(\"./page_contents/\")\n",
    "filenames = list(wikipage_folder.rglob(\"*.txt\"))\n",
    "\n",
    "#worker_results = [parse_comments_from_pages(filenames[:100])]\n",
    "\n",
    "with Pool(8) as pool:\n",
    "    # perform calculations\n",
    "    worker_results = pool.map(utils.parse_comments_from_pages, utils.chunk_list(filenames[:1000], 20))"
   ]
  },
  {
   "cell_type": "code",
   "execution_count": 3,
   "metadata": {},
   "outputs": [],
   "source": [
    "import utils\n",
    "# iterate over the results by the workers\n",
    "# and transform the output into a dictionary with the users as keys\n",
    "# and their comments as text\n",
    "for worker_result in worker_results:\n",
    "    for filename, page in worker_result:\n",
    "        for subsection in page[\"sections\"]:\n",
    "            if subsection.get(\"heading\"):\n",
    "                for comments in subsection.get(\"comments\"):\n",
    "                    if comments.get(\"author\"):\n",
    "                        for author, comment in utils.parse_comment_subcomment(comments):\n",
    "                            if author not in author_dict:\n",
    "                                author_dict[author] = []    \n",
    "                            author_dict[author].append(comment) # this will concatenate the arrays. \n",
    "                            # author_dict[author] += (comment) # this will append the comment, thus preserving the comment structure"
   ]
  },
  {
   "cell_type": "code",
   "execution_count": 4,
   "metadata": {},
   "outputs": [
    {
     "data": {
      "text/plain": [
       "[('InternetArchiveBot', 353030),\n",
       " ('PrimeBOT', 142647),\n",
       " ('Johnbod', 69313),\n",
       " ('jacobolus', 119732),\n",
       " ('EMsmile', 94743)]"
      ]
     },
     "execution_count": 4,
     "metadata": {},
     "output_type": "execute_result"
    }
   ],
   "source": [
    "import utils\n",
    "# show the top 5 authors written the most text in comment pages\n",
    "# before tokenizing the comments\n",
    "items = author_dict.items()\n",
    "items_sorted = sorted(items, key=lambda x: len(x[1]), reverse=True)\n",
    "[(author, len(utils.flatten(comments))) for author, comments in items_sorted][:5]"
   ]
  },
  {
   "cell_type": "code",
   "execution_count": 5,
   "metadata": {},
   "outputs": [],
   "source": [
    "labMT = pd.read_csv(\"./labMT.txt\", sep=\"\\t\")\n",
    "# to facilitate happiness_average value lookup\n",
    "labMT.set_index(\"word\", inplace=True)\n",
    "\n",
    "# Do sentiment analysis\n",
    "# code taken from assignment 2\n",
    "\n",
    "def sentiment(tokens):\n",
    "    if(len(tokens) == 0):\n",
    "        return\n",
    "    freq = FreqDist(tokens)\n",
    "\n",
    "    # filter for the vocabulary we can evaluate with LabMT\n",
    "    vocab = list(filter(lambda word: word in labMT.index, np.unique(tokens)))\n",
    "\n",
    "    # array of each token's average happiness weighted by the token's frequency\n",
    "    weighted_happiness = np.fromiter((freq[word] * labMT.loc[word].happiness_average for word in vocab), dtype=float)\n",
    "    # each token's frequency\n",
    "    word_frequencies = np.fromiter((freq[word] for word in vocab), dtype=float)\n",
    "    return np.sum(weighted_happiness) / np.sum(word_frequencies)"
   ]
  },
  {
   "cell_type": "code",
   "execution_count": 6,
   "metadata": {},
   "outputs": [
    {
     "data": {
      "text/html": [
       "<div>\n",
       "<style scoped>\n",
       "    .dataframe tbody tr th:only-of-type {\n",
       "        vertical-align: middle;\n",
       "    }\n",
       "\n",
       "    .dataframe tbody tr th {\n",
       "        vertical-align: top;\n",
       "    }\n",
       "\n",
       "    .dataframe thead th {\n",
       "        text-align: right;\n",
       "    }\n",
       "</style>\n",
       "<table border=\"1\" class=\"dataframe\">\n",
       "  <thead>\n",
       "    <tr style=\"text-align: right;\">\n",
       "      <th></th>\n",
       "      <th>comment_happiness</th>\n",
       "    </tr>\n",
       "    <tr>\n",
       "      <th>Author</th>\n",
       "      <th></th>\n",
       "    </tr>\n",
       "  </thead>\n",
       "  <tbody>\n",
       "    <tr>\n",
       "      <th>NotTheFakeJTP</th>\n",
       "      <td>5.460000</td>\n",
       "    </tr>\n",
       "    <tr>\n",
       "      <th>VHarbee</th>\n",
       "      <td>5.332811</td>\n",
       "    </tr>\n",
       "    <tr>\n",
       "      <th>Kwamikagami</th>\n",
       "      <td>5.369535</td>\n",
       "    </tr>\n",
       "    <tr>\n",
       "      <th>Double sharp</th>\n",
       "      <td>5.395872</td>\n",
       "    </tr>\n",
       "    <tr>\n",
       "      <th>Joiedevivre123321</th>\n",
       "      <td>5.556393</td>\n",
       "    </tr>\n",
       "  </tbody>\n",
       "</table>\n",
       "</div>"
      ],
      "text/plain": [
       "                   comment_happiness\n",
       "Author                              \n",
       "NotTheFakeJTP               5.460000\n",
       "VHarbee                     5.332811\n",
       "Kwamikagami                 5.369535\n",
       "Double sharp                5.395872\n",
       "Joiedevivre123321           5.556393"
      ]
     },
     "execution_count": 6,
     "metadata": {},
     "output_type": "execute_result"
    }
   ],
   "source": [
    "sentiments = {}\n",
    "for author, text in author_dict.items():\n",
    "    text = [utils.tokenize_custom(s) for s in text]\n",
    "    text = utils.flatten(text)\n",
    "    # compute sentiment for individual rapper wiki page\n",
    "    if len(text) > 100:\n",
    "        sentiment_value = sentiment(text)\n",
    "        if(sentiment_value):\n",
    "            sentiments[author] = sentiment_value\n",
    "\n",
    "sentiments_df = pd.DataFrame({\"Author\": sentiments.keys(), \"comment_happiness\": sentiments.values()})\n",
    "# use the author's name as index\n",
    "sentiments_df.set_index(\"Author\", inplace=True)\n",
    "sentiments_df.head()"
   ]
  },
  {
   "cell_type": "code",
   "execution_count": 7,
   "metadata": {},
   "outputs": [
    {
     "name": "stdout",
     "output_type": "stream",
     "text": [
      "Top 10 authors with the happiest comments:\n"
     ]
    },
    {
     "data": {
      "text/html": [
       "<div>\n",
       "<style scoped>\n",
       "    .dataframe tbody tr th:only-of-type {\n",
       "        vertical-align: middle;\n",
       "    }\n",
       "\n",
       "    .dataframe tbody tr th {\n",
       "        vertical-align: top;\n",
       "    }\n",
       "\n",
       "    .dataframe thead th {\n",
       "        text-align: right;\n",
       "    }\n",
       "</style>\n",
       "<table border=\"1\" class=\"dataframe\">\n",
       "  <thead>\n",
       "    <tr style=\"text-align: right;\">\n",
       "      <th></th>\n",
       "      <th>comment_happiness</th>\n",
       "    </tr>\n",
       "    <tr>\n",
       "      <th>Author</th>\n",
       "      <th></th>\n",
       "    </tr>\n",
       "  </thead>\n",
       "  <tbody>\n",
       "    <tr>\n",
       "      <th>Lia 199712</th>\n",
       "      <td>5.897957</td>\n",
       "    </tr>\n",
       "    <tr>\n",
       "      <th>2A02:CE0:1801:50E:C51D:9330:A910:98D3</th>\n",
       "      <td>5.879540</td>\n",
       "    </tr>\n",
       "    <tr>\n",
       "      <th>Praxaquilani</th>\n",
       "      <td>5.757143</td>\n",
       "    </tr>\n",
       "    <tr>\n",
       "      <th>Steph44980</th>\n",
       "      <td>5.718022</td>\n",
       "    </tr>\n",
       "    <tr>\n",
       "      <th>Vicky gusain</th>\n",
       "      <td>5.714130</td>\n",
       "    </tr>\n",
       "    <tr>\n",
       "      <th>AreebaQ</th>\n",
       "      <td>5.698160</td>\n",
       "    </tr>\n",
       "    <tr>\n",
       "      <th>205.182.132.75</th>\n",
       "      <td>5.696514</td>\n",
       "    </tr>\n",
       "    <tr>\n",
       "      <th>Daria2002ttf</th>\n",
       "      <td>5.695316</td>\n",
       "    </tr>\n",
       "    <tr>\n",
       "      <th>Knowledge357111317</th>\n",
       "      <td>5.685217</td>\n",
       "    </tr>\n",
       "    <tr>\n",
       "      <th>Ditc</th>\n",
       "      <td>5.679381</td>\n",
       "    </tr>\n",
       "  </tbody>\n",
       "</table>\n",
       "</div>"
      ],
      "text/plain": [
       "                                       comment_happiness\n",
       "Author                                                  \n",
       "Lia 199712                                      5.897957\n",
       "2A02:CE0:1801:50E:C51D:9330:A910:98D3           5.879540\n",
       "Praxaquilani                                    5.757143\n",
       "Steph44980                                      5.718022\n",
       "Vicky gusain                                    5.714130\n",
       "AreebaQ                                         5.698160\n",
       "205.182.132.75                                  5.696514\n",
       "Daria2002ttf                                    5.695316\n",
       "Knowledge357111317                              5.685217\n",
       "Ditc                                            5.679381"
      ]
     },
     "execution_count": 7,
     "metadata": {},
     "output_type": "execute_result"
    }
   ],
   "source": [
    "print(\"Top 10 authors with the happiest comments:\")\n",
    "best_sentiments = sentiments_df.sort_values(\"comment_happiness\", ascending=False).head(10)\n",
    "best_sentiments"
   ]
  },
  {
   "cell_type": "code",
   "execution_count": 8,
   "metadata": {},
   "outputs": [
    {
     "name": "stdout",
     "output_type": "stream",
     "text": [
      "Top 10 authors with the saddest comments:\n"
     ]
    },
    {
     "data": {
      "text/html": [
       "<div>\n",
       "<style scoped>\n",
       "    .dataframe tbody tr th:only-of-type {\n",
       "        vertical-align: middle;\n",
       "    }\n",
       "\n",
       "    .dataframe tbody tr th {\n",
       "        vertical-align: top;\n",
       "    }\n",
       "\n",
       "    .dataframe thead th {\n",
       "        text-align: right;\n",
       "    }\n",
       "</style>\n",
       "<table border=\"1\" class=\"dataframe\">\n",
       "  <thead>\n",
       "    <tr style=\"text-align: right;\">\n",
       "      <th></th>\n",
       "      <th>comment_happiness</th>\n",
       "    </tr>\n",
       "    <tr>\n",
       "      <th>Author</th>\n",
       "      <th></th>\n",
       "    </tr>\n",
       "  </thead>\n",
       "  <tbody>\n",
       "    <tr>\n",
       "      <th>71.211.175.77</th>\n",
       "      <td>4.886935</td>\n",
       "    </tr>\n",
       "    <tr>\n",
       "      <th>108.170.154.240</th>\n",
       "      <td>4.951125</td>\n",
       "    </tr>\n",
       "    <tr>\n",
       "      <th>Nathanmcnulty</th>\n",
       "      <td>5.006850</td>\n",
       "    </tr>\n",
       "    <tr>\n",
       "      <th>Mfrapps</th>\n",
       "      <td>5.056053</td>\n",
       "    </tr>\n",
       "    <tr>\n",
       "      <th>82.132.186.162</th>\n",
       "      <td>5.064206</td>\n",
       "    </tr>\n",
       "    <tr>\n",
       "      <th>2607:FB91:8C9E:4883:8D79:621F:1646:2047</th>\n",
       "      <td>5.064207</td>\n",
       "    </tr>\n",
       "    <tr>\n",
       "      <th>Capitalismojo</th>\n",
       "      <td>5.064490</td>\n",
       "    </tr>\n",
       "    <tr>\n",
       "      <th>David A se</th>\n",
       "      <td>5.066714</td>\n",
       "    </tr>\n",
       "    <tr>\n",
       "      <th>ZeroMalone</th>\n",
       "      <td>5.072839</td>\n",
       "    </tr>\n",
       "    <tr>\n",
       "      <th>GenQuest</th>\n",
       "      <td>5.075778</td>\n",
       "    </tr>\n",
       "  </tbody>\n",
       "</table>\n",
       "</div>"
      ],
      "text/plain": [
       "                                         comment_happiness\n",
       "Author                                                    \n",
       "71.211.175.77                                     4.886935\n",
       "108.170.154.240                                   4.951125\n",
       "Nathanmcnulty                                     5.006850\n",
       "Mfrapps                                           5.056053\n",
       "82.132.186.162                                    5.064206\n",
       "2607:FB91:8C9E:4883:8D79:621F:1646:2047           5.064207\n",
       "Capitalismojo                                     5.064490\n",
       "David A se                                        5.066714\n",
       "ZeroMalone                                        5.072839\n",
       "GenQuest                                          5.075778"
      ]
     },
     "execution_count": 8,
     "metadata": {},
     "output_type": "execute_result"
    }
   ],
   "source": [
    "print(\"Top 10 authors with the saddest comments:\")\n",
    "worst_sentiments = sentiments_df.sort_values(\"comment_happiness\", ascending=True).head(10)\n",
    "worst_sentiments"
   ]
  },
  {
   "cell_type": "code",
   "execution_count": 9,
   "metadata": {},
   "outputs": [
    {
     "data": {
      "text/plain": [
       "['edit request on edit barrier one of australia s most remarkable natural gift the great barrier reef is blessed with the breathtaking beauty of the world s largest coral reef the reef contains an abundance of marine life and comprises of over 3000 individual reef system and coral cay and literally hundred of picturesque tropical island with some of the world most beautiful golden beach because of it natural beauty the great barrier reef ha become one of the world most sought after tourist visitor to the great barrier reef can enjoy many experience including snorkelling scuba diving aircraft or helicopter tour bare boat boat viewing and educational trip cruise ship tour whale watching and swimming with dolphin']"
      ]
     },
     "execution_count": 9,
     "metadata": {},
     "output_type": "execute_result"
    }
   ],
   "source": [
    "# this shows the original comment before tokenizin\n",
    "[' '.join(utils.tokenize_custom(s)) for s in author_dict.get(best_sentiments.iloc[0].name)]"
   ]
  },
  {
   "cell_type": "code",
   "execution_count": 10,
   "metadata": {},
   "outputs": [
    {
     "data": {
      "text/plain": [
       "['the addition of slow violence fall under this issue it interesting and insightful in part but it not really a type of violence more like societal reaction or perception of violence case in point stress and the collapse that visited upon glacier a a result of climate change effect those do not meet the definition of violence if you expand the scope and definition of violence a to include the destruction of glacier then bulldozer are violent machine made specifically to do violence which is nut and there no need for this climate change is bad and a good example of slow violence in the sense that it subtly and very slowly lead to wildfire flood hurricane drought and very destructive force of nature where they were not previously accustomed to these are violent event where people die the cause of which is real slow but stress and glacier melting are not themselves any sort of violence it all bad stuff but call it what it is abuse of power corruption propaganda pollution and social manipulation and i against the sort of social manipulation like redefining violence the section need to be cleaned up and moved to the factor section']"
      ]
     },
     "execution_count": 10,
     "metadata": {},
     "output_type": "execute_result"
    }
   ],
   "source": [
    "[' '.join(utils.tokenize_custom(s)) for s in author_dict.get(worst_sentiments.iloc[0].name)]"
   ]
  },
  {
   "cell_type": "markdown",
   "metadata": {},
   "source": [
    "## Results from labmt statistical sentiment analysis\n",
    "\n",
    "These results show, that it is not beneficial to use the labMT approach to find toxic comments. Different methods should be used for our problem.\n",
    "\n",
    "What we have seen is that comment sentiment mostly correlates with the topic they are discussing. E.g.: topics discussing the pages fear, Nazi, Hitler have a very low score, but comments discussing e.g. happiness, or the great barrier reef have very high sentiments."
   ]
  },
  {
   "cell_type": "code",
   "execution_count": 11,
   "metadata": {},
   "outputs": [],
   "source": [
    "# imports for loading pickles\n",
    "from nltk.tokenize import word_tokenize\n",
    "import pandas as pd, numpy as np\n",
    "from sklearn.linear_model import LogisticRegression\n",
    "from sklearn.feature_extraction.text import CountVectorizer, TfidfVectorizer\n",
    "import nltk"
   ]
  },
  {
   "cell_type": "code",
   "execution_count": 20,
   "metadata": {},
   "outputs": [],
   "source": [
    "# Flatten the dictionary values\n",
    "flattened_data = [(key, value) for key, values in author_dict.items() for value in values]\n",
    "\n",
    "# Create a DataFrame from the flattened data\n",
    "df = pd.DataFrame(flattened_data, columns=['Author', 'Comment'])\n",
    "\n",
    "# load the vectorizer\n",
    "with open('./sentiment-models/vectorizer.pkl', 'rb') as file:\n",
    "    vec = pickle.load(file)"
   ]
  },
  {
   "cell_type": "code",
   "execution_count": 13,
   "metadata": {},
   "outputs": [],
   "source": [
    "comments_sparse = vec.transform(df['Comment'])"
   ]
  },
  {
   "cell_type": "code",
   "execution_count": 16,
   "metadata": {},
   "outputs": [
    {
     "name": "stdout",
     "output_type": "stream",
     "text": [
      "predict toxic\n",
      "predict severe_toxic\n",
      "predict obscene\n",
      "predict threat\n",
      "predict insult\n",
      "predict identity_hate\n"
     ]
    }
   ],
   "source": [
    "label_cols = ['toxic', 'severe_toxic', 'obscene', 'threat', 'insult', 'identity_hate']\n",
    "\n",
    "preds = np.zeros((len(df), len(label_cols)))\n",
    "\n",
    "for i, j in enumerate(label_cols):\n",
    "    print('predict', j)\n",
    "    with open(f'./sentiment-models/{j}.pkl', 'rb') as file:\n",
    "        m,r = pickle.load(file)\n",
    "    preds[:,i] = m.predict_proba(comments_sparse.multiply(r))[:,1]\n",
    "    df[j] = preds[:,i]"
   ]
  },
  {
   "cell_type": "code",
   "execution_count": 17,
   "metadata": {},
   "outputs": [
    {
     "name": "stdout",
     "output_type": "stream",
     "text": [
      "None 0.668332522171509  \n",
      " \n",
      " :The stupid man must have been farting. That releases Methane gas, which, of course, will explode in ur face. If u light a cigarette, then ur asking for an explosion. I can assure u that a toilet, with so much water and so little design, will not explode.\n",
      " \n",
      "\n",
      "None 0.8768337254712283  \n",
      " *The notion of this whole article is ridiculous because FINANCE is not the SCIENCE OF FUND MANAGEMENT, or any of the other horseshit definitions stated in this article.  FINANCE is the FUNDING OF [THINGS].  Banks finance the construction of a building.  Governments finance the construction of roads and bridges.  Shareholders finance the capital of a corporation.  Fucking progressive juvenile idiots.\n",
      " \n",
      "\n",
      "64.253.108.13 0.6491721194746334  \n",
      " ::Someone write a better article fro home this one sucks. -unsigned  <small>—Preceding [[Wikipedia:Signatures|unsigned]] comment added by [[Special:Contributions/64.253.108.13|64.253.108.13]] ([[User talk:64.253.108.13|talk]]) 20:24, 14 August 2008 (UTC)</small><!-- Template:UnsignedIP --> <!--Autosigned by SineBot-->\n",
      "\n",
      "Shreshth91 0.6942010824257129  == Shreshth91 ==\n",
      " Can we block this user? in his short life time, he's become such a gigantic asshole that i feel his wikipedia editing privlidges should be revoked. just read his bio- he's an arrogant ass!\n",
      " :Thank you for your frank appraisal of my self. I will try to improve myself. However, please try to cool down, and return after the block as a more mature person. --<span class=\"user-sig user-Shreshth91\">May the Force be with you!  [[User:Shreshth91|Shr]]e[[User talk:Shreshth91|shth91]]</span> 08:20, 30 January 2007 (UTC)\n",
      "\n",
      "DePiep 0.9962537910110114  :::::Sure you don't have to reply. But unless you ''quote me saying what you put in my mouth'', you can just as well shut up and fuck off. -[[User:DePiep|DePiep]] ([[User talk:DePiep|talk]]) 11:08, 2 December 2014 (UTC)\n",
      "\n",
      "GreenMeansGo 0.9062575750097962  :::Yeah, well I can call Joe Biden a big dumb idiot, and say he's too old to be using Legos, and that his feet probably smell bad, and somehow, I have no fear I'll be poisoned or haphazardly fall out a window. [[User:GreenMeansGo|<span style=\"font-family:Impact\"><span style=\"color:#07CB4B\">G</span><span style=\"color:#449351\">M</span><span style=\"color:#35683d\">G</span></span>]][[User talk:GreenMeansGo#top|<sup style=\"color:#000;font-family:Impact\">talk</sup>]] 12:50, 11 August 2023 (UTC)\n",
      "\n",
      "Smokefoot 0.8131261962347146  *:\"Stupid\"?  Really?  To a colleague? --[[User:Smokefoot|Smokefoot]] ([[User talk:Smokefoot|talk]]) 15:31, 27 September 2022 (UTC)\n",
      "\n",
      "78.86.130.228 0.9946258023660924  \n",
      " :::::::::::::It's called football. You people are ridiculous. Fifa. No s. Stupid Americans [[Special:Contributions/78.86.130.228|78.86.130.228]] ([[User talk:78.86.130.228|talk]]) 20:26, 17 May 2023 (UTC)\n",
      "\n",
      "24.129.56.99 0.8856513408110114  \n",
      " :I WAS SAYING I LOVE TIA AND THE ENGLEWOOD HIGH SCHOOL TEACHERS IS TELLING ME STOP SAYING FUCK@ [[Special:Contributions/24.129.56.99|24.129.56.99]] ([[User talk:24.129.56.99|talk]]) 10:46, 27 May 2023 (UTC)\n",
      "\n",
      "207.28.80.252 0.8900668097372845  T Series Sucks  <!-- Template:Unsigned IP --><small class=\"autosigned\">—&nbsp;Preceding [[Wikipedia:Signatures|unsigned]] comment added by [[Special:Contributions/207.28.80.252|207.28.80.252]] ([[User talk:207.28.80.252#top|talk]]) 20:01, 11 April 2019 (UTC)</small> <!--Autosigned by SineBot-->\n",
      "\n",
      "5.103.42.242 0.9200454171210526  == Are you dumb ==\n",
      " \n",
      " Idk [[Special:Contributions/5.103.42.242|5.103.42.242]] ([[User talk:5.103.42.242|talk]]) 18:29, 16 April 2023 (UTC)\n",
      "Cometkeiko 0.8136328626725872  :::Thats like saying Brazil isn’t Portuguese because of its name, yet it’s like saying United States of America is American ''(It is English, are you stupid?)'' [[User:Cometkeiko|Cometkeiko]] ([[User talk:Cometkeiko|talk]]) 14:04, 13 November 2023 (UTC)\n",
      "\n",
      "Ahfreddy 0.6582191732274184  :I know you live in saudi arabia i will hunt you down [[User:Ahfreddy|Ahfreddy]] ([[User talk:Ahfreddy|talk]]) 18:26, 14 September 2023 (UTC)\n",
      "\n"
     ]
    }
   ],
   "source": [
    "for row in df[df[\"toxic\"] > 0.6].iterrows():\n",
    "    print(row[1][\"Author\"], row[1][\"toxic\"], row[1][\"Comment\"])"
   ]
  },
  {
   "cell_type": "code",
   "execution_count": 18,
   "metadata": {},
   "outputs": [
    {
     "data": {
      "text/plain": [
       "[\" \\n :::::::::::::It's called football. You people are ridiculous. Fifa. No s. Stupid Americans [[Special:Contributions/78.86.130.228|78.86.130.228]] ([[User talk:78.86.130.228|talk]]) 20:26, 17 May 2023 (UTC)\\n\"]"
      ]
     },
     "execution_count": 18,
     "metadata": {},
     "output_type": "execute_result"
    }
   ],
   "source": [
    "author_dict[\"78.86.130.228\"]"
   ]
  }
 ],
 "metadata": {
  "kernelspec": {
   "display_name": "socialgraphs",
   "language": "python",
   "name": "python3"
  },
  "language_info": {
   "codemirror_mode": {
    "name": "ipython",
    "version": 3
   },
   "file_extension": ".py",
   "mimetype": "text/x-python",
   "name": "python",
   "nbconvert_exporter": "python",
   "pygments_lexer": "ipython3",
   "version": "3.10.12"
  },
  "orig_nbformat": 4
 },
 "nbformat": 4,
 "nbformat_minor": 2
}
