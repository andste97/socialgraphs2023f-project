{
 "cells": [
  {
   "cell_type": "markdown",
   "metadata": {},
   "source": [
    "### Add something like this to our analysis :\n",
    "(copied from one of the other notebooks I was reviewing)\n",
    "It's an analysis that is to be done if the $\\gamma$ of our network is very close to or a bit above 3.\n",
    "\n",
    "\n",
    "\n",
    "> It can be seen that the exponent for the in-degree and the out-degree distribution is somewhat close to each other. Both values are $\\gamma>2$. This was also expected since this is characteristic for real systems. In addition, both values are actually also $\\gamma>3$, which indicates that this falls into the *random network regime*. This makes the network hard to distinguish from a random network. In order to determine if a network is truly a scale-free network or not, the number of of nodes must be high since:\n",
    ">$$N=\\left(\\frac{k_{max}}{k_{min}}\\right)^{\\gamma-1}, \\tag{4.23}$$\n",
    "> where $k_{max}$ and $k_{min}$ is the maximum and minium degree in the network.\n",
    ">In the following, it is investigated how many nodes are needed in order to determine the scale-free property of the network:"
   ]
  },
  {
   "cell_type": "code",
   "execution_count": null,
   "metadata": {},
   "outputs": [],
   "source": [
    "# related code:\n",
    "\n",
    "# kmin and kmax for in-degrees and out-degrees\n",
    "kmin_in, kmax_in = min(in_degrees), max(in_degrees)\n",
    "kmin_out, kmax_out = min(out_degrees), max(out_degrees)\n",
    "\n",
    "# Gamma for in-degrees and out-degrees\n",
    "gamma_in = powerlaw.Fit(np.array(in_degrees)+1, discrete=True).power_law.alpha\n",
    "gamma_out = powerlaw.Fit(np.array(out_degrees)+1, discrete=True).power_law.alpha\n",
    "\n",
    "# N for in-degrees and out-degrees\n",
    "epsilon = 1e-7 # Avoid division with 0\n",
    "N_in = (kmax_in/(kmin_in+epsilon))**(gamma_in-1)\n",
    "N_out = (kmax_out/(kmin_out+epsilon))**(gamma_out-1)\n",
    "\n",
    "print(\"Minimum network size for in-degree distribution:\", N_in)\n",
    "print(\"Minimum network size for out-degree distribution:\", N_out)"
   ]
  },
  {
   "cell_type": "markdown",
   "metadata": {},
   "source": [
    "### And analysis:\n",
    "\n",
    "> It can be seen that the number of nodes requirred to determine the scale-free property of the network is $2.28 \\times 10^{21}$ for the in-degree distribution and $2.82 \\times 10^{21}$ for the out-degree distribution. These numbers are much larger than the actual number of nodes in the network. It can therefore be concluded that even though the prior analysis indicated a scale-free network, the large degree exponent and the limited size of the network shows that it is challanging to obtain convincing\n",
    "evidence of the scale-free nature."
   ]
  }
 ],
 "metadata": {
  "language_info": {
   "name": "python"
  }
 },
 "nbformat": 4,
 "nbformat_minor": 2
}
