{
 "cells": [
  {
   "cell_type": "code",
   "execution_count": 159,
   "metadata": {},
   "outputs": [],
   "source": [
    "# clean up outputs from warnings\n",
    "import warnings\n",
    "warnings.filterwarnings(\"ignore\")"
   ]
  },
  {
   "cell_type": "code",
   "execution_count": 160,
   "metadata": {},
   "outputs": [
    {
     "name": "stderr",
     "output_type": "stream",
     "text": [
      "Fetching 3 categories: 100%|██████████| 3/3 [00:00<00:00,  4.54it/s]\n",
      "Fetching 1001 page archive titles: 100%|██████████| 1001/1001 [00:05<00:00, 189.88it/s]\n",
      "Fetching 7366 talk pages: 100%|██████████| 148/148 [00:08<00:00, 17.81it/s]\n",
      "Parsing talk page batches: 100%|██████████| 148/148 [00:24<00:00,  6.00it/s]\n",
      "Writing talk page batches to disk: 100%|██████████| 148/148 [00:01<00:00, 88.67it/s]\n",
      "Fetching 1001 article pages: 100%|██████████| 21/21 [00:02<00:00,  8.05it/s]\n",
      "Parsing article page batches: 100%|██████████| 21/21 [00:04<00:00,  4.78it/s]\n",
      "Parsing and saving plaintext wiki page batches: 100%|██████████| 1001/1001 [00:00<00:00, 5487.70it/s]\n",
      "Fetching 1001 plaintext wiki pages: 100%|██████████| 1001/1001 [00:06<00:00, 147.44it/s]\n"
     ]
    }
   ],
   "source": [
    "import scraper\n",
    "import networkx as nx\n",
    "\n",
    "category_titles = [\n",
    "    \"Category:Wikipedia_level-1_vital_articles\",\n",
    "    \"Category:Wikipedia_level-2_vital_articles\",\n",
    "    \"Category:Wikipedia_level-3_vital_articles\",\n",
    "    #\"Category:Wikipedia_level-4_vital_articles\",\n",
    "    #\"Category:Wikipedia_level-5_vital_articles\"\n",
    "]\n",
    "\n",
    "page_graph, infos  = await scraper.scrape_wiki(category_titles)\n",
    "nx.write_graphml(page_graph, \"wikigraph.graphml\")"
   ]
  },
  {
   "cell_type": "code",
   "execution_count": null,
   "metadata": {},
   "outputs": [],
   "source": [
    "import os\n",
    "import scraper\n",
    "import re\n",
    "import numpy as np\n",
    "import networkx as nx\n",
    "from tqdm.asyncio import tqdm\n",
    "\n",
    "def parse_page(raw_content):\n",
    "    # Normalize whitespace\n",
    "    content = re.sub(r'[\\n\\t\\ ]+', ' ', raw_content)\n",
    "\n",
    "    # Retreive links to all pages\n",
    "    all_links = np.unique(re.findall('\\[([^/\\]\\[\\|]+)[\\]\\|]', content))\n",
    "    # Retreive links to User: pages\n",
    "    user_links = np.unique(re.findall('\\[(User:[^/\\]\\[\\|]+)[\\]\\|]', content))\n",
    "    # Retreive links to Talk: pages\n",
    "    talk_links = np.unique(re.findall('\\[((talk:|Talk:|User talk:|Wikipedia talk:)[^/\\]\\[\\|]+)[\\]\\|]', content))\n",
    "    article_links = [link for link in all_links if link not in user_links and link not in talk_links]\n",
    "    return {\"article\": article_links, \"user\": user_links, \"talk\": talk_links}\n",
    "\n",
    "def get_titles(filenames):\n",
    "    return [fname[:-4] if fname[-4:] == \".txt\" else fname for fname in filenames]\n",
    "\n",
    "def parse_class(titles, dirpath):\n",
    "    data = {}\n",
    "    for title in titles:\n",
    "        filepath = f\"{dirpath}/{title}.txt\"\n",
    "        if os.path.isfile(filepath):\n",
    "            with open(filepath, \"r\") as fh:\n",
    "                content = fh.read()\n",
    "                data[title] = parse_page(content)\n",
    "        else:\n",
    "            pass\n",
    "    return data\n",
    "\n",
    "def build_network_local():\n",
    "    path = \"./page_contents\"\n",
    "    talk_titles = get_titles(os.listdir(f\"{path}/talks\"))\n",
    "    article_titles = get_titles(os.listdir(f\"{path}/articles\"))\n",
    "    \n",
    "    # Graph\n",
    "    page_graph = nx.DiGraph()\n",
    "\n",
    "    for talk_page_title in talk_titles:\n",
    "        page_graph.add_node(talk_page_title, page_class=\"talk\")\n",
    "    for wiki_page_title in article_titles:\n",
    "        page_graph.add_node(wiki_page_title, page_class=\"article\")\n",
    "        page_graph.add_edge(f\"Talk:{wiki_page_title}\", wiki_page_title)\n",
    "\n",
    "        \n",
    "    talk_data = parse_class(talk_titles, f\"{path}/talks\")\n",
    "    articles_data = parse_class(article_titles, f\"{path}/articles\")\n",
    "\n",
    "    link_types = [\"article\", \"user\", \"talk\"]\n",
    "\n",
    "    count = 0\n",
    "    disregarded = []\n",
    "    # Add User: links to graph\n",
    "    for title in tqdm(talk_data.keys(), desc=\"Adding talk page links\"):\n",
    "        page_data = talk_data[title]\n",
    "        if page_data is not None and title in page_graph:\n",
    "            for key in link_types:\n",
    "                for link in page_data[key]:\n",
    "                    if link not in page_graph:\n",
    "                        page_graph.add_node(link, page_class=key)\n",
    "                    page_graph.add_edge(link, title)\n",
    "                    count += 1\n",
    "        else:\n",
    "            disregarded.append(title) # Talk:HIV for some reason\n",
    "    # Add User: links to graph\n",
    "    for title in tqdm(articles_data.keys(), desc=\"Adding article page links\"):\n",
    "        page_data = articles_data[title]\n",
    "        if page_data is not None and title in page_graph:\n",
    "            for key in link_types:\n",
    "                for link in page_data[key]:\n",
    "                    if link not in page_graph:\n",
    "                        page_graph.add_node(link, page_class=key)\n",
    "                    page_graph.add_edge(link, title)\n",
    "                    count += 1\n",
    "        else:\n",
    "            disregarded.append(title)\n",
    "\n",
    "    print(\"Total edges: \" + str(count))\n",
    "    print(f\"Disregarded nodes: {len(disregarded)}\")\n",
    "    return page_graph\n",
    "\n",
    "# graph = build_network_local()"
   ]
  },
  {
   "cell_type": "code",
   "execution_count": 1,
   "metadata": {},
   "outputs": [],
   "source": [
    "import networkx as nx\n",
    "graph = nx.read_graphml(\"wikigraph.graphml\")\n",
    "# remove bots\n",
    "bot_names = [\"User:Community Tech bot\", \"User:PrimeBOT\", \"User:InternetArchiveBot\", \"User:AnomieBOT\", \"User:RMCD bot\", \"User:Cyberbot II\", \"User:CommonsNotificationBot\",\n",
    "\"User:LinkBot\", \"User:FairuseBot\", \"User:BetacommandBot\", \"User:Legobot\", \"User:DumZiBoT\"]\n",
    "graph.remove_nodes_from(bot_names)\n"
   ]
  },
  {
   "cell_type": "markdown",
   "metadata": {},
   "source": [
    "## Basic statistics"
   ]
  },
  {
   "cell_type": "code",
   "execution_count": 2,
   "metadata": {},
   "outputs": [],
   "source": [
    "import numpy as np\n",
    "import pandas as pd\n",
    "import networkx as nx\n",
    "\n",
    "def largest_weakly_connected_c(graph):\n",
    "     # extract largest weakly connected component\n",
    "    connected_subgraphs = [graph.subgraph(c).copy() for c in nx.weakly_connected_components(graph)]\n",
    "    max_conn_subgraph_index = np.argmax([len(graph) for graph in connected_subgraphs])\n",
    "    return connected_subgraphs[max_conn_subgraph_index]\n",
    "\n",
    "def largest_connected_c(graph):\n",
    "     # extract largest connected component\n",
    "    connected_subgraphs = [graph.subgraph(c).copy() for c in nx.connected_components(graph)]\n",
    "    max_conn_subgraph_index = np.argmax([len(graph) for graph in connected_subgraphs])\n",
    "    return connected_subgraphs[max_conn_subgraph_index]\n",
    "\n",
    "def top_n_by_degree(degree_dict, n):\n",
    "    stat_view = pd.DataFrame(degree_dict, columns=[\"Node\", \"Degree\"]).set_index(\"Node\")\n",
    "    return stat_view.sort_values([\"Degree\"], ascending=False).head(n)\n",
    "\n",
    "def basic_stats_undirected(graph, top_n):\n",
    "    G_biggest_comp = largest_connected_c(graph)\n",
    "    degree_stats = top_n_by_degree(G_biggest_comp.degree, top_n)\n",
    "    return G_biggest_comp, degree_stats\n",
    "    \n",
    "def basic_stats_directed(graph, top_n):\n",
    "    G_biggest_comp = largest_weakly_connected_c(graph)\n",
    "    # Create degree statistics\n",
    "    degree_stats = top_n_by_degree(G_biggest_comp.degree, top_n)\n",
    "    in_degree_stats = top_n_by_degree(G_biggest_comp.in_degree, top_n)\n",
    "    out_degree_stats = top_n_by_degree(G_biggest_comp.out_degree, top_n)\n",
    "\n",
    "    stats = {\"degree\": degree_stats, \"in_degree\": in_degree_stats, \"out_degree\": out_degree_stats}\n",
    "    return G_biggest_comp, stats"
   ]
  },
  {
   "cell_type": "code",
   "execution_count": 3,
   "metadata": {},
   "outputs": [],
   "source": [
    "def create_grouping(graph, data_key):\n",
    "    nodes_with_grouping = dict(graph.nodes(data=data_key))\n",
    "    classes = set(nodes_with_grouping.values())\n",
    "    grouping =  {}\n",
    "    for type in classes:\n",
    "        grouping[type] = list(filter(lambda key: nodes_with_grouping[key] == type, nodes_with_grouping))\n",
    "    return grouping"
   ]
  },
  {
   "cell_type": "markdown",
   "metadata": {},
   "source": [
    "## Edits and editors\n",
    "We take the subgraph talk pages and the users participating in those talk pages."
   ]
  },
  {
   "cell_type": "code",
   "execution_count": 4,
   "metadata": {},
   "outputs": [
    {
     "name": "stdout",
     "output_type": "stream",
     "text": [
      "Number of nodes: 80576\n",
      "Number of edges: 159038\n",
      "Top 5 nodes by overall degree\n"
     ]
    },
    {
     "data": {
      "text/html": [
       "<div>\n",
       "<style scoped>\n",
       "    .dataframe tbody tr th:only-of-type {\n",
       "        vertical-align: middle;\n",
       "    }\n",
       "\n",
       "    .dataframe tbody tr th {\n",
       "        vertical-align: top;\n",
       "    }\n",
       "\n",
       "    .dataframe thead th {\n",
       "        text-align: right;\n",
       "    }\n",
       "</style>\n",
       "<table border=\"1\" class=\"dataframe\">\n",
       "  <thead>\n",
       "    <tr style=\"text-align: right;\">\n",
       "      <th></th>\n",
       "      <th>Degree</th>\n",
       "    </tr>\n",
       "    <tr>\n",
       "      <th>Node</th>\n",
       "      <th></th>\n",
       "    </tr>\n",
       "  </thead>\n",
       "  <tbody>\n",
       "    <tr>\n",
       "      <th>Talk:United States</th>\n",
       "      <td>2221</td>\n",
       "    </tr>\n",
       "    <tr>\n",
       "      <th>Talk:Jesus</th>\n",
       "      <td>1879</td>\n",
       "    </tr>\n",
       "    <tr>\n",
       "      <th>Talk:Climate change</th>\n",
       "      <td>1767</td>\n",
       "    </tr>\n",
       "    <tr>\n",
       "      <th>Talk:Israel</th>\n",
       "      <td>1611</td>\n",
       "    </tr>\n",
       "    <tr>\n",
       "      <th>Talk:India</th>\n",
       "      <td>1601</td>\n",
       "    </tr>\n",
       "  </tbody>\n",
       "</table>\n",
       "</div>"
      ],
      "text/plain": [
       "                     Degree\n",
       "Node                       \n",
       "Talk:United States     2221\n",
       "Talk:Jesus             1879\n",
       "Talk:Climate change    1767\n",
       "Talk:Israel            1611\n",
       "Talk:India             1601"
      ]
     },
     "execution_count": 4,
     "metadata": {},
     "output_type": "execute_result"
    }
   ],
   "source": [
    "type_grouping = create_grouping(graph, \"page_class\")\n",
    "\n",
    "# Analyse only users and talk pages\n",
    "edits_filter = type_grouping[\"talk\"] + type_grouping[\"user\"]\n",
    "G_edits = graph.subgraph(edits_filter)\n",
    "\n",
    "edits_c, stats  = basic_stats_directed(G_edits, 5)\n",
    "print(f\"Number of nodes: {edits_c.number_of_nodes()}\")\n",
    "print(f\"Number of edges: {edits_c.number_of_edges()}\")\n",
    "print(\"Top 5 nodes by overall degree\")\n",
    "stats[\"degree\"]"
   ]
  },
  {
   "cell_type": "code",
   "execution_count": 5,
   "metadata": {},
   "outputs": [
    {
     "name": "stdout",
     "output_type": "stream",
     "text": [
      "Top 5 nodes by in degree\n"
     ]
    },
    {
     "data": {
      "text/html": [
       "<div>\n",
       "<style scoped>\n",
       "    .dataframe tbody tr th:only-of-type {\n",
       "        vertical-align: middle;\n",
       "    }\n",
       "\n",
       "    .dataframe tbody tr th {\n",
       "        vertical-align: top;\n",
       "    }\n",
       "\n",
       "    .dataframe thead th {\n",
       "        text-align: right;\n",
       "    }\n",
       "</style>\n",
       "<table border=\"1\" class=\"dataframe\">\n",
       "  <thead>\n",
       "    <tr style=\"text-align: right;\">\n",
       "      <th></th>\n",
       "      <th>Degree</th>\n",
       "    </tr>\n",
       "    <tr>\n",
       "      <th>Node</th>\n",
       "      <th></th>\n",
       "    </tr>\n",
       "  </thead>\n",
       "  <tbody>\n",
       "    <tr>\n",
       "      <th>Talk:United States</th>\n",
       "      <td>2221</td>\n",
       "    </tr>\n",
       "    <tr>\n",
       "      <th>Talk:Jesus</th>\n",
       "      <td>1879</td>\n",
       "    </tr>\n",
       "    <tr>\n",
       "      <th>Talk:Climate change</th>\n",
       "      <td>1767</td>\n",
       "    </tr>\n",
       "    <tr>\n",
       "      <th>Talk:Israel</th>\n",
       "      <td>1611</td>\n",
       "    </tr>\n",
       "    <tr>\n",
       "      <th>Talk:India</th>\n",
       "      <td>1601</td>\n",
       "    </tr>\n",
       "  </tbody>\n",
       "</table>\n",
       "</div>"
      ],
      "text/plain": [
       "                     Degree\n",
       "Node                       \n",
       "Talk:United States     2221\n",
       "Talk:Jesus             1879\n",
       "Talk:Climate change    1767\n",
       "Talk:Israel            1611\n",
       "Talk:India             1601"
      ]
     },
     "execution_count": 5,
     "metadata": {},
     "output_type": "execute_result"
    }
   ],
   "source": [
    "print(\"Top 5 nodes by in degree\")\n",
    "stats[\"in_degree\"]"
   ]
  },
  {
   "cell_type": "code",
   "execution_count": 6,
   "metadata": {},
   "outputs": [
    {
     "name": "stdout",
     "output_type": "stream",
     "text": [
      "Top 5 nodes by out degree\n"
     ]
    },
    {
     "data": {
      "text/html": [
       "<div>\n",
       "<style scoped>\n",
       "    .dataframe tbody tr th:only-of-type {\n",
       "        vertical-align: middle;\n",
       "    }\n",
       "\n",
       "    .dataframe tbody tr th {\n",
       "        vertical-align: top;\n",
       "    }\n",
       "\n",
       "    .dataframe thead th {\n",
       "        text-align: right;\n",
       "    }\n",
       "</style>\n",
       "<table border=\"1\" class=\"dataframe\">\n",
       "  <thead>\n",
       "    <tr style=\"text-align: right;\">\n",
       "      <th></th>\n",
       "      <th>Degree</th>\n",
       "    </tr>\n",
       "    <tr>\n",
       "      <th>Node</th>\n",
       "      <th></th>\n",
       "    </tr>\n",
       "  </thead>\n",
       "  <tbody>\n",
       "    <tr>\n",
       "      <th>User:ScottishFinnishRadish</th>\n",
       "      <td>235</td>\n",
       "    </tr>\n",
       "    <tr>\n",
       "      <th>User:Arjayay</th>\n",
       "      <td>215</td>\n",
       "    </tr>\n",
       "    <tr>\n",
       "      <th>User:Cannolis</th>\n",
       "      <td>206</td>\n",
       "    </tr>\n",
       "    <tr>\n",
       "      <th>User:Kuyabribri</th>\n",
       "      <td>138</td>\n",
       "    </tr>\n",
       "    <tr>\n",
       "      <th>User:Deacon Vorbis</th>\n",
       "      <td>138</td>\n",
       "    </tr>\n",
       "  </tbody>\n",
       "</table>\n",
       "</div>"
      ],
      "text/plain": [
       "                            Degree\n",
       "Node                              \n",
       "User:ScottishFinnishRadish     235\n",
       "User:Arjayay                   215\n",
       "User:Cannolis                  206\n",
       "User:Kuyabribri                138\n",
       "User:Deacon Vorbis             138"
      ]
     },
     "execution_count": 6,
     "metadata": {},
     "output_type": "execute_result"
    }
   ],
   "source": [
    "print(\"Top 5 nodes by out degree\")\n",
    "stats[\"out_degree\"]"
   ]
  },
  {
   "cell_type": "markdown",
   "metadata": {},
   "source": [
    "## Community analysis"
   ]
  },
  {
   "cell_type": "markdown",
   "metadata": {},
   "source": [
    "Community analysis with the louvain algorithm on the edits and editors graph."
   ]
  },
  {
   "cell_type": "code",
   "execution_count": 7,
   "metadata": {},
   "outputs": [
    {
     "name": "stdout",
     "output_type": "stream",
     "text": [
      "number of communities found:  42\n",
      "modularity of louvain partitions:  0.5535198937198653\n"
     ]
    }
   ],
   "source": [
    "G_undirected = graph.to_undirected()\n",
    "G_undirected.remove_nodes_from([node for node in G_undirected.nodes if G_undirected.degree(node) < 1])\n",
    "\n",
    "louvain_partition = nx.community.louvain_communities(G_undirected)\n",
    "\n",
    "print( \"number of communities found: \", len(louvain_partition))\n",
    "print(\"modularity of louvain partitions: \", nx.community.modularity(G_undirected, louvain_partition))"
   ]
  },
  {
   "cell_type": "code",
   "execution_count": 8,
   "metadata": {},
   "outputs": [
    {
     "data": {
      "image/png": "[encoded data removed]",
      "text/plain": [
       "<Figure size 1200x600 with 1 Axes>"
      ]
     },
     "metadata": {},
     "output_type": "display_data"
    },
    {
     "name": "stdout",
     "output_type": "stream",
     "text": [
      "Size of each community printed:  [2, 3, 356, 407, 469, 534, 572, 654, 735, 746, 919, 979, 1122, 1144, 1181, 1216, 1221, 1309, 1335, 1384, 1408, 1475, 1625, 1927, 1931, 1978, 2163, 2290, 2339, 2893, 2965, 2976, 3022, 3192, 3471, 3555, 3618, 3936, 4482, 4541, 4716, 4789]\n"
     ]
    }
   ],
   "source": [
    "import matplotlib.pyplot as plt\n",
    "sorted_size_communities = sorted([len(comm) for comm in louvain_partition])\n",
    "\n",
    "fig, ax = plt.subplots(figsize=(12, 6))\n",
    "ax.bar(\n",
    "    [x for x in range(1,len(louvain_partition)+1)], \n",
    "    sorted_size_communities,\n",
    "    color=\"cornflowerblue\"\n",
    ")\n",
    "ax.set_title(label=\"Community size distribution\")\n",
    "ax.set_xlabel(xlabel=\"Index of communities\")\n",
    "ax.set_ylabel(ylabel=\"Number of nodes\")\n",
    "ax.set_xticks([x for x in range (1,len(louvain_partition)+1)])\n",
    "ax.set_yticks([i for i in range (0, sorted_size_communities[-1], 1000)])\n",
    "plt.show()\n",
    "\n",
    "print(\"Size of each community printed: \", sorted_size_communities)"
   ]
  },
  {
   "cell_type": "markdown",
   "metadata": {},
   "source": [
    "Testing the type partition's modularity. Unsurprisingly this is not a good partition."
   ]
  },
  {
   "cell_type": "code",
   "execution_count": 9,
   "metadata": {},
   "outputs": [
    {
     "name": "stdout",
     "output_type": "stream",
     "text": [
      "Type partition modularity: -0.4968922173863245\n"
     ]
    }
   ],
   "source": [
    "type_partition_modularity = nx.community.modularity(G_undirected, list(type_grouping.values()))\n",
    "print(\"Type partition modularity:\", type_partition_modularity)"
   ]
  },
  {
   "cell_type": "markdown",
   "metadata": {},
   "source": [
    "## Connecting talk pages by common editors\n",
    "\n",
    "We create a graph where the nodes are the talk pages and two nodes are connected by an edge of weight w if exactly w users contributed to both."
   ]
  },
  {
   "cell_type": "code",
   "execution_count": 10,
   "metadata": {},
   "outputs": [
    {
     "name": "stdout",
     "output_type": "stream",
     "text": [
      "Connections between talk pages: 0\n",
      "Connections between user pages: 0\n"
     ]
    }
   ],
   "source": [
    "edits_u = G_edits.to_undirected()\n",
    "G_talks = G_undirected.subgraph(type_grouping[\"talk\"])\n",
    "G_users = G_undirected.subgraph(type_grouping[\"user\"])\n",
    "print(f\"Connections between talk pages: {G_talks.number_of_edges()}\")\n",
    "print(f\"Connections between user pages: {G_users.number_of_edges()}\")"
   ]
  },
  {
   "cell_type": "code",
   "execution_count": 11,
   "metadata": {},
   "outputs": [],
   "source": [
    "talks_sub = nx.Graph()\n",
    "\n",
    "for page in type_grouping[\"talk\"]:\n",
    "    editors = set(edits_u.neighbors(page))\n",
    "    related = {}\n",
    "    for user in editors:\n",
    "        r_user = edits_u.neighbors(user)\n",
    "        for talk in r_user:\n",
    "            if talk != page:\n",
    "                if talk in related:\n",
    "                    related[talk] += 1\n",
    "                else:\n",
    "                    related[talk] = 1\n",
    "    talks_sub.add_weighted_edges_from([(page, r, related[r]) for r in related])\n"
   ]
  },
  {
   "cell_type": "markdown",
   "metadata": {},
   "source": [
    "Basic analysis on the resulting graph. Slight change in top 5 nodes by degree is probably due to users that only contributed to one article being filtered out."
   ]
  },
  {
   "cell_type": "code",
   "execution_count": 12,
   "metadata": {},
   "outputs": [
    {
     "name": "stdout",
     "output_type": "stream",
     "text": [
      "Number of nodes: 999\n",
      "Number of edges: 242134\n",
      "Number of connected components: 1\n",
      "Top 5 nodes by overall degree\n"
     ]
    },
    {
     "data": {
      "text/html": [
       "<div>\n",
       "<style scoped>\n",
       "    .dataframe tbody tr th:only-of-type {\n",
       "        vertical-align: middle;\n",
       "    }\n",
       "\n",
       "    .dataframe tbody tr th {\n",
       "        vertical-align: top;\n",
       "    }\n",
       "\n",
       "    .dataframe thead th {\n",
       "        text-align: right;\n",
       "    }\n",
       "</style>\n",
       "<table border=\"1\" class=\"dataframe\">\n",
       "  <thead>\n",
       "    <tr style=\"text-align: right;\">\n",
       "      <th></th>\n",
       "      <th>Degree</th>\n",
       "    </tr>\n",
       "    <tr>\n",
       "      <th>Node</th>\n",
       "      <th></th>\n",
       "    </tr>\n",
       "  </thead>\n",
       "  <tbody>\n",
       "    <tr>\n",
       "      <th>Talk:United States</th>\n",
       "      <td>962</td>\n",
       "    </tr>\n",
       "    <tr>\n",
       "      <th>Talk:Climate change</th>\n",
       "      <td>945</td>\n",
       "    </tr>\n",
       "    <tr>\n",
       "      <th>Talk:Jesus</th>\n",
       "      <td>944</td>\n",
       "    </tr>\n",
       "    <tr>\n",
       "      <th>Talk:Human</th>\n",
       "      <td>931</td>\n",
       "    </tr>\n",
       "    <tr>\n",
       "      <th>Talk:Atheism</th>\n",
       "      <td>923</td>\n",
       "    </tr>\n",
       "  </tbody>\n",
       "</table>\n",
       "</div>"
      ],
      "text/plain": [
       "                     Degree\n",
       "Node                       \n",
       "Talk:United States      962\n",
       "Talk:Climate change     945\n",
       "Talk:Jesus              944\n",
       "Talk:Human              931\n",
       "Talk:Atheism            923"
      ]
     },
     "execution_count": 12,
     "metadata": {},
     "output_type": "execute_result"
    }
   ],
   "source": [
    "print(f\"Number of nodes: {talks_sub.number_of_nodes()}\")\n",
    "print(f\"Number of edges: {talks_sub.number_of_edges()}\")\n",
    "print(f\"Number of connected components: {nx.number_connected_components(talks_sub)}\")\n",
    "_, degree_stats = basic_stats_undirected(talks_sub, 5)\n",
    "# \n",
    "print(\"Top 5 nodes by overall degree\")\n",
    "degree_stats"
   ]
  },
  {
   "cell_type": "markdown",
   "metadata": {},
   "source": [
    "Least popular articles to edit."
   ]
  },
  {
   "cell_type": "code",
   "execution_count": 13,
   "metadata": {},
   "outputs": [
    {
     "data": {
      "text/html": [
       "<div>\n",
       "<style scoped>\n",
       "    .dataframe tbody tr th:only-of-type {\n",
       "        vertical-align: middle;\n",
       "    }\n",
       "\n",
       "    .dataframe tbody tr th {\n",
       "        vertical-align: top;\n",
       "    }\n",
       "\n",
       "    .dataframe thead th {\n",
       "        text-align: right;\n",
       "    }\n",
       "</style>\n",
       "<table border=\"1\" class=\"dataframe\">\n",
       "  <thead>\n",
       "    <tr style=\"text-align: right;\">\n",
       "      <th></th>\n",
       "      <th>Degree</th>\n",
       "    </tr>\n",
       "    <tr>\n",
       "      <th>Node</th>\n",
       "      <th></th>\n",
       "    </tr>\n",
       "  </thead>\n",
       "  <tbody>\n",
       "    <tr>\n",
       "      <th>Talk:History of Oceania</th>\n",
       "      <td>6</td>\n",
       "    </tr>\n",
       "    <tr>\n",
       "      <th>Talk:Internal structure of Earth</th>\n",
       "      <td>36</td>\n",
       "    </tr>\n",
       "    <tr>\n",
       "      <th>Talk:History of North America</th>\n",
       "      <td>45</td>\n",
       "    </tr>\n",
       "    <tr>\n",
       "      <th>Talk:Mechanical engineering</th>\n",
       "      <td>45</td>\n",
       "    </tr>\n",
       "    <tr>\n",
       "      <th>Talk:Festival</th>\n",
       "      <td>46</td>\n",
       "    </tr>\n",
       "  </tbody>\n",
       "</table>\n",
       "</div>"
      ],
      "text/plain": [
       "                                  Degree\n",
       "Node                                    \n",
       "Talk:History of Oceania                6\n",
       "Talk:Internal structure of Earth      36\n",
       "Talk:History of North America         45\n",
       "Talk:Mechanical engineering           45\n",
       "Talk:Festival                         46"
      ]
     },
     "execution_count": 13,
     "metadata": {},
     "output_type": "execute_result"
    }
   ],
   "source": [
    "degree_view = pd.DataFrame(talks_sub.degree, columns=[\"Node\", \"Degree\"]).set_index(\"Node\")\n",
    "degree_view.sort_values([\"Degree\"], ascending=True).head(5)"
   ]
  },
  {
   "cell_type": "markdown",
   "metadata": {},
   "source": [
    "Most connected pairs of talk pages based on number of authors who edited both. Popularity of the two pages might also play a role."
   ]
  },
  {
   "cell_type": "code",
   "execution_count": 14,
   "metadata": {},
   "outputs": [
    {
     "data": {
      "text/html": [
       "<div>\n",
       "<style scoped>\n",
       "    .dataframe tbody tr th:only-of-type {\n",
       "        vertical-align: middle;\n",
       "    }\n",
       "\n",
       "    .dataframe tbody tr th {\n",
       "        vertical-align: top;\n",
       "    }\n",
       "\n",
       "    .dataframe thead th {\n",
       "        text-align: right;\n",
       "    }\n",
       "</style>\n",
       "<table border=\"1\" class=\"dataframe\">\n",
       "  <thead>\n",
       "    <tr style=\"text-align: right;\">\n",
       "      <th></th>\n",
       "      <th>Weight</th>\n",
       "    </tr>\n",
       "    <tr>\n",
       "      <th>Edge</th>\n",
       "      <th></th>\n",
       "    </tr>\n",
       "  </thead>\n",
       "  <tbody>\n",
       "    <tr>\n",
       "      <th>(Talk:Christianity, Talk:Jesus)</th>\n",
       "      <td>221</td>\n",
       "    </tr>\n",
       "    <tr>\n",
       "      <th>(Talk:Israel, Talk:Jerusalem)</th>\n",
       "      <td>206</td>\n",
       "    </tr>\n",
       "    <tr>\n",
       "      <th>(Talk:Muhammad, Talk:Islam)</th>\n",
       "      <td>203</td>\n",
       "    </tr>\n",
       "    <tr>\n",
       "      <th>(Talk:Jesus, Talk:United States)</th>\n",
       "      <td>178</td>\n",
       "    </tr>\n",
       "    <tr>\n",
       "      <th>(Talk:Jesus, Talk:Muhammad)</th>\n",
       "      <td>176</td>\n",
       "    </tr>\n",
       "    <tr>\n",
       "      <th>(Talk:China, Talk:Taiwan)</th>\n",
       "      <td>174</td>\n",
       "    </tr>\n",
       "    <tr>\n",
       "      <th>(Talk:Jesus, Talk:Adolf Hitler)</th>\n",
       "      <td>168</td>\n",
       "    </tr>\n",
       "    <tr>\n",
       "      <th>(Talk:United Kingdom, Talk:United States)</th>\n",
       "      <td>163</td>\n",
       "    </tr>\n",
       "    <tr>\n",
       "      <th>(Talk:United States, Talk:Israel)</th>\n",
       "      <td>147</td>\n",
       "    </tr>\n",
       "    <tr>\n",
       "      <th>(Talk:India, Talk:Pakistan)</th>\n",
       "      <td>144</td>\n",
       "    </tr>\n",
       "    <tr>\n",
       "      <th>(Talk:Jesus, Talk:Israel)</th>\n",
       "      <td>141</td>\n",
       "    </tr>\n",
       "    <tr>\n",
       "      <th>(Talk:Jesus, Talk:Catholic Church)</th>\n",
       "      <td>139</td>\n",
       "    </tr>\n",
       "    <tr>\n",
       "      <th>(Talk:United States, Talk:India)</th>\n",
       "      <td>139</td>\n",
       "    </tr>\n",
       "    <tr>\n",
       "      <th>(Talk:Evolution, Talk:Atheism)</th>\n",
       "      <td>139</td>\n",
       "    </tr>\n",
       "    <tr>\n",
       "      <th>(Talk:Jesus, Talk:Islam)</th>\n",
       "      <td>138</td>\n",
       "    </tr>\n",
       "    <tr>\n",
       "      <th>(Talk:United States, Talk:China)</th>\n",
       "      <td>136</td>\n",
       "    </tr>\n",
       "    <tr>\n",
       "      <th>(Talk:World War II, Talk:World War I)</th>\n",
       "      <td>136</td>\n",
       "    </tr>\n",
       "    <tr>\n",
       "      <th>(Talk:World War II, Talk:United States)</th>\n",
       "      <td>136</td>\n",
       "    </tr>\n",
       "    <tr>\n",
       "      <th>(Talk:Jesus, Talk:God)</th>\n",
       "      <td>133</td>\n",
       "    </tr>\n",
       "    <tr>\n",
       "      <th>(Talk:Evolution, Talk:Climate change)</th>\n",
       "      <td>133</td>\n",
       "    </tr>\n",
       "  </tbody>\n",
       "</table>\n",
       "</div>"
      ],
      "text/plain": [
       "                                           Weight\n",
       "Edge                                             \n",
       "(Talk:Christianity, Talk:Jesus)               221\n",
       "(Talk:Israel, Talk:Jerusalem)                 206\n",
       "(Talk:Muhammad, Talk:Islam)                   203\n",
       "(Talk:Jesus, Talk:United States)              178\n",
       "(Talk:Jesus, Talk:Muhammad)                   176\n",
       "(Talk:China, Talk:Taiwan)                     174\n",
       "(Talk:Jesus, Talk:Adolf Hitler)               168\n",
       "(Talk:United Kingdom, Talk:United States)     163\n",
       "(Talk:United States, Talk:Israel)             147\n",
       "(Talk:India, Talk:Pakistan)                   144\n",
       "(Talk:Jesus, Talk:Israel)                     141\n",
       "(Talk:Jesus, Talk:Catholic Church)            139\n",
       "(Talk:United States, Talk:India)              139\n",
       "(Talk:Evolution, Talk:Atheism)                139\n",
       "(Talk:Jesus, Talk:Islam)                      138\n",
       "(Talk:United States, Talk:China)              136\n",
       "(Talk:World War II, Talk:World War I)         136\n",
       "(Talk:World War II, Talk:United States)       136\n",
       "(Talk:Jesus, Talk:God)                        133\n",
       "(Talk:Evolution, Talk:Climate change)         133"
      ]
     },
     "execution_count": 14,
     "metadata": {},
     "output_type": "execute_result"
    }
   ],
   "source": [
    "edge_weight_dict = nx.get_edge_attributes(talks_sub, \"weight\")\n",
    "stat_view = pd.DataFrame({\"Edge\": edge_weight_dict.keys(), \"Weight\": edge_weight_dict.values()}).set_index(\"Edge\")\n",
    "most_raw_connected = stat_view.sort_values([\"Weight\"], ascending=False).head(20)\n",
    "most_raw_connected"
   ]
  },
  {
   "cell_type": "markdown",
   "metadata": {},
   "source": [
    "Now we normalize the weights by the number of editors for each individual article. In this way the highest relative weight is assigned to the article where the biggest percentage of the editor group contributed to both."
   ]
  },
  {
   "cell_type": "code",
   "execution_count": 15,
   "metadata": {},
   "outputs": [],
   "source": [
    "for (u, v, data) in talks_sub.edges(data=True):\n",
    "    raw_weight = data[\"weight\"]\n",
    "    talks_sub[u][v][\"relative_weight\"] = raw_weight / (edits_u.degree[u] + edits_u.degree[v]) * 100"
   ]
  },
  {
   "cell_type": "code",
   "execution_count": 16,
   "metadata": {},
   "outputs": [
    {
     "data": {
      "text/html": [
       "<div>\n",
       "<style scoped>\n",
       "    .dataframe tbody tr th:only-of-type {\n",
       "        vertical-align: middle;\n",
       "    }\n",
       "\n",
       "    .dataframe tbody tr th {\n",
       "        vertical-align: top;\n",
       "    }\n",
       "\n",
       "    .dataframe thead th {\n",
       "        text-align: right;\n",
       "    }\n",
       "</style>\n",
       "<table border=\"1\" class=\"dataframe\">\n",
       "  <thead>\n",
       "    <tr style=\"text-align: right;\">\n",
       "      <th></th>\n",
       "      <th>Weight</th>\n",
       "    </tr>\n",
       "    <tr>\n",
       "      <th>Edge</th>\n",
       "      <th></th>\n",
       "    </tr>\n",
       "  </thead>\n",
       "  <tbody>\n",
       "    <tr>\n",
       "      <th>(Talk:Mahayana, Talk:Theravada)</th>\n",
       "      <td>14.814815</td>\n",
       "    </tr>\n",
       "    <tr>\n",
       "      <th>(Talk:Post-classical history, Talk:Early modern period)</th>\n",
       "      <td>14.583333</td>\n",
       "    </tr>\n",
       "    <tr>\n",
       "      <th>(Talk:Organic chemistry, Talk:Inorganic chemistry)</th>\n",
       "      <td>11.904762</td>\n",
       "    </tr>\n",
       "    <tr>\n",
       "      <th>(Talk:Real number, Talk:Natural number)</th>\n",
       "      <td>11.764706</td>\n",
       "    </tr>\n",
       "    <tr>\n",
       "      <th>(Talk:Complex number, Talk:Function (mathematics))</th>\n",
       "      <td>11.347518</td>\n",
       "    </tr>\n",
       "    <tr>\n",
       "      <th>(Talk:Natural number, Talk:Number)</th>\n",
       "      <td>11.111111</td>\n",
       "    </tr>\n",
       "    <tr>\n",
       "      <th>(Talk:Al-Khwarizmi, Talk:Avicenna)</th>\n",
       "      <td>10.666667</td>\n",
       "    </tr>\n",
       "    <tr>\n",
       "      <th>(Talk:Jupiter, Talk:Neptune)</th>\n",
       "      <td>10.628019</td>\n",
       "    </tr>\n",
       "    <tr>\n",
       "      <th>(Talk:Venus, Talk:Jupiter)</th>\n",
       "      <td>10.606061</td>\n",
       "    </tr>\n",
       "    <tr>\n",
       "      <th>(Talk:Man, Talk:Woman)</th>\n",
       "      <td>10.591472</td>\n",
       "    </tr>\n",
       "    <tr>\n",
       "      <th>(Talk:Real number, Talk:Set (mathematics))</th>\n",
       "      <td>10.588235</td>\n",
       "    </tr>\n",
       "    <tr>\n",
       "      <th>(Talk:Complex number, Talk:Real number)</th>\n",
       "      <td>10.460251</td>\n",
       "    </tr>\n",
       "    <tr>\n",
       "      <th>(Talk:Phosphorus, Talk:Sulfur)</th>\n",
       "      <td>10.434783</td>\n",
       "    </tr>\n",
       "    <tr>\n",
       "      <th>(Talk:Saturn, Talk:Neptune)</th>\n",
       "      <td>10.416667</td>\n",
       "    </tr>\n",
       "    <tr>\n",
       "      <th>(Talk:Organic chemistry, Talk:Catalysis)</th>\n",
       "      <td>10.294118</td>\n",
       "    </tr>\n",
       "    <tr>\n",
       "      <th>(Talk:Iron Age, Talk:Bronze Age)</th>\n",
       "      <td>10.280374</td>\n",
       "    </tr>\n",
       "    <tr>\n",
       "      <th>(Talk:Post-classical history, Talk:Contemporary history)</th>\n",
       "      <td>10.256410</td>\n",
       "    </tr>\n",
       "    <tr>\n",
       "      <th>(Talk:Real number, Talk:Number)</th>\n",
       "      <td>10.240964</td>\n",
       "    </tr>\n",
       "    <tr>\n",
       "      <th>(Talk:Topology, Talk:Real number)</th>\n",
       "      <td>10.179641</td>\n",
       "    </tr>\n",
       "    <tr>\n",
       "      <th>(Talk:Chemical bond, Talk:Chemical reaction)</th>\n",
       "      <td>9.859155</td>\n",
       "    </tr>\n",
       "  </tbody>\n",
       "</table>\n",
       "</div>"
      ],
      "text/plain": [
       "                                                       Weight\n",
       "Edge                                                         \n",
       "(Talk:Mahayana, Talk:Theravada)                     14.814815\n",
       "(Talk:Post-classical history, Talk:Early modern...  14.583333\n",
       "(Talk:Organic chemistry, Talk:Inorganic chemistry)  11.904762\n",
       "(Talk:Real number, Talk:Natural number)             11.764706\n",
       "(Talk:Complex number, Talk:Function (mathematics))  11.347518\n",
       "(Talk:Natural number, Talk:Number)                  11.111111\n",
       "(Talk:Al-Khwarizmi, Talk:Avicenna)                  10.666667\n",
       "(Talk:Jupiter, Talk:Neptune)                        10.628019\n",
       "(Talk:Venus, Talk:Jupiter)                          10.606061\n",
       "(Talk:Man, Talk:Woman)                              10.591472\n",
       "(Talk:Real number, Talk:Set (mathematics))          10.588235\n",
       "(Talk:Complex number, Talk:Real number)             10.460251\n",
       "(Talk:Phosphorus, Talk:Sulfur)                      10.434783\n",
       "(Talk:Saturn, Talk:Neptune)                         10.416667\n",
       "(Talk:Organic chemistry, Talk:Catalysis)            10.294118\n",
       "(Talk:Iron Age, Talk:Bronze Age)                    10.280374\n",
       "(Talk:Post-classical history, Talk:Contemporary...  10.256410\n",
       "(Talk:Real number, Talk:Number)                     10.240964\n",
       "(Talk:Topology, Talk:Real number)                   10.179641\n",
       "(Talk:Chemical bond, Talk:Chemical reaction)         9.859155"
      ]
     },
     "execution_count": 16,
     "metadata": {},
     "output_type": "execute_result"
    }
   ],
   "source": [
    "relative_edge_weight_dict = nx.get_edge_attributes(talks_sub, \"relative_weight\")\n",
    "rel_weight_df = pd.DataFrame({\"Edge\": relative_edge_weight_dict.keys(), \"Weight\": relative_edge_weight_dict.values()}).set_index(\"Edge\")\n",
    "rel_weight_df.sort_values([\"Weight\"], ascending=False).head(20)"
   ]
  },
  {
   "cell_type": "markdown",
   "metadata": {},
   "source": [
    "Let's see the most connected by raw user count."
   ]
  },
  {
   "cell_type": "code",
   "execution_count": 17,
   "metadata": {},
   "outputs": [
    {
     "data": {
      "text/html": [
       "<div>\n",
       "<style scoped>\n",
       "    .dataframe tbody tr th:only-of-type {\n",
       "        vertical-align: middle;\n",
       "    }\n",
       "\n",
       "    .dataframe tbody tr th {\n",
       "        vertical-align: top;\n",
       "    }\n",
       "\n",
       "    .dataframe thead th {\n",
       "        text-align: right;\n",
       "    }\n",
       "</style>\n",
       "<table border=\"1\" class=\"dataframe\">\n",
       "  <thead>\n",
       "    <tr style=\"text-align: right;\">\n",
       "      <th></th>\n",
       "      <th>Weight</th>\n",
       "    </tr>\n",
       "    <tr>\n",
       "      <th>Edge</th>\n",
       "      <th></th>\n",
       "    </tr>\n",
       "  </thead>\n",
       "  <tbody>\n",
       "    <tr>\n",
       "      <th>(Talk:Christianity, Talk:Jesus)</th>\n",
       "      <td>7.716480</td>\n",
       "    </tr>\n",
       "    <tr>\n",
       "      <th>(Talk:Israel, Talk:Jerusalem)</th>\n",
       "      <td>9.163701</td>\n",
       "    </tr>\n",
       "    <tr>\n",
       "      <th>(Talk:Muhammad, Talk:Islam)</th>\n",
       "      <td>8.045977</td>\n",
       "    </tr>\n",
       "    <tr>\n",
       "      <th>(Talk:Jesus, Talk:United States)</th>\n",
       "      <td>4.341463</td>\n",
       "    </tr>\n",
       "    <tr>\n",
       "      <th>(Talk:Jesus, Talk:Muhammad)</th>\n",
       "      <td>5.374046</td>\n",
       "    </tr>\n",
       "    <tr>\n",
       "      <th>(Talk:China, Talk:Taiwan)</th>\n",
       "      <td>9.780776</td>\n",
       "    </tr>\n",
       "    <tr>\n",
       "      <th>(Talk:Jesus, Talk:Adolf Hitler)</th>\n",
       "      <td>4.922356</td>\n",
       "    </tr>\n",
       "    <tr>\n",
       "      <th>(Talk:United Kingdom, Talk:United States)</th>\n",
       "      <td>4.781461</td>\n",
       "    </tr>\n",
       "    <tr>\n",
       "      <th>(Talk:United States, Talk:Israel)</th>\n",
       "      <td>3.836117</td>\n",
       "    </tr>\n",
       "    <tr>\n",
       "      <th>(Talk:India, Talk:Pakistan)</th>\n",
       "      <td>6.127660</td>\n",
       "    </tr>\n",
       "    <tr>\n",
       "      <th>(Talk:Jesus, Talk:Israel)</th>\n",
       "      <td>4.040115</td>\n",
       "    </tr>\n",
       "    <tr>\n",
       "      <th>(Talk:Jesus, Talk:Catholic Church)</th>\n",
       "      <td>5.078553</td>\n",
       "    </tr>\n",
       "    <tr>\n",
       "      <th>(Talk:United States, Talk:India)</th>\n",
       "      <td>3.636839</td>\n",
       "    </tr>\n",
       "    <tr>\n",
       "      <th>(Talk:Evolution, Talk:Atheism)</th>\n",
       "      <td>6.405530</td>\n",
       "    </tr>\n",
       "    <tr>\n",
       "      <th>(Talk:Jesus, Talk:Islam)</th>\n",
       "      <td>4.590818</td>\n",
       "    </tr>\n",
       "    <tr>\n",
       "      <th>(Talk:United States, Talk:China)</th>\n",
       "      <td>4.440091</td>\n",
       "    </tr>\n",
       "    <tr>\n",
       "      <th>(Talk:World War II, Talk:World War I)</th>\n",
       "      <td>6.702809</td>\n",
       "    </tr>\n",
       "    <tr>\n",
       "      <th>(Talk:World War II, Talk:United States)</th>\n",
       "      <td>3.896848</td>\n",
       "    </tr>\n",
       "    <tr>\n",
       "      <th>(Talk:Jesus, Talk:God)</th>\n",
       "      <td>5.275684</td>\n",
       "    </tr>\n",
       "    <tr>\n",
       "      <th>(Talk:Evolution, Talk:Climate change)</th>\n",
       "      <td>4.520734</td>\n",
       "    </tr>\n",
       "  </tbody>\n",
       "</table>\n",
       "</div>"
      ],
      "text/plain": [
       "                                             Weight\n",
       "Edge                                               \n",
       "(Talk:Christianity, Talk:Jesus)            7.716480\n",
       "(Talk:Israel, Talk:Jerusalem)              9.163701\n",
       "(Talk:Muhammad, Talk:Islam)                8.045977\n",
       "(Talk:Jesus, Talk:United States)           4.341463\n",
       "(Talk:Jesus, Talk:Muhammad)                5.374046\n",
       "(Talk:China, Talk:Taiwan)                  9.780776\n",
       "(Talk:Jesus, Talk:Adolf Hitler)            4.922356\n",
       "(Talk:United Kingdom, Talk:United States)  4.781461\n",
       "(Talk:United States, Talk:Israel)          3.836117\n",
       "(Talk:India, Talk:Pakistan)                6.127660\n",
       "(Talk:Jesus, Talk:Israel)                  4.040115\n",
       "(Talk:Jesus, Talk:Catholic Church)         5.078553\n",
       "(Talk:United States, Talk:India)           3.636839\n",
       "(Talk:Evolution, Talk:Atheism)             6.405530\n",
       "(Talk:Jesus, Talk:Islam)                   4.590818\n",
       "(Talk:United States, Talk:China)           4.440091\n",
       "(Talk:World War II, Talk:World War I)      6.702809\n",
       "(Talk:World War II, Talk:United States)    3.896848\n",
       "(Talk:Jesus, Talk:God)                     5.275684\n",
       "(Talk:Evolution, Talk:Climate change)      4.520734"
      ]
     },
     "execution_count": 17,
     "metadata": {},
     "output_type": "execute_result"
    }
   ],
   "source": [
    "rel_weight_df.loc[most_raw_connected.index]"
   ]
  },
  {
   "cell_type": "markdown",
   "metadata": {},
   "source": [
    "## Community analysis on talk pages graph\n",
    "It seems that a grouping of talk pages based on common editors emerges from our analysis. We will investigate this further with community analysis."
   ]
  },
  {
   "cell_type": "code",
   "execution_count": 18,
   "metadata": {},
   "outputs": [
    {
     "name": "stdout",
     "output_type": "stream",
     "text": [
      "Weights are common user numbers:\n",
      "number of communities found:  5\n",
      "modularity of louvain partitions:  0.10924780188786126\n",
      "1:  Louis Armstrong, Vedas, Shia Islam, History of music, George Washington, Prayer, Grassland, Lake Victoria, John Locke, Piano, Moses, Pablo Picasso, Justice, Adam Smith, Plato, Stone Age, European colonization of the Americas, Dante Alighieri, Homer, Christopher Columbus, Michelangelo, Mecca, Mughal Empire, History of East Asia, Hokusai, Monarchy, Abstract art, Himalayas, Music, Industrial Revolution, Popular culture, Eastern philosophy, Aztecs, Mumbai, Cyrus the Great, Michael Faraday, Louis Pasteur, Elizabeth I, Suleiman the Magnificent, Indigenous peoples, History, Calendar, English literature, Paper, Judaism, Confucianism, Civilization, Cicero, Liberty, Holy Roman Empire, Language, Ancient history, Nile, Augustus, Fiction, Sigmund Freud, Shinto, Bible, Islam, Religion, James Cook, William Shakespeare, Civil engineering, Age of Discovery, Folk music, Fashion, Avicenna, Ramesses II, Theravada, Crusades, Ibn Khaldun, Delhi, Culture, Realism (arts), War, Linguistics, Sculpture, Virgil, Johannes Gutenberg, Byzantine Empire, Frida Kahlo, Genghis Khan, Ganges, Afterlife, Drawing, History of literature, Explosive, New religious movement, Post-classical history, Writing, Flood, Eastern Orthodox Church, History of India, Alps, Visual arts, Musical instrument, Mass media, Mahayana, The arts, Literature, Ancient Greece, Napoleon, Ritual, Al-Khwarizmi, Niccolò Machiavelli, Modernism, Abraham, Opera, God, Joan of Arc, Neolithic Revolution, Buddhism, History of art, Jazz, Early human migrations, Muhammad, Hippocrates, Secularism, Leonardo da Vinci, Great Wall of China, Sikhism, Game, Renaissance, Johann Sebastian Bach, Taoism, Gupta Empire, Vasco da Gama, Charlie Chaplin, Rumi, Friedrich Nietzsche, Immanuel Kant, Rabindranath Tagore, Marco Polo, Romanticism, Roald Amundsen, History of Asia, Bengali language, Laozi, Epic poetry, Hatshepsut, Early modern period, Clothing, Bhagavad Gita, Reformation, Abraham Lincoln, Akbar, Deity, Oral tradition, Zheng He, Short story, Grammar, Art, René Descartes, Paul the Apostle, Late modern period, Black Death, History of Europe, Folklore, India, Hindustani language, Age of Enlightenment, Mary Wollstonecraft, American Revolution, Museum, Painting, Human migration, Jewellery, Ethnicity, Simón Bolívar, Armour, Jesus, Thomas Aquinas, Charlemagne, Phoenicia, Middle Ages, Wolfgang Amadeus Mozart, Architecture, Murasaki Shikibu, Martin Luther, Ancient Rome, Ancient Egypt, Catherine the Great, Ferdinand Magellan, Classical music, Tang dynasty, Greek mythology, Nicolaus Copernicus, Adi Shankara, Colonialism, Mesopotamia, Miguel de Cervantes, Archimedes, Fortification, Julius Caesar, Achaemenid Empire, Qin Shi Huang, Ashoka, Talmud, Novel, Bronze Age, Hammurabi, Calligraphy, History of architecture, Aristotle, Bronze, Florence Nightingale, Mansa Musa, Quran, Brahmic scripts, Protestantism, Rembrandt, Voltaire, History of North America, Soul, The Buddha, Jainism, Aesthetics, Gambling, Euclid, Islamic Golden Age, Great Pyramid of Giza, Christianity, Shen Kuo, Nikola Tesla, Spirituality, Andean civilizations, Iron Age, Sumer, Contemporary history, Maya civilization, Geography, Orchestra, Martial arts, Marie Curie, French Revolution, Herodotus, History of film, Alexander the Great, Catholic Church, Indus Valley Civilisation, Myth, Henry Ford, Sunni Islam, Prehistory, Confucius, Thomas Edison, Archaeology, Hinduism, Fairy tale, Walt Disney, History of Africa, Viking Age, Design, Mongol Empire, Printing, Prehistoric art, Inca Empire, Traditional African religions, Pre-Columbian era, Spanish Empire, Mechanical engineering, Human history, History of agriculture, Shamanism, Leo Tolstoy, Belief, Mahatma Gandhi, Silk Road, Socrates, Pottery, Masonry, Dmitri Mendeleev, Wheel, Ludwig van Beethoven, Meditation\n",
      "2:  Indonesia, South Korea, News, Tokyo, Film, Latin, Pakistan, Caspian Sea, History of the Middle East, Oceania, Mao Zedong, Beijing, Mexico City, NATO, Olympic Games, Terrorism, Kenya, South Africa, Philippines, Pacific Ocean, Dictatorship, Germany, British Empire, Sport, Word, Saudi Arabia, Tanzania, Paris, Greek alphabet, Israel, Colombia, Caribbean, Singapore, Ethiopia, São Paulo, Latin script, New York City, Pop music, Association football, Algeria, Military, School, Canada, Greek language, Internet, Spanish language, United Nations, French language, German language, Ottoman Empire, Scramble for Africa, Spain, Diplomacy, Chinese folk religion, Joseph Stalin, Malaysia, Jakarta, Chinese language, Soviet Union, Mesoamerica, Arabic script, Australia, Adolf Hitler, Yangtze, Southern Ocean, Western imperialism in Asia, Netherlands, Portuguese language, Poetry, Video game, France, Theatre, Egypt, Performing arts, Indo-European languages, Drink, City, Comics, Antarctica, Arabic, United Kingdom, Italy, North America, London, Sport of athletics, Vietnam, European Union, Rome, English language, Argentina, Europe, World War I, Chinese characters, United Arab Emirates, Istanbul, Myanmar, Sahara, Country, South America, Rock music, Iran, Great Lakes, Bangladesh, Cairo, United States, Taiwan, Lagos, Democratic Republic of the Congo, Military history, Humour, Jerusalem, Land, Nigeria, Asia, Russian language, Cold War, Brazil, Michael Jackson, Thailand, Han dynasty, Malay language, Turkey, Continent, Africa, Moscow, Swahili language, Hong Kong, Japanese language, Alphabet, The Beatles, Li Bai, Ukraine, Middle East, Cyrillic script, Mexico, Russia, Japan, Nelson Mandela, China, Poland, World War II\n",
      "3:  Gene, Flower, Dog, Fishing, Skin, Forest, Climate, Health, Seed, Human evolution, Firearm, Biology, Sanitation, Liver, Earth science, Happiness, Drug, Pig, Alcoholism, Rock (geology), Biotechnology, Psychology, Philosophy, DNA, History of medicine, Philosophy of science, Library, Botany, Soybean, Gender, Learning, Chicken, Skeletal muscle, Singing, Coal, Mediterranean Sea, Sugar, Green Revolution, Toy, Allergy, Molecular biology, Brain, Reptile, Disease, Coffee, Science, Animal husbandry, Amphibian, Spice, Infant, Heart, Zoology, Simple machine, Salt, Bread, International Red Cross and Red Crescent Movement, Sexism, Food, Genetics, Consciousness, Tea, Petroleum, Environmentalism, Motion, Sex, Cat, Play (activity), Sheep, Publishing, Fruit, Pregnancy, Skeleton, History of Earth, Rice, Personality, Archaea, Mineral, Metaphysics, Ontology, History of Oceania, Death, Atlantic Ocean, Lake, Virus, Extinction, Species, Violence, Marriage, Mental disorder, Antibiotic, Wind, Plate tectonics, Wood, Ear, Medical imaging, Privacy, Hospital, Hunting, Home, Agriculture, Influenza, Sexual orientation, Ethics, Genetic engineering, Domestication, Textile, Organism, Emotion, Cardiovascular disease, Sexual intercourse, Dance, Arthropod, Rodent, Tree, Reason, Child, Earthquake, Desert, Fertilizer, Pneumonia, Fear, Nutrition, Human, Drinking water, Andes, Weapon, Anthropology, Intelligence, Great Barrier Reef, Island, Eukaryote, Hormone, Power (social and political), Atheism, Bacteria, Adolescence, Vegetable, Epistemology, Memory, Cell (biology), Human body, Stroke, Nursing, Eye, Festival, River, Maize, Cryptography, Cancer, Malaria, Mental health, Anger, Lipid, Human sexuality, Ecosystem, Fish, Algae, Sexually transmitted infection, Cheese, Nature, Taxonomy (biology), Asthma, Blood, Social equality, Fungus, Bone, Gastroenteritis, Thought, Dinosaur, Cooking, Friendship, Exercise, Digestion, Hygiene, Smoking, Metallurgy, Erosion, Metabolism, Protein, Fossil fuel, Reproduction, Birth control, Abiogenesis, Smallpox, Potato, Diabetes, Man, Lung, Bow and arrow, Milk, Anatomy, Tool, Mammal, Medication, Truth, Redox, Addiction, Tuberculosis, Meat, Bird, Parenting, Garden, Artificial intelligence, Cereal, Vaccine, Woman, Natural selection, Natural gas, Imperialism, Human behavior, Circulatory system, Soil, Mountain, Carbohydrate, Abortion, Sleep, Amazon River, Mining, Horse, Mind, Paleontology, Knowledge, Ecology, Ageing, Free will, Photosynthesis, Wheat, Evolution, Pollution, Obesity, Plant, Old age, Physiology, Medicine, Carbon dioxide, Feminism, Love, Climate change, Adult, Disability, Primate, Communication, Infection, Western philosophy, Geology, Surgery, Scientific method, Heredity, Carl Linnaeus, Suicide, Discrimination, Life, Volcano, Charles Darwin, Biochemistry, Cattle, Natural rubber, Immune system, Compass, Mollusca, Biodiversity, Entertainment, Dentistry, Anesthesia, Animal, Glacier, Water, Insect, Cotton, RNA, Rocky Mountains, Nervous system, Mississippi River, Crustacean, Common cold, Dream, History of science\n",
      "4:  Sense, Computer science, Iron, Universe, Telephone, Animation, Calculus, Arabic numerals, Swimming, Sulfur, Prime number, Moon, Steam engine, Telescope, Book, Aircraft, History of mathematics, Outer space, Bicycle, Light, Computer, Combinatorics, Physics, Knife, Silver, Broadcasting, Planet, Neutron, Ship, Video, Thermodynamics, Radioactive decay, Refrigeration, Comet, Metal, Technology, History of technology, Mathematical proof, Optics, Chemical element, Set (mathematics), Hydropower, Microscope, Gold, Transport, Neptune, Statistics, Probability, Quantum mechanics, Cloud, Map, Nuclear power, Arithmetic, Astronomy, Leonhard Euler, Atmosphere of Earth, Measurement, Complex number, Alcoholic beverage, Retail, Internal combustion engine, Galaxy, Topology, Construction, Exponentiation, Engine, Navigation, Momentum, Hydrogen, Electric motor, Speech, Renewable energy, Mathematics, Black hole, Rail transport, Gravity, Weather, Molecule, Physical cosmology, Radio, Antoine Lavoisier, Electromagnetic radiation, Steel, Circle, Jupiter, Electric battery, Space, Amazon rainforest, Strong interaction, Magnetism, Lens, Chemical bond, 0, Logarithm, Space station, Chemistry, Kurt Gödel, Theory of relativity, Weak interaction, Time, Rocket, State of matter, Telecommunications, Venus, Car, Mars, Rain, Mathematical analysis, Sound, Vacuum, Day, Algorithm, Season, Uranus, Television, Snow, Photon, Tropical cyclone, Chemical compound, Inorganic chemistry, Isaac Newton, Abstract algebra, Semiconductor device, Arctic, Number, Phosphorus, Oxygen, Angle, Albert Einstein, Fire, Natural number, Bank, Electronics, Nuclear weapon, Plastic, E (mathematical constant), Asteroid, Carbon, Copper, Infinity, Milky Way, Galileo Galilei, Radar, Speed of light, Furniture, James Clerk Maxwell, Fraction, Year, Catalysis, Logic, Linear algebra, Glass, Number theory, Canal, Matter, Information Age, Electricity, Volume, Area, Sun, Proton, Integrated circuit, Personal name, Space exploration, Manufacturing, Newton's laws of motion, Internal structure of Earth, Gunpowder, International System of Units, Physical chemistry, Laser, Atom, Electromagnetism, Solar energy, Heat, Alan Turing, Tornado, Oven, Wave, Solar System, Supernova, Mobile phone, Orbit, Wind power, Emmy Noether, Standard Model, Robotics, Star, Particle physics, Nitrogen, Integer, Food preservation, Camera, Indian Ocean, Family, Mercury (planet), Arctic Ocean, Silicon, Pi, Alloy, Money, Clock, Geometry, Mass, Photography, Aluminium, Energy, Satellite, Spaceflight, Saturn, Electron, Organic chemistry, Force, Limit (mathematics), Carl Friedrich Gauss, Acid–base reaction, Subatomic particle, Line (geometry), Earth, Equation, Series (mathematics), Engineering, Chemical reaction, Scientific Revolution, Function (mathematics), Bridge, Sea, Color, Conic section, Three-dimensional space, Big Bang, Trigonometry, Card game, Classical mechanics, Nth root, Road, Periodic table, Dam, Polygon, Temperature, Algebra, Concrete, Electric light, Natural satellite, Variable (mathematics), Real number, Triangle\n",
      "5:  Social class, Trade, Liberalism, Socialism, Globalization, Tourism, Social science, Supply and demand, Peace, Slavery, Democracy, Capitalism, Constitution, Tax, Property, Political science, Management, Finance, Politics, University, Government, Police, Economics, Suffrage, Employment, Infrastructure, Business, Marketing, Conservatism, Law, Human rights, Society, Corporation, Great Depression, Fascism, Trade union, Community, Sociology, Economy, Board game, Nationalism, History of South America, Education, Karl Marx, Poverty, Insurance, Good and evil, State (polity), Genocide, Decolonization, Welfare, Mail, Communism, Anarchism, Ideology, Racism, Crime, Political party, Famine\n",
      "---------------------------------\n",
      "Weights are relative user numbers:\n",
      "number of communities found:  5\n",
      "modularity of louvain partitions:  0.09877332440573935\n",
      "1:  Computer science, Pi, Calculus, Arabic numerals, Fraction, Year, Prime number, Circle, Euclid, Space, Logic, Personality, History of mathematics, Linear algebra, Geometry, Combinatorics, Property, 0, Number theory, Logarithm, Kurt Gödel, Limit (mathematics), Carl Friedrich Gauss, Time, Line (geometry), Area, Equation, Archimedes, Mathematical proof, Series (mathematics), Reason, Mathematical analysis, Set (mathematics), Algorithm, Function (mathematics), Conic section, Statistics, Probability, Arithmetic, Leonhard Euler, Three-dimensional space, Abstract algebra, Complex number, Number, Trigonometry, Card game, Angle, Nth root, Topology, Exponentiation, Polygon, Natural number, E (mathematical constant), Emmy Noether, Algebra, Mathematics, Infinity, Variable (mathematics), History of science, Real number, Integer, Triangle\n",
      "2:  Vedas, History of music, Prayer, Grassland, News, Health, Lake Victoria, History of the Middle East, Piano, Adam Smith, Justice, Oceania, Beijing, History of technology, Stone Age, European colonization of the Americas, Dante Alighieri, Homer, Michelangelo, Hokusai, History of East Asia, Monarchy, Himalayas, Abstract art, Map, Community, Retail, Popular culture, Eastern philosophy, Insurance, Tanzania, Aztecs, Welfare, Cyrus the Great, Latin script, São Paulo, Library, Pop music, Suleiman the Magnificent, Military, Greek language, Indigenous peoples, History, Calendar, English literature, German language, Civilization, Cicero, Liberty, Toy, Holy Roman Empire, Language, Ancient history, Employment, Augustus, Fiction, Arabic script, Marketing, Season, Western imperialism in Asia, Avicenna, Civil engineering, Age of Discovery, Fashion, Folk music, Ramesses II, Spice, Theravada, Education, Poetry, Bank, Ibn Khaldun, Culture, Realism (arts), Performing arts, Linguistics, Sculpture, Johannes Gutenberg, Virgil, Byzantine Empire, Indo-European languages, Frida Kahlo, Environmentalism, Social class, Comics, Ganges, Drawing, History of literature, Arabic, Explosive, Tourism, New religious movement, Post-classical history, Peace, Writing, Eastern Orthodox Church, History of Oceania, Infrastructure, Personal name, Alps, Visual arts, Musical instrument, Mass media, Mahayana, The arts, Country, South America, Literature, Ancient Greece, Rock music, Board game, Ritual, History of South America, Al-Khwarizmi, Niccolò Machiavelli, Mail, Lagos, Democratic Republic of the Congo, Hospital, Agriculture, Modernism, Family, Opera, Neolithic Revolution, Textile, History of art, Globalization, Early human migrations, Constitution, Hippocrates, Secularism, Han dynasty, Taoism, Gupta Empire, Scientific Revolution, Romanticism, History of Asia, Bengali language, Laozi, Epic poetry, Hatshepsut, Cyrillic script, Weapon, Clothing, Early modern period, Bhagavad Gita, Reformation, Crime, Political party, Law, Deity, Power (social and political), Oral tradition, Zheng He, Short story, Book, Tax, Latin, Caspian Sea, Grammar, Art, Festival, Late modern period, History of Europe, Folklore, Hindustani language, Age of Enlightenment, Museum, Pacific Ocean, Painting, Alcoholic beverage, Dictatorship, Human migration, Jewellery, Ethnicity, Navigation, Word, Simón Bolívar, Armour, Greek alphabet, State (polity), Caribbean, Rail transport, Thomas Aquinas, Ideology, Charlemagne, Management, Phoenicia, Middle Ages, Architecture, Murasaki Shikibu, Spanish language, Social science, Catherine the Great, Ancient Egypt, Classical music, Tang dynasty, Greek mythology, Diplomacy, Scramble for Africa, Chinese folk religion, Colonialism, Mesopotamia, Miguel de Cervantes, Jakarta, Chinese language, Business, Fortification, Mesoamerica, Bow and arrow, Achaemenid Empire, Qin Shi Huang, Yangtze, Novel, Bronze Age, Hammurabi, Calligraphy, Economy, History of architecture, Nationalism, Florence Nightingale, Brahmic scripts, Mansa Musa, Portuguese language, Protestantism, Cereal, Rembrandt, Voltaire, City, History of North America, Jainism, Furniture, Aesthetics, Islamic Golden Age, Supply and demand, Shen Kuo, Political science, Spirituality, Andean civilizations, Information Age, University, Iron Age, Sumer, Chinese characters, Contemporary history, Maya civilization, Geography, Gunpowder, Orchestra, Martial arts, Sociology, Herodotus, History of film, Poverty, Cairo, Decolonization, Myth, Sunni Islam, Military history, Prehistory, Western philosophy, Trade, Land, Archaeology, Surgery, Fairy tale, History of Africa, Russian language, Viking Age, Design, Mongol Empire, Finance, Printing, Malay language, Prehistoric art, Natural rubber, Traditional African religions, Compass, Pre-Columbian era, Spanish Empire, Entertainment, Alphabet, Swahili language, Japanese language, Mechanical engineering, Human history, Society, Corporation, History of agriculture, Shamanism, Li Bai, Belief, Silk Road, Dam, Pottery, Masonry, Wheel, Transport\n",
      "3:  Louis Armstrong, Shia Islam, Flower, Dog, Indonesia, Socialism, South Korea, Atheism, George Washington, Tokyo, Capitalism, Film, Computer, Pakistan, Bicycle, John Locke, Moses, Pablo Picasso, Paul the Apostle, Black Death, Mao Zedong, Police, Plato, Mexico City, Technology, Maize, India, NATO, Olympic Games, Christopher Columbus, Mecca, Terrorism, Mary Wollstonecraft, American Revolution, Kenya, Mughal Empire, Human rights, South Africa, Cheese, Philippines, Music, Industrial Revolution, Germany, British Empire, Saudi Arabia, Psychology, Sport, Philosophy, Paris, Israel, Colombia, Mumbai, Singapore, Ethiopia, Dinosaur, Jesus, Louis Pasteur, New York City, Elizabeth I, Association football, Algeria, School, Wolfgang Amadeus Mozart, Martin Luther, Paper, Internet, United Nations, French language, Judaism, Chicken, Gender, Ancient Rome, Ottoman Empire, Confucianism, Slavery, Ferdinand Magellan, Nicolaus Copernicus, Potato, Spain, Man, Adi Shankara, Joseph Stalin, Car, Malaysia, Soviet Union, Nile, World War II, Sigmund Freud, Australia, Adolf Hitler, Julius Caesar, Bible, Islam, Shinto, Television, Religion, Coffee, James Cook, Ashoka, William Shakespeare, Isaac Newton, Great Depression, Netherlands, Amphibian, Fascism, Talmud, Albert Einstein, Bird, Aristotle, Quran, Crusades, Delhi, Video game, France, Communism, Egypt, Anarchism, War, Artificial intelligence, Food, Racism, Woman, Genocide, Liberalism, Cat, Genghis Khan, The Buddha, Gambling, Sheep, United Kingdom, Italy, Abortion, Great Pyramid of Giza, North America, London, Democracy, Vietnam, European Union, Christianity, Rome, Nikola Tesla, English language, Horse, Flood, Argentina, Europe, Government, World War I, Death, United Arab Emirates, Istanbul, History of India, Myanmar, Evolution, Marie Curie, Tornado, Alan Turing, French Revolution, Napoleon, Marriage, Iran, Alexander the Great, Mobile phone, Feminism, Catholic Church, Bangladesh, Love, Climate change, United States, Taiwan, Indus Valley Civilisation, Henry Ford, Humour, Thomas Edison, Confucius, Abraham, Jerusalem, God, Trade union, Joan of Arc, Buddhism, Nigeria, Money, Scientific method, Hinduism, Jazz, Asia, Walt Disney, Cold War, Muhammad, Brazil, Michael Jackson, Dance, Leonardo da Vinci, Thailand, Great Wall of China, Charles Darwin, Sikhism, Game, Johann Sebastian Bach, Turkey, Renaissance, Inca Empire, Africa, Cattle, Economics, Moscow, Charlie Chaplin, Vasco da Gama, Hong Kong, Rumi, Friedrich Nietzsche, Immanuel Kant, Rabindranath Tagore, Marco Polo, Roald Amundsen, Leo Tolstoy, The Beatles, Mahatma Gandhi, Cotton, Ukraine, Middle East, Human, Karl Marx, Abraham Lincoln, Socrates, Mexico, Russia, Japan, Nelson Mandela, China, Conservatism, Ludwig van Beethoven, Poland, Canada, Akbar\n",
      "4:  Sense, Iron, Universe, Telephone, Animation, Steam engine, Sulfur, Moon, Telescope, Aircraft, Forest, Climate, Outer space, Light, Physics, Knife, Silver, Broadcasting, Neutron, Ship, Video, Planet, Thermodynamics, Radioactive decay, River, Refrigeration, Comet, Metal, Optics, Chemical element, Hydropower, Microscope, Gold, Earth science, Neptune, Ecosystem, Nuclear power, Quantum mechanics, Cloud, Pig, Astronomy, Nature, Atmosphere of Earth, Measurement, Internal combustion engine, Biotechnology, Galaxy, Rock (geology), Construction, Social equality, Momentum, Engine, Hydrogen, Electric motor, Michael Faraday, Speech, Renewable energy, Black hole, Gravity, Weather, Molecule, Physical cosmology, Metallurgy, Erosion, Antoine Lavoisier, Radio, Electromagnetic radiation, Fossil fuel, Steel, Jupiter, Electric battery, Amazon rainforest, Strong interaction, Coal, Mediterranean Sea, Chemical bond, Magnetism, Lens, Space station, Chemistry, Theory of relativity, Weak interaction, State of matter, Rocket, Telecommunications, Venus, Mars, Sound, Rain, Vacuum, Day, Uranus, Snow, Photon, Inorganic chemistry, Chemical compound, Southern Ocean, Science, Tropical cyclone, Tool, Semiconductor device, Arctic, Milk, Phosphorus, Oxygen, Simple machine, Redox, Bronze, Fire, Plastic, Nuclear weapon, Electronics, Asteroid, Copper, Carbon, Milky Way, Petroleum, Natural gas, Galileo Galilei, Radar, Speed of light, Motion, Imperialism, James Clerk Maxwell, Catalysis, Mountain, Soil, Antarctica, History of Earth, Amazon River, Glass, Mineral, Matter, Canal, Electricity, Volume, Proton, Sun, Atlantic Ocean, Integrated circuit, Photosynthesis, Space exploration, Manufacturing, Newton's laws of motion, Internal structure of Earth, Lake, International System of Units, Sahara, Pollution, Physical chemistry, Atom, Laser, Electromagnetism, Solar energy, Heat, Oven, Wave, Solar System, Supernova, Wood, Plate tectonics, Carbon dioxide, Great Lakes, Wind, Orbit, Wind power, Standard Model, Robotics, Star, Particle physics, Home, Nitrogen, Food preservation, Camera, Indian Ocean, Mercury (planet), Arctic Ocean, Silicon, Alloy, Geology, Clock, Mass, Photography, Aluminium, Energy, Satellite, Organic chemistry, Force, Electron, Volcano, Spaceflight, Saturn, Acid–base reaction, Subatomic particle, Continent, Earth, Engineering, Chemical reaction, Earthquake, Desert, Biodiversity, Bridge, Fertilizer, Sea, Water, Glacier, Big Bang, Classical mechanics, Road, Periodic table, Andes, Temperature, Rocky Mountains, Concrete, Great Barrier Reef, Mississippi River, Dmitri Mendeleev, Electric light, Island, Natural satellite\n",
      "5:  Gene, Swimming, Bacteria, Adolescence, Fishing, Vegetable, Epistemology, Skin, Memory, Human evolution, Cell (biology), Seed, Human body, Firearm, Stroke, Eye, Biology, René Descartes, Nursing, Sanitation, Liver, Cryptography, Anger, Cancer, Lipid, Happiness, Malaria, Mental health, Drug, Human sexuality, Fish, Algae, Sexually transmitted infection, Alcoholism, Taxonomy (biology), Asthma, Blood, DNA, Fungus, Bone, Gastroenteritis, History of medicine, Thought, Philosophy of science, Cooking, Friendship, Exercise, Digestion, Hygiene, Botany, Smoking, Soybean, Metabolism, Protein, Learning, Reproduction, Skeletal muscle, Singing, Birth control, Abiogenesis, Smallpox, Diabetes, Sugar, Politics, Green Revolution, Allergy, Lung, Molecular biology, Brain, Reptile, Disease, Animal husbandry, Anatomy, Mammal, Infant, Truth, Zoology, Heart, Medication, Salt, Tuberculosis, Addiction, Bread, International Red Cross and Red Crescent Movement, Meat, Parenting, Sexism, Garden, Theatre, Vaccine, Genetics, Consciousness, Tea, Drink, Natural selection, Famine, Sex, Soul, Human behavior, Afterlife, Play (activity), Carbohydrate, Circulatory system, Fruit, Publishing, Skeleton, Pregnancy, Rice, Sleep, Sport of athletics, Archaea, Mining, Mind, Paleontology, Metaphysics, Ontology, Knowledge, Suffrage, Ecology, Ageing, Free will, Wheat, Virus, Extinction, Species, Obesity, Plant, Old age, Violence, Physiology, Medicine, Mental disorder, Antibiotic, Ear, Medical imaging, Adult, Privacy, Primate, Disability, Hunting, Communication, Influenza, Sexual orientation, Infection, Ethics, Genetic engineering, Domestication, Organism, Heredity, Carl Linnaeus, Suicide, Discrimination, Emotion, Life, Cardiovascular disease, Sexual intercourse, Arthropod, Rodent, Tree, Biochemistry, Immune system, Child, Mollusca, Color, Dentistry, Animal, Anesthesia, Pneumonia, Fear, Insect, Nutrition, Good and evil, Drinking water, RNA, Anthropology, Intelligence, Nervous system, Common cold, Dream, Crustacean, Eukaryote, Meditation, Hormone\n"
     ]
    }
   ],
   "source": [
    "louvain_partition_raw = nx.community.louvain_communities(talks_sub)\n",
    "print(\"Weights are common user numbers:\")\n",
    "print( \"number of communities found: \", len(louvain_partition_raw))\n",
    "print(\"modularity of louvain partitions: \", nx.community.modularity(talks_sub, louvain_partition_raw))\n",
    "\n",
    "for idx, c in enumerate(louvain_partition_raw):\n",
    "    print(f\"{idx + 1}: \", \", \".join([a[5:] for a in c]))\n",
    "\n",
    "print(\"---------------------------------\")\n",
    "\n",
    "\n",
    "louvain_partition_rel = nx.community.louvain_communities(talks_sub, weight=\"relative_weight\")\n",
    "print(\"Weights are relative user numbers:\")\n",
    "print( \"number of communities found: \", len(louvain_partition_rel))\n",
    "print(\"modularity of louvain partitions: \", nx.community.modularity(talks_sub, louvain_partition_rel))\n",
    "\n",
    "for idx, c in enumerate(louvain_partition_rel):\n",
    "    print(f\"{idx + 1}: \", \", \".join([a[5:] for a in c]))\n"
   ]
  },
  {
   "cell_type": "code",
   "execution_count": 33,
   "metadata": {},
   "outputs": [
    {
     "data": {
      "image/png": "[encoded data removed]",
      "text/plain": [
       "<Figure size 1400x600 with 2 Axes>"
      ]
     },
     "metadata": {},
     "output_type": "display_data"
    }
   ],
   "source": [
    "titles = [\"Community size distribution for raw weights\", \"Community size distribution for relative weights\"]\n",
    "partitions = [louvain_partition_raw, louvain_partition_rel]\n",
    "fig, ax = plt.subplots(1, 2, figsize=(14, 6), layout=\"constrained\")\n",
    "for idx, (titles, partition) in enumerate(zip(titles, partitions)):\n",
    "    sorted_size_communities = sorted([len(comm) for comm in partition])\n",
    "    ax[idx].bar([x for x in range(1,len(partition)+1)], sorted_size_communities, color=\"cornflowerblue\")\n",
    "    ax[idx].set_title(label=titles)\n",
    "    ax[idx].set_xlabel(xlabel=\"Index of communities\")\n",
    "    ax[idx].set_ylabel(ylabel=\"Number of nodes\")\n",
    "    ax[idx].set_xticks([x for x in range (1,len(partition)+1)])\n",
    "    min_c = sorted_size_communities[0]\n",
    "    max_c = sorted_size_communities[-1]\n",
    "    ax[idx].set_ylim((0, max_c + 40))\n",
    "\n",
    "    rects = ax[idx].patches\n",
    "    labels = [size for size in sorted_size_communities]\n",
    "\n",
    "    for rect, label in zip(rects, labels):\n",
    "        height = rect.get_height()\n",
    "        ax[idx].text(rect.get_x() + rect.get_width() / 2, height + 5, label, ha=\"center\", va=\"bottom\")\n",
    "    \n",
    "plt.show()"
   ]
  },
  {
   "cell_type": "code",
   "execution_count": 35,
   "metadata": {},
   "outputs": [
    {
     "data": {
      "image/png": "[encoded data removed]",
      "text/plain": [
       "<Figure size 640x480 with 1 Axes>"
      ]
     },
     "metadata": {},
     "output_type": "display_data"
    }
   ],
   "source": [
    "pos = nx.spring_layout(talks_sub)\n",
    "label_pos = {node: (pos[node][0], pos[node][1] + 0.15) for node in talks_sub.nodes}\n",
    "raw_edge_weights = np.array([data[\"weight\"] for _, _, data in talks_sub.edges(data=True)])\n",
    "edge_widths = raw_edge_weights / raw_edge_weights.mean() * 5\n",
    "nx.draw(talks_sub, pos=pos, node_size=3, edge_color=\"#999999\", width=edge_widths, alpha=0.5, with_labels=False)\n",
    "# nx.draw_networkx_labels(talks_sub, pos, font_size=5, font_color='black')\n",
    "plt.show()"
   ]
  },
  {
   "cell_type": "code",
   "execution_count": null,
   "metadata": {},
   "outputs": [],
   "source": []
  },
  {
   "cell_type": "code",
   "execution_count": null,
   "metadata": {},
   "outputs": [],
   "source": []
  }
 ],
 "metadata": {
  "kernelspec": {
   "display_name": "social",
   "language": "python",
   "name": "python3"
  },
  "language_info": {
   "codemirror_mode": {
    "name": "ipython",
    "version": 3
   },
   "file_extension": ".py",
   "mimetype": "text/x-python",
   "name": "python",
   "nbconvert_exporter": "python",
   "pygments_lexer": "ipython3",
   "version": "3.10.13"
  }
 },
 "nbformat": 4,
 "nbformat_minor": 2
}
