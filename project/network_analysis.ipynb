{
 "cells": [
  {
   "cell_type": "code",
   "execution_count": 76,
   "metadata": {},
   "outputs": [],
   "source": [
    "# clean up outputs from warnings\n",
    "import warnings\n",
    "warnings.filterwarnings(\"ignore\")"
   ]
  },
  {
   "cell_type": "code",
   "execution_count": 77,
   "metadata": {},
   "outputs": [
    {
     "name": "stderr",
     "output_type": "stream",
     "text": [
      "Fetching 3 categories: 100%|██████████| 3/3 [00:00<00:00,  4.28it/s]\n",
      "Fetching 1001 page archive titles: 100%|██████████| 1001/1001 [00:04<00:00, 247.86it/s]\n",
      "Fetching 7363 talk pages:  12%|█▏        | 18/148 [00:07<00:38,  3.40it/s]"
     ]
    },
    {
     "ename": "CancelledError",
     "evalue": "",
     "output_type": "error",
     "traceback": [
      "\u001b[0;31m---------------------------------------------------------------------------\u001b[0m",
      "\u001b[0;31mCancelledError\u001b[0m                            Traceback (most recent call last)",
      "\u001b[1;32m/home/eperst/github/socialgraphs2023f-project/project/network_analysis.ipynb Cell 2\u001b[0m line \u001b[0;36m1\n\u001b[1;32m      <a href='vscode-notebook-cell://wsl%2Bubuntu/home/eperst/github/socialgraphs2023f-project/project/network_analysis.ipynb#W1sdnNjb2RlLXJlbW90ZQ%3D%3D?line=0'>1</a>\u001b[0m \u001b[39mimport\u001b[39;00m \u001b[39mscraper\u001b[39;00m\n\u001b[1;32m      <a href='vscode-notebook-cell://wsl%2Bubuntu/home/eperst/github/socialgraphs2023f-project/project/network_analysis.ipynb#W1sdnNjb2RlLXJlbW90ZQ%3D%3D?line=2'>3</a>\u001b[0m category_titles \u001b[39m=\u001b[39m [\n\u001b[1;32m      <a href='vscode-notebook-cell://wsl%2Bubuntu/home/eperst/github/socialgraphs2023f-project/project/network_analysis.ipynb#W1sdnNjb2RlLXJlbW90ZQ%3D%3D?line=3'>4</a>\u001b[0m     \u001b[39m\"\u001b[39m\u001b[39mCategory:Wikipedia_level-1_vital_articles\u001b[39m\u001b[39m\"\u001b[39m,\n\u001b[1;32m      <a href='vscode-notebook-cell://wsl%2Bubuntu/home/eperst/github/socialgraphs2023f-project/project/network_analysis.ipynb#W1sdnNjb2RlLXJlbW90ZQ%3D%3D?line=4'>5</a>\u001b[0m     \u001b[39m\"\u001b[39m\u001b[39mCategory:Wikipedia_level-2_vital_articles\u001b[39m\u001b[39m\"\u001b[39m,\n\u001b[0;32m   (...)\u001b[0m\n\u001b[1;32m      <a href='vscode-notebook-cell://wsl%2Bubuntu/home/eperst/github/socialgraphs2023f-project/project/network_analysis.ipynb#W1sdnNjb2RlLXJlbW90ZQ%3D%3D?line=7'>8</a>\u001b[0m     \u001b[39m#\"Category:Wikipedia_level-5_vital_articles\"\u001b[39;00m\n\u001b[1;32m      <a href='vscode-notebook-cell://wsl%2Bubuntu/home/eperst/github/socialgraphs2023f-project/project/network_analysis.ipynb#W1sdnNjb2RlLXJlbW90ZQ%3D%3D?line=8'>9</a>\u001b[0m ]\n\u001b[0;32m---> <a href='vscode-notebook-cell://wsl%2Bubuntu/home/eperst/github/socialgraphs2023f-project/project/network_analysis.ipynb#W1sdnNjb2RlLXJlbW90ZQ%3D%3D?line=10'>11</a>\u001b[0m page_graph, infos  \u001b[39m=\u001b[39m \u001b[39mawait\u001b[39;00m scraper\u001b[39m.\u001b[39mscrape_wiki(category_titles)\n",
      "File \u001b[0;32m~/github/socialgraphs2023f-project/project/scraper.py:371\u001b[0m, in \u001b[0;36mscrape_wiki\u001b[0;34m(category_titles, verbose)\u001b[0m\n\u001b[1;32m    369\u001b[0m talk_page_queries \u001b[39m=\u001b[39m [get_wiki_data_query(titles) \u001b[39mfor\u001b[39;00m titles \u001b[39min\u001b[39;00m split_talk_titles_list]\n\u001b[1;32m    370\u001b[0m \u001b[39m# Send requests\u001b[39;00m\n\u001b[0;32m--> 371\u001b[0m talk_pages \u001b[39m=\u001b[39m \u001b[39mawait\u001b[39;00m handle_queries(talk_page_queries, response_handler\u001b[39m=\u001b[39mhandle_wiki_data_return, tqdm_desc\u001b[39m=\u001b[39m\u001b[39m\"\u001b[39m\u001b[39mFetching \u001b[39m\u001b[39m\"\u001b[39m \u001b[39m+\u001b[39m \u001b[39mstr\u001b[39m(\u001b[39mlen\u001b[39m(all_titles)) \u001b[39m+\u001b[39m \u001b[39m\"\u001b[39m\u001b[39m talk pages\u001b[39m\u001b[39m\"\u001b[39m)\n\u001b[1;32m    372\u001b[0m \u001b[39m# Parse Talk: pages\u001b[39;00m\n\u001b[1;32m    373\u001b[0m talk_data \u001b[39m=\u001b[39m []\n",
      "File \u001b[0;32m~/github/socialgraphs2023f-project/project/scraper.py:233\u001b[0m, in \u001b[0;36mhandle_queries\u001b[0;34m(queries, response_handler, tqdm_desc)\u001b[0m\n\u001b[1;32m    231\u001b[0m \u001b[39mif\u001b[39;00m \u001b[39mlen\u001b[39m(queries) \u001b[39m<\u001b[39m\u001b[39m=\u001b[39m N_MAX_WORKERS:\n\u001b[1;32m    232\u001b[0m     coroutines \u001b[39m=\u001b[39m [send_urlib_request_async(query_info, response_handler) \u001b[39mfor\u001b[39;00m query_info \u001b[39min\u001b[39;00m queries]\n\u001b[0;32m--> 233\u001b[0m     wikitexts \u001b[39m=\u001b[39m \u001b[39mawait\u001b[39;00m tqdm\u001b[39m.\u001b[39mgather(\u001b[39m*\u001b[39mcoroutines, desc\u001b[39m=\u001b[39mtqdm_desc)\n\u001b[1;32m    235\u001b[0m     \u001b[39mreturn\u001b[39;00m wikitexts\n\u001b[1;32m    236\u001b[0m \u001b[39melse\u001b[39;00m:\n",
      "File \u001b[0;32m~/miniconda3/envs/social/lib/python3.10/site-packages/tqdm/asyncio.py:79\u001b[0m, in \u001b[0;36mtqdm_asyncio.gather\u001b[0;34m(cls, loop, timeout, total, *fs, **tqdm_kwargs)\u001b[0m\n\u001b[1;32m     76\u001b[0m     \u001b[39mreturn\u001b[39;00m i, \u001b[39mawait\u001b[39;00m f\n\u001b[1;32m     78\u001b[0m ifs \u001b[39m=\u001b[39m [wrap_awaitable(i, f) \u001b[39mfor\u001b[39;00m i, f \u001b[39min\u001b[39;00m \u001b[39menumerate\u001b[39m(fs)]\n\u001b[0;32m---> 79\u001b[0m res \u001b[39m=\u001b[39m [\u001b[39mawait\u001b[39;00m f \u001b[39mfor\u001b[39;00m f \u001b[39min\u001b[39;00m \u001b[39mcls\u001b[39m\u001b[39m.\u001b[39mas_completed(ifs, loop\u001b[39m=\u001b[39mloop, timeout\u001b[39m=\u001b[39mtimeout,\n\u001b[1;32m     80\u001b[0m                                          total\u001b[39m=\u001b[39mtotal, \u001b[39m*\u001b[39m\u001b[39m*\u001b[39mtqdm_kwargs)]\n\u001b[1;32m     81\u001b[0m \u001b[39mreturn\u001b[39;00m [i \u001b[39mfor\u001b[39;00m _, i \u001b[39min\u001b[39;00m \u001b[39msorted\u001b[39m(res)]\n",
      "File \u001b[0;32m~/miniconda3/envs/social/lib/python3.10/site-packages/tqdm/asyncio.py:79\u001b[0m, in \u001b[0;36m<listcomp>\u001b[0;34m(.0)\u001b[0m\n\u001b[1;32m     76\u001b[0m     \u001b[39mreturn\u001b[39;00m i, \u001b[39mawait\u001b[39;00m f\n\u001b[1;32m     78\u001b[0m ifs \u001b[39m=\u001b[39m [wrap_awaitable(i, f) \u001b[39mfor\u001b[39;00m i, f \u001b[39min\u001b[39;00m \u001b[39menumerate\u001b[39m(fs)]\n\u001b[0;32m---> 79\u001b[0m res \u001b[39m=\u001b[39m [\u001b[39mawait\u001b[39;00m f \u001b[39mfor\u001b[39;00m f \u001b[39min\u001b[39;00m \u001b[39mcls\u001b[39m\u001b[39m.\u001b[39mas_completed(ifs, loop\u001b[39m=\u001b[39mloop, timeout\u001b[39m=\u001b[39mtimeout,\n\u001b[1;32m     80\u001b[0m                                          total\u001b[39m=\u001b[39mtotal, \u001b[39m*\u001b[39m\u001b[39m*\u001b[39mtqdm_kwargs)]\n\u001b[1;32m     81\u001b[0m \u001b[39mreturn\u001b[39;00m [i \u001b[39mfor\u001b[39;00m _, i \u001b[39min\u001b[39;00m \u001b[39msorted\u001b[39m(res)]\n",
      "File \u001b[0;32m~/miniconda3/envs/social/lib/python3.10/asyncio/tasks.py:567\u001b[0m, in \u001b[0;36mas_completed.<locals>._wait_for_one\u001b[0;34m()\u001b[0m\n\u001b[1;32m    566\u001b[0m \u001b[39masync\u001b[39;00m \u001b[39mdef\u001b[39;00m \u001b[39m_wait_for_one\u001b[39m():\n\u001b[0;32m--> 567\u001b[0m     f \u001b[39m=\u001b[39m \u001b[39mawait\u001b[39;00m done\u001b[39m.\u001b[39mget()\n\u001b[1;32m    568\u001b[0m     \u001b[39mif\u001b[39;00m f \u001b[39mis\u001b[39;00m \u001b[39mNone\u001b[39;00m:\n\u001b[1;32m    569\u001b[0m         \u001b[39m# Dummy value from _on_timeout().\u001b[39;00m\n\u001b[1;32m    570\u001b[0m         \u001b[39mraise\u001b[39;00m exceptions\u001b[39m.\u001b[39mTimeoutError\n",
      "File \u001b[0;32m~/miniconda3/envs/social/lib/python3.10/asyncio/queues.py:159\u001b[0m, in \u001b[0;36mQueue.get\u001b[0;34m(self)\u001b[0m\n\u001b[1;32m    157\u001b[0m \u001b[39mself\u001b[39m\u001b[39m.\u001b[39m_getters\u001b[39m.\u001b[39mappend(getter)\n\u001b[1;32m    158\u001b[0m \u001b[39mtry\u001b[39;00m:\n\u001b[0;32m--> 159\u001b[0m     \u001b[39mawait\u001b[39;00m getter\n\u001b[1;32m    160\u001b[0m \u001b[39mexcept\u001b[39;00m:\n\u001b[1;32m    161\u001b[0m     getter\u001b[39m.\u001b[39mcancel()  \u001b[39m# Just in case getter is not done yet.\u001b[39;00m\n",
      "\u001b[0;31mCancelledError\u001b[0m: "
     ]
    }
   ],
   "source": [
    "import scraper\n",
    "\n",
    "category_titles = [\n",
    "    \"Category:Wikipedia_level-1_vital_articles\",\n",
    "    \"Category:Wikipedia_level-2_vital_articles\",\n",
    "    \"Category:Wikipedia_level-3_vital_articles\",\n",
    "    #\"Category:Wikipedia_level-4_vital_articles\",\n",
    "    #\"Category:Wikipedia_level-5_vital_articles\"\n",
    "]\n",
    "\n",
    "page_graph, infos  = await scraper.scrape_wiki(category_titles)"
   ]
  },
  {
   "cell_type": "code",
   "execution_count": 52,
   "metadata": {},
   "outputs": [],
   "source": [
    "import os\n",
    "import scraper\n",
    "import re\n",
    "import numpy as np\n",
    "import networkx as nx\n",
    "from tqdm.asyncio import tqdm\n",
    "\n",
    "def parse_page(raw_content):\n",
    "    # Normalize whitespace\n",
    "    content = re.sub(r'[\\n\\t\\ ]+', ' ', raw_content)\n",
    "\n",
    "    # Retreive links to all pages\n",
    "    all_links = np.unique(re.findall('\\[([^/\\]\\[\\|]+)[\\]\\|]', content))\n",
    "    # Retreive links to User: pages\n",
    "    user_links = np.unique(re.findall('\\[(User:[^/\\]\\[\\|]+)[\\]\\|]', content))\n",
    "    # Retreive links to Talk: pages\n",
    "    talk_links = np.unique(re.findall('\\[((talk:|Talk:|User talk:|Wikipedia talk:)[^/\\]\\[\\|]+)[\\]\\|]', content))\n",
    "    article_links = [link for link in all_links if link not in user_links and link not in talk_links]\n",
    "    return {\"article\": article_links, \"user\": user_links, \"talk\": talk_links}\n",
    "\n",
    "def get_titles(filenames):\n",
    "    return [fname[:-4] if fname[-4:] == \".txt\" else fname for fname in filenames]\n",
    "\n",
    "def parse_class(titles, dirpath):\n",
    "    data = {}\n",
    "    for title in titles:\n",
    "        filepath = f\"{dirpath}/{title}.txt\"\n",
    "        if os.path.isfile(filepath):\n",
    "            with open(filepath, \"r\") as fh:\n",
    "                content = fh.read()\n",
    "                data[title] = parse_page(content)\n",
    "        else:\n",
    "            pass\n",
    "    return data\n",
    "\n",
    "def build_network_local():\n",
    "    path = \"./page_contents\"\n",
    "    talk_titles = get_titles(os.listdir(f\"{path}/talks\"))\n",
    "    article_titles = get_titles(os.listdir(f\"{path}/articles\"))\n",
    "    \n",
    "    # Graph\n",
    "    page_graph = nx.DiGraph()\n",
    "\n",
    "    for talk_page_title in talk_titles:\n",
    "        page_graph.add_node(talk_page_title, page_class=\"talk\")\n",
    "    for wiki_page_title in article_titles:\n",
    "        page_graph.add_node(wiki_page_title, page_class=\"article\")\n",
    "        page_graph.add_edge(f\"Talk:{wiki_page_title}\", wiki_page_title)\n",
    "\n",
    "        \n",
    "    talk_data = parse_class(talk_titles, f\"{path}/talks\")\n",
    "    articles_data = parse_class(article_titles, f\"{path}/articles\")\n",
    "\n",
    "    link_types = [\"article\", \"user\", \"talk\"]\n",
    "\n",
    "    count = 0\n",
    "    disregarded = []\n",
    "    # Add User: links to graph\n",
    "    for title in tqdm(talk_data.keys(), desc=\"Adding talk page links\"):\n",
    "        page_data = talk_data[title]\n",
    "        if page_data is not None and title in page_graph:\n",
    "            for key in link_types:\n",
    "                for link in page_data[key]:\n",
    "                    if link not in page_graph:\n",
    "                        page_graph.add_node(link, page_class=key)\n",
    "                    page_graph.add_edge(link, title)\n",
    "                    count += 1\n",
    "        else:\n",
    "            disregarded.append(title) # Talk:HIV for some reason\n",
    "    # Add User: links to graph\n",
    "    for title in tqdm(articles_data.keys(), desc=\"Adding article page links\"):\n",
    "        page_data = articles_data[title]\n",
    "        if page_data is not None and title in page_graph:\n",
    "            for key in link_types:\n",
    "                for link in page_data[key]:\n",
    "                    if link not in page_graph:\n",
    "                        page_graph.add_node(link, page_class=key)\n",
    "                    page_graph.add_edge(link, title)\n",
    "                    count += 1\n",
    "        else:\n",
    "            disregarded.append(title)\n",
    "\n",
    "    print(\"Total edges: \" + str(count))\n",
    "    print(f\"Disregarded nodes: {len(disregarded)}\")\n",
    "    return page_graph"
   ]
  },
  {
   "cell_type": "code",
   "execution_count": 53,
   "metadata": {},
   "outputs": [
    {
     "name": "stderr",
     "output_type": "stream",
     "text": [
      "Adding talk page links: 100%|██████████| 1000/1000 [00:00<00:00, 14948.21it/s]\n",
      "Adding article page links: 100%|██████████| 1000/1000 [00:01<00:00, 756.04it/s]"
     ]
    },
    {
     "name": "stdout",
     "output_type": "stream",
     "text": [
      "Total edges: 499308\n",
      "Disregarded nodes: 0\n"
     ]
    },
    {
     "name": "stderr",
     "output_type": "stream",
     "text": [
      "\n"
     ]
    }
   ],
   "source": [
    "graph = build_network_local()"
   ]
  },
  {
   "cell_type": "code",
   "execution_count": 56,
   "metadata": {},
   "outputs": [],
   "source": [
    "nx.write_graphml(graph, \"pages_graph.graphml\")"
   ]
  },
  {
   "cell_type": "code",
   "execution_count": 2,
   "metadata": {},
   "outputs": [],
   "source": [
    "import networkx as nx\n",
    "graph = nx.read_graphml(\"pages_graph.graphml\")"
   ]
  },
  {
   "cell_type": "code",
   "execution_count": 3,
   "metadata": {},
   "outputs": [
    {
     "data": {
      "image/png": "[encoded data removed]",
      "text/plain": [
       "<Figure size 1200x600 with 4 Axes>"
      ]
     },
     "metadata": {},
     "output_type": "display_data"
    }
   ],
   "source": [
    "import matplotlib.pyplot as plt\n",
    "import numpy as np\n",
    "\n",
    "in_degrees = np.fromiter(dict(graph.in_degree).values(), dtype=int)\n",
    "counts, bins = np.histogram(in_degrees, bins=np.sort(np.unique(in_degrees)))\n",
    "fig, ax = plt.subplots(2, 2, figsize=(12, 6))\n",
    "ax[0][0].plot(bins[:-1], counts, \".\")\n",
    "ax[0][0].set_title(label=\"Graph in-degrees\")\n",
    "ax[0][0].set_ylabel(ylabel=\"Multiplicity\")\n",
    "ax[1][0].plot(bins[:-1], counts, \".\")\n",
    "ax[1][0].set_ylabel(ylabel=\"Multiplicity\")\n",
    "ax[1][0].set_xlabel(xlabel=\"In-degrees\")\n",
    "ax[1][0].set_yscale(\"log\")\n",
    "ax[1][0].set_xscale(\"log\")\n",
    "\n",
    "out_degrees = np.fromiter(dict(graph.out_degree).values(), dtype=int)\n",
    "counts, bins = np.histogram(in_degrees, bins=np.sort(np.unique(in_degrees)))\n",
    "ax[0][1].plot(bins[:-1], counts, \".\")\n",
    "ax[0][1].set_title(label=\"Graph out-degrees\")\n",
    "ax[0][1].set_ylabel(ylabel=\"Multiplicity\")\n",
    "ax[1][1].plot(bins[:-1], counts, \".\")\n",
    "ax[1][1].set_ylabel(ylabel=\"Multiplicity\")\n",
    "ax[1][1].set_xlabel(xlabel=\"In-degrees\")\n",
    "ax[1][1].set_yscale(\"log\")\n",
    "ax[1][1].set_xscale(\"log\")\n",
    "plt.show()"
   ]
  },
  {
   "cell_type": "markdown",
   "metadata": {},
   "source": [
    "## Basic statistics"
   ]
  },
  {
   "cell_type": "code",
   "execution_count": 4,
   "metadata": {},
   "outputs": [],
   "source": [
    "import pandas as pd\n",
    "\n",
    "def largest_weakly_connected_c(graph):\n",
    "     # extract largest weakly connected component\n",
    "    connected_subgraphs = [graph.subgraph(c).copy() for c in nx.weakly_connected_components(graph)]\n",
    "    max_conn_subgraph_index = np.argmax([len(graph) for graph in connected_subgraphs])\n",
    "    return connected_subgraphs[max_conn_subgraph_index]\n",
    "\n",
    "def top_n_by_degree(degree_dict, n):\n",
    "    stat_view = pd.DataFrame(degree_dict, columns=[\"Node\", \"Degree\"]).set_index(\"Node\")\n",
    "    return stat_view.sort_values([\"Degree\"], ascending=False).head(n)\n",
    "\n",
    "def basic_stats(graph, top_n):\n",
    "    G_biggest_comp = largest_weakly_connected_c(graph)\n",
    "\n",
    "    # Create degree statistics\n",
    "    degree_stats = top_n_by_degree(G_biggest_comp.degree, top_n)\n",
    "    in_degree_stats = top_n_by_degree(G_biggest_comp.in_degree, top_n)\n",
    "    out_degree_stats = top_n_by_degree(G_biggest_comp.out_degree, top_n)\n",
    "\n",
    "    stats = {\"degree\": degree_stats, \"in_degree\": in_degree_stats, \"out_degree\": out_degree_stats}\n",
    "    return G_biggest_comp, stats"
   ]
  },
  {
   "cell_type": "code",
   "execution_count": 5,
   "metadata": {},
   "outputs": [
    {
     "name": "stdout",
     "output_type": "stream",
     "text": [
      "Number of nodes: 270072\n",
      "Number of edges: 500307\n",
      "Top 5 nodes by overall degree\n"
     ]
    },
    {
     "data": {
      "text/html": [
       "<div>\n",
       "<style scoped>\n",
       "    .dataframe tbody tr th:only-of-type {\n",
       "        vertical-align: middle;\n",
       "    }\n",
       "\n",
       "    .dataframe tbody tr th {\n",
       "        vertical-align: top;\n",
       "    }\n",
       "\n",
       "    .dataframe thead th {\n",
       "        text-align: right;\n",
       "    }\n",
       "</style>\n",
       "<table border=\"1\" class=\"dataframe\">\n",
       "  <thead>\n",
       "    <tr style=\"text-align: right;\">\n",
       "      <th></th>\n",
       "      <th>Degree</th>\n",
       "    </tr>\n",
       "    <tr>\n",
       "      <th>Node</th>\n",
       "      <th></th>\n",
       "    </tr>\n",
       "  </thead>\n",
       "  <tbody>\n",
       "    <tr>\n",
       "      <th>Italy</th>\n",
       "      <td>2183</td>\n",
       "    </tr>\n",
       "    <tr>\n",
       "      <th>Russia</th>\n",
       "      <td>1821</td>\n",
       "    </tr>\n",
       "    <tr>\n",
       "      <th>United States</th>\n",
       "      <td>1628</td>\n",
       "    </tr>\n",
       "    <tr>\n",
       "      <th>China</th>\n",
       "      <td>1594</td>\n",
       "    </tr>\n",
       "    <tr>\n",
       "      <th>India</th>\n",
       "      <td>1553</td>\n",
       "    </tr>\n",
       "  </tbody>\n",
       "</table>\n",
       "</div>"
      ],
      "text/plain": [
       "               Degree\n",
       "Node                 \n",
       "Italy            2183\n",
       "Russia           1821\n",
       "United States    1628\n",
       "China            1594\n",
       "India            1553"
      ]
     },
     "execution_count": 5,
     "metadata": {},
     "output_type": "execute_result"
    }
   ],
   "source": [
    "graph_c, stats  = basic_stats(graph, 5)\n",
    "print(f\"Number of nodes: {graph_c.number_of_nodes()}\")\n",
    "print(f\"Number of edges: {graph_c.number_of_edges()}\")\n",
    "print(\"Top 5 nodes by overall degree\")\n",
    "stats[\"degree\"]"
   ]
  },
  {
   "cell_type": "code",
   "execution_count": 6,
   "metadata": {},
   "outputs": [
    {
     "name": "stdout",
     "output_type": "stream",
     "text": [
      "Top 5 nodes by in degree\n"
     ]
    },
    {
     "data": {
      "text/html": [
       "<div>\n",
       "<style scoped>\n",
       "    .dataframe tbody tr th:only-of-type {\n",
       "        vertical-align: middle;\n",
       "    }\n",
       "\n",
       "    .dataframe tbody tr th {\n",
       "        vertical-align: top;\n",
       "    }\n",
       "\n",
       "    .dataframe thead th {\n",
       "        text-align: right;\n",
       "    }\n",
       "</style>\n",
       "<table border=\"1\" class=\"dataframe\">\n",
       "  <thead>\n",
       "    <tr style=\"text-align: right;\">\n",
       "      <th></th>\n",
       "      <th>Degree</th>\n",
       "    </tr>\n",
       "    <tr>\n",
       "      <th>Node</th>\n",
       "      <th></th>\n",
       "    </tr>\n",
       "  </thead>\n",
       "  <tbody>\n",
       "    <tr>\n",
       "      <th>Italy</th>\n",
       "      <td>2108</td>\n",
       "    </tr>\n",
       "    <tr>\n",
       "      <th>Russia</th>\n",
       "      <td>1720</td>\n",
       "    </tr>\n",
       "    <tr>\n",
       "      <th>New York City</th>\n",
       "      <td>1471</td>\n",
       "    </tr>\n",
       "    <tr>\n",
       "      <th>History of art</th>\n",
       "      <td>1444</td>\n",
       "    </tr>\n",
       "    <tr>\n",
       "      <th>United States</th>\n",
       "      <td>1433</td>\n",
       "    </tr>\n",
       "  </tbody>\n",
       "</table>\n",
       "</div>"
      ],
      "text/plain": [
       "                Degree\n",
       "Node                  \n",
       "Italy             2108\n",
       "Russia            1720\n",
       "New York City     1471\n",
       "History of art    1444\n",
       "United States     1433"
      ]
     },
     "execution_count": 6,
     "metadata": {},
     "output_type": "execute_result"
    }
   ],
   "source": [
    "print(\"Top 5 nodes by in degree\")\n",
    "stats[\"in_degree\"]"
   ]
  },
  {
   "cell_type": "code",
   "execution_count": 7,
   "metadata": {},
   "outputs": [
    {
     "name": "stdout",
     "output_type": "stream",
     "text": [
      "Top 5 nodes by out degree\n"
     ]
    },
    {
     "data": {
      "text/html": [
       "<div>\n",
       "<style scoped>\n",
       "    .dataframe tbody tr th:only-of-type {\n",
       "        vertical-align: middle;\n",
       "    }\n",
       "\n",
       "    .dataframe tbody tr th {\n",
       "        vertical-align: top;\n",
       "    }\n",
       "\n",
       "    .dataframe thead th {\n",
       "        text-align: right;\n",
       "    }\n",
       "</style>\n",
       "<table border=\"1\" class=\"dataframe\">\n",
       "  <thead>\n",
       "    <tr style=\"text-align: right;\">\n",
       "      <th></th>\n",
       "      <th>Degree</th>\n",
       "    </tr>\n",
       "    <tr>\n",
       "      <th>Node</th>\n",
       "      <th></th>\n",
       "    </tr>\n",
       "  </thead>\n",
       "  <tbody>\n",
       "    <tr>\n",
       "      <th>User talk:</th>\n",
       "      <td>980</td>\n",
       "    </tr>\n",
       "    <tr>\n",
       "      <th>Wikipedia:Signatures</th>\n",
       "      <td>405</td>\n",
       "    </tr>\n",
       "    <tr>\n",
       "      <th>Oxford University Press</th>\n",
       "      <td>279</td>\n",
       "    </tr>\n",
       "    <tr>\n",
       "      <th>Cambridge University Press</th>\n",
       "      <td>251</td>\n",
       "    </tr>\n",
       "    <tr>\n",
       "      <th>The New York Times</th>\n",
       "      <td>246</td>\n",
       "    </tr>\n",
       "  </tbody>\n",
       "</table>\n",
       "</div>"
      ],
      "text/plain": [
       "                            Degree\n",
       "Node                              \n",
       "User talk:                     980\n",
       "Wikipedia:Signatures           405\n",
       "Oxford University Press        279\n",
       "Cambridge University Press     251\n",
       "The New York Times             246"
      ]
     },
     "execution_count": 7,
     "metadata": {},
     "output_type": "execute_result"
    }
   ],
   "source": [
    "print(\"Top 5 nodes by out degree\")\n",
    "stats[\"out_degree\"]"
   ]
  },
  {
   "cell_type": "markdown",
   "metadata": {},
   "source": [
    "## Community analysis"
   ]
  },
  {
   "cell_type": "markdown",
   "metadata": {},
   "source": [
    "### Entire graph"
   ]
  },
  {
   "cell_type": "code",
   "execution_count": 8,
   "metadata": {},
   "outputs": [
    {
     "name": "stdout",
     "output_type": "stream",
     "text": [
      "number of communities found:  29\n",
      "modularity of louvain partitions:  0.6488751342986765\n"
     ]
    }
   ],
   "source": [
    "G_undirected = graph.to_undirected()\n",
    "G_undirected.remove_nodes_from([node for node in G_undirected.nodes if G_undirected.degree(node) < 1])\n",
    "louvain_partition = nx.community.louvain_communities(G_undirected)\n",
    "\n",
    "print( \"number of communities found: \", len(louvain_partition))\n",
    "print(\"modularity of louvain partitions: \", nx.community.modularity(G_undirected, louvain_partition))"
   ]
  },
  {
   "cell_type": "code",
   "execution_count": 9,
   "metadata": {},
   "outputs": [
    {
     "data": {
      "image/png": "[encoded data removed]",
      "text/plain": [
       "<Figure size 1200x600 with 1 Axes>"
      ]
     },
     "metadata": {},
     "output_type": "display_data"
    },
    {
     "name": "stdout",
     "output_type": "stream",
     "text": [
      "Size of each community printed:  [862, 2621, 2915, 3230, 3276, 4688, 4894, 5364, 6801, 6966, 7263, 7623, 8075, 8167, 8438, 8601, 8735, 9772, 9937, 10739, 10796, 11668, 11875, 13909, 14822, 15063, 17732, 19176, 26064]\n"
     ]
    }
   ],
   "source": [
    "sorted_size_communities = sorted([len(comm) for comm in louvain_partition])\n",
    "\n",
    "fig, ax = plt.subplots(figsize=(12, 6))\n",
    "ax.bar(\n",
    "    [x for x in range(1,len(louvain_partition)+1)], \n",
    "    sorted_size_communities,\n",
    "    color=\"cornflowerblue\"\n",
    ")\n",
    "ax.set_title(label=\"Community size distribution\")\n",
    "ax.set_xlabel(xlabel=\"Index of communities\")\n",
    "ax.set_ylabel(ylabel=\"Number of nodes\")\n",
    "ax.set_xticks([x for x in range (1,len(louvain_partition)+1)])\n",
    "ax.set_yticks([i for i in range (0, sorted_size_communities[-1], 1000)])\n",
    "plt.show()\n",
    "\n",
    "print(\"Size of each community printed: \", sorted_size_communities)"
   ]
  },
  {
   "cell_type": "code",
   "execution_count": 10,
   "metadata": {},
   "outputs": [],
   "source": [
    "def create_grouping(undirected_graph, data_key):\n",
    "    nodes_with_grouping = dict(undirected_graph.nodes(data=data_key))\n",
    "    classes = set(nodes_with_grouping.values())\n",
    "    grouping =  {}\n",
    "    for type in classes:\n",
    "        grouping[type] = list(filter(lambda key: nodes_with_grouping[key] == type, nodes_with_grouping))\n",
    "    return grouping"
   ]
  },
  {
   "cell_type": "code",
   "execution_count": 11,
   "metadata": {},
   "outputs": [
    {
     "name": "stdout",
     "output_type": "stream",
     "text": [
      "Type partition modularity: 0.06910397852541075\n"
     ]
    }
   ],
   "source": [
    "type_grouping = create_grouping(G_undirected, \"page_class\")\n",
    "type_partition_modularity = nx.community.modularity(G_undirected, type_grouping.values())\n",
    "print(\"Type partition modularity:\", type_partition_modularity)"
   ]
  },
  {
   "cell_type": "code",
   "execution_count": 12,
   "metadata": {},
   "outputs": [],
   "source": [
    "G_articles = graph.subgraph(type_grouping[\"article\"])\n",
    "articles_c, stats  = basic_stats(G_articles, 5)\n",
    "print(f\"Number of nodes: {articles_c.number_of_nodes()}\")\n",
    "print(f\"Number of edges: {articles_c.number_of_edges()}\")\n",
    "print(\"Top 5 nodes by overall degree\")\n",
    "stats[\"degree\"]"
   ]
  },
  {
   "cell_type": "code",
   "execution_count": 66,
   "metadata": {},
   "outputs": [
    {
     "name": "stdout",
     "output_type": "stream",
     "text": [
      "Top 5 nodes by in-degree\n"
     ]
    },
    {
     "data": {
      "text/html": [
       "<div>\n",
       "<style scoped>\n",
       "    .dataframe tbody tr th:only-of-type {\n",
       "        vertical-align: middle;\n",
       "    }\n",
       "\n",
       "    .dataframe tbody tr th {\n",
       "        vertical-align: top;\n",
       "    }\n",
       "\n",
       "    .dataframe thead th {\n",
       "        text-align: right;\n",
       "    }\n",
       "</style>\n",
       "<table border=\"1\" class=\"dataframe\">\n",
       "  <thead>\n",
       "    <tr style=\"text-align: right;\">\n",
       "      <th></th>\n",
       "      <th>Degree</th>\n",
       "    </tr>\n",
       "    <tr>\n",
       "      <th>Node</th>\n",
       "      <th></th>\n",
       "    </tr>\n",
       "  </thead>\n",
       "  <tbody>\n",
       "    <tr>\n",
       "      <th>Italy</th>\n",
       "      <td>2107</td>\n",
       "    </tr>\n",
       "    <tr>\n",
       "      <th>Russia</th>\n",
       "      <td>1719</td>\n",
       "    </tr>\n",
       "    <tr>\n",
       "      <th>New York City</th>\n",
       "      <td>1470</td>\n",
       "    </tr>\n",
       "    <tr>\n",
       "      <th>History of art</th>\n",
       "      <td>1443</td>\n",
       "    </tr>\n",
       "    <tr>\n",
       "      <th>United States</th>\n",
       "      <td>1432</td>\n",
       "    </tr>\n",
       "  </tbody>\n",
       "</table>\n",
       "</div>"
      ],
      "text/plain": [
       "                Degree\n",
       "Node                  \n",
       "Italy             2107\n",
       "Russia            1719\n",
       "New York City     1470\n",
       "History of art    1443\n",
       "United States     1432"
      ]
     },
     "execution_count": 66,
     "metadata": {},
     "output_type": "execute_result"
    }
   ],
   "source": [
    "print(\"Top 5 nodes by in-degree\")\n",
    "stats[\"in_degree\"]"
   ]
  },
  {
   "cell_type": "code",
   "execution_count": 67,
   "metadata": {},
   "outputs": [
    {
     "name": "stdout",
     "output_type": "stream",
     "text": [
      "Top 5 nodes by out-degree\n"
     ]
    },
    {
     "data": {
      "text/html": [
       "<div>\n",
       "<style scoped>\n",
       "    .dataframe tbody tr th:only-of-type {\n",
       "        vertical-align: middle;\n",
       "    }\n",
       "\n",
       "    .dataframe tbody tr th {\n",
       "        vertical-align: top;\n",
       "    }\n",
       "\n",
       "    .dataframe thead th {\n",
       "        text-align: right;\n",
       "    }\n",
       "</style>\n",
       "<table border=\"1\" class=\"dataframe\">\n",
       "  <thead>\n",
       "    <tr style=\"text-align: right;\">\n",
       "      <th></th>\n",
       "      <th>Degree</th>\n",
       "    </tr>\n",
       "    <tr>\n",
       "      <th>Node</th>\n",
       "      <th></th>\n",
       "    </tr>\n",
       "  </thead>\n",
       "  <tbody>\n",
       "    <tr>\n",
       "      <th>Oxford University Press</th>\n",
       "      <td>274</td>\n",
       "    </tr>\n",
       "    <tr>\n",
       "      <th>Cambridge University Press</th>\n",
       "      <td>250</td>\n",
       "    </tr>\n",
       "    <tr>\n",
       "      <th>The New York Times</th>\n",
       "      <td>243</td>\n",
       "    </tr>\n",
       "    <tr>\n",
       "      <th>Latin</th>\n",
       "      <td>210</td>\n",
       "    </tr>\n",
       "    <tr>\n",
       "      <th>World War II</th>\n",
       "      <td>209</td>\n",
       "    </tr>\n",
       "  </tbody>\n",
       "</table>\n",
       "</div>"
      ],
      "text/plain": [
       "                            Degree\n",
       "Node                              \n",
       "Oxford University Press        274\n",
       "Cambridge University Press     250\n",
       "The New York Times             243\n",
       "Latin                          210\n",
       "World War II                   209"
      ]
     },
     "execution_count": 67,
     "metadata": {},
     "output_type": "execute_result"
    }
   ],
   "source": [
    "print(\"Top 5 nodes by out-degree\")\n",
    "stats[\"out_degree\"]"
   ]
  },
  {
   "cell_type": "code",
   "execution_count": 1,
   "metadata": {},
   "outputs": [
    {
     "ename": "NameError",
     "evalue": "name 'nx' is not defined",
     "output_type": "error",
     "traceback": [
      "\u001b[0;31m---------------------------------------------------------------------------\u001b[0m",
      "\u001b[0;31mNameError\u001b[0m                                 Traceback (most recent call last)",
      "\u001b[1;32m/home/eperst/github/socialgraphs2023f-project/project/network_analysis.ipynb Cell 22\u001b[0m line \u001b[0;36m1\n\u001b[0;32m----> <a href='vscode-notebook-cell://wsl%2Bubuntu/home/eperst/github/socialgraphs2023f-project/project/network_analysis.ipynb#X32sdnNjb2RlLXJlbW90ZQ%3D%3D?line=0'>1</a>\u001b[0m louvain_partition \u001b[39m=\u001b[39m nx\u001b[39m.\u001b[39mcommunity\u001b[39m.\u001b[39mlouvain_communities(G_articles)\n\u001b[1;32m      <a href='vscode-notebook-cell://wsl%2Bubuntu/home/eperst/github/socialgraphs2023f-project/project/network_analysis.ipynb#X32sdnNjb2RlLXJlbW90ZQ%3D%3D?line=2'>3</a>\u001b[0m \u001b[39mprint\u001b[39m( \u001b[39m\"\u001b[39m\u001b[39mnumber of communities found: \u001b[39m\u001b[39m\"\u001b[39m, \u001b[39mlen\u001b[39m(louvain_partition))\n\u001b[1;32m      <a href='vscode-notebook-cell://wsl%2Bubuntu/home/eperst/github/socialgraphs2023f-project/project/network_analysis.ipynb#X32sdnNjb2RlLXJlbW90ZQ%3D%3D?line=3'>4</a>\u001b[0m \u001b[39mprint\u001b[39m(\u001b[39m\"\u001b[39m\u001b[39mmodularity of louvain partitions: \u001b[39m\u001b[39m\"\u001b[39m, nx\u001b[39m.\u001b[39mcommunity\u001b[39m.\u001b[39mmodularity(G_articles, louvain_partition))\n",
      "\u001b[0;31mNameError\u001b[0m: name 'nx' is not defined"
     ]
    }
   ],
   "source": [
    "louvain_partition = nx.community.louvain_communities(G_articles)\n",
    "\n",
    "print( \"number of communities found: \", len(louvain_partition))\n",
    "print(\"modularity of louvain partitions: \", nx.community.modularity(G_articles, louvain_partition))"
   ]
  },
  {
   "cell_type": "code",
   "execution_count": 73,
   "metadata": {},
   "outputs": [
    {
     "name": "stdout",
     "output_type": "stream",
     "text": [
      "Number of nodes: 9894\n",
      "Number of edges: 13783\n",
      "Top 5 nodes by overall degree\n",
      "                              Degree\n",
      "Node                                \n",
      "User talk:                       980\n",
      "Talk:                            159\n",
      "User talk:InternetArchiveBot     149\n",
      "User talk:PrimeBOT               126\n",
      "Talk:Israel                      100\n",
      "Top 5 nodes by in-degree\n",
      "                         Degree\n",
      "Node                           \n",
      "Talk:Israel                 100\n",
      "Talk:Cyrillic script         86\n",
      "Talk:Laser                   72\n",
      "Talk:Islamic Golden Age      72\n",
      "Talk:State of matter         63\n",
      "Top 5 nodes by out-degree\n",
      "                              Degree\n",
      "Node                                \n",
      "User talk:                       980\n",
      "Talk:                            159\n",
      "User talk:InternetArchiveBot     149\n",
      "User talk:PrimeBOT               126\n",
      "User talk:Community Tech bot      88\n"
     ]
    }
   ],
   "source": [
    "G_talks = graph.subgraph(type_grouping[\"talk\"])\n",
    "talks_c, stats  = basic_stats(G_talks, 5)\n",
    "print(f\"Number of nodes: {talks_c.number_of_nodes()}\")\n",
    "print(f\"Number of edges: {talks_c.number_of_edges()}\")\n",
    "print(\"Top 5 nodes by overall degree\")\n",
    "print(stats[\"degree\"])\n",
    "\n",
    "print(\"Top 5 nodes by in-degree\")\n",
    "print(stats[\"in_degree\"])\n",
    "\n",
    "print(\"Top 5 nodes by out-degree\")\n",
    "print(stats[\"out_degree\"])"
   ]
  },
  {
   "cell_type": "code",
   "execution_count": 74,
   "metadata": {},
   "outputs": [
    {
     "name": "stdout",
     "output_type": "stream",
     "text": [
      "Number of nodes: 1\n",
      "Number of edges: 0\n",
      "Top 5 nodes by overall degree\n",
      "               Degree\n",
      "Node                 \n",
      "User:Flfeneru       0\n",
      "Top 5 nodes by in-degree\n",
      "               Degree\n",
      "Node                 \n",
      "User:Flfeneru       0\n",
      "Top 5 nodes by out-degree\n",
      "               Degree\n",
      "Node                 \n",
      "User:Flfeneru       0\n"
     ]
    }
   ],
   "source": [
    "G_users = graph.subgraph(type_grouping[\"user\"])\n",
    "users_c, stats  = basic_stats(G_users, 5)\n",
    "print(f\"Number of nodes: {users_c.number_of_nodes()}\")\n",
    "print(f\"Number of edges: {users_c.number_of_edges()}\")\n",
    "print(\"Top 5 nodes by overall degree\")\n",
    "print(stats[\"degree\"])\n",
    "\n",
    "print(\"Top 5 nodes by in-degree\")\n",
    "print(stats[\"in_degree\"])\n",
    "\n",
    "print(\"Top 5 nodes by out-degree\")\n",
    "print(stats[\"out_degree\"])"
   ]
  }
 ],
 "metadata": {
  "kernelspec": {
   "display_name": "social",
   "language": "python",
   "name": "python3"
  },
  "language_info": {
   "codemirror_mode": {
    "name": "ipython",
    "version": 3
   },
   "file_extension": ".py",
   "mimetype": "text/x-python",
   "name": "python",
   "nbconvert_exporter": "python",
   "pygments_lexer": "ipython3",
   "version": "3.10.13"
  }
 },
 "nbformat": 4,
 "nbformat_minor": 2
}
